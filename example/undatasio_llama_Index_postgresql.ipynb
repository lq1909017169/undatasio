{
 "cells": [
  {
   "cell_type": "markdown",
   "id": "a7ca1190-302e-4893-bf42-79cd5a12b661",
   "metadata": {},
   "source": [
    "## Simple RAG example using undatasio, llama_index, and PostgreSQL."
   ]
  },
  {
   "cell_type": "markdown",
   "id": "123bf4b1-e461-4b71-b80d-e2428620e48b",
   "metadata": {},
   "source": [
    "![](example_content/undatasio_example.png)"
   ]
  },
  {
   "cell_type": "markdown",
   "id": "18ffb0cc-e828-4170-a0b2-88a880f5e078",
   "metadata": {},
   "source": [
    "_By stay, Tech Enthusiast @Undatasio_"
   ]
  },
  {
   "cell_type": "markdown",
   "id": "01a8a3d8-3fb6-4e92-9738-d834090d06a0",
   "metadata": {},
   "source": [
    "- - - "
   ]
  },
  {
   "cell_type": "markdown",
   "id": "ecbef0b4-b6e6-4d4c-92c8-e7c5db3c0ca2",
   "metadata": {},
   "source": [
    "**Below is a PDF file processed by the undatasio platform, converted into a Langchain Document object, then split, and finally processed using a  database.**"
   ]
  },
  {
   "cell_type": "markdown",
   "id": "f763fc1b-177c-4ef7-ab16-35c29eee195e",
   "metadata": {},
   "source": [
    "##### Installing the **Undatasio** Python API library"
   ]
  },
  {
   "cell_type": "code",
   "execution_count": 1,
   "id": "556d94a6-31b0-4976-bbcc-ebab7cc0d4ce",
   "metadata": {
    "scrolled": true
   },
   "outputs": [],
   "source": [
    "# install undatasio\n",
    "!pip install -U -q undatasio"
   ]
  },
  {
   "cell_type": "markdown",
   "id": "c14d5175-470b-4afb-9a81-1cb49d483d51",
   "metadata": {},
   "source": [
    "##### Install the **python-dotenv** module and load environment variables using the **load_dotenv()** function.\n",
    "\n",
    "> If you are unsure which environment variables are required, you can check the file named dev.env for explanations of the environment variables."
   ]
  },
  {
   "cell_type": "code",
   "execution_count": 2,
   "id": "98f2311b-6502-4313-a007-cfba7eb3c186",
   "metadata": {},
   "outputs": [
    {
     "name": "stdout",
     "output_type": "stream",
     "text": [
      "Collecting package metadata (current_repodata.json): ...working... done\n",
      "Solving environment: ...working... done\n",
      "\n",
      "# All requested packages already installed.\n",
      "\n"
     ]
    }
   ],
   "source": [
    "!conda install -c conda-forge python-dotenv -y -q"
   ]
  },
  {
   "cell_type": "code",
   "execution_count": 3,
   "id": "de26398e-ff0f-4cee-bfe8-6b7d34bae625",
   "metadata": {},
   "outputs": [
    {
     "data": {
      "text/plain": [
       "True"
      ]
     },
     "execution_count": 3,
     "metadata": {},
     "output_type": "execute_result"
    }
   ],
   "source": [
    "from dotenv import load_dotenv\n",
    "import openai\n",
    "import os\n",
    "\n",
    "load_dotenv('.env')"
   ]
  },
  {
   "cell_type": "markdown",
   "id": "218e213d-c64d-4b54-b163-4c2e7803597f",
   "metadata": {},
   "source": [
    "Obtaining Environment Variables"
   ]
  },
  {
   "cell_type": "code",
   "execution_count": 4,
   "id": "618b94ec-f5fd-4f13-91e4-589b9925799c",
   "metadata": {},
   "outputs": [],
   "source": [
    "UNDATASIO_API_KEY=os.getenv(\"UNDATASIO_API_KEY\")\n",
    "POSTGRESQL_URI = os.getenv(\"POSTGRESQL_URI\")\n",
    "openai.api_key = os.getenv(\"OPENAI_API_KEY\")"
   ]
  },
  {
   "cell_type": "markdown",
   "id": "d3b1a2ac-2d7c-4a42-821c-efa6929e719f",
   "metadata": {},
   "source": [
    "To import an **UnDataIO** object, you need a token and an optional task name from the Undatasio platform."
   ]
  },
  {
   "cell_type": "code",
   "execution_count": 5,
   "id": "b8e62760-d907-4454-902e-02494824fd56",
   "metadata": {},
   "outputs": [],
   "source": [
    "from undatasio.undatasio import UnDatasIO\n",
    "\n",
    "undatasio_obj = UnDatasIO(UNDATASIO_API_KEY)"
   ]
  },
  {
   "cell_type": "markdown",
   "id": "aec0a947-7a4e-41a4-b609-75ae8400a5ee",
   "metadata": {},
   "source": [
    "The **get_result_to_llama_index_document** function of the Undatasio object returns a llama_index Document object. Parameters for this function can be gleaned from the data returned by the **show_version** function."
   ]
  },
  {
   "cell_type": "code",
   "execution_count": 6,
   "id": "1ba5da0e-5bec-4891-ba44-84fddd924fd2",
   "metadata": {
    "scrolled": true
   },
   "outputs": [
    {
     "data": {
      "text/plain": [
       "Document(id_='4e1e1426-7a04-48fe-8f61-8a23e047e497', embedding=None, metadata={'source': '_v26_1d8c9bc374114b6e901da.pdf_[text]'}, excluded_embed_metadata_keys=[], excluded_llm_metadata_keys=[], relationships={}, metadata_template='{key}: {value}', metadata_separator='\\n', text='2. Profit-takingxpullback has developed into a minor correction. While the10\\\\%\\ncorrection Since mid-May is broadly in-line with the historical norms of most technical\\n bull runs, the six-week market weakness has prompted increasing investor questions\\nabout the strengthof thepolicy put, and concerns regarding a redux of the powerful but\\nshort-livedRe0peningrallyinlate2022/early2023.Empirically,inthe23episodesinthe\\npast 20 years where MSCl China rallied more than20\\\\%, the market almost in all cases\\n(22 out of 23) experienced at least a5\\\\% pullback after entering a technical bull phase.\\nThese corrections averaged12\\\\%by magnitude, and 32 days in duration, although their\\nsubsequent return trajectory varied significantly post the initial retreat, with earnings\\naccrual/upgrades typically taking over from valuation to drive further gains when these\\nupswings transitioned into a fundamental-led cycle. See point 6 for detail.\\nSource:FactSet,MSCl,GoldmanSachsGlobalInvestmentResearch\\n3.All eyes are on the July policy meetings. July will be a hectic month for China\\npolicy watchers: The Third Plenum of the Chinese Communist Party is scheduled for July\\n15 to 18, followed by the economically-focused Politburo meeting in July, usually\\nconvened end of the month. As detailed in their Third Plenum preview note, our\\neconomists expect the reform focus to be on both containing left-tail risks and growing\\nright-tail potential for China in the \"post-property\" era, with fiscal/tax and land reforms\\npossibly taking the center stage. However, \"big bazooka\" policy surprises that some\\ninvestors have hoped for since the onset of the housing market downturn remain\\nunlikely. Indeed, both onshore and offshore investors we have met in the past month\\nare somewhat disappointed with the policy intensity, efficacy, and momentum since the\\nApril Politburo meeting, and their expectations on additional stimulus and major\\nreform breakthroughs from the July policy meetings are conservative across the\\nbroad. A few clients even expressed concerns about downside policy risks relatingjtol :$\\nconsumption tax hikes and other contractionary fiscal policy (e.g. tax investigation for\\ncorporates).\\n5. A tepid recovery in sentiment and flows. \"What could turn things around?\" was\\nheavilyfeaturedinmanyofourclientconversations,reflectingcontinuedreluctance\\nfrom fundamental investors to underwrite Chinese growth beyond the short term, in our\\nview.However,the+30\\\\%rally(\\\\mathsf{U S S1.5t n}increaseinmarketcap)inthesecondlargest\\nequitymarketgloballyhasmarginallyhelpedreviveinvestorinterestinChinese\\nequity,evidencedbytherisingturnoverinandthestrongSouthboundflowsintothe\\nHong Kong market, and the reopening of the capital market for Chinese corporates in\\n2Q, led by CB issuances. But, fund positioning and portfolio flows haven\\'t fully\\ncaughtupwiththeimprovedsentiment:mutualfund andhedgefundexposuresto\\nChina equity are still at the low-end of the historical ranges, onshore mutual funds\\' cash\\nratios are atrecent-year highs, and local retail flows(proxied by mutual fund subscription\\nand margin financing balance in A shares) have been stagnated for several months.\\nBesides Southbound buying, which has amounted to US$48bn ytd compared to\\nonshore ETF trading and inflows in the past week, suggesting to us that the\\ncommitment and readiness for government intervention is still strong when SHCOMP is\\nnear or below the 3,0o0 psychological threshold.\\n6.Earningshavebeendelivered,veryselectively.MSCIChinareceiveditsfirst\\nmonthly consensus earnings upgrade in May in the past 12 months, offering investors a\\nglimmer of hope that the protracted earnings downcycle is near the tail end. We hold a\\nneutral view on earnings and reiterate our\\\\scriptstyle{\\\\mathfrak{s}}\\\\%EPS growth assumption for MScl\\nChinain2024,considering: 1)sell-side consensus forecast of12\\\\%and14\\\\%EPS\\ngrowth for 2024 and 2025 still looks overly optimistic, even taking technical factors\\n(dilution,indexrebalancing)andsectorrepresentationissuesintoaccount; 2)the\\nupgrades have only manifested in the TMT and service-oriented sectors but the top-line \\nand profitability headwinds are still in place for the property and manufacturingcohorts;\\n3) high-frequency profit indicators for 2Q suggest that the earnings momentum for the\\nbroader market may have stabilized, but seems prematurejtocall for an inflection point.\\nEncouragingly, from our extensive discussions with China-focused analysts and PMs,\\nbuy-side earnings growth expectations seem to be around mid-single-digit territory,\\nimplying that the potential earnings misses to sell-side expectations may not be as\\ninfluential to equityprices as the headline numbers would suggest.\\nSource: FactSet, MSCl, CSI, IBES, Goldman Sachs Global Investment Research\\n7. Left tail risks have been curtailed in equity valuations. The latest correction has\\nlowered MSCl China fP/E from10.6\\\\timesat recent peaks to9.2\\\\timesat present, and from12.2\\\\times\\nto11.4\\\\timesfor A shares, but still meaningfully above the lows of7.9\\\\timesand9.6\\\\timesin late\\nJanuary respectively. The policy put—spanning conventional macro policy, the housing\\nmarket,andthecapitalmarkets—hashelpedcontainedsystemicrisksstemmingfrom\\nLGFVs and property-related assets, thereby catalyzing the tail-risk-compression rally in\\nequities from April to May, and providing a floor to valuation. Our macro-derived\\n10.5\\\\times\\nmacro outlooks per GS forecasts, suggesting moderate potential re-rating:gains from\\nhere. On our central premise that the strike price of the policy putisunlikely to be raised\\nand further policy delivery on housing will be made, we see the risk to valuation\\n更多\\nfavorablyskewedtotheupside\\n70\\nSource:GoldmanSachs Global Investment Research\\n8. Tariff risks may keep some investors at bay before the US election. The\\nforthcoming US presidential election and its implications on China are top-of-mind. The\\n10. The \"Returns\" of \"Shareholders\" in China. Despite its outperformance in past few\\nyears, we believe the theme of shareholder returns will continue to produce strong and\\nstable returns for equity investors for five reasons: a) strong policy push and delivery to\\nimprove shareholder returns; b) Additional fiscal revenue for financially-strained\\ngovernments: every 1pp rise in payout ratios could raise fiscal revenue by Rmb23bn; c)\\nChina\\'s ability to return cash to shareholders looks promising——low payout ratios (30\\\\%+)\\nbut with record-high cash balances (Rmb18tn) and free cashflows (FY23: Rmb2.6tn); d)\\nstable dividend incomes are attractively priced in China where rates are falling; and, e)\\nlikelystructural demand forstableincomesfrom domesticinstitutionalinvestors.We\\nconstruct a China Shareholder Returns Portfolio, which consists of 3 broad equity\\ncohorts-StableCashCows,Dividend/buybacksurprisecandidates,andSelect\\nexpected togenerate3\\\\%shareholder return yields and5\\\\%FCF yields in 2024 on16\\\\%\\ncash/marketcapratioatmedianstock.\\nWe, Kinger Lau, CFA, Timothy Moe, CFA, Si Fu, Ph.D. and Kevin Wang, CFA, hereby certify that all of the views expressed in this report accurately\\nreflect our personal views, which have not been influenced by considerations of the firm\\'s business or client relationships.\\nUnless otherwise stated, the individuals listed on the cover page of this report are analysts in Goldman Sachs\\' Global Investment Research division.\\nSee company-specific regulatory disclosures above for any of the following disclosures required as to companies referred to in this report: manager or\\nco-manager inapendingtransaction;\\\\uparrow\\\\%or other ownership; compensation for certain services; types of client relationships; managed/co-managed\\npublic offeringsinpriorperiods; directorships;for equitysecurities, market making and/orspecialistrole.GoldmanSachs trades or maytrade as a\\nprincipal indebtsecurities(or inrelatedderivatives)ofissuersdiscussed in thisreport.\\nThe following are additional required disclosures: Ownership and material conflicts of interest: Goldman Sachs policy prohibits its analysts,\\nprofessionals reporting to analysts and members of their households from owning securities of any company in the analyst\\'s area of coverage.\\nAnalyst compensation: Analysts are paid in part based on the profitability of Goldman Sachs, which includes investment banking revenues. Analyst\\nas officer or director: Goldman Sachs policy generally prohibits its analysts, persons reporting to analysts or members of their households from\\nserving as an officer, director or advisor of any company in thelanalyst\\'s area of coverage. Non-U.s.Analysts: Non-U.S. analysts may not be\\nassociated persons of Goldman Sachs & Co. LLC and therefore may not be subject to FINRA Rule 2241 or FINRA Rule 2242 restrictions on\\ncommunications with subject company, public appearances and trading securities held by the analysts.\\nThefollowingdisclosuresarethoserequiredbythejurisdiction indicated,excepttotheextent alreadymade abovepursuanttoUnitedStateslawsand\\nregulations.Australia: Goldman Sachs Australia PtyLtd and its affiliates are not authorised deposit-taking institutions (as that term is defined in the\\nBanking Act 1959 (Cth) in Australia and do not provide banking services, nor carry on a banking business, in Australia. This research, and any access to\\nit, is intended only for\"wholesale clients\"within the meaning of the Australian Corporations Act, unless otherwise agreed by Goldman Sachs. In\\nproducing research reports, members of Global Investment Research of GoldmanSachs Australia may attend site visits and other meetings hosted by\\nthe companies and other entities which are the subject of its research reports. In some instances the costs of such site visits or meetings may be met\\nin part or in whole by the issuers concerned if Goldman Sachs Australia considers it is appropriate and reasonable in the specific circumstances relating\\nto the site visit or meeting. To the extent that the contents of this document contains any financial product advice, it is general advice only and has\\nbeen prepared by Goldman Sachs without taking into account a client\\'s objectives, financial situation or needs. A client should, before acting on any\\nsuch advice, consider the appropriateness of the advice having regard to the client\\'s own objectives,financial situation and needs. A copy of certain\\nGoldman Sachs Australia and New Zealand disclosure of interests and a copy of Goldman Sachs\\' Australian Sel-Side Research Independence Policy\\nStatement are available at: https://www.goldmansachs.com/disclosures/australia-new-zealand/index.html. Brazil: Disclosure information in relation to\\n CVM Resolution n. 20 is available at https://www.gs.com/worldwide/brazil/area/gir/index.html. Where applicable, the Brazil-registered analyst primarily\\nresponsibleforthecontent of this researchreport, asdefined inArticle20of CVMResolutionn.20, is thefirst author named atthebeginning of this\\nreport, unless indicated otherwise at the end of the text. Canada: This information is being provided to you for information purposes only and is not,\\nand under no circumstances should be construed as, an advertisement, offering or solicitation by Goldman Sachs & Co. LLC for purchasers of\\nsecurities in Canada to trade in any Canadian security.GoldmanSachs& Co.LLC is not registered as a dealer in anyjurisdiction in Canada under\\napplicableCanadiansecuritieslawsandgenerallyisnotpermittedtotradeinCanadiansecuritiesandmaybeprohibitedfromsellingcertainsecurities\\nandproductsincertainjurisdictionsinCanada.IfyouwishtotradeinanyCanadiansecuritiesorotherproductsinCanadapleasecontactGoldman\\nSachsCanadaInc.,anaffiliateof TheGoldmanSachsGroupInc.,OranotherregisteredCanadiandealer.HongKong:Furtherinformation onthe\\nsecurities of covered companiesreferred toin thisresearch maybe obtained onrequest from GoldmanSachs(Asia)L.L.C.India:Furtherinformation\\non the subject company or companies referred to in this research may be obtained from Goldman Sachs (India) Securities Private Limited, Research\\nAnalyst-SEBI RegistrationNumberINH000001493,951-A,Rational House,AppasahebMaratheMarg,Prabhadevi,Mumbai400025,India,Corporate\\nIdentity Number U74140MH2006FTC160634, Phone+912266169000,Fax+9122 6616 9001. Goldman Sachs may beneficially own1\\\\%Ormoreof\\nthe securities (as such term is defined in clause 2 (h) the Indian Securities Contracts (Regulation) Act,Jj1956) of the subject company or companies\\nreferred toin thisresearchreport. Investment insecuritiesmarket aresubjecttomarketrisks.Read\\'all therelated documents carefullybefore\\ninvesting. Registration granted by SEBl and certification from NiSM in no way guaranteeperformance of the intermediary or provide any assurance of\\nreturns to investors. Goldman Sachs (India) Securities Private Limited Investor Grievance E-mail: india-client-support@gs.com. Compliance Officer: Anil\\nRajputITel:+\\\\;9\\\\uparrow22 6616 9000|Email: anil.m.rajput@gs.com.Japan: See below.Korea:This research,and any access to it, is intended only for\\n\\'professional investors\"within the meaning of the Financial Services and Capital Markets Act, unless otherwise agreed by Goldman Sachs. Further\\ninformation on the subject company or companies referred to\\'in this research may be obtained from Goldman Sachs (Asia) L.L.C., Seoul Branch. New\\nZealand:GoldmanSachs NewZealand Limited and its affiliates are neither\"registered banks\"nor\"deposit takers\"(as defined in the ReserveBank of\\nNewZealand Act 1989) inNewZealand.This research,and any accesstoit, is intended for\"wholesaleclients\"(as defined in theFinancialAdvisers Act\\n2008) unless otherwise agreed by Goldman Sachs. A copy of certain Goldman Sachs Australia and New Zealand disclosure of interests is available at:\\nhttps://www.goldmansachs.com/disclosures/australia-new-zealand/index.html. Russia: Research reports distributed in the Russian Federation are not\\nadvertising asdefinedintheRussianlegislation,butareinformationand analysisnot havingproductpromotionas theirmainpurpose anddonot\\nprovide appraisallwithin the meaning of the Russianlegislation on appraisal activity.Research reports do not constitute a personalized investment\\nrecommendation as defined in Russian laws and regulations, are not addressed to a specific client, and are prepared without analyzing the financial\\ncircumstances,investmentprofilesorriskprofilesofclients.GoldmanSachsassumesnoresponsibilityforanyinvestmentdecisionsthatmaybetaken\\nby a client or any other person based on this research report. Singapore: Goldman Sachs (Singapore) Pte. (Company Number: 198602165W), which is\\nregulated by the Monetary Authority of Singapore, accepts legal responsibility for this research, and should be contacted with respect to any matters\\narisingfrom,orinconnectionwith,thisresearch.Taiwan:Thismaterialisforreferenceonlyandmustnotbereprintedwithoutpermission.Investors\\nshould carefully consider their own investment risk. Investment results are the responsibility of the individual investor. United Kingdom: Persons who\\nwould be categorized as retail clients in the United Kingdom, as such term is defined in the rules of the Financial Conduct Authority, should read this\\nresearch in conjunction with prior Goldman Sachs research on the covered companies referred to herein and should refer to the risk warnings that have\\nbeensenttothembyGoldmanSachsInternational.Acopyoftheseriskswarnings,andaglossaryofcertainfinancialtermsusedinthisreport,are\\navailable from Goldman Sachs International on request.\\nEuropeanUnion and United Kingdom:Disclosureinformation inrelationtoArticle6(2)of theEuropeanCommissionDelegated Regulation(EU)\\n(2016/958) supplementing Regulation(EU) No596/2014 of the EuropeanParliament and of the Council (including as that Delegated Regulation is\\nimplemented into United Kingdom domestic law and regulation following the United Kingdom\\'s departure from the European Union and the European\\nEconomicArea)withregardtoregulatorytechnicalstandardsforthetechnical arrangementsforobjectivepresentationofinvestment\\nrecommendations or other information recommending or suggesting an investment strategy and for disclosure of particular interests or indications of\\nconflicts of interest is available at https://www.gs.com/disclosures/europeanpolicy.html which states the European Policy for Managing Conflicts of\\nInterestinConnectionwithInvestment Research.\\nJapan: Goldman Sachs Japan Co., Ltd. is a Financial Instrument Dealer registered with the Kanto Financial Bureau under registration number Kinsho\\n69, and a member of Japan Securities Dealers Association, Financial Futures Association of Japan Type Il Financial Instruments Firms Association, The\\nInvestment Trusts Association, Japan, and Japan Investment Advisers Association. Sales and purchase of equities are subject to commission\\npre-determined with clients plus consumption tax. See company-specific disclosures as to any applicable disclosures required by Japanese stock\\nexchanges, the Japanese Securities Dealers Association or the Japanese Securities Finance Company.\\nGoldman Sachs Global Investment Research produces and distributes research products for clients of Goldman Sachs on a global basis. Analysts based\\ninGoldmanSachsofficesaroundtheworldproduceresearchon industries and companies,andresearchonmacroeconomics,currencies,commodities\\nand portfolio strategy. This research is disseminated in Australia by Goldman Sachs Australia Pty Ltd (ABN 21 006 797 897); in Brazi\\'by Goldman Sachs\\ndoBrasil CorretoradeTituloseValoresMobiliariosS.A.;PublicCommunicationChannel GoldmanSachsBrazil:08007275764 and/ or\\ncontatogoldmanbrasil@gs.com.AvailableWeekdays (except holidays),from9am to 6pm.Canal de Comunicacao com Publico GoldmanSachsBrasil:\\n0800 7275764 e/ou contatogoldmanbrasil@gs.com.Horario de funcionamento: segunda-feira a sexta-feira (excetoferiados), das 9h as 18h; in Canada\\nby Goldman Sachs & Co. LLC; in Hong Kong by Goldman Sachs (Asia) L.L.C.; in India by Goldman Sachs (India) Securities Private Ltd.; in Japan by\\nGoldman Sachs Japan Co., Ltd.; in the Republic of Korea by Goldman Sachs (Asia) L.L.C., Seoul Branch; in New Zealand by Goldman Sachs New\\nZealand Limited; in Russia by O0O Goldman Sachs; in Singapore by Goldman Sachs (Singapore) Pte. (Company Number: 198602165W); and in the\\nUnited States of America by Goldman Sachs & Co. LLC. Goldman Sachs International has approved this research in connection with its distribution in\\ntheUnitedKingdom.\\nGoldman Sachs International (\"GSl\"), authorised by the Prudential Regulation Authority (\"PRA\") and regulated by the Financial Conduct Authority\\n(\"FCA\") and the PRA, has approved this research,in connection with its distribution in the United Kingdom.\\nEuropean Economic Area: GSl, authorisedby the PRA and regulated by the FCA and the PRA, disseminates research in the following jurisdictions\\nwithin the European Economic Area: the Grand Duchy of Luxembourg, Italy, the Kingdom of Belgium, the Kingdom of Denmark, the Kingdom of\\nNorway, the Republic of Finland and the Republic of Ireland; GSl -Succursale de Paris (Paris branch) which is authorised by the French Autorité de\\ncontrole prudentielet de resolution (\"ACPR\") and regulated by the Autorité de controle prudentiel et de resolution and the Autorité des marches\\nfinanciers (\"AME\") disseminates research in France; GSl - Sucursal en Espana (Madrid branch) authorized in Spain by the Comision Nacional del\\nMercadodeValores disseminatesresearch in theKingdom of Spain;GSl-SwedenBankfilial(Stockholmbranch)is authorized by theSFSA as a\"third\\ncountry branch\" in accordance with Chapter 4, Section 4 of the Swedish Securities and Market Act (Sw. lag (2007:528) om vardepappersmarknaden)\\ndisseminates research in the Kingdom of Sweden; Goldman Sachs Bank Europe SE (\"GSBE\") is a credit institution incorporated in Germany and, within\\nthe Single Supervisory Mechanism, subject to direct prudential supervision by the European Central Bank and in other respects supervised by German\\nFederal Financial Supervisory Authority(Bundesanstalt fur Finanzdienstleistungsaufsicht, BaFin) and Deutsche Bundesbank and disseminates research\\nintheFederal RepublicofGermanyand thosejurisdictionswithintheEuropeanEconomicAreawhereGSlisnotauthorised todisseminateresearch\\nand additionally, GSBE, Copenhagen Branch filial af GSBE, Tyskland, supervised by the Danish Financial Authority disseminates research in the Kingdom\\nof Denmark; GSBE - Sucursal en Espana (Madrid branch) subject (to a limited extent) to local supervision by the Bank of Spain disseminates research in\\nthe Kingdom of Spain; GSBE - Succursale Italia (Milan branch) to the relevant applicable extent, subject to local supervision by the Bank of Italy (Banca\\nd\\'ltalia) and the Italian Companies and Exchange Commission(Commissione Nazionale per le Societae laBorsa\"Consob\")disseminatesresearch in\\nItaly; GSBE - Succursale de Paris (Paris branch), supervised by the AMF and by the ACPR disseminates research in France; and GSBE - Sweden\\nBankfilial (Stockholm branch), to a limited extent, subject to local supervision by the Swedish Financial Supervisory Authority (Finansinpektionen)\\ndisseminatesresearchintheKingdomofSweden.\\nconsider reliable, but we do not represent it is accurate or complete, and it should not be relied on as such. The information, opinions,estimates and\\nforecasts contained herein are as of the date hereof and are subject to change without prior notification. We seek to update our research as\\nappropriate, but various regulations may prevent us from doing so. Other than certain industry reports published on a periodic basis, the large majority\\nofreportsarepublishedatirregularintervalsasappropriateintheanalyst\\'sjudgment.inuy\\nGoldman Sachs conducts a global full-service, integrated investment banking, investment management, and brokerage business. We have investment\\nbankingandotherbusinessrelationshipswithasubstantialpercentageofthecompaniescoveredbyGlobalInvestmentResearch.GoldmanSachs&\\nOur salespeople, traders, and other professionals may provide oral or written market commentary or trading strategies to our clients and principal\\ntrading desks that reflect opinions that are contrary to the opinions expressed in this research. Our asset management area, principal trading desks and\\ninvesting businesses may make investment decisions that are jnconsistent with the recommendations or views expressed in this research.\\nWe and our affiliates, officers, directors, and employees will from time to time have long or short positions in, act as principal in, and buy or sell, the\\nsecurities or derivatives, if any, referred to in this research, unless otherwise prohibited by regulation or Goldman Sachs policy.\\nTheviews attributed to third partypresenters at GoldmanSachs arranged conferences,including individuals from other partsof GoldmanSachs, do not\\nnecessarilyreflectthoseofiGlobal InvestmentResearchandarenotanofficialviewofGoldmanSachs.\\nAny third party referenced herein, including any salespeople, traders and other professionals or members of their household, may have positions in the\\nproducts mentioned that are inconsistent with the views expressed by analysts named in this report.\\nThis research is focused on investment themes across markets, industries and sectors. It does not attempt to distinguish between the prospects or\\nperformance of, or provide analysis of, individual companies within any industry or sector we describe.\\nAnytradingrecommendationin thisresearchrelatingtoanequityorcreditsecurityorsecuritieswithinanindustryorsectorisreflectiveofthe\\ninvestmentthemebeingdiscussedandisnotarecommendationofanysuchsecurityinisolation.\\nThis research is not an offer to sell or the solicitation of an offer to buy any security in any jurisdiction where such an offer or solicitation would be\\nillegal. It does not constitute a personal recommendation or take into account the particular investment objectives, financial situations, or needs of\\nindividual clients.Clients should consider whether any advice orrecommendation inthis research is suitablefor their particular circumstances and, if\\nappropriate,seekprofessionaladvice,includingtaxadvice.Thepriceandvalueofinvestmentsreferredtointhisresearchandtheincomefromthem\\nmay fluctuate. Past performance is not a guide to future performance, future returns are not guaranteed, and a loss of original capital may occur.\\nFluctuationsinexchangeratescouldhaveadverseeffectsonthevalueorpriceof,orincomederivedfrom,certaininvestments.\\nCertain transactions, including those involving futures, options, and other derivatives, give rise to substantial risk and are not suitable for all investors\\nInvestors should review current options and futures disclosure documents which are available from Goldman Sachs sales representatives or at\\nhttps://www.theocc.com/about/publications/character-risks.jsp and\\nhttps://www.fiadocumentation.org/fia/regulatory-disclosures_1/fia-uniform-futures-and-options-on-futures-risk-disclosures-booklet-pdf-version-2018\\nTransaction costs may be significant in option strategies calling for multiple purchase and sales of options such as spreads. Supporting documentation\\nwillbesupplieduponrequest.\\nDiffering Levelsof Serviceprovided by Global Investment Research:Thelevel and types ofservicesprovided toyou by GoldmanSachs Global\\nInvestmentResearchmayvaryascomparedto thatprovidedtointernal and otherexternal clients ofGS,depending onvariousfactors includingyour\\nindividual preferences as to the frequency and manner of receiving communication, your risk profile and investment focus and perspective (e.g.,\\nmarketwide, sector specific, long term, short term),the size and scope of your overall client relationship with GS, and legal and regulatory constraints.\\nAs an example, certain clients may request to receive notifications when research on specific securities is published, and certain clients may request\\nthat specific data underlying analysts\\'fundamental analysis available on our internal client websites be delivered to them electronically through data\\nfeeds or otherwise. No change to an analyst\\'s fundamental research views (e.g., ratings, price targets, or material changes to earnings estimatesjfor\\nequity securities), will be communicated to any client prior to inclusion of such information in a research report broadly disseminated throuigh electronic\\n publication to our internal client websites or through other means, as necessary, to all clients who are entitled to receive such reports.K\\nAll research reports are disseminated and available to all clients simultaneously through electronic publication to ourinterhal client websites. Not all\\nresearch content is redistributed to our clients or available to third-party aggregators, nor is Goldman Sachs responsible for the redistribution of our\\nresearch by third party aggregators. For research, models or other data related to one or more securities/7markets or asset classes (including related\\nservices) that may be available to you, please contact your GS representative or go to https://research.gs.com.\\nDisclosure information is also available at https:/www.gs.com/research/hedge.html or from Research Compliance, 200 West Street, New York, NY\\n10282.\\nYou are permitted to store, display, analyze, modify, reformat, and print the information made available to you via this service only for your own use.\\nYou may not resell or reverse engineer this informatioh to calculate or develop any index for disclosure and/or marketing or create any other derivative\\nworks or commercial product(s), data or offering(s) without the express written consent of Goldman Sachs. You are not permitted to publish, transmit,\\nor otherwise reproduce this information, in whole or in part, in any format to any third party without the express written consent of Goldman Sachs.\\nThis foregoing restriction incluides, without limitation, using, extracting, downloading or retrieving this information, in whole or in part, to train or\\nfinetune a third-party machine learning or artificial intelligence system, or to provide or reproduce this information, in whole or in part, as a prompt or\\ninputtoanysuchsystem.\\n', mimetype='text/plain', start_char_idx=None, end_char_idx=None, metadata_seperator='\\n', text_template='{metadata_str}\\n\\n{content}')"
      ]
     },
     "execution_count": 6,
     "metadata": {},
     "output_type": "execute_result"
    }
   ],
   "source": [
    "li_document = undatasio_obj.get_result_to_llama_index_document(\n",
    "    type_info=['text'],\n",
    "    file_name='1d8c9bc374114b6e901da.pdf',\n",
    "    version='v26'\n",
    ")\n",
    "li_document"
   ]
  },
  {
   "cell_type": "markdown",
   "id": "0533eaf7-274d-4722-be27-9209bf701501",
   "metadata": {},
   "source": [
    "Install all the necessary Python dependencies for both **llama_index** and **postgresql**."
   ]
  },
  {
   "cell_type": "code",
   "execution_count": 7,
   "id": "b5c83cc7-2289-4839-9c04-571d46442045",
   "metadata": {},
   "outputs": [],
   "source": [
    "!pip install -q -U psycopg2 llama-index psycopg2-binary sqlalchemy llama-index-vector-stores-postgres"
   ]
  },
  {
   "cell_type": "markdown",
   "id": "4d50a9f2-b119-4aa4-b3d7-14fd5e6cdf23",
   "metadata": {},
   "source": [
    "Import the necessary classes and functions for the example."
   ]
  },
  {
   "cell_type": "code",
   "execution_count": 8,
   "id": "5df3e434-7a6c-4930-8b4c-7315b5ca5593",
   "metadata": {},
   "outputs": [],
   "source": [
    "from llama_index.core import SimpleDirectoryReader, StorageContext\n",
    "from llama_index.vector_stores.postgres import PGVectorStore\n",
    "from llama_index.core import VectorStoreIndex\n",
    "from sqlalchemy import make_url\n",
    "import textwrap\n",
    "import psycopg2"
   ]
  },
  {
   "cell_type": "markdown",
   "id": "3faa25b6-d104-430d-a848-b09847efebfe",
   "metadata": {},
   "source": [
    "##### Initialize **PostgreSQL** database information.\n",
    "\n",
    "_You can deploy a simple **PostgreSQL** instance using **Docker** to run the following example._\n",
    "_Example of running PostgreSQL with Docker._\n",
    "> docker pull pgvector/pgvector:pg17\n",
    "> \n",
    "> docker run -dit --name postgresql -p 5432:5432 -e POSTGRES_PASSWORD=123456 -e LANG=C.UTF-8 pgvector/pgvector:pg17"
   ]
  },
  {
   "cell_type": "code",
   "execution_count": 9,
   "id": "529e058d-5c76-4a5d-87f3-2f9754bd30a4",
   "metadata": {},
   "outputs": [],
   "source": [
    "db_name = \"vector_db\"\n",
    "conn = psycopg2.connect(POSTGRESQL_URI)\n",
    "conn.autocommit = True\n",
    "\n",
    "with conn.cursor() as c:\n",
    "    c.execute(f\"DROP DATABASE IF EXISTS {db_name}\")\n",
    "    c.execute(f\"CREATE DATABASE {db_name}\")\n",
    "    c.execute(\"CREATE EXTENSION vector\")"
   ]
  },
  {
   "cell_type": "markdown",
   "id": "0b404015-7547-44eb-92ab-2d136b74fc5b",
   "metadata": {},
   "source": [
    "Initialize the vector store, generate the index, and create the search engine."
   ]
  },
  {
   "cell_type": "code",
   "execution_count": 10,
   "id": "a1c33444-3117-4441-b610-1c6767ffaaf8",
   "metadata": {},
   "outputs": [
    {
     "data": {
      "application/vnd.jupyter.widget-view+json": {
       "model_id": "dce72befdce54d508c5a7549f5d7366f",
       "version_major": 2,
       "version_minor": 0
      },
      "text/plain": [
       "Parsing nodes:   0%|          | 0/1 [00:00<?, ?it/s]"
      ]
     },
     "metadata": {},
     "output_type": "display_data"
    },
    {
     "data": {
      "application/vnd.jupyter.widget-view+json": {
       "model_id": "d943d409ce1b4ee890bb83c931656d71",
       "version_major": 2,
       "version_minor": 0
      },
      "text/plain": [
       "Generating embeddings:   0%|          | 0/8 [00:00<?, ?it/s]"
      ]
     },
     "metadata": {},
     "output_type": "display_data"
    }
   ],
   "source": [
    "url = make_url(POSTGRESQL_URI)\n",
    "vector_store = PGVectorStore.from_params(\n",
    "    database=db_name,\n",
    "    host=url.host,\n",
    "    password=url.password,\n",
    "    port=url.port,\n",
    "    user=url.username,\n",
    "    table_name=\"paul_graham_essay\",\n",
    "    embed_dim=1536,  # openai embedding dimension\n",
    "    hnsw_kwargs={\n",
    "        \"hnsw_m\": 16,\n",
    "        \"hnsw_ef_construction\": 64,\n",
    "        \"hnsw_ef_search\": 40,\n",
    "        \"hnsw_dist_method\": \"vector_cosine_ops\",\n",
    "    },\n",
    ")\n",
    "\n",
    "storage_context = StorageContext.from_defaults(vector_store=vector_store)\n",
    "index = VectorStoreIndex.from_documents(\n",
    "    [li_document], storage_context=storage_context, show_progress=True\n",
    ")\n",
    "query_engine = index.as_query_engine()"
   ]
  },
  {
   "cell_type": "markdown",
   "id": "b452968b-9786-4d21-ae1d-94f6d5f4ea39",
   "metadata": {},
   "source": [
    "You can query the search engine."
   ]
  },
  {
   "cell_type": "code",
   "execution_count": 11,
   "id": "6a7be975-3aa1-4434-897f-ea030669c092",
   "metadata": {},
   "outputs": [
    {
     "name": "stdout",
     "output_type": "stream",
     "text": [
      "The Third Plenum of the Chinese Communist Party was scheduled to be held from July 15 to 18.\n"
     ]
    }
   ],
   "source": [
    "print(index.as_query_engine().query(\"When was the Third Plenary Session of the Communist Party of China held?\"))"
   ]
  }
 ],
 "metadata": {
  "kernelspec": {
   "display_name": "Python 3 (ipykernel)",
   "language": "python",
   "name": "python3"
  },
  "language_info": {
   "codemirror_mode": {
    "name": "ipython",
    "version": 3
   },
   "file_extension": ".py",
   "mimetype": "text/x-python",
   "name": "python",
   "nbconvert_exporter": "python",
   "pygments_lexer": "ipython3",
   "version": "3.10.15"
  }
 },
 "nbformat": 4,
 "nbformat_minor": 5
}
