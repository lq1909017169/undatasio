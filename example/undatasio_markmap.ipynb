{
 "cells": [
  {
   "cell_type": "markdown",
   "id": "523f33c9-a381-463c-9b56-7175e4ed0c65",
   "metadata": {},
   "source": [
    "![](example_content/undatasio_example.png)"
   ]
  },
  {
   "cell_type": "code",
   "execution_count": 2,
   "id": "ff8338f6-7cc9-4d95-a9c3-069acffaabe7",
   "metadata": {},
   "outputs": [],
   "source": [
    "# install undatasio\n",
    "!pip install -U -q undatasio"
   ]
  },
  {
   "cell_type": "code",
   "execution_count": 3,
   "id": "8eed90b1-2881-414f-ba80-58ae93d26004",
   "metadata": {},
   "outputs": [
    {
     "name": "stdout",
     "output_type": "stream",
     "text": [
      "Collecting package metadata (current_repodata.json): ...working... done\n",
      "Solving environment: ...working... done\n",
      "\n",
      "# All requested packages already installed.\n",
      "\n"
     ]
    }
   ],
   "source": [
    "!conda install -c conda-forge python-dotenv -y -q"
   ]
  },
  {
   "cell_type": "code",
   "execution_count": 4,
   "id": "1d8f87c9-d723-4a2e-8193-81441e8f5f87",
   "metadata": {},
   "outputs": [
    {
     "data": {
      "text/plain": [
       "True"
      ]
     },
     "execution_count": 4,
     "metadata": {},
     "output_type": "execute_result"
    }
   ],
   "source": [
    "import os\n",
    "from dotenv import load_dotenv\n",
    "\n",
    "load_dotenv('.env')"
   ]
  },
  {
   "cell_type": "code",
   "execution_count": 5,
   "id": "d347a2e5-4a20-46f6-be65-0d88f8df56c8",
   "metadata": {},
   "outputs": [],
   "source": [
    "UNDATASIO_API_KEY=os.getenv(\"UNDATASIO_API_KEY\")"
   ]
  },
  {
   "cell_type": "code",
   "execution_count": null,
   "id": "af39a264-eb7f-46c1-b100-9f7b4734d3ca",
   "metadata": {},
   "outputs": [],
   "source": [
    "from undatasio.undatasio import UnDatasIO\n",
    "\n",
    "undatasio_obj = UnDatasIO(UNDATASIO_API_KEY, task_name='demo')"
   ]
  }
 ],
 "metadata": {
  "kernelspec": {
   "display_name": "Python 3 (ipykernel)",
   "language": "python",
   "name": "python3"
  },
  "language_info": {
   "codemirror_mode": {
    "name": "ipython",
    "version": 3
   },
   "file_extension": ".py",
   "mimetype": "text/x-python",
   "name": "python",
   "nbconvert_exporter": "python",
   "pygments_lexer": "ipython3",
   "version": "3.10.15"
  }
 },
 "nbformat": 4,
 "nbformat_minor": 5
}
