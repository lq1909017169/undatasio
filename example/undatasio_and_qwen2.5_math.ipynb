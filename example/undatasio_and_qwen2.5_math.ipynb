{
 "cells": [
  {
   "cell_type": "markdown",
   "id": "6e3b12ab-f2f3-4e3a-a551-cb2ffd9eba1a",
   "metadata": {},
   "source": [
    "# This file demonstrates using the Undatasio platform and a large language model to answer math questions from a PDF test paper."
   ]
  },
  {
   "cell_type": "markdown",
   "id": "0cb60c99-7bfa-48e4-b527-a39fcf315323",
   "metadata": {
    "tags": []
   },
   "source": [
    "# Installing the **Undatasio** Python API library"
   ]
  },
  {
   "cell_type": "code",
   "execution_count": 1,
   "id": "15080530-70f0-42d9-bee9-010055d449dd",
   "metadata": {
    "scrolled": true
   },
   "outputs": [
    {
     "name": "stdout",
     "output_type": "stream",
     "text": [
      "Requirement already satisfied: undatasio in /Users/stay/anaconda3/envs/undatasio/lib/python3.10/site-packages (0.1.7.9)\n",
      "Requirement already satisfied: requests~=2.32.3 in /Users/stay/anaconda3/envs/undatasio/lib/python3.10/site-packages (from undatasio) (2.32.3)\n",
      "Requirement already satisfied: requests-toolbelt==1.0.0 in /Users/stay/anaconda3/envs/undatasio/lib/python3.10/site-packages (from undatasio) (1.0.0)\n",
      "Requirement already satisfied: llama-index in /Users/stay/anaconda3/envs/undatasio/lib/python3.10/site-packages (from undatasio) (0.11.17)\n",
      "Requirement already satisfied: langchain-core in /Users/stay/anaconda3/envs/undatasio/lib/python3.10/site-packages (from undatasio) (0.3.10)\n",
      "Requirement already satisfied: pandas in /Users/stay/anaconda3/envs/undatasio/lib/python3.10/site-packages (from undatasio) (2.2.3)\n",
      "Requirement already satisfied: charset-normalizer<4,>=2 in /Users/stay/anaconda3/envs/undatasio/lib/python3.10/site-packages (from requests~=2.32.3->undatasio) (3.3.2)\n",
      "Requirement already satisfied: idna<4,>=2.5 in /Users/stay/anaconda3/envs/undatasio/lib/python3.10/site-packages (from requests~=2.32.3->undatasio) (3.10)\n",
      "Requirement already satisfied: urllib3<3,>=1.21.1 in /Users/stay/anaconda3/envs/undatasio/lib/python3.10/site-packages (from requests~=2.32.3->undatasio) (2.2.3)\n",
      "Requirement already satisfied: certifi>=2017.4.17 in /Users/stay/anaconda3/envs/undatasio/lib/python3.10/site-packages (from requests~=2.32.3->undatasio) (2024.8.30)\n",
      "Requirement already satisfied: PyYAML>=5.3 in /Users/stay/anaconda3/envs/undatasio/lib/python3.10/site-packages (from langchain-core->undatasio) (6.0.2)\n",
      "Requirement already satisfied: jsonpatch<2.0,>=1.33 in /Users/stay/anaconda3/envs/undatasio/lib/python3.10/site-packages (from langchain-core->undatasio) (1.33)\n",
      "Requirement already satisfied: langsmith<0.2.0,>=0.1.125 in /Users/stay/anaconda3/envs/undatasio/lib/python3.10/site-packages (from langchain-core->undatasio) (0.1.133)\n",
      "Requirement already satisfied: packaging<25,>=23.2 in /Users/stay/anaconda3/envs/undatasio/lib/python3.10/site-packages (from langchain-core->undatasio) (24.1)\n",
      "Requirement already satisfied: pydantic<3.0.0,>=2.5.2 in /Users/stay/anaconda3/envs/undatasio/lib/python3.10/site-packages (from langchain-core->undatasio) (2.9.2)\n",
      "Requirement already satisfied: tenacity!=8.4.0,<9.0.0,>=8.1.0 in /Users/stay/anaconda3/envs/undatasio/lib/python3.10/site-packages (from langchain-core->undatasio) (8.5.0)\n",
      "Requirement already satisfied: typing-extensions>=4.7 in /Users/stay/anaconda3/envs/undatasio/lib/python3.10/site-packages (from langchain-core->undatasio) (4.12.2)\n",
      "Requirement already satisfied: llama-index-agent-openai<0.4.0,>=0.3.4 in /Users/stay/anaconda3/envs/undatasio/lib/python3.10/site-packages (from llama-index->undatasio) (0.3.4)\n",
      "Requirement already satisfied: llama-index-cli<0.4.0,>=0.3.1 in /Users/stay/anaconda3/envs/undatasio/lib/python3.10/site-packages (from llama-index->undatasio) (0.3.1)\n",
      "Requirement already satisfied: llama-index-core<0.12.0,>=0.11.17 in /Users/stay/anaconda3/envs/undatasio/lib/python3.10/site-packages (from llama-index->undatasio) (0.11.17)\n",
      "Requirement already satisfied: llama-index-embeddings-openai<0.3.0,>=0.2.4 in /Users/stay/anaconda3/envs/undatasio/lib/python3.10/site-packages (from llama-index->undatasio) (0.2.5)\n",
      "Requirement already satisfied: llama-index-indices-managed-llama-cloud>=0.3.0 in /Users/stay/anaconda3/envs/undatasio/lib/python3.10/site-packages (from llama-index->undatasio) (0.4.0)\n",
      "Requirement already satisfied: llama-index-legacy<0.10.0,>=0.9.48 in /Users/stay/anaconda3/envs/undatasio/lib/python3.10/site-packages (from llama-index->undatasio) (0.9.48.post3)\n",
      "Requirement already satisfied: llama-index-llms-openai<0.3.0,>=0.2.10 in /Users/stay/anaconda3/envs/undatasio/lib/python3.10/site-packages (from llama-index->undatasio) (0.2.13)\n",
      "Requirement already satisfied: llama-index-multi-modal-llms-openai<0.3.0,>=0.2.0 in /Users/stay/anaconda3/envs/undatasio/lib/python3.10/site-packages (from llama-index->undatasio) (0.2.2)\n",
      "Requirement already satisfied: llama-index-program-openai<0.3.0,>=0.2.0 in /Users/stay/anaconda3/envs/undatasio/lib/python3.10/site-packages (from llama-index->undatasio) (0.2.0)\n",
      "Requirement already satisfied: llama-index-question-gen-openai<0.3.0,>=0.2.0 in /Users/stay/anaconda3/envs/undatasio/lib/python3.10/site-packages (from llama-index->undatasio) (0.2.0)\n",
      "Requirement already satisfied: llama-index-readers-file<0.3.0,>=0.2.0 in /Users/stay/anaconda3/envs/undatasio/lib/python3.10/site-packages (from llama-index->undatasio) (0.2.2)\n",
      "Requirement already satisfied: llama-index-readers-llama-parse>=0.3.0 in /Users/stay/anaconda3/envs/undatasio/lib/python3.10/site-packages (from llama-index->undatasio) (0.3.0)\n",
      "Requirement already satisfied: nltk>3.8.1 in /Users/stay/anaconda3/envs/undatasio/lib/python3.10/site-packages (from llama-index->undatasio) (3.9.1)\n",
      "Requirement already satisfied: numpy>=1.22.4 in /Users/stay/anaconda3/envs/undatasio/lib/python3.10/site-packages (from pandas->undatasio) (1.26.4)\n",
      "Requirement already satisfied: python-dateutil>=2.8.2 in /Users/stay/anaconda3/envs/undatasio/lib/python3.10/site-packages (from pandas->undatasio) (2.9.0.post0)\n",
      "Requirement already satisfied: pytz>=2020.1 in /Users/stay/anaconda3/envs/undatasio/lib/python3.10/site-packages (from pandas->undatasio) (2024.2)\n",
      "Requirement already satisfied: tzdata>=2022.7 in /Users/stay/anaconda3/envs/undatasio/lib/python3.10/site-packages (from pandas->undatasio) (2024.2)\n",
      "Requirement already satisfied: jsonpointer>=1.9 in /Users/stay/anaconda3/envs/undatasio/lib/python3.10/site-packages (from jsonpatch<2.0,>=1.33->langchain-core->undatasio) (3.0.0)\n",
      "Requirement already satisfied: httpx<1,>=0.23.0 in /Users/stay/anaconda3/envs/undatasio/lib/python3.10/site-packages (from langsmith<0.2.0,>=0.1.125->langchain-core->undatasio) (0.27.2)\n",
      "Requirement already satisfied: orjson<4.0.0,>=3.9.14 in /Users/stay/anaconda3/envs/undatasio/lib/python3.10/site-packages (from langsmith<0.2.0,>=0.1.125->langchain-core->undatasio) (3.10.7)\n",
      "Requirement already satisfied: openai>=1.14.0 in /Users/stay/anaconda3/envs/undatasio/lib/python3.10/site-packages (from llama-index-agent-openai<0.4.0,>=0.3.4->llama-index->undatasio) (1.53.0)\n",
      "Requirement already satisfied: SQLAlchemy>=1.4.49 in /Users/stay/anaconda3/envs/undatasio/lib/python3.10/site-packages (from SQLAlchemy[asyncio]>=1.4.49->llama-index-core<0.12.0,>=0.11.17->llama-index->undatasio) (2.0.35)\n",
      "Requirement already satisfied: aiohttp<4.0.0,>=3.8.6 in /Users/stay/anaconda3/envs/undatasio/lib/python3.10/site-packages (from llama-index-core<0.12.0,>=0.11.17->llama-index->undatasio) (3.10.9)\n",
      "Requirement already satisfied: dataclasses-json in /Users/stay/anaconda3/envs/undatasio/lib/python3.10/site-packages (from llama-index-core<0.12.0,>=0.11.17->llama-index->undatasio) (0.6.7)\n",
      "Requirement already satisfied: deprecated>=1.2.9.3 in /Users/stay/anaconda3/envs/undatasio/lib/python3.10/site-packages (from llama-index-core<0.12.0,>=0.11.17->llama-index->undatasio) (1.2.14)\n",
      "Requirement already satisfied: dirtyjson<2.0.0,>=1.0.8 in /Users/stay/anaconda3/envs/undatasio/lib/python3.10/site-packages (from llama-index-core<0.12.0,>=0.11.17->llama-index->undatasio) (1.0.8)\n",
      "Requirement already satisfied: fsspec>=2023.5.0 in /Users/stay/anaconda3/envs/undatasio/lib/python3.10/site-packages (from llama-index-core<0.12.0,>=0.11.17->llama-index->undatasio) (2024.9.0)\n",
      "Requirement already satisfied: nest-asyncio<2.0.0,>=1.5.8 in /Users/stay/anaconda3/envs/undatasio/lib/python3.10/site-packages (from llama-index-core<0.12.0,>=0.11.17->llama-index->undatasio) (1.6.0)\n",
      "Requirement already satisfied: networkx>=3.0 in /Users/stay/anaconda3/envs/undatasio/lib/python3.10/site-packages (from llama-index-core<0.12.0,>=0.11.17->llama-index->undatasio) (3.3)\n",
      "Requirement already satisfied: pillow>=9.0.0 in /Users/stay/anaconda3/envs/undatasio/lib/python3.10/site-packages (from llama-index-core<0.12.0,>=0.11.17->llama-index->undatasio) (10.4.0)\n",
      "Requirement already satisfied: tiktoken>=0.3.3 in /Users/stay/anaconda3/envs/undatasio/lib/python3.10/site-packages (from llama-index-core<0.12.0,>=0.11.17->llama-index->undatasio) (0.8.0)\n",
      "Requirement already satisfied: tqdm<5.0.0,>=4.66.1 in /Users/stay/anaconda3/envs/undatasio/lib/python3.10/site-packages (from llama-index-core<0.12.0,>=0.11.17->llama-index->undatasio) (4.66.5)\n",
      "Requirement already satisfied: typing-inspect>=0.8.0 in /Users/stay/anaconda3/envs/undatasio/lib/python3.10/site-packages (from llama-index-core<0.12.0,>=0.11.17->llama-index->undatasio) (0.9.0)\n",
      "Requirement already satisfied: wrapt in /Users/stay/anaconda3/envs/undatasio/lib/python3.10/site-packages (from llama-index-core<0.12.0,>=0.11.17->llama-index->undatasio) (1.16.0)\n",
      "Requirement already satisfied: llama-cloud>=0.0.11 in /Users/stay/anaconda3/envs/undatasio/lib/python3.10/site-packages (from llama-index-indices-managed-llama-cloud>=0.3.0->llama-index->undatasio) (0.1.2)\n",
      "Requirement already satisfied: beautifulsoup4<5.0.0,>=4.12.3 in /Users/stay/anaconda3/envs/undatasio/lib/python3.10/site-packages (from llama-index-readers-file<0.3.0,>=0.2.0->llama-index->undatasio) (4.12.3)\n",
      "Requirement already satisfied: pypdf<5.0.0,>=4.0.1 in /Users/stay/anaconda3/envs/undatasio/lib/python3.10/site-packages (from llama-index-readers-file<0.3.0,>=0.2.0->llama-index->undatasio) (4.3.1)\n",
      "Requirement already satisfied: striprtf<0.0.27,>=0.0.26 in /Users/stay/anaconda3/envs/undatasio/lib/python3.10/site-packages (from llama-index-readers-file<0.3.0,>=0.2.0->llama-index->undatasio) (0.0.26)\n",
      "Requirement already satisfied: llama-parse>=0.5.0 in /Users/stay/anaconda3/envs/undatasio/lib/python3.10/site-packages (from llama-index-readers-llama-parse>=0.3.0->llama-index->undatasio) (0.5.7)\n",
      "Requirement already satisfied: click in /Users/stay/anaconda3/envs/undatasio/lib/python3.10/site-packages (from nltk>3.8.1->llama-index->undatasio) (8.1.7)\n",
      "Requirement already satisfied: joblib in /Users/stay/anaconda3/envs/undatasio/lib/python3.10/site-packages (from nltk>3.8.1->llama-index->undatasio) (1.4.2)\n",
      "Requirement already satisfied: regex>=2021.8.3 in /Users/stay/anaconda3/envs/undatasio/lib/python3.10/site-packages (from nltk>3.8.1->llama-index->undatasio) (2024.9.11)\n",
      "Requirement already satisfied: annotated-types>=0.6.0 in /Users/stay/anaconda3/envs/undatasio/lib/python3.10/site-packages (from pydantic<3.0.0,>=2.5.2->langchain-core->undatasio) (0.7.0)\n",
      "Requirement already satisfied: pydantic-core==2.23.4 in /Users/stay/anaconda3/envs/undatasio/lib/python3.10/site-packages (from pydantic<3.0.0,>=2.5.2->langchain-core->undatasio) (2.23.4)\n",
      "Requirement already satisfied: six>=1.5 in /Users/stay/anaconda3/envs/undatasio/lib/python3.10/site-packages (from python-dateutil>=2.8.2->pandas->undatasio) (1.16.0)\n",
      "Requirement already satisfied: aiohappyeyeballs>=2.3.0 in /Users/stay/anaconda3/envs/undatasio/lib/python3.10/site-packages (from aiohttp<4.0.0,>=3.8.6->llama-index-core<0.12.0,>=0.11.17->llama-index->undatasio) (2.4.3)\n",
      "Requirement already satisfied: aiosignal>=1.1.2 in /Users/stay/anaconda3/envs/undatasio/lib/python3.10/site-packages (from aiohttp<4.0.0,>=3.8.6->llama-index-core<0.12.0,>=0.11.17->llama-index->undatasio) (1.3.1)\n",
      "Requirement already satisfied: attrs>=17.3.0 in /Users/stay/anaconda3/envs/undatasio/lib/python3.10/site-packages (from aiohttp<4.0.0,>=3.8.6->llama-index-core<0.12.0,>=0.11.17->llama-index->undatasio) (24.2.0)\n",
      "Requirement already satisfied: frozenlist>=1.1.1 in /Users/stay/anaconda3/envs/undatasio/lib/python3.10/site-packages (from aiohttp<4.0.0,>=3.8.6->llama-index-core<0.12.0,>=0.11.17->llama-index->undatasio) (1.4.1)\n",
      "Requirement already satisfied: multidict<7.0,>=4.5 in /Users/stay/anaconda3/envs/undatasio/lib/python3.10/site-packages (from aiohttp<4.0.0,>=3.8.6->llama-index-core<0.12.0,>=0.11.17->llama-index->undatasio) (6.1.0)\n",
      "Requirement already satisfied: yarl<2.0,>=1.12.0 in /Users/stay/anaconda3/envs/undatasio/lib/python3.10/site-packages (from aiohttp<4.0.0,>=3.8.6->llama-index-core<0.12.0,>=0.11.17->llama-index->undatasio) (1.14.0)\n",
      "Requirement already satisfied: async-timeout<5.0,>=4.0 in /Users/stay/anaconda3/envs/undatasio/lib/python3.10/site-packages (from aiohttp<4.0.0,>=3.8.6->llama-index-core<0.12.0,>=0.11.17->llama-index->undatasio) (4.0.3)\n",
      "Requirement already satisfied: soupsieve>1.2 in /Users/stay/anaconda3/envs/undatasio/lib/python3.10/site-packages (from beautifulsoup4<5.0.0,>=4.12.3->llama-index-readers-file<0.3.0,>=0.2.0->llama-index->undatasio) (2.6)\n",
      "Requirement already satisfied: anyio in /Users/stay/anaconda3/envs/undatasio/lib/python3.10/site-packages (from httpx<1,>=0.23.0->langsmith<0.2.0,>=0.1.125->langchain-core->undatasio) (4.6.0)\n",
      "Requirement already satisfied: httpcore==1.* in /Users/stay/anaconda3/envs/undatasio/lib/python3.10/site-packages (from httpx<1,>=0.23.0->langsmith<0.2.0,>=0.1.125->langchain-core->undatasio) (1.0.6)\n",
      "Requirement already satisfied: sniffio in /Users/stay/anaconda3/envs/undatasio/lib/python3.10/site-packages (from httpx<1,>=0.23.0->langsmith<0.2.0,>=0.1.125->langchain-core->undatasio) (1.3.1)\n",
      "Requirement already satisfied: h11<0.15,>=0.13 in /Users/stay/anaconda3/envs/undatasio/lib/python3.10/site-packages (from httpcore==1.*->httpx<1,>=0.23.0->langsmith<0.2.0,>=0.1.125->langchain-core->undatasio) (0.14.0)\n",
      "Requirement already satisfied: distro<2,>=1.7.0 in /Users/stay/anaconda3/envs/undatasio/lib/python3.10/site-packages (from openai>=1.14.0->llama-index-agent-openai<0.4.0,>=0.3.4->llama-index->undatasio) (1.9.0)\n",
      "Requirement already satisfied: jiter<1,>=0.4.0 in /Users/stay/anaconda3/envs/undatasio/lib/python3.10/site-packages (from openai>=1.14.0->llama-index-agent-openai<0.4.0,>=0.3.4->llama-index->undatasio) (0.6.1)\n",
      "Requirement already satisfied: greenlet!=0.4.17 in /Users/stay/anaconda3/envs/undatasio/lib/python3.10/site-packages (from SQLAlchemy[asyncio]>=1.4.49->llama-index-core<0.12.0,>=0.11.17->llama-index->undatasio) (3.1.1)\n",
      "Requirement already satisfied: mypy-extensions>=0.3.0 in /Users/stay/anaconda3/envs/undatasio/lib/python3.10/site-packages (from typing-inspect>=0.8.0->llama-index-core<0.12.0,>=0.11.17->llama-index->undatasio) (1.0.0)\n",
      "Requirement already satisfied: marshmallow<4.0.0,>=3.18.0 in /Users/stay/anaconda3/envs/undatasio/lib/python3.10/site-packages (from dataclasses-json->llama-index-core<0.12.0,>=0.11.17->llama-index->undatasio) (3.22.0)\n",
      "Requirement already satisfied: exceptiongroup>=1.0.2 in /Users/stay/anaconda3/envs/undatasio/lib/python3.10/site-packages (from anyio->httpx<1,>=0.23.0->langsmith<0.2.0,>=0.1.125->langchain-core->undatasio) (1.2.2)\n",
      "Requirement already satisfied: propcache>=0.2.0 in /Users/stay/anaconda3/envs/undatasio/lib/python3.10/site-packages (from yarl<2.0,>=1.12.0->aiohttp<4.0.0,>=3.8.6->llama-index-core<0.12.0,>=0.11.17->llama-index->undatasio) (0.2.0)\n"
     ]
    }
   ],
   "source": [
    "# install undatasio\n",
    "!pip install -U undatasio"
   ]
  },
  {
   "cell_type": "markdown",
   "id": "b43202ea-3959-439f-bf46-65ae26f81f40",
   "metadata": {},
   "source": [
    "## To import an **UnDataIO** object, you need a token and an optional task name from the Undatasio platform."
   ]
  },
  {
   "cell_type": "code",
   "execution_count": 2,
   "id": "1f17ef7e-12fa-40b4-b5fb-fb3a6b3a00e1",
   "metadata": {},
   "outputs": [],
   "source": [
    "from undatasio.undatasio import UnDatasIO\n",
    "\n",
    "undatasio_obj = UnDatasIO('...', task_name='文本解析')"
   ]
  },
  {
   "cell_type": "markdown",
   "id": "a99d3305-7077-4048-b23f-34cc16648a6f",
   "metadata": {},
   "source": [
    "## The **show_version** function of the generated Undatasio object can display all version information and file lists for the current token's task name."
   ]
  },
  {
   "cell_type": "code",
   "execution_count": 3,
   "id": "0fc7d675-1947-4624-a385-a2cc86237741",
   "metadata": {
    "scrolled": true
   },
   "outputs": [
    {
     "data": {
      "text/plain": [
       "Response(code=200, msg='success', data=      title version  count                                          file_name\n",
       "0   1 files     v33      1                   [调整组合结构应对短期波折基金每日资讯20150608.pdf]\n",
       "1   1 files     v32      1                   [调整组合结构应对短期波折基金每日资讯20150608.pdf]\n",
       "2   1 files     v31      1                   [调整组合结构应对短期波折基金每日资讯20150608.pdf]\n",
       "3   1 files     v30      1                   [调整组合结构应对短期波折基金每日资讯20150608.pdf]\n",
       "4   1 files     v29      1                   [调整组合结构应对短期波折基金每日资讯20150608.pdf]\n",
       "5   1 files     v28      1                   [调整组合结构应对短期波折基金每日资讯20150608.pdf]\n",
       "6   1 files     v27      1          [3150f1efbaca8197be68ff6ddeb8371-已压缩.pdf]\n",
       "7   1 files     v26      1                                     [adeka(1).pdf]\n",
       "8   1 files     v25      1                               [初中数学浙江中考数学真题-7.pdf]\n",
       "9   1 files     v24      1                                         [组合 2.pdf]\n",
       "10  1 files     v23      1                               [初中数学浙江中考数学真题-7.pdf]\n",
       "11  1 files     v22      1                               [初中数学浙江中考数学真题-7.pdf]\n",
       "12  1 files     v21      1                               [初中数学浙江中考数学真题-7.pdf]\n",
       "13  1 files     v20      1                               [初中数学浙江中考数学真题-7.pdf]\n",
       "14  1 files     v19      1                               [初中数学浙江中考数学真题-7.pdf]\n",
       "15  1 files     v18      1                               [初中数学浙江中考数学真题-7.pdf]\n",
       "16  1 files     v17      1                               [初中数学浙江中考数学真题-7.pdf]\n",
       "17  1 files     v16      1                               [初中数学浙江中考数学真题-7.pdf]\n",
       "18  1 files     v15      1                               [初中数学浙江中考数学真题-7.pdf]\n",
       "19  1 files     v14      1                               [初中数学浙江中考数学真题-7.pdf]\n",
       "20  1 files     v13      1                               [初中数学浙江中考数学真题-7.pdf]\n",
       "21  1 files     v12      1                               [初中数学浙江中考数学真题-7.pdf]\n",
       "22  1 files     v11      1                               [初中数学浙江中考数学真题-7.pdf]\n",
       "23  1 files     v10      1                                         [江苏银行.pdf]\n",
       "24  1 files      v9      1             [02e2659dd680448fb13f69258972288c.pdf]\n",
       "25  1 files      v8      1                         [分级基金数据日报齐鲁证券20150108.pdf]\n",
       "26  1 files      v7      1                                         [劳务外包.pdf]\n",
       "27  1 files      v6      1  [洞察机构投资者动向挖掘优势基金品种基金量化专题研究报告之七机构投资者视角20140904....\n",
       "28  1 files      v5      1                                    [利率工程学_陈松男.pdf]\n",
       "29  1 files      v4      1                                    [利率工程学_陈松男.pdf]\n",
       "30  1 files      v3      1         [不确定性上升灵活至上2015年4月固定收益类基金投资策略20150402.pdf]\n",
       "31  1 files      v2      1                                         [劳务外包.pdf]\n",
       "32  1 files      v1      1  [洞察机构投资者动向挖掘优势基金品种基金量化专题研究报告之七机构投资者视角20140904....)"
      ]
     },
     "execution_count": 3,
     "metadata": {},
     "output_type": "execute_result"
    }
   ],
   "source": [
    "version_data = undatasio_obj.show_version()\n",
    "version_data"
   ]
  },
  {
   "cell_type": "markdown",
   "id": "0bd441a9-bb3f-4aca-82cd-8cd780b07e42",
   "metadata": {},
   "source": [
    "## You can use the get_result_type method of the **Undatasio** object to retrieve text information, images, tables, titles, or interline equation information from a PDF file."
   ]
  },
  {
   "cell_type": "code",
   "execution_count": 4,
   "id": "f39a63ed-6d93-4c38-af2d-0c9a9985fafb",
   "metadata": {
    "scrolled": true
   },
   "outputs": [
    {
     "name": "stdout",
     "output_type": "stream",
     "text": [
      "code=200 msg='success' data='https://backend.undatas.io/static/pdfParser/e8800333ea32432d86486494993378a1/v17/9f585e6a75064c27ac2a38e828168245/images//ef5fd22d77155c29b072836022db19170a3e5bc2b4c5265997ddc7b3146c0320.jpg\\n\\n一、选择题（本大题共10小题，每小题3分，共30分）\\n1．（3分）－3的相反数是（\\nA.3B.-3C.\\\\begin{array}{l}{{\\\\frac{1}{3}}}\\\\end{array}D.-\\n2.（3分）如图，直线a，b被直线c所截，那么\\\\angle1的同位角是（\\nhttps://backend.undatas.io/static/pdfParser/e8800333ea32432d86486494993378a1/v17/9f585e6a75064c27ac2a38e828168245/images//05d7df8aa7746c69119e040f8b67ef88eb290c9c2c7cea72278f1853d198124d.jpg\\n\\nA.\\\\angle2\\\\ \\\\mathtt{B}：3C.4D.5\\n3.（3分）根据衢州市统计局发布的统计数据显示，衢州市2017年全市生产总\\n值为138000000000元，按可比价格计算，比上年增长7.3\\\\%，数据138000000000\\n元用科学记数法表示为（\\nA.1.38\\\\!\\\\times\\\\!10^{10}元B.1.38\\\\!\\\\times\\\\!10^{11}元C.1.38\\\\!\\\\times\\\\!10^{12}元D.0.138\\\\!\\\\times\\\\!10^{12}元\\n4.（3分）由五个大小相同的正方体组成的几何体如图所示，那么它的主视图是\\nhttps://backend.undatas.io/static/pdfParser/e8800333ea32432d86486494993378a1/v17/9f585e6a75064c27ac2a38e828168245/images//c9b729f37517f9ced6ba73a90ce204706b9540907e83102005c8d9fc44c5eea2.jpg\\n\\nhttps://backend.undatas.io/static/pdfParser/e8800333ea32432d86486494993378a1/v17/9f585e6a75064c27ac2a38e828168245/images//17ad54ba3a7a3cf0a8525f48e851a3881b48924c7749f4cbb41eb2f49df5d538.jpg\\n\\n5.（3分）如图，点A，B，C在\\\\odot0上，\\\\angle\\\\mathsf{A C B}{=}35^{\\\\circ}，则ZAOB的度数是（\\nhttps://backend.undatas.io/static/pdfParser/e8800333ea32432d86486494993378a1/v17/9f585e6a75064c27ac2a38e828168245/images//9f3fb5468b4d711dfb044b54879d4c0ddc923d81b87f3a430b40d2b69d953b59.jpg\\n\\nA.75°B.70^{\\\\circ}C.65°D.35°\\n6．（3分）某班共有42名同学，其中有2名同学习惯用左手写字，其余同学都\\n\\\\frac{1}{21}\\\\frac{1}{42}D.1\\n7.（3分）不等式3{\\\\tt X}^{+2\\\\geq5}的解集是（\\nA.x≥1B.\\\\aleph{\\\\geq}\\\\frac{7}{3}C.\\\\scriptstyle x\\\\leqslant10.x≤-1\\n8.（3分）如图，将矩形ABCD沿GH折叠，点C落在点Q处，点D落在AB边\\n上的点E处，若\\\\angle\\\\mathsf{A G E}{=}32^{\\\\circ}，则GHC等于（）\\nhttps://backend.undatas.io/static/pdfParser/e8800333ea32432d86486494993378a1/v17/9f585e6a75064c27ac2a38e828168245/images//e9adb727b53967a87010a6ecffa4753ffcb02b2fd64bc4e94b4c565d80b5c11c.jpg\\n\\nA.112^{\\\\circ}\\\\mathsf{B}110^{\\\\circ}\\\\mathsf{C},108^{\\\\circ}\\\\mathbb{D}：106°\\n9.（3分）如图，AB是圆锥的母线，BC为底面半径，已知\\\\mathsf{B C=}\\\\mathsf{6c m}，圆锥的侧面\\n积为15πcm²，则sinABC的值为（）\\nhttps://backend.undatas.io/static/pdfParser/e8800333ea32432d86486494993378a1/v17/9f585e6a75064c27ac2a38e828168245/images//efad6377618d98359b46ace9f7fa9cd3c2b736f4596a0e21b9b48069b755c77c.jpg\\n\\n\\\\frac34B.\\\\frac{3}{5}C\\\\frac{4}{5}D.\\\\frac{5}{3}\\n\\n\\n10.（3分）如图，AC是_{\\\\odot}0的直径，弦BD\\\\botAO于E，连接BC，过点O作OF\\n\\n\\n\\\\botBC于F，若\\\\scriptstyle{80=80{\\\\mathrm{cm}}}\\\\mathsf{A E}{=}2\\\\mathsf{c m}，则OF的长度是（）\\nhttps://backend.undatas.io/static/pdfParser/e8800333ea32432d86486494993378a1/v17/9f585e6a75064c27ac2a38e828168245/images//1c7e910055237c949584f231cc8c4a1f82edc7c7cd2be0a60f3c6266e828a504.jpg\\n\\nA.3cmB.√6cmC.2.5cmD.√5cm\\n二、填空题（本大题共6小题，每小题4分，共24分）\\n11．（4分）分解因式：x^{2}\\\\textrm{-}9\\\\!\\\\!=\\n\\n\\n12.（4分）数据5，5，4，2，3，7，6的中位数是\\n\\n\\n13.（4分）如图，在\\\\triangleABC和\\\\triangleDEF中，点B，F，C，E在同一直线上，BF=CE，\\nAB//DE，请添加一个条件，使△ABC≤△DEF，这个添加的条件可以是（只\\n需写一个，不添加辅助线）.\\nhttps://backend.undatas.io/static/pdfParser/e8800333ea32432d86486494993378a1/v17/9f585e6a75064c27ac2a38e828168245/images//2c06b17f3ed095e05bdb9cd87e970f887b751ee991eea671a5da52f2f673847a.jpg\\n\\n14.（4分）星期天，小明上午8：00从家里出发，骑车到图书馆去借书，再骑\\n车回到家．他离家的距离y（千米）与时间t（分钟）的关系如图所示，则上午8：\\n45小明离家的距离是千米.\\nhttps://backend.undatas.io/static/pdfParser/e8800333ea32432d86486494993378a1/v17/9f585e6a75064c27ac2a38e828168245/images//0102ae26a36098ca71072369c3b477f6bea21f5ae29532579abdd3300070b774.jpg\\n\\n15.（4分）如图，点A，B是反比例函数\\\\scriptstyle{\\\\mathsf{Y}}={\\\\frac{\\\\mathrm{k}}{\\\\mathrm{x}}}\\\\times{>}0）图象上的两点，过点A，\\nB分别作AC\\\\bot x轴于点C，BD\\\\bot{}x轴于点D，连接OA，BC，已知点C（2，0)，\\n\\\\mathtt{B D}{=}2，S△BCD=3，则S△AOC=\\nhttps://backend.undatas.io/static/pdfParser/e8800333ea32432d86486494993378a1/v17/9f585e6a75064c27ac2a38e828168245/images//7e2607c8a7d3a6ee6189a418807c6765fbc6b38ccaf1cd6e14e2ada361fac890.jpg\\n\\n16．（4分）定义：在平面直角坐标系中，一个图形先向右平移a个单位，再绕\\n原点按顺时针方向旋转日角度，这样的图形运动叫作图形的v（a，0）变换，\\n如图，等边△ABC的边长为1，点A在第一象限，点B与原点O重合，点C在x\\n轴的正半轴上：\\\\triangle\\\\mathsf{A}_{1}\\\\mathsf{B}_{1}\\\\mathsf{C}_{1}就是△ABC经V（1，180^{\\\\circ}）变换后所得的图形.\\n若△ABC经v（1，180^{\\\\circ}）变换后得\\\\triangle\\\\mathsf{A}_{1}\\\\mathsf{B}_{1}\\\\mathsf{C}_{1}，\\\\triangle\\\\mathsf{A}_{1}\\\\mathsf{B}_{1}\\\\mathsf{C}_{1}经v（2，180^{\\\\circ}）变换后得\\n\\n\\n\\\\triangle\\\\mathsf{A}_{2}\\\\mathsf{B}_{2}\\\\mathsf{C}_{2}\\\\triangle\\\\mathsf{A}_{2}\\\\mathsf{B}_{2}\\\\mathsf{C}_{2}经v（3，180^{\\\\circ}）变换后得\\\\triangle\\\\mathsf{A}_{3}\\\\mathsf{B}_{3}\\\\mathsf{C}_{3}，依此类推..\\n\\n\\n\\\\triangle\\\\mathsf{A}_{\\\\mathfrak{n}\\\\,\\\\cdot\\\\,1}\\\\mathsf{B}_{\\\\mathfrak{n}\\\\,\\\\cdot\\\\,1}\\\\mathsf{C}_{\\\\mathfrak{n}\\\\,\\\\cdot\\\\,1}经v（n，180^{\\\\circ}）变换后得\\\\triangle\\\\mathsf{A}_{\\\\mathfrak{n}}\\\\mathsf{B}_{\\\\mathfrak{n}}\\\\mathsf{C}_{\\\\mathfrak{n}}，则点\\\\mathsf{A}_{1}的坐标是，点\\n\\n\\n\\\\mathsf{A}_{2018}的坐标是\\n\\n\\nhttps://backend.undatas.io/static/pdfParser/e8800333ea32432d86486494993378a1/v17/9f585e6a75064c27ac2a38e828168245/images//36c551b50a0cbdaeeaeb1237d55c5d1c7e70a8deef7a673c2b2915ca6dfce27f.jpg\\n\\n三、解答题（本大题共8小题，第17-19小题每小题6分，第20-21小题每\\n小题6分，第22-23小题每小题6分，第24小题12分，共66分）\\n17.（6分）计算：\\\\mid{\\\\bf-}\\\\;2\\\\mid{\\\\bf-}\\\\;\\\\sqrt{9}{\\\\bf+}2^{3}\\\\;{\\\\bf-}\\\\;\\\\mathrm{\\\\boldmath~\\\\left(~}1\\\\;{\\\\bf-}\\\\;\\\\pi\\\\right)\\\\;^{0}.\\n18．（6分）如图，在ABCD中，AC是对角线，BE\\\\perpAC，DF\\\\botAC，垂足分别为点\\nE，F，求证：\\\\mathsf{A E}{=}\\\\mathsf{C F}\\nhttps://backend.undatas.io/static/pdfParser/e8800333ea32432d86486494993378a1/v17/9f585e6a75064c27ac2a38e828168245/images//ecb55885bcf2b6ff00be96a01bb6f993efaebdb626cc470dec04617c4db8fce5.jpg\\n\\n19．（6分）有一张边长为a厘米的正方形桌面，因为实际需要，需将正方形边\\n长增加b厘米，木工师傅设计了如图所示的三种方案：\\nhttps://backend.undatas.io/static/pdfParser/e8800333ea32432d86486494993378a1/v17/9f585e6a75064c27ac2a38e828168245/images//2389a37d75d58581b358a5ddbf8b45ae1d6beb3b17a5c065278c51232e54517f.jpg\\n\\n小明发现这三种方案都能验证公式：\\\\mathsf{a^{2}+2a b+b^{2}=\\\\Gamma(\\\\,a+b\\\\,)\\\\,}2，\\n对于方案一，小明是这样验证的：\\na²+ab+ab+b²=a²+2ab+b²=（a+b）2\\n请你根据方案二、方案三，写出公式的验证过程，\\n方案二：\\n方案三：\\n20．（8分）“五·一\"期间，小明到小陈家所在的美丽乡村游玩，在村头A处小明\\n接到小陈发来的定位，发现小陈家C在自已的北偏东45^{\\\\circ}方向，于是沿河边笔直\\n的绿道1步行200米到达B处，这时定位显示小陈家C在自己的北偏东30^{\\\\circ}方向，\\n如图所示，根据以上信息和下面的对话，请你帮小明算一算他还需沿绿道继续直\\n走多少米才能到达桥头D处（精确到1米）（备用数据：\\\\scriptstyle{\\\\sqrt{2}}\\\\approx1.414，√3~1.732）\\nhttps://backend.undatas.io/static/pdfParser/e8800333ea32432d86486494993378a1/v17/9f585e6a75064c27ac2a38e828168245/images//70033d2462bc6c65da6bc7adacf5fb40f4845da52da88116d2895ed88c3f6678.jpg\\n\\n\\nhttps://backend.undatas.io/static/pdfParser/e8800333ea32432d86486494993378a1/v17/9f585e6a75064c27ac2a38e828168245/images//0855519f0f51530e9b26da93214205e66549dc99bf68aa610550341cd1c5c6ab.jpg\\n\\n（1）被随机抽取的学生共有多少名？\\n（2）在扇形统计图中，求活动数为3项的学生所对应的扇形圆心角的度数，并\\n补全折线统计图；\\n（3）该校共有学生2000人，估计其中参与了4项或5项活动的学生共有多少人？\\n22.（10分）如图，已知AB为O直径，AC是O的切线，连接BC交OO于点\\nF，取BF的中点D，连接AD交BC于点E，过点E作EH⊥AB于H.\\n（1）求证：△HBE△ABC；\\n（2）若\\\\mathsf{C F}{=}4\\\\mathsf{B F}{=}5，求AC和EH的长\\nhttps://backend.undatas.io/static/pdfParser/e8800333ea32432d86486494993378a1/v17/9f585e6a75064c27ac2a38e828168245/images//144df4bec75e7cb44264b6822c826f3b5e2264ec9515f9bf8c3c2473183521ba.jpg\\n\\n23．（10分）某游乐园有一个直径为16米的圆形喷水池，喷水池的周边有一圈\\n喷水头，喷出的水柱为抛物线，在距水池中心3米处达到最高，高度为5米，且\\n各方向喷出的水柱恰好在喷水池中心的装饰物处汇合.如图所示，以水平方向为\\n\\n\\n\\\\times轴，喷水池中心为原点建立直角坐标系，\\n（1）求水柱所在抛物线（第一象限部分）的函数表达式；\\n（2）王师傅在喷水池内维修设备期间，喷水管意外喷水，为了不被淋湿，身高\\n\\n\\n1.8米的王师傅站立时必须在离水池中心多少米以内？\\n（3）经检修评估，游乐园决定对喷水设施做如下设计改进：在喷出水柱的形状\\n不变的前提下，把水池的直径扩大到32米，各方向喷出的水柱仍在喷水池中心\\n保留的原装饰物（高度不变）处汇合，请探究扩建改造后喷水池水柱的最大高度，\\nhttps://backend.undatas.io/static/pdfParser/e8800333ea32432d86486494993378a1/v17/9f585e6a75064c27ac2a38e828168245/images//cefe2f1bdefc0f52eefaadbf1bd77c2d72ac48648494383ab3034701f7983694.jpg\\n\\n24.（12分）如图，Rt△OAB的直角边OA在\\\\mathsf{X}轴上，顶点B的坐标为（6，8)，\\n直线CD交AB于点D（6，3)，交\\\\times轴于点C（12，0).\\n（1）求直线CD的函数表达式：\\n（2）动点P在x轴上从点（－10，0）出发，以每秒1个单位的速度向\\\\times轴正方\\n向运动，过点P作直线I垂直于\\\\mathsf{x}轴，设运动时间为t\\n\\\\textcircled{\\\\scriptsize{1}}点P在运动过程中，是否存在某个位置，使得之PDA=ZB？若存在，请求出点\\nP的坐标；若不存在，请说明理由；\\n\\\\circledcirc请探索当t为何值时，在直线I上存在点M，在直线CD上存在点Q，使得以\\nOB为一边，O，B，M，Q为顶点的四边形为菱形，并求出此时t的值，\\nhttps://backend.undatas.io/static/pdfParser/e8800333ea32432d86486494993378a1/v17/9f585e6a75064c27ac2a38e828168245/images//9840abf08755e11bc15f998b3db1db84f9bb33aa5fb85574542221445f94b655.jpg\\n\\n'\n"
     ]
    }
   ],
   "source": [
    "result = undatasio_obj.get_result_type(\n",
    "    type_info=['title', 'table', 'text', 'image', 'interline_equation'],\n",
    "    file_name='初中数学浙江中考数学真题-7.pdf',\n",
    "    version='v17'\n",
    ")\n",
    "print(result)"
   ]
  },
  {
   "cell_type": "markdown",
   "id": "73619d47-38e5-44d2-9ae8-2efebf347653",
   "metadata": {},
   "source": [
    "## Install the OpenAI Python SDK, which will be used later to call the Qwen model."
   ]
  },
  {
   "cell_type": "code",
   "execution_count": 5,
   "id": "5998ab78-b619-4397-8fa0-8e9a6e54c2c3",
   "metadata": {},
   "outputs": [
    {
     "name": "stdout",
     "output_type": "stream",
     "text": [
      "Requirement already satisfied: openai in /Users/stay/anaconda3/envs/undatasio/lib/python3.10/site-packages (1.53.0)\n",
      "Requirement already satisfied: anyio<5,>=3.5.0 in /Users/stay/anaconda3/envs/undatasio/lib/python3.10/site-packages (from openai) (4.6.0)\n",
      "Requirement already satisfied: distro<2,>=1.7.0 in /Users/stay/anaconda3/envs/undatasio/lib/python3.10/site-packages (from openai) (1.9.0)\n",
      "Requirement already satisfied: httpx<1,>=0.23.0 in /Users/stay/anaconda3/envs/undatasio/lib/python3.10/site-packages (from openai) (0.27.2)\n",
      "Requirement already satisfied: jiter<1,>=0.4.0 in /Users/stay/anaconda3/envs/undatasio/lib/python3.10/site-packages (from openai) (0.6.1)\n",
      "Requirement already satisfied: pydantic<3,>=1.9.0 in /Users/stay/anaconda3/envs/undatasio/lib/python3.10/site-packages (from openai) (2.9.2)\n",
      "Requirement already satisfied: sniffio in /Users/stay/anaconda3/envs/undatasio/lib/python3.10/site-packages (from openai) (1.3.1)\n",
      "Requirement already satisfied: tqdm>4 in /Users/stay/anaconda3/envs/undatasio/lib/python3.10/site-packages (from openai) (4.66.5)\n",
      "Requirement already satisfied: typing-extensions<5,>=4.11 in /Users/stay/anaconda3/envs/undatasio/lib/python3.10/site-packages (from openai) (4.12.2)\n",
      "Requirement already satisfied: idna>=2.8 in /Users/stay/anaconda3/envs/undatasio/lib/python3.10/site-packages (from anyio<5,>=3.5.0->openai) (3.10)\n",
      "Requirement already satisfied: exceptiongroup>=1.0.2 in /Users/stay/anaconda3/envs/undatasio/lib/python3.10/site-packages (from anyio<5,>=3.5.0->openai) (1.2.2)\n",
      "Requirement already satisfied: certifi in /Users/stay/anaconda3/envs/undatasio/lib/python3.10/site-packages (from httpx<1,>=0.23.0->openai) (2024.8.30)\n",
      "Requirement already satisfied: httpcore==1.* in /Users/stay/anaconda3/envs/undatasio/lib/python3.10/site-packages (from httpx<1,>=0.23.0->openai) (1.0.6)\n",
      "Requirement already satisfied: h11<0.15,>=0.13 in /Users/stay/anaconda3/envs/undatasio/lib/python3.10/site-packages (from httpcore==1.*->httpx<1,>=0.23.0->openai) (0.14.0)\n",
      "Requirement already satisfied: annotated-types>=0.6.0 in /Users/stay/anaconda3/envs/undatasio/lib/python3.10/site-packages (from pydantic<3,>=1.9.0->openai) (0.7.0)\n",
      "Requirement already satisfied: pydantic-core==2.23.4 in /Users/stay/anaconda3/envs/undatasio/lib/python3.10/site-packages (from pydantic<3,>=1.9.0->openai) (2.23.4)\n"
     ]
    }
   ],
   "source": [
    "!pip install -U openai"
   ]
  },
  {
   "cell_type": "markdown",
   "id": "690feeb6-9bd1-4dcd-8d8d-8f3b26988679",
   "metadata": {},
   "source": [
    "## Initialize the OpenAI object. You need to apply for an Alibaba Cloud API key yourself."
   ]
  },
  {
   "cell_type": "code",
   "execution_count": 6,
   "id": "a691ab95-0534-451f-97f4-21512085007c",
   "metadata": {},
   "outputs": [],
   "source": [
    "from openai import OpenAI\n",
    "\n",
    "client = OpenAI(\n",
    "    # api_key=os.getenv(\"DASHSCOPE_API_KEY\"), \n",
    "    api_key='sk-0bfb315aa6e8424998099ca0be52cfee',\n",
    "    base_url=\"https://dashscope.aliyuncs.com/compatible-mode/v1\"\n",
    ")"
   ]
  },
  {
   "cell_type": "markdown",
   "id": "c505ba34-461f-497d-be15-6c32c57c216d",
   "metadata": {},
   "source": [
    "## Use the Bailian Qwen-max model and set the system and user prompts."
   ]
  },
  {
   "cell_type": "code",
   "execution_count": 7,
   "id": "c032846f-33c3-463c-94e4-1f90a316b85f",
   "metadata": {},
   "outputs": [],
   "source": [
    "completion = client.chat.completions.create(\n",
    "    model=\"qwen-max\",\n",
    "    messages=[\n",
    "        {'role': 'system', 'content': '你是一位文本分析师，我会给你一份试卷，你需要根据用户选择的题目，将这个题目的文本信息返回。注意只返回用户提问的问题文本信息，其他的不给予返回。 试卷：%s' % (result.data, )},\n",
    "        {'role': 'user', 'content': '请帮我找到“二填空题的11小题”'}],\n",
    "    )\n",
    "    \n",
    "max_result = completion.model_dump_json()"
   ]
  },
  {
   "cell_type": "markdown",
   "id": "27597f31-e693-40fb-ab04-d8e7383378d4",
   "metadata": {},
   "source": [
    "## Use the **json** module to serialize the object returned by the Qwen-max model and extract the math problem mentioned in the user prompt."
   ]
  },
  {
   "cell_type": "code",
   "execution_count": 8,
   "id": "64a68913-dd9d-4492-adb1-78f45c171463",
   "metadata": {},
   "outputs": [
    {
     "data": {
      "text/plain": [
       "'11．（4分）分解因式：\\\\(x^{2}-9\\\\)'"
      ]
     },
     "execution_count": 8,
     "metadata": {},
     "output_type": "execute_result"
    }
   ],
   "source": [
    "import json\n",
    "\n",
    "title_text = json.loads(max_result)['choices'][0]['message']['content']\n",
    "title_text"
   ]
  },
  {
   "cell_type": "markdown",
   "id": "eace5a1f-2cce-41d2-a5ca-28d91e7d878f",
   "metadata": {},
   "source": [
    "## Use the OpenAI object to query the **qwen2.5-math-72b-instruct** model with the extracted math problem and serialize the response using json to get the final answer."
   ]
  },
  {
   "cell_type": "code",
   "execution_count": 9,
   "id": "a0f46fc1-e108-45da-b50e-a24f3aaa4a42",
   "metadata": {},
   "outputs": [
    {
     "name": "stdout",
     "output_type": "stream",
     "text": [
      "要分解因式 \\(x^2 - 9\\)，我们可以使用平方差公式。平方差公式表明 \\(a^2 - b^2 = (a - b)(a + b)\\)。\n",
      "\n",
      "在这个例子中，我们可以确定 \\(a = x\\) 和 \\(b = 3\\)，因为 \\(x^2 = (x)^2\\) 和 \\(9 = (3)^2\\)。应用平方差公式，我们得到：\n",
      "\\[\n",
      "x^2 - 9 = (x - 3)(x + 3)\n",
      "\\]\n",
      "\n",
      "因此，\\(x^2 - 9\\) 的分解因式是 \\(\\boxed{(x-3)(x+3)}\\)。\n"
     ]
    }
   ],
   "source": [
    "completion = client.chat.completions.create(\n",
    "    model=\"qwen2.5-math-72b-instruct\",\n",
    "    messages=[\n",
    "            {'role': 'system', 'content': '你是一位数学老师，请逐步推理，并在最终答案中使用{}表示。按照markdown的格式返回文本。'},\n",
    "        {'role': 'user', 'content': '请解答问题：%s' % (title_text, )}],\n",
    "    )\n",
    "    \n",
    "math_result = completion.model_dump_json()\n",
    "result = json.loads(math_result)['choices'][0]['message']['content']\n",
    "print(result)"
   ]
  },
  {
   "cell_type": "code",
   "execution_count": null,
   "id": "5374c037-176b-418d-a966-ab110c0de6a3",
   "metadata": {},
   "outputs": [],
   "source": []
  }
 ],
 "metadata": {
  "kernelspec": {
   "display_name": "Python 3 (ipykernel)",
   "language": "python",
   "name": "python3"
  },
  "language_info": {
   "codemirror_mode": {
    "name": "ipython",
    "version": 3
   },
   "file_extension": ".py",
   "mimetype": "text/x-python",
   "name": "python",
   "nbconvert_exporter": "python",
   "pygments_lexer": "ipython3",
   "version": "3.10.9"
  }
 },
 "nbformat": 4,
 "nbformat_minor": 5
}
