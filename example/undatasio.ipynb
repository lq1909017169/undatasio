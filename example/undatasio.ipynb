{
 "cells": [
  {
   "cell_type": "markdown",
   "id": "96bb35a7-cc9e-4ad3-812d-18d369e42005",
   "metadata": {},
   "source": []
  },
  {
   "cell_type": "markdown",
   "id": "8009cac8-50a8-4446-a2bb-0bf35cb33492",
   "metadata": {},
   "source": [
    "![](example_content/undatasio_example.png)"
   ]
  },
  {
   "cell_type": "code",
   "execution_count": 24,
   "id": "6394bea1-40b4-406b-b1d8-99ea24b54551",
   "metadata": {},
   "outputs": [],
   "source": [
    "from dotenv import load_dotenv\n",
    "from openai import OpenAI\n",
    "import requests\n",
    "import json\n",
    "import os\n",
    "\n",
    "\n",
    "# 初始化客户端\n",
    "load_dotenv('.env')\n",
    "client = OpenAI(api_key=os.getenv(\"OPENAI_API_KEY\"))"
   ]
  },
  {
   "cell_type": "code",
   "execution_count": 22,
   "id": "bea7e05d-cea5-4b5a-990c-24f29aabc783",
   "metadata": {},
   "outputs": [],
   "source": [
    "def process_customer_inquiry(email_text: str) -> dict:\n",
    "    \"\"\"\n",
    "    Extract structured data from a customer inquiry email using OpenAI.\n",
    "    \"\"\"\n",
    "    try:\n",
    "        prompt = f\"\"\"\n",
    "        Based on the customer inquiry email below, extract the relevant details and return them as a JSON object. The JSON must have the following fields:\n",
    "        1. customer_name: The full name of the customer.\n",
    "        2. project_description: A brief summary of the project or question being asked.\n",
    "        3. timeline: The stated timeline or deadline, if any.\n",
    "        4. budget: The budget the customer has allocated, if mentioned.\n",
    "        5. specific_requests: A list of any specific requests or questions from the customer.\n",
    "        6. contact_email: The customer's email address.\n",
    "        7. priority_level: High, Medium, or Low based on urgency indicated in the email.\n",
    "        \n",
    "        Customer inquiry email:\n",
    "        ---\n",
    "        {email_text}\n",
    "        ---\n",
    "        \n",
    "        Provide the result in valid JSON format.\n",
    "        \"\"\"\n",
    "        \n",
    "        completion = client.chat.completions.create( \n",
    "           model=\"gpt-4o\", \n",
    "           messages=[{\"role\": \"user\", \"content\": prompt}], \n",
    "           response_format={\"type\": \"json_object\"} \n",
    "        ) \n",
    "        \n",
    "        return json.loads(completion.choices[0].message.content)\n",
    "    except Exception as e:\n",
    "        print(e)\n",
    "        return f\"{e}\""
   ]
  },
  {
   "cell_type": "code",
   "execution_count": 26,
   "id": "3b285842-3e17-4d63-8e5b-5b58a9021038",
   "metadata": {},
   "outputs": [],
   "source": [
    "def send_to_crm(data: dict):\n",
    "    \"\"\"\n",
    "    Sends structured customer inquiry data to a CRM as a lead.\n",
    "    \"\"\"\n",
    "    # Prepare the payload for the CRM\n",
    "    lead_payload = {\n",
    "        \"Name\": data.get(\"customer_name\", \"Unknown\"),\n",
    "        \"Company\": \"Unknown\",  # Placeholder; update logic to extract company if needed\n",
    "        \"Email\": data.get(\"contact_email\", \"\"),\n",
    "        \"Phone\": data.get(\"phone_number\", None),  # Add support for phone if included\n",
    "        \"Description\": data.get(\"project_description\", \"No description provided.\"),\n",
    "        \"Timeline\": data.get(\"timeline\", \"Not specified\"),\n",
    "        \"Budget\": data.get(\"budget\", \"Not specified\"),\n",
    "        \"Priority\": data.get(\"priority_level\", \"Low\"),\n",
    "        \"Specific Requests\": \", \".join(data.get(\"specific_requests\", []))\n",
    "    }\n",
    "\n",
    "    try:\n",
    "        # Make an API call to the CRM\n",
    "        \n",
    "        # response = requests.post(\n",
    "        #     CRM_API_URL,  # The URL for the CRM endpoint\n",
    "        #     headers={\"Authorization\": f\"Bearer {CRM_API_KEY}\"},  # Add API authentication\n",
    "        #     json=lead_payload  # Send the payload as JSON\n",
    "        # )\n",
    "        # response.raise_for_status()  # Raise exception for HTTP errors\n",
    "\n",
    "        # Parse and return the CRM response\n",
    "        # crm_response = response.json()\n",
    "        return {\n",
    "            \"status\": \"success\",\n",
    "            # \"crm_id\": crm_response.get(\"id\", \"Unknown\"),\n",
    "            # \"message\": crm_response.get(\"message\", \"Lead created successfully.\")\n",
    "            \"crm_id\": \"Unknown\",\n",
    "            \"message\": \"Lead created successfully.\"\n",
    "        }\n",
    "    except requests.exceptions.RequestException as e:\n",
    "        # Handle API request errors\n",
    "        return {\"status\": \"error\", \"message\": str(e)}"
   ]
  },
  {
   "cell_type": "code",
   "execution_count": 27,
   "id": "9498f2fa-4e7b-450c-967f-080be597fbd3",
   "metadata": {},
   "outputs": [
    {
     "name": "stdout",
     "output_type": "stream",
     "text": [
      "{'customer_name': 'Samantha Allyman', 'project_description': 'Improving our chatbot with agents for multi-step tasks.', 'timeline': 'Within the next three months', 'budget': '$15,000', 'specific_requests': ['Please let me know if this is possible.'], 'contact_email': 'samantha.allyman@example.com', 'priority_level': 'Medium'}\n"
     ]
    }
   ],
   "source": [
    "email_text = \"\"\"\n",
    "Hi, I am Samantha Allyman and would like help improving our \n",
    "chatbot with agents for multi-step tasks. \n",
    "We need this completed within the next three months \n",
    "and have a budget of $15,000. \n",
    "Please let me know if this is possible.\n",
    "Regards,\n",
    "Samantha Allyman\n",
    "(samantha.allyman@example.com)\n",
    "\"\"\"\n",
    "\n",
    "# FUNCTION 1: Process the email text\n",
    "inquiry_data = process_customer_inquiry(email_text)\n",
    "\n",
    "print(inquiry_data)\n",
    "# FUNCTION 2: Now pass the structured data to the CRM function\n",
    "crm_response = send_to_crm(inquiry_data)"
   ]
  },
  {
   "cell_type": "code",
   "execution_count": null,
   "id": "8df17ac0-bea7-4456-9817-b344f6086d6f",
   "metadata": {},
   "outputs": [],
   "source": []
  },
  {
   "cell_type": "code",
   "execution_count": null,
   "id": "8a95fcb8-6f22-4a57-81b2-9a7d3ae7ae1f",
   "metadata": {},
   "outputs": [],
   "source": []
  },
  {
   "cell_type": "code",
   "execution_count": null,
   "id": "8ddf583d-3b54-4a61-b2e0-69c7d3375b49",
   "metadata": {},
   "outputs": [],
   "source": []
  },
  {
   "cell_type": "code",
   "execution_count": null,
   "id": "ab3e6a38-385c-4270-80f0-624c64ee8210",
   "metadata": {},
   "outputs": [],
   "source": []
  },
  {
   "cell_type": "code",
   "execution_count": null,
   "id": "81970e71-7894-4962-a1e5-3ba448c49f4a",
   "metadata": {},
   "outputs": [],
   "source": []
  }
 ],
 "metadata": {
  "kernelspec": {
   "display_name": "Python 3 (ipykernel)",
   "language": "python",
   "name": "python3"
  },
  "language_info": {
   "codemirror_mode": {
    "name": "ipython",
    "version": 3
   },
   "file_extension": ".py",
   "mimetype": "text/x-python",
   "name": "python",
   "nbconvert_exporter": "python",
   "pygments_lexer": "ipython3",
   "version": "3.10.15"
  }
 },
 "nbformat": 4,
 "nbformat_minor": 5
}
