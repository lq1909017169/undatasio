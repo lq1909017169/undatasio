{
 "cells": [
  {
   "cell_type": "code",
   "execution_count": 1,
   "id": "556d94a6-31b0-4976-bbcc-ebab7cc0d4ce",
   "metadata": {},
   "outputs": [
    {
     "name": "stdout",
     "output_type": "stream",
     "text": [
      "Requirement already satisfied: undatasio in /Users/stay/anaconda3/envs/undatasio/lib/python3.10/site-packages (0.1.7.1)\n",
      "Requirement already satisfied: requests~=2.32.3 in /Users/stay/anaconda3/envs/undatasio/lib/python3.10/site-packages (from undatasio) (2.32.3)\n",
      "Requirement already satisfied: requests-toolbelt==1.0.0 in /Users/stay/anaconda3/envs/undatasio/lib/python3.10/site-packages (from undatasio) (1.0.0)\n",
      "Requirement already satisfied: llama-index in /Users/stay/anaconda3/envs/undatasio/lib/python3.10/site-packages (from undatasio) (0.11.17)\n",
      "Requirement already satisfied: langchain-core in /Users/stay/anaconda3/envs/undatasio/lib/python3.10/site-packages (from undatasio) (0.3.10)\n",
      "Requirement already satisfied: charset-normalizer<4,>=2 in /Users/stay/anaconda3/envs/undatasio/lib/python3.10/site-packages (from requests~=2.32.3->undatasio) (3.3.2)\n",
      "Requirement already satisfied: idna<4,>=2.5 in /Users/stay/anaconda3/envs/undatasio/lib/python3.10/site-packages (from requests~=2.32.3->undatasio) (3.10)\n",
      "Requirement already satisfied: urllib3<3,>=1.21.1 in /Users/stay/anaconda3/envs/undatasio/lib/python3.10/site-packages (from requests~=2.32.3->undatasio) (2.2.3)\n",
      "Requirement already satisfied: certifi>=2017.4.17 in /Users/stay/anaconda3/envs/undatasio/lib/python3.10/site-packages (from requests~=2.32.3->undatasio) (2024.8.30)\n",
      "Requirement already satisfied: PyYAML>=5.3 in /Users/stay/anaconda3/envs/undatasio/lib/python3.10/site-packages (from langchain-core->undatasio) (6.0.2)\n",
      "Requirement already satisfied: jsonpatch<2.0,>=1.33 in /Users/stay/anaconda3/envs/undatasio/lib/python3.10/site-packages (from langchain-core->undatasio) (1.33)\n",
      "Requirement already satisfied: langsmith<0.2.0,>=0.1.125 in /Users/stay/anaconda3/envs/undatasio/lib/python3.10/site-packages (from langchain-core->undatasio) (0.1.133)\n",
      "Requirement already satisfied: packaging<25,>=23.2 in /Users/stay/anaconda3/envs/undatasio/lib/python3.10/site-packages (from langchain-core->undatasio) (24.1)\n",
      "Requirement already satisfied: pydantic<3.0.0,>=2.5.2 in /Users/stay/anaconda3/envs/undatasio/lib/python3.10/site-packages (from langchain-core->undatasio) (2.9.2)\n",
      "Requirement already satisfied: tenacity!=8.4.0,<9.0.0,>=8.1.0 in /Users/stay/anaconda3/envs/undatasio/lib/python3.10/site-packages (from langchain-core->undatasio) (8.5.0)\n",
      "Requirement already satisfied: typing-extensions>=4.7 in /Users/stay/anaconda3/envs/undatasio/lib/python3.10/site-packages (from langchain-core->undatasio) (4.12.2)\n",
      "Requirement already satisfied: llama-index-agent-openai<0.4.0,>=0.3.4 in /Users/stay/anaconda3/envs/undatasio/lib/python3.10/site-packages (from llama-index->undatasio) (0.3.4)\n",
      "Requirement already satisfied: llama-index-cli<0.4.0,>=0.3.1 in /Users/stay/anaconda3/envs/undatasio/lib/python3.10/site-packages (from llama-index->undatasio) (0.3.1)\n",
      "Requirement already satisfied: llama-index-core<0.12.0,>=0.11.17 in /Users/stay/anaconda3/envs/undatasio/lib/python3.10/site-packages (from llama-index->undatasio) (0.11.17)\n",
      "Requirement already satisfied: llama-index-embeddings-openai<0.3.0,>=0.2.4 in /Users/stay/anaconda3/envs/undatasio/lib/python3.10/site-packages (from llama-index->undatasio) (0.2.5)\n",
      "Requirement already satisfied: llama-index-indices-managed-llama-cloud>=0.3.0 in /Users/stay/anaconda3/envs/undatasio/lib/python3.10/site-packages (from llama-index->undatasio) (0.4.0)\n",
      "Requirement already satisfied: llama-index-legacy<0.10.0,>=0.9.48 in /Users/stay/anaconda3/envs/undatasio/lib/python3.10/site-packages (from llama-index->undatasio) (0.9.48.post3)\n",
      "Requirement already satisfied: llama-index-llms-openai<0.3.0,>=0.2.10 in /Users/stay/anaconda3/envs/undatasio/lib/python3.10/site-packages (from llama-index->undatasio) (0.2.13)\n",
      "Requirement already satisfied: llama-index-multi-modal-llms-openai<0.3.0,>=0.2.0 in /Users/stay/anaconda3/envs/undatasio/lib/python3.10/site-packages (from llama-index->undatasio) (0.2.2)\n",
      "Requirement already satisfied: llama-index-program-openai<0.3.0,>=0.2.0 in /Users/stay/anaconda3/envs/undatasio/lib/python3.10/site-packages (from llama-index->undatasio) (0.2.0)\n",
      "Requirement already satisfied: llama-index-question-gen-openai<0.3.0,>=0.2.0 in /Users/stay/anaconda3/envs/undatasio/lib/python3.10/site-packages (from llama-index->undatasio) (0.2.0)\n",
      "Requirement already satisfied: llama-index-readers-file<0.3.0,>=0.2.0 in /Users/stay/anaconda3/envs/undatasio/lib/python3.10/site-packages (from llama-index->undatasio) (0.2.2)\n",
      "Requirement already satisfied: llama-index-readers-llama-parse>=0.3.0 in /Users/stay/anaconda3/envs/undatasio/lib/python3.10/site-packages (from llama-index->undatasio) (0.3.0)\n",
      "Requirement already satisfied: nltk>3.8.1 in /Users/stay/anaconda3/envs/undatasio/lib/python3.10/site-packages (from llama-index->undatasio) (3.9.1)\n",
      "Requirement already satisfied: jsonpointer>=1.9 in /Users/stay/anaconda3/envs/undatasio/lib/python3.10/site-packages (from jsonpatch<2.0,>=1.33->langchain-core->undatasio) (3.0.0)\n",
      "Requirement already satisfied: httpx<1,>=0.23.0 in /Users/stay/anaconda3/envs/undatasio/lib/python3.10/site-packages (from langsmith<0.2.0,>=0.1.125->langchain-core->undatasio) (0.27.2)\n",
      "Requirement already satisfied: orjson<4.0.0,>=3.9.14 in /Users/stay/anaconda3/envs/undatasio/lib/python3.10/site-packages (from langsmith<0.2.0,>=0.1.125->langchain-core->undatasio) (3.10.7)\n",
      "Requirement already satisfied: openai>=1.14.0 in /Users/stay/anaconda3/envs/undatasio/lib/python3.10/site-packages (from llama-index-agent-openai<0.4.0,>=0.3.4->llama-index->undatasio) (1.51.2)\n",
      "Requirement already satisfied: SQLAlchemy>=1.4.49 in /Users/stay/anaconda3/envs/undatasio/lib/python3.10/site-packages (from SQLAlchemy[asyncio]>=1.4.49->llama-index-core<0.12.0,>=0.11.17->llama-index->undatasio) (2.0.35)\n",
      "Requirement already satisfied: aiohttp<4.0.0,>=3.8.6 in /Users/stay/anaconda3/envs/undatasio/lib/python3.10/site-packages (from llama-index-core<0.12.0,>=0.11.17->llama-index->undatasio) (3.10.9)\n",
      "Requirement already satisfied: dataclasses-json in /Users/stay/anaconda3/envs/undatasio/lib/python3.10/site-packages (from llama-index-core<0.12.0,>=0.11.17->llama-index->undatasio) (0.6.7)\n",
      "Requirement already satisfied: deprecated>=1.2.9.3 in /Users/stay/anaconda3/envs/undatasio/lib/python3.10/site-packages (from llama-index-core<0.12.0,>=0.11.17->llama-index->undatasio) (1.2.14)\n",
      "Requirement already satisfied: dirtyjson<2.0.0,>=1.0.8 in /Users/stay/anaconda3/envs/undatasio/lib/python3.10/site-packages (from llama-index-core<0.12.0,>=0.11.17->llama-index->undatasio) (1.0.8)\n",
      "Requirement already satisfied: fsspec>=2023.5.0 in /Users/stay/anaconda3/envs/undatasio/lib/python3.10/site-packages (from llama-index-core<0.12.0,>=0.11.17->llama-index->undatasio) (2024.9.0)\n",
      "Requirement already satisfied: nest-asyncio<2.0.0,>=1.5.8 in /Users/stay/anaconda3/envs/undatasio/lib/python3.10/site-packages (from llama-index-core<0.12.0,>=0.11.17->llama-index->undatasio) (1.6.0)\n",
      "Requirement already satisfied: networkx>=3.0 in /Users/stay/anaconda3/envs/undatasio/lib/python3.10/site-packages (from llama-index-core<0.12.0,>=0.11.17->llama-index->undatasio) (3.3)\n",
      "Requirement already satisfied: numpy<2.0.0 in /Users/stay/anaconda3/envs/undatasio/lib/python3.10/site-packages (from llama-index-core<0.12.0,>=0.11.17->llama-index->undatasio) (1.26.4)\n",
      "Requirement already satisfied: pillow>=9.0.0 in /Users/stay/anaconda3/envs/undatasio/lib/python3.10/site-packages (from llama-index-core<0.12.0,>=0.11.17->llama-index->undatasio) (10.4.0)\n",
      "Requirement already satisfied: tiktoken>=0.3.3 in /Users/stay/anaconda3/envs/undatasio/lib/python3.10/site-packages (from llama-index-core<0.12.0,>=0.11.17->llama-index->undatasio) (0.8.0)\n",
      "Requirement already satisfied: tqdm<5.0.0,>=4.66.1 in /Users/stay/anaconda3/envs/undatasio/lib/python3.10/site-packages (from llama-index-core<0.12.0,>=0.11.17->llama-index->undatasio) (4.66.5)\n",
      "Requirement already satisfied: typing-inspect>=0.8.0 in /Users/stay/anaconda3/envs/undatasio/lib/python3.10/site-packages (from llama-index-core<0.12.0,>=0.11.17->llama-index->undatasio) (0.9.0)\n",
      "Requirement already satisfied: wrapt in /Users/stay/anaconda3/envs/undatasio/lib/python3.10/site-packages (from llama-index-core<0.12.0,>=0.11.17->llama-index->undatasio) (1.16.0)\n",
      "Requirement already satisfied: llama-cloud>=0.0.11 in /Users/stay/anaconda3/envs/undatasio/lib/python3.10/site-packages (from llama-index-indices-managed-llama-cloud>=0.3.0->llama-index->undatasio) (0.1.2)\n",
      "Requirement already satisfied: pandas in /Users/stay/anaconda3/envs/undatasio/lib/python3.10/site-packages (from llama-index-legacy<0.10.0,>=0.9.48->llama-index->undatasio) (2.2.3)\n",
      "Requirement already satisfied: beautifulsoup4<5.0.0,>=4.12.3 in /Users/stay/anaconda3/envs/undatasio/lib/python3.10/site-packages (from llama-index-readers-file<0.3.0,>=0.2.0->llama-index->undatasio) (4.12.3)\n",
      "Requirement already satisfied: pypdf<5.0.0,>=4.0.1 in /Users/stay/anaconda3/envs/undatasio/lib/python3.10/site-packages (from llama-index-readers-file<0.3.0,>=0.2.0->llama-index->undatasio) (4.3.1)\n",
      "Requirement already satisfied: striprtf<0.0.27,>=0.0.26 in /Users/stay/anaconda3/envs/undatasio/lib/python3.10/site-packages (from llama-index-readers-file<0.3.0,>=0.2.0->llama-index->undatasio) (0.0.26)\n",
      "Requirement already satisfied: llama-parse>=0.5.0 in /Users/stay/anaconda3/envs/undatasio/lib/python3.10/site-packages (from llama-index-readers-llama-parse>=0.3.0->llama-index->undatasio) (0.5.7)\n",
      "Requirement already satisfied: click in /Users/stay/anaconda3/envs/undatasio/lib/python3.10/site-packages (from nltk>3.8.1->llama-index->undatasio) (8.1.7)\n",
      "Requirement already satisfied: joblib in /Users/stay/anaconda3/envs/undatasio/lib/python3.10/site-packages (from nltk>3.8.1->llama-index->undatasio) (1.4.2)\n",
      "Requirement already satisfied: regex>=2021.8.3 in /Users/stay/anaconda3/envs/undatasio/lib/python3.10/site-packages (from nltk>3.8.1->llama-index->undatasio) (2024.9.11)\n",
      "Requirement already satisfied: annotated-types>=0.6.0 in /Users/stay/anaconda3/envs/undatasio/lib/python3.10/site-packages (from pydantic<3.0.0,>=2.5.2->langchain-core->undatasio) (0.7.0)\n",
      "Requirement already satisfied: pydantic-core==2.23.4 in /Users/stay/anaconda3/envs/undatasio/lib/python3.10/site-packages (from pydantic<3.0.0,>=2.5.2->langchain-core->undatasio) (2.23.4)\n",
      "Requirement already satisfied: aiohappyeyeballs>=2.3.0 in /Users/stay/anaconda3/envs/undatasio/lib/python3.10/site-packages (from aiohttp<4.0.0,>=3.8.6->llama-index-core<0.12.0,>=0.11.17->llama-index->undatasio) (2.4.3)\n",
      "Requirement already satisfied: aiosignal>=1.1.2 in /Users/stay/anaconda3/envs/undatasio/lib/python3.10/site-packages (from aiohttp<4.0.0,>=3.8.6->llama-index-core<0.12.0,>=0.11.17->llama-index->undatasio) (1.3.1)\n",
      "Requirement already satisfied: attrs>=17.3.0 in /Users/stay/anaconda3/envs/undatasio/lib/python3.10/site-packages (from aiohttp<4.0.0,>=3.8.6->llama-index-core<0.12.0,>=0.11.17->llama-index->undatasio) (24.2.0)\n",
      "Requirement already satisfied: frozenlist>=1.1.1 in /Users/stay/anaconda3/envs/undatasio/lib/python3.10/site-packages (from aiohttp<4.0.0,>=3.8.6->llama-index-core<0.12.0,>=0.11.17->llama-index->undatasio) (1.4.1)\n",
      "Requirement already satisfied: multidict<7.0,>=4.5 in /Users/stay/anaconda3/envs/undatasio/lib/python3.10/site-packages (from aiohttp<4.0.0,>=3.8.6->llama-index-core<0.12.0,>=0.11.17->llama-index->undatasio) (6.1.0)\n",
      "Requirement already satisfied: yarl<2.0,>=1.12.0 in /Users/stay/anaconda3/envs/undatasio/lib/python3.10/site-packages (from aiohttp<4.0.0,>=3.8.6->llama-index-core<0.12.0,>=0.11.17->llama-index->undatasio) (1.14.0)\n",
      "Requirement already satisfied: async-timeout<5.0,>=4.0 in /Users/stay/anaconda3/envs/undatasio/lib/python3.10/site-packages (from aiohttp<4.0.0,>=3.8.6->llama-index-core<0.12.0,>=0.11.17->llama-index->undatasio) (4.0.3)\n",
      "Requirement already satisfied: soupsieve>1.2 in /Users/stay/anaconda3/envs/undatasio/lib/python3.10/site-packages (from beautifulsoup4<5.0.0,>=4.12.3->llama-index-readers-file<0.3.0,>=0.2.0->llama-index->undatasio) (2.6)\n",
      "Requirement already satisfied: anyio in /Users/stay/anaconda3/envs/undatasio/lib/python3.10/site-packages (from httpx<1,>=0.23.0->langsmith<0.2.0,>=0.1.125->langchain-core->undatasio) (4.6.0)\n",
      "Requirement already satisfied: httpcore==1.* in /Users/stay/anaconda3/envs/undatasio/lib/python3.10/site-packages (from httpx<1,>=0.23.0->langsmith<0.2.0,>=0.1.125->langchain-core->undatasio) (1.0.6)\n",
      "Requirement already satisfied: sniffio in /Users/stay/anaconda3/envs/undatasio/lib/python3.10/site-packages (from httpx<1,>=0.23.0->langsmith<0.2.0,>=0.1.125->langchain-core->undatasio) (1.3.1)\n",
      "Requirement already satisfied: h11<0.15,>=0.13 in /Users/stay/anaconda3/envs/undatasio/lib/python3.10/site-packages (from httpcore==1.*->httpx<1,>=0.23.0->langsmith<0.2.0,>=0.1.125->langchain-core->undatasio) (0.14.0)\n",
      "Requirement already satisfied: distro<2,>=1.7.0 in /Users/stay/anaconda3/envs/undatasio/lib/python3.10/site-packages (from openai>=1.14.0->llama-index-agent-openai<0.4.0,>=0.3.4->llama-index->undatasio) (1.9.0)\n",
      "Requirement already satisfied: jiter<1,>=0.4.0 in /Users/stay/anaconda3/envs/undatasio/lib/python3.10/site-packages (from openai>=1.14.0->llama-index-agent-openai<0.4.0,>=0.3.4->llama-index->undatasio) (0.6.1)\n",
      "Requirement already satisfied: greenlet!=0.4.17 in /Users/stay/anaconda3/envs/undatasio/lib/python3.10/site-packages (from SQLAlchemy[asyncio]>=1.4.49->llama-index-core<0.12.0,>=0.11.17->llama-index->undatasio) (3.1.1)\n",
      "Requirement already satisfied: mypy-extensions>=0.3.0 in /Users/stay/anaconda3/envs/undatasio/lib/python3.10/site-packages (from typing-inspect>=0.8.0->llama-index-core<0.12.0,>=0.11.17->llama-index->undatasio) (1.0.0)\n",
      "Requirement already satisfied: marshmallow<4.0.0,>=3.18.0 in /Users/stay/anaconda3/envs/undatasio/lib/python3.10/site-packages (from dataclasses-json->llama-index-core<0.12.0,>=0.11.17->llama-index->undatasio) (3.22.0)\n",
      "Requirement already satisfied: python-dateutil>=2.8.2 in /Users/stay/anaconda3/envs/undatasio/lib/python3.10/site-packages (from pandas->llama-index-legacy<0.10.0,>=0.9.48->llama-index->undatasio) (2.9.0.post0)\n",
      "Requirement already satisfied: pytz>=2020.1 in /Users/stay/anaconda3/envs/undatasio/lib/python3.10/site-packages (from pandas->llama-index-legacy<0.10.0,>=0.9.48->llama-index->undatasio) (2024.2)\n",
      "Requirement already satisfied: tzdata>=2022.7 in /Users/stay/anaconda3/envs/undatasio/lib/python3.10/site-packages (from pandas->llama-index-legacy<0.10.0,>=0.9.48->llama-index->undatasio) (2024.2)\n",
      "Requirement already satisfied: exceptiongroup>=1.0.2 in /Users/stay/anaconda3/envs/undatasio/lib/python3.10/site-packages (from anyio->httpx<1,>=0.23.0->langsmith<0.2.0,>=0.1.125->langchain-core->undatasio) (1.2.2)\n",
      "Requirement already satisfied: six>=1.5 in /Users/stay/anaconda3/envs/undatasio/lib/python3.10/site-packages (from python-dateutil>=2.8.2->pandas->llama-index-legacy<0.10.0,>=0.9.48->llama-index->undatasio) (1.16.0)\n",
      "Requirement already satisfied: propcache>=0.2.0 in /Users/stay/anaconda3/envs/undatasio/lib/python3.10/site-packages (from yarl<2.0,>=1.12.0->aiohttp<4.0.0,>=3.8.6->llama-index-core<0.12.0,>=0.11.17->llama-index->undatasio) (0.2.0)\n"
     ]
    }
   ],
   "source": [
    "# install undatasio\n",
    "!pip install -U undatasio"
   ]
  },
  {
   "cell_type": "code",
   "execution_count": 2,
   "id": "b8e62760-d907-4454-902e-02494824fd56",
   "metadata": {},
   "outputs": [],
   "source": [
    "from undatasio.undatasio import UnDatasIO\n",
    "\n",
    "undatasio_obj = UnDatasIO('undatasio token...')"
   ]
  },
  {
   "cell_type": "code",
   "execution_count": 3,
   "id": "85c32cac-a926-4048-b3b5-55533d1e523f",
   "metadata": {},
   "outputs": [
    {
     "data": {
      "text/plain": [
       "{'code': 200,\n",
       " 'msg': 'success',\n",
       " 'data': [{'title': '1 files',\n",
       "   'version': 'v25',\n",
       "   'count': 1,\n",
       "   'file_name': ['页面提取自－VAR：风险价值—金融风险管理新标准.pdf']},\n",
       "  {'title': '1 files', 'version': 'v24', 'count': 1, 'file_name': ['100.pdf']},\n",
       "  {'title': '1 files', 'version': 'v23', 'count': 1, 'file_name': ['100.pdf']},\n",
       "  {'title': '2 files',\n",
       "   'version': 'v22',\n",
       "   'count': 2,\n",
       "   'file_name': ['棉花标准仓单销售合同.pdf', '调整组合结构应对短期波折基金每日资讯20150608.pdf']},\n",
       "  {'title': '3 files',\n",
       "   'version': 'v21',\n",
       "   'count': 3,\n",
       "   'file_name': ['高杠杆分级基金估值风险上升基金周报20110225.pdf',\n",
       "    '风险化解紧迫信托保障基金成立提速每日基金资讯20140905.pdf',\n",
       "    '短期震荡格局延续稳健操作关注主题公募基金周报20140825.pdf']},\n",
       "  {'title': '1 files',\n",
       "   'version': 'v20',\n",
       "   'count': 1,\n",
       "   'file_name': ['借款合同-借款合同.pdf']},\n",
       "  {'title': '1 files',\n",
       "   'version': 'v19',\n",
       "   'count': 1,\n",
       "   'file_name': ['借款合同-借款合同.pdf']},\n",
       "  {'title': '1 files',\n",
       "   'version': 'v18',\n",
       "   'count': 1,\n",
       "   'file_name': ['借款合同-借款合同.pdf']},\n",
       "  {'title': '专业合同解析',\n",
       "   'version': 'v17',\n",
       "   'count': 2,\n",
       "   'file_name': ['调整组合结构应对短期波折基金每日资讯20150608.pdf', '棉花标准仓单销售合同.pdf']},\n",
       "  {'title': '1 files',\n",
       "   'version': 'v16',\n",
       "   'count': 1,\n",
       "   'file_name': ['漩涡中的信用衍生产品.pdf']},\n",
       "  {'title': '1 files',\n",
       "   'version': 'v15',\n",
       "   'count': 1,\n",
       "   'file_name': ['漩涡中的信用衍生产品.pdf']},\n",
       "  {'title': '1 files',\n",
       "   'version': 'v14',\n",
       "   'count': 1,\n",
       "   'file_name': ['漩涡中的信用衍生产品.pdf']},\n",
       "  {'title': '1 files',\n",
       "   'version': 'v13',\n",
       "   'count': 1,\n",
       "   'file_name': ['漩涡中的信用衍生产品.pdf']},\n",
       "  {'title': '1 files',\n",
       "   'version': 'v12',\n",
       "   'count': 1,\n",
       "   'file_name': ['漩涡中的信用衍生产品.pdf']},\n",
       "  {'title': '1 files',\n",
       "   'version': 'v11',\n",
       "   'count': 1,\n",
       "   'file_name': ['漩涡中的信用衍生产品.pdf']},\n",
       "  {'title': '1 files',\n",
       "   'version': 'v10',\n",
       "   'count': 1,\n",
       "   'file_name': ['漩涡中的信用衍生产品.pdf']},\n",
       "  {'title': '1 files',\n",
       "   'version': 'v9',\n",
       "   'count': 1,\n",
       "   'file_name': ['漩涡中的信用衍生产品.pdf']},\n",
       "  {'title': '1 files',\n",
       "   'version': 'v8',\n",
       "   'count': 1,\n",
       "   'file_name': ['漩涡中的信用衍生产品.pdf']},\n",
       "  {'title': '1 files',\n",
       "   'version': 'v7',\n",
       "   'count': 1,\n",
       "   'file_name': ['漩涡中的信用衍生产品.pdf']},\n",
       "  {'title': '1 files',\n",
       "   'version': 'v6',\n",
       "   'count': 1,\n",
       "   'file_name': ['漩涡中的信用衍生产品.pdf']},\n",
       "  {'title': '1 files',\n",
       "   'version': 'v5',\n",
       "   'count': 1,\n",
       "   'file_name': ['调整组合结构应对短期波折基金每日资讯20150608.pdf']},\n",
       "  {'title': '1 files',\n",
       "   'version': 'v4',\n",
       "   'count': 1,\n",
       "   'file_name': ['调整组合结构应对短期波折基金每日资讯20150608.pdf']},\n",
       "  {'title': '1 files',\n",
       "   'version': 'v2',\n",
       "   'count': 1,\n",
       "   'file_name': ['调整组合结构应对短期波折基金每日资讯20150608.pdf']},\n",
       "  {'title': '4 files',\n",
       "   'version': 'v1',\n",
       "   'count': 4,\n",
       "   'file_name': ['EditablePureText.pdf',\n",
       "    'PlainText.pdf',\n",
       "    'PureTable.pdf',\n",
       "    'PureFormula.pdf']}]}"
      ]
     },
     "execution_count": 3,
     "metadata": {},
     "output_type": "execute_result"
    }
   ],
   "source": [
    "version_data = undatasio_obj.show_version()\n",
    "version_data"
   ]
  },
  {
   "cell_type": "code",
   "execution_count": 4,
   "id": "1ba5da0e-5bec-4891-ba44-84fddd924fd2",
   "metadata": {
    "scrolled": true
   },
   "outputs": [
    {
     "data": {
      "text/plain": [
       "Document(id_='58d86c19-6532-46a2-a4b7-603bc6daec60', embedding=None, metadata={'source': '_v22_棉花标准仓单销售合同.pdf_[text]'}, excluded_embed_metadata_keys=[], excluded_llm_metadata_keys=[], relationships={}, text='甲方（卖方）：银河德睿资本管理有限公司\\n乙方（买方）：中国国投国际贸易广州有限公司\\n合同编号：20220215-GTMY-CFSSS001\\n签订地点：上海市虹口区\\n签订时间：2022年2月15日\\n1、货物：经郑州商品交易所（“交易所”）注册的棉花标准仓单；\\n2、数量：不超过1000吨（具体以实际成交数量为准），具体仓单信息见附件\\n3、质量及包装：符合交易所对于棉花品种规定的期货交割质量标准；包装符合交易所\\n与指定交割仓库的规定。\\n交付完成标志：双方一致同意，以乙方收到甲方过户至乙方的标准仓单视为标的货物完\\n成交付，货物的损毁、灭失等风险自交付起转移至乙方。乙方对质量、数量有异议，应自交\\n付完成之日起十个工作日内向甲方以书面方式提出，逾期未提出书面意见的，视为乙方无异\\n议。本合同标的货物的所有权自乙方付清货款后发生转移，乙方付清全部货款前，货物所有\\n权归甲方所有。\\n相关费用：甲方将标准仓单过户至乙方之日（含当日）起，所有与货物相关产生的费用，\\n包括但不限于仓储费、出库费、检验费等（“相关费用”）均由乙方承担。\\n1、本合同为附条件合同，合同生效后，双方按照以下条件确定是否执行本合同。\\nA、如果 2023 年 4 月6 日 CF2305 合约收盘价≤15200 元（以下简称“基准价\")，则本\\n合同自动解除，双方不再执行本合同，乙方向甲方支付【180.95*1000 元】的补偿金（不含\\n税)，补偿金甲方有权从乙方支付的保证金中扣除，如有剩余，剩余部分由甲方无息原路退\\n还乙方。\\nB、如果2023年4月6日CF2305合约收盘价>15200元（以下简称“基准价\"），甲方\\n应按照本合同约定将对应数量产品按照1\\\\underline{{5200}}\\\\underline{{+1}}80.\\\\ 95\\\\underline{{+500}}元结算单价销售给乙方。\\n3、【本合同适用/口不适用本条款】\\n乙方应于本合同生效后1个工作日内，先行支付\\\\{\\\\underline{{180.\\\\;95*1000}}\\\\}元至甲方指定银行账\\n户作为履约保证金。双方确认履约保证金可用于充抵对应批次货款【适用本合同第四条第4\\n款第（1）项结算方式，或由甲方在收到交易所划转货款比例100\\\\%后无息退还至乙万指定\\n银行账户【适用本合同第四条第4款第（2）项结算方式】。\\n4、【本合同货款结算及供货适用下述第（1）项结算方式】\\n（1）先款后货，批款批货。乙方应当于2023年6月30日前向甲方指定银行账户支付\\n全部货款的支付。甲方在乙方全部货款支付完毕后的2个工作日通过交易所发起对应批次\\n仓单转让申请，甲方会员号：【0051】，客户编码：【34249516】，乙方会员号：【0009】，客户\\n编码：【24102124】。甲方须于点价成交的全部仓单交付完成且收到合同原件后按货款结算金\\n额向乙方开具全额增值税专用发票。\\n（2）先货后款，批货批款。点价成交后2个工作日内，申乙双方通过交易所发起对应\\n成交批次【交易所划转货款比例100\\\\%]的仓单转让申请，甲方会员号：【】，客户编\\n码：【】，乙方会员号：【一】，客户编码：【】，具体以交易所的交易制\\n度为准。甲方应当在收到货款及合同原件后向乙方开具增值税专用发票。\\n双方因签订、履行本合同而相互发出或者提供的所有合同、函件、通知、文件、资料（须\\n加盖公章或合同章），均以本合同通知和送达条款所列明的地址、传真或电子邮箱送达。任\\n何一方如果变更本条款信息的，则应当在四十八（48）小时内通知对方。否则，由此造成的\\n一切法律后果和损失由该方自行承担。\\n任何一方出现违反本合同约定的情形均视为违约（包括但不限于乙方未按约定支付履约\\n保证金及追加部分或者未按约定追加保证金、未按约定支付货款等），守约方有权书面通知\\n违约方解除本合同并要求违约方支付违约金，违约金为本合同项下执行周期内实际点价成交\\n货物总数量对应的含税总金额的20\\\\%。违约金不足以赔偿守约方损失的，违约方继续承担赔\\n偿责任。本合同项下的损失赔偿范围包括但不限于守约方的货物差价损失、资金利息、仓储\\n费、向其他第三方赔偿金额等，另外违约方还需承担守约方为主张本合同项下权利而支出的\\n合理费用，包括但不限于诉讼费、保全费、公证费、执行费、律师费等。\\n乙方违约的，上述违约金甲方有权直接从乙方支付的履约保证金和追加保证金（如有）\\n中扣除，不足部分由乙方另行支付。\\n乙方违反本合同执行完毕前双方签署的其他任何合同、协议，在本合同履行完毕之前应\\n履行而未能履行，甲方有权延期履行或解除与乙方签署的所有合同，并不构成违约。甲方延\\n期履行或解除合同自延期或解除合同的通知发出之日起生效。\\n甲乙双方的任何一方由于不可抗力的原因不能履行合同时，根据情况可部分或全部免予\\n承担违约责任，但应在不可抗力发生后3个工作日内及时书面通知对方，并尽力及时采取有\\n效措施以减轻可能给对方造成的损失，并应当在不可抗力发生后10个工作日内提供证明。\\n如果因未及时采取有效措施导致损失扩大的，则不能就损失扩大部分要求免责。甲乙任何一\\n方因迟延履行后发生不司抗力的，不能免除迟延履行一方的违约责任。\\n如履行本合同过程中发生争议，双方协商解决，协商不成，任何一方均可诉向原告方住\\n所地人民法院通过诉讼解决。\\n1、本合同约定的价格为含税价格，在合同履行期间，不因国家税率的调整而调整。\\n2、除非事前取得对方的书面同意，否则任何一方都不得转让本合同的全部或部分。\\n3、本合同壹式贰份，双方各执壹份。本合同自双方加盖公章或合同专用章后生效，扫\\n描件、传真件与原件具有同等法律效力，任何添加、删除、涂改须在修改处加盖双方公章或\\n合同专用章方为有效。\\n', mimetype='text/plain', start_char_idx=None, end_char_idx=None, text_template='{metadata_str}\\n\\n{content}', metadata_template='{key}: {value}', metadata_seperator='\\n')"
      ]
     },
     "execution_count": 4,
     "metadata": {},
     "output_type": "execute_result"
    }
   ],
   "source": [
    "li_document = undatasio_obj.get_result_to_llama_index_document(\n",
    "    type_info=['text'],\n",
    "    file_name='棉花标准仓单销售合同.pdf',\n",
    "    version='v22'\n",
    ")\n",
    "li_document"
   ]
  },
  {
   "cell_type": "code",
   "execution_count": 5,
   "id": "0fd104a6-8bff-4893-97ba-270e3cbb1841",
   "metadata": {},
   "outputs": [],
   "source": [
    "from llama_index.core.node_parser import (\n",
    "    SentenceSplitter,\n",
    "    SemanticSplitterNodeParser,\n",
    ")\n",
    "from llama_index.embeddings.openai import OpenAIEmbedding\n",
    "\n",
    "import os\n",
    "\n",
    "# os.getenv(\"OPENAI_API_KEY\") You need to set your openai key"
   ]
  },
  {
   "cell_type": "code",
   "execution_count": 6,
   "id": "d71459a8-5f32-41e0-b811-a0a5e7072d3d",
   "metadata": {},
   "outputs": [],
   "source": [
    "embed_model = OpenAIEmbedding()\n",
    "splitter = SemanticSplitterNodeParser(\n",
    "    buffer_size=1, breakpoint_percentile_threshold=95, embed_model=embed_model\n",
    ")\n",
    "\n",
    "# also baseline splitter\n",
    "base_splitter = SentenceSplitter(chunk_size=512)"
   ]
  },
  {
   "cell_type": "code",
   "execution_count": 7,
   "id": "b157ce08-197f-40ea-a7e5-bbc821bb0e15",
   "metadata": {},
   "outputs": [
    {
     "data": {
      "text/plain": [
       "<coroutine object NodeParser.aget_nodes_from_documents at 0x11c609d20>"
      ]
     },
     "execution_count": 7,
     "metadata": {},
     "output_type": "execute_result"
    }
   ],
   "source": [
    "nodes = splitter.aget_nodes_from_documents([li_document])\n",
    "nodes"
   ]
  },
  {
   "cell_type": "code",
   "execution_count": null,
   "id": "529e058d-5c76-4a5d-87f3-2f9754bd30a4",
   "metadata": {},
   "outputs": [],
   "source": []
  }
 ],
 "metadata": {
  "kernelspec": {
   "display_name": "Python 3 (ipykernel)",
   "language": "python",
   "name": "python3"
  },
  "language_info": {
   "codemirror_mode": {
    "name": "ipython",
    "version": 3
   },
   "file_extension": ".py",
   "mimetype": "text/x-python",
   "name": "python",
   "nbconvert_exporter": "python",
   "pygments_lexer": "ipython3",
   "version": "3.10.15"
  }
 },
 "nbformat": 4,
 "nbformat_minor": 5
}
