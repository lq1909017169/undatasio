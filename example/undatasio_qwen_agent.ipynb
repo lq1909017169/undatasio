{
 "cells": [
  {
   "cell_type": "code",
   "execution_count": null,
   "id": "68a22b08-5355-4667-af0d-fe61a1b0d50c",
   "metadata": {},
   "outputs": [],
   "source": [
    "# install undatasio\n",
    "!pip install -U undatasio"
   ]
  },
  {
   "cell_type": "code",
   "execution_count": 1,
   "id": "399a162c-9c60-4853-9075-82724554559d",
   "metadata": {},
   "outputs": [],
   "source": [
    "from undatasio.undatasio import UnDatasIO\n",
    "\n",
    "undatasio_obj = UnDatasIO('undatasio token ...', task_name='文本解析')"
   ]
  },
  {
   "cell_type": "code",
   "execution_count": 2,
   "id": "4e14f7ae-ac35-4a71-bc5f-d0dae9fa962a",
   "metadata": {},
   "outputs": [
    {
     "data": {
      "text/plain": [
       "{'code': 200,\n",
       " 'msg': 'success',\n",
       " 'data': [{'title': '1 files',\n",
       "   'version': 'v17',\n",
       "   'count': 1,\n",
       "   'file_name': ['初中数学浙江中考数学真题-7.pdf']},\n",
       "  {'title': '1 files',\n",
       "   'version': 'v16',\n",
       "   'count': 1,\n",
       "   'file_name': ['初中数学浙江中考数学真题-7.pdf']},\n",
       "  {'title': '1 files',\n",
       "   'version': 'v15',\n",
       "   'count': 1,\n",
       "   'file_name': ['初中数学浙江中考数学真题-7.pdf']},\n",
       "  {'title': '1 files',\n",
       "   'version': 'v14',\n",
       "   'count': 1,\n",
       "   'file_name': ['初中数学浙江中考数学真题-7.pdf']},\n",
       "  {'title': '1 files',\n",
       "   'version': 'v13',\n",
       "   'count': 1,\n",
       "   'file_name': ['初中数学浙江中考数学真题-7.pdf']},\n",
       "  {'title': '1 files',\n",
       "   'version': 'v12',\n",
       "   'count': 1,\n",
       "   'file_name': ['初中数学浙江中考数学真题-7.pdf']},\n",
       "  {'title': '1 files',\n",
       "   'version': 'v11',\n",
       "   'count': 1,\n",
       "   'file_name': ['初中数学浙江中考数学真题-7.pdf']},\n",
       "  {'title': '1 files',\n",
       "   'version': 'v10',\n",
       "   'count': 1,\n",
       "   'file_name': ['江苏银行.pdf']},\n",
       "  {'title': '1 files',\n",
       "   'version': 'v9',\n",
       "   'count': 1,\n",
       "   'file_name': ['02e2659dd680448fb13f69258972288c.pdf']},\n",
       "  {'title': '1 files',\n",
       "   'version': 'v8',\n",
       "   'count': 1,\n",
       "   'file_name': ['分级基金数据日报齐鲁证券20150108.pdf']},\n",
       "  {'title': '1 files', 'version': 'v7', 'count': 1, 'file_name': ['劳务外包.pdf']},\n",
       "  {'title': '1 files',\n",
       "   'version': 'v6',\n",
       "   'count': 1,\n",
       "   'file_name': ['洞察机构投资者动向挖掘优势基金品种基金量化专题研究报告之七机构投资者视角20140904.pdf']},\n",
       "  {'title': '1 files',\n",
       "   'version': 'v5',\n",
       "   'count': 1,\n",
       "   'file_name': ['利率工程学_陈松男.pdf']},\n",
       "  {'title': '1 files',\n",
       "   'version': 'v4',\n",
       "   'count': 1,\n",
       "   'file_name': ['利率工程学_陈松男.pdf']},\n",
       "  {'title': '1 files',\n",
       "   'version': 'v3',\n",
       "   'count': 1,\n",
       "   'file_name': ['不确定性上升灵活至上2015年4月固定收益类基金投资策略20150402.pdf']},\n",
       "  {'title': '1 files', 'version': 'v2', 'count': 1, 'file_name': ['劳务外包.pdf']},\n",
       "  {'title': '1 files',\n",
       "   'version': 'v1',\n",
       "   'count': 1,\n",
       "   'file_name': ['洞察机构投资者动向挖掘优势基金品种基金量化专题研究报告之七机构投资者视角20140904.pdf']}]}"
      ]
     },
     "execution_count": 2,
     "metadata": {},
     "output_type": "execute_result"
    }
   ],
   "source": [
    "version_data = undatasio_obj.show_version()\n",
    "version_data"
   ]
  },
  {
   "cell_type": "code",
   "execution_count": 1,
   "id": "7d272209-cbe0-4ce7-a473-1ae001642aeb",
   "metadata": {},
   "outputs": [],
   "source": [
    "from pathlib import Path\n",
    "\n",
    "Path().absolute().as_posix()"
   ]
  },
  {
   "cell_type": "code",
   "execution_count": 5,
   "id": "437299ed-1fec-4d24-997d-8b907df17610",
   "metadata": {},
   "outputs": [
    {
     "data": {
      "text/plain": [
       "PosixPath('/Users/stay/Desktop/Dir/GitPro/undatasio/example')"
      ]
     },
     "execution_count": 5,
     "metadata": {},
     "output_type": "execute_result"
    }
   ],
   "source": []
  }
 ],
 "metadata": {
  "kernelspec": {
   "display_name": "Python 3 (ipykernel)",
   "language": "python",
   "name": "python3"
  },
  "language_info": {
   "codemirror_mode": {
    "name": "ipython",
    "version": 3
   },
   "file_extension": ".py",
   "mimetype": "text/x-python",
   "name": "python",
   "nbconvert_exporter": "python",
   "pygments_lexer": "ipython3",
   "version": "3.10.9"
  }
 },
 "nbformat": 4,
 "nbformat_minor": 5
}
