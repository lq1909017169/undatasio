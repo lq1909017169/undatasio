{
 "cells": [
  {
   "cell_type": "markdown",
   "id": "523f33c9-a381-463c-9b56-7175e4ed0c65",
   "metadata": {},
   "source": [
    "![](example_content/undatasio_example.png)"
   ]
  },
  {
   "cell_type": "markdown",
   "id": "d5d7a0eb-b130-4c03-a507-366e154fcf55",
   "metadata": {},
   "source": [
    "_By **stay**, Tech Enthusiast @Undatasio_\n",
    "- - -\n",
    "\n",
    "#### 🚀 Let's begin this example. \n",
    "    😃 😎 😝\n",
    "\n",
    "📣 This is a notebook example demonstrating the retrieval of formatted data from a markdown file converted from a PDF parsed by the undatasio platform using the qwen_agent framework.\n",
    "\n",
    "#### 📚 Below are the steps I took for this example:\n",
    "- 📄 Upload the PDF file to be parsed to the undatasio platform.\n",
    "  - _Download the undatasio Python library._\n",
    "  - _Import environment variables._\n",
    "  - _Use the undatasio library to obtain the URL of the markdown file parsed from the corresponding PDF file._\n",
    "- 📝 Use the qwen-agent RAG module to call the qwen2.5-72b-instruct model for formatted data extraction.\n",
    "  - _First, you need to install the corresponding qwen-agent library using pip._\n",
    "  - _Next, configure the parameters for the qwen2.5-72b-instruct model._\n",
    "  - _Finally, describe the function for this capability._\n",
    "  - _Call the function, and you will get the data you want._\n",
    "\n",
    "\n",
    "🎃 This is the entire process for this example. I hope you can gain some experience from it."
   ]
  },
  {
   "cell_type": "markdown",
   "id": "05fa0d57-b027-4b73-8a09-5212c5e93090",
   "metadata": {},
   "source": [
    "#### 📤 Upload PDF, undatasio parsing.\n",
    "\n",
    "_Install undatasio using pip._"
   ]
  },
  {
   "cell_type": "code",
   "execution_count": 66,
   "id": "ff8338f6-7cc9-4d95-a9c3-069acffaabe7",
   "metadata": {},
   "outputs": [],
   "source": [
    "# install undatasio\n",
    "!pip install -U -q undatasio"
   ]
  },
  {
   "cell_type": "code",
   "execution_count": 32,
   "id": "8eed90b1-2881-414f-ba80-58ae93d26004",
   "metadata": {},
   "outputs": [
    {
     "name": "stdout",
     "output_type": "stream",
     "text": [
      "Collecting package metadata (current_repodata.json): ...working... done\n",
      "Solving environment: ...working... done\n",
      "\n",
      "# All requested packages already installed.\n",
      "\n"
     ]
    }
   ],
   "source": [
    "!conda install -c conda-forge python-dotenv -y -q"
   ]
  },
  {
   "cell_type": "code",
   "execution_count": 33,
   "id": "1d8f87c9-d723-4a2e-8193-81441e8f5f87",
   "metadata": {},
   "outputs": [
    {
     "data": {
      "text/plain": [
       "True"
      ]
     },
     "execution_count": 33,
     "metadata": {},
     "output_type": "execute_result"
    }
   ],
   "source": [
    "import os\n",
    "from dotenv import load_dotenv\n",
    "\n",
    "load_dotenv('.env')"
   ]
  },
  {
   "cell_type": "code",
   "execution_count": 34,
   "id": "d347a2e5-4a20-46f6-be65-0d88f8df56c8",
   "metadata": {},
   "outputs": [],
   "source": [
    "UNDATASIO_API_KEY=os.getenv(\"UNDATASIO_API_KEY\")"
   ]
  },
  {
   "cell_type": "markdown",
   "id": "eacc7193-f501-46bb-9de6-352a7f7835cf",
   "metadata": {},
   "source": [
    "_Create an instance of the UnDatasIO class._"
   ]
  },
  {
   "cell_type": "code",
   "execution_count": 35,
   "id": "af39a264-eb7f-46c1-b100-9f7b4734d3ca",
   "metadata": {},
   "outputs": [],
   "source": [
    "from undatasio.undatasio import UnDatasIO\n",
    "\n",
    "undatasio_obj = UnDatasIO(UNDATASIO_API_KEY, task_name='demo')"
   ]
  },
  {
   "cell_type": "markdown",
   "id": "4c4b58a4-3334-40d8-90a5-8b7eda62d510",
   "metadata": {},
   "source": [
    "_Please upload the PDF file you want to parse._"
   ]
  },
  {
   "cell_type": "code",
   "execution_count": 67,
   "id": "95782b1b-1bb2-461e-9b88-0e06911dad8f",
   "metadata": {},
   "outputs": [],
   "source": [
    "upload_res = undatasio_obj.upload(file_dir_path='./demo_files/')"
   ]
  },
  {
   "cell_type": "code",
   "execution_count": 68,
   "id": "4c59ca11-da41-4e64-96cb-52d4178b587a",
   "metadata": {},
   "outputs": [
    {
     "data": {
      "text/plain": [
       "200"
      ]
     },
     "execution_count": 68,
     "metadata": {},
     "output_type": "execute_result"
    }
   ],
   "source": [
    "upload_res.code"
   ]
  },
  {
   "cell_type": "code",
   "execution_count": 63,
   "id": "707f51f0-d211-4bef-b12b-cfaee44001a8",
   "metadata": {},
   "outputs": [],
   "source": [
    "show_files = undatasio_obj.show_upload()\n",
    "show_files.data"
   ]
  },
  {
   "cell_type": "markdown",
   "id": "be9c9d8c-3ba9-4ce2-b801-06f9f60e69f0",
   "metadata": {},
   "source": [
    "_Publish the parsing task. A return code of 200 indicates the task was published successfully._"
   ]
  },
  {
   "cell_type": "code",
   "execution_count": 73,
   "id": "7311f94b-039b-4c30-9c8b-382e4cde9bda",
   "metadata": {},
   "outputs": [
    {
     "data": {
      "text/plain": [
       "200"
      ]
     },
     "execution_count": 73,
     "metadata": {},
     "output_type": "execute_result"
    }
   ],
   "source": [
    "parser_res = undatasio_obj.parser(file_name_list=['resume-example.pdf'], parameter='fast', lang='en')\n",
    "parser_res.code"
   ]
  },
  {
   "cell_type": "markdown",
   "id": "2e2c4a05-e5fb-4e5d-972a-4d896e5a7fab",
   "metadata": {},
   "source": [
    "_Check the task version information to see if the upload file task has been completed._\n",
    "_\"over\" indicates the task is completed. \"parsering\" indicates the task is currently being processed._"
   ]
  },
  {
   "cell_type": "code",
   "execution_count": 75,
   "id": "132e356d-7304-4f79-8802-85e0259d5b78",
   "metadata": {},
   "outputs": [
    {
     "data": {
      "text/html": [
       "<div>\n",
       "<style scoped>\n",
       "    .dataframe tbody tr th:only-of-type {\n",
       "        vertical-align: middle;\n",
       "    }\n",
       "\n",
       "    .dataframe tbody tr th {\n",
       "        vertical-align: top;\n",
       "    }\n",
       "\n",
       "    .dataframe thead th {\n",
       "        text-align: right;\n",
       "    }\n",
       "</style>\n",
       "<table border=\"1\" class=\"dataframe\">\n",
       "  <thead>\n",
       "    <tr style=\"text-align: right;\">\n",
       "      <th></th>\n",
       "      <th>title</th>\n",
       "      <th>version</th>\n",
       "      <th>count</th>\n",
       "      <th>file_name</th>\n",
       "      <th>status</th>\n",
       "    </tr>\n",
       "  </thead>\n",
       "  <tbody>\n",
       "    <tr>\n",
       "      <th>0</th>\n",
       "      <td>1 files</td>\n",
       "      <td>v3</td>\n",
       "      <td>1</td>\n",
       "      <td>[resume-example.pdf]</td>\n",
       "      <td>over</td>\n",
       "    </tr>\n",
       "    <tr>\n",
       "      <th>1</th>\n",
       "      <td>1 files</td>\n",
       "      <td>v2</td>\n",
       "      <td>1</td>\n",
       "      <td>[resume-example.pdf]</td>\n",
       "      <td>over</td>\n",
       "    </tr>\n",
       "    <tr>\n",
       "      <th>2</th>\n",
       "      <td>1 files</td>\n",
       "      <td>v1</td>\n",
       "      <td>1</td>\n",
       "      <td>[resume-example.pdf]</td>\n",
       "      <td>over</td>\n",
       "    </tr>\n",
       "  </tbody>\n",
       "</table>\n",
       "</div>"
      ],
      "text/plain": [
       "     title version  count             file_name status\n",
       "0  1 files      v3      1  [resume-example.pdf]   over\n",
       "1  1 files      v2      1  [resume-example.pdf]   over\n",
       "2  1 files      v1      1  [resume-example.pdf]   over"
      ]
     },
     "execution_count": 75,
     "metadata": {},
     "output_type": "execute_result"
    }
   ],
   "source": [
    "version_info = undatasio_obj.show_version()\n",
    "version_info.data"
   ]
  },
  {
   "cell_type": "markdown",
   "id": "917ce38e-647a-463b-bf24-08366cef9065",
   "metadata": {},
   "source": [
    "_Get the URL of the markdown file for the uploaded file._"
   ]
  },
  {
   "cell_type": "code",
   "execution_count": 76,
   "id": "3b02d51e-41a7-4440-868d-2a0b8f2d867f",
   "metadata": {},
   "outputs": [
    {
     "data": {
      "text/plain": [
       "'https://backend.undatas.io/static/pdfParser/d539f9ec49964970a58d0a801ce071ca/v1/996c87bb9c3e427b80a0d2a9c31eeba0/pdf.md'"
      ]
     },
     "execution_count": 76,
     "metadata": {},
     "output_type": "execute_result"
    }
   ],
   "source": [
    "document = undatasio_obj.get_result_to_files(\n",
    "    file_name_list='resume-example.pdf',\n",
    "    version='v1'\n",
    ")\n",
    "document.data[0]"
   ]
  },
  {
   "cell_type": "markdown",
   "id": "84d04c43-f61d-49c6-8f80-7fd99897a44e",
   "metadata": {},
   "source": [
    "#### 🚩 qwen-agent to retrieve structured data.\n",
    "\n",
    "_Install qwen-agent using pip._"
   ]
  },
  {
   "cell_type": "code",
   "execution_count": 29,
   "id": "b663e120-782d-4253-839a-160b1cb5ed81",
   "metadata": {},
   "outputs": [],
   "source": [
    "!pip install -q -U \"qwen-agent[rag]\""
   ]
  },
  {
   "cell_type": "markdown",
   "id": "56d5b3e6-08a1-49a0-8ca3-c1f7b35350d7",
   "metadata": {},
   "source": [
    "_Configure the parameters of the LLM._"
   ]
  },
  {
   "cell_type": "code",
   "execution_count": 15,
   "id": "560e3b46-c1b2-45d8-8119-71ea04b5ef42",
   "metadata": {},
   "outputs": [],
   "source": [
    "LLM_CONFIG = {\n",
    "    \"model\": 'qwen2.5-72b-instruct',\n",
    "    \"model_server\": os.getenv('DASHSCOPE_URL'),\n",
    "    \"api_key\": os.getenv('DASHSCOPE_API_KEY')\n",
    "}"
   ]
  },
  {
   "cell_type": "markdown",
   "id": "1edccb30-0c33-4ec9-9208-022ded8a3a60",
   "metadata": {},
   "source": [
    "_Describe the function for retrieving formatted data._"
   ]
  },
  {
   "cell_type": "code",
   "execution_count": 16,
   "id": "85fb8b1c-860f-4739-b663-13a422f879bf",
   "metadata": {},
   "outputs": [],
   "source": [
    "from qwen_agent.agents import Assistant\n",
    "from typing import List, Dict\n",
    "import json\n",
    "\n",
    "\n",
    "def get_values(keys: List, file: str) -> Dict | None:\n",
    "    key_str = \"{{\"\n",
    "    for key in keys:\n",
    "        key_str += f'\"{key}\": \"Extract the value of the key({key}) from the article. Return an empty string if the key is not found.\"'\n",
    "    key_str += \"}}\"\n",
    "\n",
    "    print(key_str)\n",
    "    prompt = f\"\"\"Given a text passage, please extract specific information and return it in JSON format:\n",
    "\n",
    "{key_str}\n",
    "\n",
    "Requirements:\n",
    "1. Return results in valid JSON format\n",
    "2. Use empty string (\"\") if information is not found\n",
    "3. Only extract relevant information - do not include unrelated context\n",
    "4. Keep original phrasing when possible\n",
    "5. Remove redundant text that doesn't add meaning\n",
    "6. Return only the result data in JSON format.\n",
    "\n",
    "Example input:\n",
    "\"NVIDIA reported strong growth in Q3, with revenue reaching $18.1 billion. Jensen Huang, who founded NVIDIA in 1993 and serves as CEO, commented that AI demand remains robust. The company expects Q4 revenue to hit $20 billion.\"\n",
    "\n",
    "Example output:\n",
    "{{\n",
    "\"third_quarter\": \"revenue reaching $18.1 billion\",\n",
    "  \"founder_ceo\": \"Jensen Huang\",\n",
    "  \"revenue_forecast\": \"expects Q4 revenue to hit $20 billion\"\n",
    "}}\n",
    "\n",
    "Please provide the text passage to analyze.\"\"\"\n",
    "    bot = Assistant(llm=LLM_CONFIG)\n",
    "    messages = [{'role': 'user', 'content': [{'text': prompt}, {'file': f'{file}'}]}]\n",
    "    rsp = bot.run_nonstream(messages)[0]['content']\n",
    "    json_data = json.loads(rsp)\n",
    "    return json_dataa"
   ]
  },
  {
   "cell_type": "code",
   "execution_count": 19,
   "id": "381088a7-ac80-44a8-81da-14bea1055d5a",
   "metadata": {},
   "outputs": [
    {
     "name": "stdout",
     "output_type": "stream",
     "text": [
      "{{\"name\": \"Extract the value of the key(name) from the article. Return an empty string if the key is not found.\"\"age\": \"Extract the value of the key(age) from the article. Return an empty string if the key is not found.\"\"technology stack\": \"Extract the value of the key(technology stack) from the article. Return an empty string if the key is not found.\"\"graduate institutions\": \"Extract the value of the key(graduate institutions) from the article. Return an empty string if the key is not found.\"\"Graduate student or not\": \"Extract the value of the key(Graduate student or not) from the article. Return an empty string if the key is not found.\"\"Have you studied abroad\": \"Extract the value of the key(Have you studied abroad) from the article. Return an empty string if the key is not found.\"}}\n"
     ]
    },
    {
     "name": "stderr",
     "output_type": "stream",
     "text": [
      "2025-01-21 10:52:33,561 - split_query.py - 82 - INFO - Extracted info from query: {\"information\": [\"text passage to analyze\n",
      "2025-01-21 10:52:35,553 - memory.py - 113 - INFO - {\"keywords_zh\": [\"文本段落\", \"分析\"], \"keywords_en\": [\"text passage\", \"analyze\"], \"text\": \"text passage to analyze\"}\n",
      "2025-01-21 10:52:35,611 - simple_doc_parser.py - 383 - INFO - Read parsed https://backend.undatas.io/static/pdfParser/d539f9ec49964970a58d0a801ce071ca/v1/3ce28e4466cd48dda5093511a7cf4e6f/pdf.md from cache.\n",
      "2025-01-21 10:52:35,612 - doc_parser.py - 114 - INFO - Start chunking https://backend.undatas.io/static/pdfParser/d539f9ec49964970a58d0a801ce071ca/v1/3ce28e4466cd48dda5093511a7cf4e6f/pdf.md ()...\n",
      "2025-01-21 10:52:35,612 - doc_parser.py - 132 - INFO - Finished chunking https://backend.undatas.io/static/pdfParser/d539f9ec49964970a58d0a801ce071ca/v1/3ce28e4466cd48dda5093511a7cf4e6f/pdf.md (). Time spent: 5.602836608886719e-05 seconds.\n",
      "2025-01-21 10:52:35,613 - base_search.py - 56 - INFO - all tokens: 473\n",
      "2025-01-21 10:52:35,613 - base_search.py - 59 - INFO - use full ref\n"
     ]
    }
   ],
   "source": [
    "values = get_values(['name', 'age', 'technology stack', 'graduate institutions', 'Graduate student or not', 'Have you studied abroad'], document.data[0])"
   ]
  },
  {
   "cell_type": "code",
   "execution_count": 20,
   "id": "01fe2c9a-dc8d-45c8-8c56-0d891a870e25",
   "metadata": {},
   "outputs": [
    {
     "data": {
      "text/plain": [
       "{'name': 'KATHY JAMES',\n",
       " 'age': '',\n",
       " 'technology stack': 'JavaScript, HTML/CSS, Django, SQL, REST APIs, Angular.js, React.js, Jest, Eclipse, Java',\n",
       " 'graduate institutions': 'University of Alabama',\n",
       " 'Graduate student or not': '',\n",
       " 'Have you studied abroad': ''}"
      ]
     },
     "execution_count": 20,
     "metadata": {},
     "output_type": "execute_result"
    }
   ],
   "source": [
    "values"
   ]
  }
 ],
 "metadata": {
  "kernelspec": {
   "display_name": "Python 3 (ipykernel)",
   "language": "python",
   "name": "python3"
  },
  "language_info": {
   "codemirror_mode": {
    "name": "ipython",
    "version": 3
   },
   "file_extension": ".py",
   "mimetype": "text/x-python",
   "name": "python",
   "nbconvert_exporter": "python",
   "pygments_lexer": "ipython3",
   "version": "3.10.15"
  }
 },
 "nbformat": 4,
 "nbformat_minor": 5
}
