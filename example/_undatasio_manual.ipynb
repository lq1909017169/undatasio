{
 "cells": [
  {
   "cell_type": "markdown",
   "id": "879f36ae-74bb-4044-bd15-7dea4c695b26",
   "metadata": {},
   "source": [
    "![](example_content/undatasio_example.png)"
   ]
  },
  {
   "cell_type": "markdown",
   "id": "ee2ef50b-fbe3-4819-ba4b-435ebc4714a4",
   "metadata": {},
   "source": [
    "# If this is your first time learning about the Undatasio platform or viewing an Undatasio notebook example, this file will guide you through using Undatasio and help you better understand the platform."
   ]
  },
  {
   "cell_type": "markdown",
   "id": "ada737a2-b99a-4f65-ad0b-3e6343c2bbd1",
   "metadata": {
    "tags": []
   },
   "source": [
    "* First, understand what Undatasio can do for you and its purpose. The Undatasio platform processes unstructured data, such as PDFs, Word documents, videos, and audio, and generates directly accessible text files like Markdown, JSON, and TXT."
   ]
  },
  {
   "cell_type": "markdown",
   "id": "4107fdc6-7bd3-47c2-81ff-bea4225c9379",
   "metadata": {},
   "source": [
    "- - -"
   ]
  },
  {
   "cell_type": "markdown",
   "id": "edb5232a-1394-4fda-91c7-3d8780030eea",
   "metadata": {},
   "source": [
    "##### OK, you now have a general understanding of the Undatasio platform's functionality. Next, I'll explain how to use the platform and obtain an API token. With the token, you can use the Undatasio Python SDK, which makes using Undatasio more convenient."
   ]
  },
  {
   "cell_type": "markdown",
   "id": "415a57c9-4094-42c0-a1ec-28abee0a9a0e",
   "metadata": {},
   "source": [
    "### Step 1: We need to register an Undatasio account."
   ]
  },
  {
   "cell_type": "markdown",
   "id": "eb8e5562-214c-4d83-b68d-8e495e6459a5",
   "metadata": {},
   "source": [
    "> This is the entry point/URL for the [undatasio platform](https://platform.undatas.io/login).\n",
    "\n",
    "> If you would like to learn more about the undatasio platform, you can visit the [undatasio portal](https://undatas.io/)."
   ]
  },
  {
   "cell_type": "markdown",
   "id": "da8f6677-94e0-4f4b-a61d-12a209337a38",
   "metadata": {
    "tags": []
   },
   "source": [
    "![](example_content/undatasio_login.png)"
   ]
  },
  {
   "cell_type": "markdown",
   "id": "c08188c8-3035-41a0-bc70-e296ce62bfa1",
   "metadata": {},
   "source": [
    "* On this webpage, you can register and log in directly using your Google account. Alternatively, you can use another email address to receive a 5-digit verification code from the undatasio platform. Once verified, you will be registered and logged in."
   ]
  },
  {
   "cell_type": "markdown",
   "id": "40dfc916-cb45-454d-be2f-f9bc6347e8fb",
   "metadata": {},
   "source": [
    "### Step 2: Using the undatasio platform."
   ]
  },
  {
   "cell_type": "markdown",
   "id": "c7881a5a-0a85-45ea-96f3-086731b0b33b",
   "metadata": {},
   "source": [
    "* You can view the undatasio platform usage process in the [YouTube](https://www.youtube.com/watch?v=K6JbglqlO9g&t=1s) video."
   ]
  },
  {
   "cell_type": "markdown",
   "id": "4a826be5-9c49-473d-8217-854d5f8af1df",
   "metadata": {},
   "source": [
    "### Step 3: Get user token."
   ]
  },
  {
   "cell_type": "markdown",
   "id": "a1a29865-12bf-46e7-9c3a-73b64bd542ba",
   "metadata": {},
   "source": [
    "![](example_content/undatasio_api_key.png)"
   ]
  },
  {
   "cell_type": "markdown",
   "id": "21ffc60f-30bc-47a8-8ecb-a0ff77076985",
   "metadata": {},
   "source": [
    "* Click on the \"Usage\" page under your user profile picture. Then, on this page, click on \"API-keys\" in the sidebar to display your API keys."
   ]
  },
  {
   "cell_type": "markdown",
   "id": "3c3230b4-43fc-4453-984d-04001a7a22f5",
   "metadata": {},
   "source": [
    "### Finally, you can use the undatasio platform and the undatasio Python SDK."
   ]
  },
  {
   "cell_type": "markdown",
   "id": "27884bb0-4e3f-44b9-ac4d-500f1efbe07d",
   "metadata": {},
   "source": [
    "### Have a great experience! 😀"
   ]
  }
 ],
 "metadata": {
  "kernelspec": {
   "display_name": "Python 3 (ipykernel)",
   "language": "python",
   "name": "python3"
  },
  "language_info": {
   "codemirror_mode": {
    "name": "ipython",
    "version": 3
   },
   "file_extension": ".py",
   "mimetype": "text/x-python",
   "name": "python",
   "nbconvert_exporter": "python",
   "pygments_lexer": "ipython3",
   "version": "3.10.15"
  }
 },
 "nbformat": 4,
 "nbformat_minor": 5
}
