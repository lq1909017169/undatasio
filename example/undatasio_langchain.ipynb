{
 "cells": [
  {
   "cell_type": "code",
   "execution_count": 2,
   "id": "ff0732f7-b293-45bd-a7a1-0e0cb945246a",
   "metadata": {
    "scrolled": true
   },
   "outputs": [
    {
     "name": "stdout",
     "output_type": "stream",
     "text": [
      "Requirement already satisfied: undatasio in /Users/stay/anaconda3/envs/undatasio/lib/python3.10/site-packages (0.1.6)\n",
      "Requirement already satisfied: requests~=2.32.3 in /Users/stay/anaconda3/envs/undatasio/lib/python3.10/site-packages (from undatasio) (2.32.3)\n",
      "Requirement already satisfied: requests-toolbelt==1.0.0 in /Users/stay/anaconda3/envs/undatasio/lib/python3.10/site-packages (from undatasio) (1.0.0)\n",
      "Requirement already satisfied: charset-normalizer<4,>=2 in /Users/stay/anaconda3/envs/undatasio/lib/python3.10/site-packages (from requests~=2.32.3->undatasio) (3.3.2)\n",
      "Requirement already satisfied: idna<4,>=2.5 in /Users/stay/anaconda3/envs/undatasio/lib/python3.10/site-packages (from requests~=2.32.3->undatasio) (3.10)\n",
      "Requirement already satisfied: urllib3<3,>=1.21.1 in /Users/stay/anaconda3/envs/undatasio/lib/python3.10/site-packages (from requests~=2.32.3->undatasio) (2.2.3)\n",
      "Requirement already satisfied: certifi>=2017.4.17 in /Users/stay/anaconda3/envs/undatasio/lib/python3.10/site-packages (from requests~=2.32.3->undatasio) (2024.8.30)\n"
     ]
    }
   ],
   "source": [
    "# install undatasio\n",
    "!pip install undatasio"
   ]
  },
  {
   "cell_type": "code",
   "execution_count": 10,
   "id": "57ee0e0b-b16c-42a8-97a6-4816f673b9a6",
   "metadata": {},
   "outputs": [],
   "source": [
    "from undatasio.undatasio import UnDatasIO\n",
    "\n",
    "undatasio_obj = UnDatasIO('025ae1da7598456daa802fef7873e31b')"
   ]
  },
  {
   "cell_type": "code",
   "execution_count": 11,
   "id": "b2d91f03-8f4d-48c1-a6fa-cf38d316c23a",
   "metadata": {
    "scrolled": true
   },
   "outputs": [
    {
     "data": {
      "text/plain": [
       "{'code': 200,\n",
       " 'msg': 'success',\n",
       " 'data': [{'title': '1 files',\n",
       "   'version': 'v25',\n",
       "   'count': 1,\n",
       "   'file_name': ['页面提取自－VAR：风险价值—金融风险管理新标准.pdf']},\n",
       "  {'title': '1 files', 'version': 'v24', 'count': 1, 'file_name': ['100.pdf']},\n",
       "  {'title': '1 files', 'version': 'v23', 'count': 1, 'file_name': ['100.pdf']},\n",
       "  {'title': '2 files',\n",
       "   'version': 'v22',\n",
       "   'count': 2,\n",
       "   'file_name': ['棉花标准仓单销售合同.pdf', '调整组合结构应对短期波折基金每日资讯20150608.pdf']},\n",
       "  {'title': '3 files',\n",
       "   'version': 'v21',\n",
       "   'count': 3,\n",
       "   'file_name': ['高杠杆分级基金估值风险上升基金周报20110225.pdf',\n",
       "    '风险化解紧迫信托保障基金成立提速每日基金资讯20140905.pdf',\n",
       "    '短期震荡格局延续稳健操作关注主题公募基金周报20140825.pdf']},\n",
       "  {'title': '1 files',\n",
       "   'version': 'v20',\n",
       "   'count': 1,\n",
       "   'file_name': ['借款合同-借款合同.pdf']},\n",
       "  {'title': '1 files',\n",
       "   'version': 'v19',\n",
       "   'count': 1,\n",
       "   'file_name': ['借款合同-借款合同.pdf']},\n",
       "  {'title': '1 files',\n",
       "   'version': 'v18',\n",
       "   'count': 1,\n",
       "   'file_name': ['借款合同-借款合同.pdf']},\n",
       "  {'title': '专业合同解析',\n",
       "   'version': 'v17',\n",
       "   'count': 2,\n",
       "   'file_name': ['调整组合结构应对短期波折基金每日资讯20150608.pdf', '棉花标准仓单销售合同.pdf']},\n",
       "  {'title': '1 files',\n",
       "   'version': 'v16',\n",
       "   'count': 1,\n",
       "   'file_name': ['漩涡中的信用衍生产品.pdf']},\n",
       "  {'title': '1 files',\n",
       "   'version': 'v15',\n",
       "   'count': 1,\n",
       "   'file_name': ['漩涡中的信用衍生产品.pdf']},\n",
       "  {'title': '1 files',\n",
       "   'version': 'v14',\n",
       "   'count': 1,\n",
       "   'file_name': ['漩涡中的信用衍生产品.pdf']},\n",
       "  {'title': '1 files',\n",
       "   'version': 'v13',\n",
       "   'count': 1,\n",
       "   'file_name': ['漩涡中的信用衍生产品.pdf']},\n",
       "  {'title': '1 files',\n",
       "   'version': 'v12',\n",
       "   'count': 1,\n",
       "   'file_name': ['漩涡中的信用衍生产品.pdf']},\n",
       "  {'title': '1 files',\n",
       "   'version': 'v11',\n",
       "   'count': 1,\n",
       "   'file_name': ['漩涡中的信用衍生产品.pdf']},\n",
       "  {'title': '1 files',\n",
       "   'version': 'v10',\n",
       "   'count': 1,\n",
       "   'file_name': ['漩涡中的信用衍生产品.pdf']},\n",
       "  {'title': '1 files',\n",
       "   'version': 'v9',\n",
       "   'count': 1,\n",
       "   'file_name': ['漩涡中的信用衍生产品.pdf']},\n",
       "  {'title': '1 files',\n",
       "   'version': 'v8',\n",
       "   'count': 1,\n",
       "   'file_name': ['漩涡中的信用衍生产品.pdf']},\n",
       "  {'title': '1 files',\n",
       "   'version': 'v7',\n",
       "   'count': 1,\n",
       "   'file_name': ['漩涡中的信用衍生产品.pdf']},\n",
       "  {'title': '1 files',\n",
       "   'version': 'v6',\n",
       "   'count': 1,\n",
       "   'file_name': ['漩涡中的信用衍生产品.pdf']},\n",
       "  {'title': '1 files',\n",
       "   'version': 'v5',\n",
       "   'count': 1,\n",
       "   'file_name': ['调整组合结构应对短期波折基金每日资讯20150608.pdf']},\n",
       "  {'title': '1 files',\n",
       "   'version': 'v4',\n",
       "   'count': 1,\n",
       "   'file_name': ['调整组合结构应对短期波折基金每日资讯20150608.pdf']},\n",
       "  {'title': '1 files',\n",
       "   'version': 'v2',\n",
       "   'count': 1,\n",
       "   'file_name': ['调整组合结构应对短期波折基金每日资讯20150608.pdf']},\n",
       "  {'title': '4 files',\n",
       "   'version': 'v1',\n",
       "   'count': 4,\n",
       "   'file_name': ['EditablePureText.pdf',\n",
       "    'PlainText.pdf',\n",
       "    'PureTable.pdf',\n",
       "    'PureFormula.pdf']}]}"
      ]
     },
     "execution_count": 11,
     "metadata": {},
     "output_type": "execute_result"
    }
   ],
   "source": [
    "version_data = undatasio_obj.show_version()\n",
    "version_data"
   ]
  },
  {
   "cell_type": "code",
   "execution_count": 12,
   "id": "9dc9912e-056c-4193-98b5-cb17999e7bc3",
   "metadata": {},
   "outputs": [
    {
     "ename": "AttributeError",
     "evalue": "'UnDatasIO' object has no attribute 'get_result_to_langchain_document'",
     "output_type": "error",
     "traceback": [
      "\u001b[0;31m---------------------------------------------------------------------------\u001b[0m",
      "\u001b[0;31mAttributeError\u001b[0m                            Traceback (most recent call last)",
      "Cell \u001b[0;32mIn[12], line 1\u001b[0m\n\u001b[0;32m----> 1\u001b[0m lc_document \u001b[38;5;241m=\u001b[39m \u001b[43mundatasio_obj\u001b[49m\u001b[38;5;241;43m.\u001b[39;49m\u001b[43mget_result_to_langchain_document\u001b[49m(\n\u001b[1;32m      2\u001b[0m     type_info\u001b[38;5;241m=\u001b[39m[\u001b[38;5;124m'\u001b[39m\u001b[38;5;124mtext\u001b[39m\u001b[38;5;124m'\u001b[39m],\n\u001b[1;32m      3\u001b[0m     file_name\u001b[38;5;241m=\u001b[39m\u001b[38;5;124m'\u001b[39m\u001b[38;5;124m棉花标准仓单销售合同.pdf\u001b[39m\u001b[38;5;124m'\u001b[39m,\n\u001b[1;32m      4\u001b[0m     version\u001b[38;5;241m=\u001b[39m\u001b[38;5;124m'\u001b[39m\u001b[38;5;124mv22\u001b[39m\u001b[38;5;124m'\u001b[39m\n\u001b[1;32m      5\u001b[0m )\n\u001b[1;32m      6\u001b[0m lc_document\n",
      "\u001b[0;31mAttributeError\u001b[0m: 'UnDatasIO' object has no attribute 'get_result_to_langchain_document'"
     ]
    }
   ],
   "source": [
    "lc_document = undatasio_obj.get_result_to_langchain_document(\n",
    "    type_info=['text'],\n",
    "    file_name='棉花标准仓单销售合同.pdf',\n",
    "    version='v22'\n",
    ")\n",
    "lc_document"
   ]
  }
 ],
 "metadata": {
  "kernelspec": {
   "display_name": "Python 3 (ipykernel)",
   "language": "python",
   "name": "python3"
  },
  "language_info": {
   "codemirror_mode": {
    "name": "ipython",
    "version": 3
   },
   "file_extension": ".py",
   "mimetype": "text/x-python",
   "name": "python",
   "nbconvert_exporter": "python",
   "pygments_lexer": "ipython3",
   "version": "3.10.15"
  }
 },
 "nbformat": 4,
 "nbformat_minor": 5
}
