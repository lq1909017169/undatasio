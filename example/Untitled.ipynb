{
 "cells": [
  {
   "cell_type": "code",
   "execution_count": null,
   "id": "15080530-70f0-42d9-bee9-010055d449dd",
   "metadata": {},
   "outputs": [],
   "source": [
    "# install undatasio\n",
    "!pip install -U undatasio"
   ]
  },
  {
   "cell_type": "code",
   "execution_count": null,
   "id": "1f17ef7e-12fa-40b4-b5fb-fb3a6b3a00e1",
   "metadata": {},
   "outputs": [],
   "source": [
    "from undatasio.undatasio import UnDatasIO\n",
    "\n",
    "undatasio_obj = UnDatasIO('025ae1da7598456daa802fef7873e31b')"
   ]
  },
  {
   "cell_type": "code",
   "execution_count": null,
   "id": "0fc7d675-1947-4624-a385-a2cc86237741",
   "metadata": {},
   "outputs": [],
   "source": [
    "version_data = undatasio_obj.show_version()\n",
    "version_data"
   ]
  }
 ],
 "metadata": {
  "kernelspec": {
   "display_name": "Python 3 (ipykernel)",
   "language": "python",
   "name": "python3"
  },
  "language_info": {
   "codemirror_mode": {
    "name": "ipython",
    "version": 3
   },
   "file_extension": ".py",
   "mimetype": "text/x-python",
   "name": "python",
   "nbconvert_exporter": "python",
   "pygments_lexer": "ipython3",
   "version": "3.10.15"
  }
 },
 "nbformat": 4,
 "nbformat_minor": 5
}
