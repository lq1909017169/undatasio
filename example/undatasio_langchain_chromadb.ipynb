{
 "cells": [
  {
   "cell_type": "markdown",
   "id": "00e40158-dac3-4369-9c78-029372d9c050",
   "metadata": {},
   "source": [
    "# Example of combining undatasio PDF parsing with Langchain and ChromaDB."
   ]
  },
  {
   "cell_type": "markdown",
   "id": "48acf642-e1e7-44d8-9df6-969095de3d13",
   "metadata": {},
   "source": [
    "![](example_content/undatasio_example.png)"
   ]
  },
  {
   "cell_type": "markdown",
   "id": "768aa116-9372-41ce-a2bf-fe0958478993",
   "metadata": {},
   "source": [
    "_By stay, Tech Enthusiast @Undatasio_"
   ]
  },
  {
   "cell_type": "markdown",
   "id": "89577210-1ede-4511-9026-b17308cbfda7",
   "metadata": {},
   "source": [
    "- - -"
   ]
  },
  {
   "cell_type": "markdown",
   "id": "b9786e37-c83b-4613-93fe-9ace19a8e51b",
   "metadata": {},
   "source": [
    "#### Installing the **Undatasio** Python API library"
   ]
  },
  {
   "cell_type": "code",
   "execution_count": 1,
   "id": "1e9a788c-fa2b-4efe-9ae0-986981743e19",
   "metadata": {},
   "outputs": [],
   "source": [
    "# install undatasio\n",
    "!pip install -U -q undatasio"
   ]
  },
  {
   "cell_type": "markdown",
   "id": "fcf0d7fa-e038-4ce6-a263-b3d2d406ba90",
   "metadata": {},
   "source": [
    "**Install the **python-dotenv** module and load environment variables using the **load_dotenv()** function.**\n",
    "\n",
    "> If you are unsure which environment variables are required, you can check the file named dev.env for explanations of the environment variables."
   ]
  },
  {
   "cell_type": "code",
   "execution_count": 2,
   "id": "b932b3f8-cae6-4ca5-a8ca-f82ffd20e55c",
   "metadata": {},
   "outputs": [
    {
     "name": "stdout",
     "output_type": "stream",
     "text": [
      "Collecting package metadata (current_repodata.json): ...working... done\n",
      "Solving environment: ...working... done\n",
      "\n",
      "# All requested packages already installed.\n",
      "\n"
     ]
    }
   ],
   "source": [
    "!conda install -c conda-forge python-dotenv -y -q"
   ]
  },
  {
   "cell_type": "code",
   "execution_count": 3,
   "id": "19fbe00e-917e-4f9c-847a-f38bf9830967",
   "metadata": {},
   "outputs": [
    {
     "data": {
      "text/plain": [
       "True"
      ]
     },
     "execution_count": 3,
     "metadata": {},
     "output_type": "execute_result"
    }
   ],
   "source": [
    "import os\n",
    "from dotenv import load_dotenv\n",
    "\n",
    "load_dotenv('.env')"
   ]
  },
  {
   "cell_type": "markdown",
   "id": "424d3894-8294-4fb8-bd1b-0b050e27b961",
   "metadata": {},
   "source": [
    "#### Use the Undatasio python SDK\n",
    "_To import an **UnDataIO** object, you need a token and an optional task name from the Undatasio platform._"
   ]
  },
  {
   "cell_type": "code",
   "execution_count": 4,
   "id": "d2f31fc1-8ed2-4ab9-9738-06d0984e338b",
   "metadata": {},
   "outputs": [],
   "source": [
    "from undatasio.undatasio import UnDatasIO\n",
    "\n",
    "undatasio_obj = UnDatasIO(os.getenv(\"UNDATASIO_API_KEY\"))"
   ]
  },
  {
   "cell_type": "markdown",
   "id": "93d8d41b-0e3f-4112-8057-a6e951f50f2e",
   "metadata": {},
   "source": [
    "_The **get_result_to_langchain_document** function of the Undatasio object returns a Langchain Document object. Parameters for this function can be gleaned from the data returned by the **show_version** function._"
   ]
  },
  {
   "cell_type": "code",
   "execution_count": 5,
   "id": "3d47b187-f1d5-4e76-b060-757df78f2f3b",
   "metadata": {
    "scrolled": true
   },
   "outputs": [
    {
     "data": {
      "text/plain": [
       "Document(metadata={'source': '_v26_1d8c9bc374114b6e901da.pdf_[text]'}, page_content='2. Profit-takingxpullback has developed into a minor correction. While the10\\\\%\\ncorrection Since mid-May is broadly in-line with the historical norms of most technical\\n bull runs, the six-week market weakness has prompted increasing investor questions\\nabout the strengthof thepolicy put, and concerns regarding a redux of the powerful but\\nshort-livedRe0peningrallyinlate2022/early2023.Empirically,inthe23episodesinthe\\npast 20 years where MSCl China rallied more than20\\\\%, the market almost in all cases\\n(22 out of 23) experienced at least a5\\\\% pullback after entering a technical bull phase.\\nThese corrections averaged12\\\\%by magnitude, and 32 days in duration, although their\\nsubsequent return trajectory varied significantly post the initial retreat, with earnings\\naccrual/upgrades typically taking over from valuation to drive further gains when these\\nupswings transitioned into a fundamental-led cycle. See point 6 for detail.\\nSource:FactSet,MSCl,GoldmanSachsGlobalInvestmentResearch\\n3.All eyes are on the July policy meetings. July will be a hectic month for China\\npolicy watchers: The Third Plenum of the Chinese Communist Party is scheduled for July\\n15 to 18, followed by the economically-focused Politburo meeting in July, usually\\nconvened end of the month. As detailed in their Third Plenum preview note, our\\neconomists expect the reform focus to be on both containing left-tail risks and growing\\nright-tail potential for China in the \"post-property\" era, with fiscal/tax and land reforms\\npossibly taking the center stage. However, \"big bazooka\" policy surprises that some\\ninvestors have hoped for since the onset of the housing market downturn remain\\nunlikely. Indeed, both onshore and offshore investors we have met in the past month\\nare somewhat disappointed with the policy intensity, efficacy, and momentum since the\\nApril Politburo meeting, and their expectations on additional stimulus and major\\nreform breakthroughs from the July policy meetings are conservative across the\\nbroad. A few clients even expressed concerns about downside policy risks relatingjtol :$\\nconsumption tax hikes and other contractionary fiscal policy (e.g. tax investigation for\\ncorporates).\\n5. A tepid recovery in sentiment and flows. \"What could turn things around?\" was\\nheavilyfeaturedinmanyofourclientconversations,reflectingcontinuedreluctance\\nfrom fundamental investors to underwrite Chinese growth beyond the short term, in our\\nview.However,the+30\\\\%rally(\\\\mathsf{U S S1.5t n}increaseinmarketcap)inthesecondlargest\\nequitymarketgloballyhasmarginallyhelpedreviveinvestorinterestinChinese\\nequity,evidencedbytherisingturnoverinandthestrongSouthboundflowsintothe\\nHong Kong market, and the reopening of the capital market for Chinese corporates in\\n2Q, led by CB issuances. But, fund positioning and portfolio flows haven\\'t fully\\ncaughtupwiththeimprovedsentiment:mutualfund andhedgefundexposuresto\\nChina equity are still at the low-end of the historical ranges, onshore mutual funds\\' cash\\nratios are atrecent-year highs, and local retail flows(proxied by mutual fund subscription\\nand margin financing balance in A shares) have been stagnated for several months.\\nBesides Southbound buying, which has amounted to US$48bn ytd compared to\\nonshore ETF trading and inflows in the past week, suggesting to us that the\\ncommitment and readiness for government intervention is still strong when SHCOMP is\\nnear or below the 3,0o0 psychological threshold.\\n6.Earningshavebeendelivered,veryselectively.MSCIChinareceiveditsfirst\\nmonthly consensus earnings upgrade in May in the past 12 months, offering investors a\\nglimmer of hope that the protracted earnings downcycle is near the tail end. We hold a\\nneutral view on earnings and reiterate our\\\\scriptstyle{\\\\mathfrak{s}}\\\\%EPS growth assumption for MScl\\nChinain2024,considering: 1)sell-side consensus forecast of12\\\\%and14\\\\%EPS\\ngrowth for 2024 and 2025 still looks overly optimistic, even taking technical factors\\n(dilution,indexrebalancing)andsectorrepresentationissuesintoaccount; 2)the\\nupgrades have only manifested in the TMT and service-oriented sectors but the top-line \\nand profitability headwinds are still in place for the property and manufacturingcohorts;\\n3) high-frequency profit indicators for 2Q suggest that the earnings momentum for the\\nbroader market may have stabilized, but seems prematurejtocall for an inflection point.\\nEncouragingly, from our extensive discussions with China-focused analysts and PMs,\\nbuy-side earnings growth expectations seem to be around mid-single-digit territory,\\nimplying that the potential earnings misses to sell-side expectations may not be as\\ninfluential to equityprices as the headline numbers would suggest.\\nSource: FactSet, MSCl, CSI, IBES, Goldman Sachs Global Investment Research\\n7. Left tail risks have been curtailed in equity valuations. The latest correction has\\nlowered MSCl China fP/E from10.6\\\\timesat recent peaks to9.2\\\\timesat present, and from12.2\\\\times\\nto11.4\\\\timesfor A shares, but still meaningfully above the lows of7.9\\\\timesand9.6\\\\timesin late\\nJanuary respectively. The policy put—spanning conventional macro policy, the housing\\nmarket,andthecapitalmarkets—hashelpedcontainedsystemicrisksstemmingfrom\\nLGFVs and property-related assets, thereby catalyzing the tail-risk-compression rally in\\nequities from April to May, and providing a floor to valuation. Our macro-derived\\n10.5\\\\times\\nmacro outlooks per GS forecasts, suggesting moderate potential re-rating:gains from\\nhere. On our central premise that the strike price of the policy putisunlikely to be raised\\nand further policy delivery on housing will be made, we see the risk to valuation\\n更多\\nfavorablyskewedtotheupside\\n70\\nSource:GoldmanSachs Global Investment Research\\n8. Tariff risks may keep some investors at bay before the US election. The\\nforthcoming US presidential election and its implications on China are top-of-mind. The\\n10. The \"Returns\" of \"Shareholders\" in China. Despite its outperformance in past few\\nyears, we believe the theme of shareholder returns will continue to produce strong and\\nstable returns for equity investors for five reasons: a) strong policy push and delivery to\\nimprove shareholder returns; b) Additional fiscal revenue for financially-strained\\ngovernments: every 1pp rise in payout ratios could raise fiscal revenue by Rmb23bn; c)\\nChina\\'s ability to return cash to shareholders looks promising——low payout ratios (30\\\\%+)\\nbut with record-high cash balances (Rmb18tn) and free cashflows (FY23: Rmb2.6tn); d)\\nstable dividend incomes are attractively priced in China where rates are falling; and, e)\\nlikelystructural demand forstableincomesfrom domesticinstitutionalinvestors.We\\nconstruct a China Shareholder Returns Portfolio, which consists of 3 broad equity\\ncohorts-StableCashCows,Dividend/buybacksurprisecandidates,andSelect\\nexpected togenerate3\\\\%shareholder return yields and5\\\\%FCF yields in 2024 on16\\\\%\\ncash/marketcapratioatmedianstock.\\nWe, Kinger Lau, CFA, Timothy Moe, CFA, Si Fu, Ph.D. and Kevin Wang, CFA, hereby certify that all of the views expressed in this report accurately\\nreflect our personal views, which have not been influenced by considerations of the firm\\'s business or client relationships.\\nUnless otherwise stated, the individuals listed on the cover page of this report are analysts in Goldman Sachs\\' Global Investment Research division.\\nSee company-specific regulatory disclosures above for any of the following disclosures required as to companies referred to in this report: manager or\\nco-manager inapendingtransaction;\\\\uparrow\\\\%or other ownership; compensation for certain services; types of client relationships; managed/co-managed\\npublic offeringsinpriorperiods; directorships;for equitysecurities, market making and/orspecialistrole.GoldmanSachs trades or maytrade as a\\nprincipal indebtsecurities(or inrelatedderivatives)ofissuersdiscussed in thisreport.\\nThe following are additional required disclosures: Ownership and material conflicts of interest: Goldman Sachs policy prohibits its analysts,\\nprofessionals reporting to analysts and members of their households from owning securities of any company in the analyst\\'s area of coverage.\\nAnalyst compensation: Analysts are paid in part based on the profitability of Goldman Sachs, which includes investment banking revenues. Analyst\\nas officer or director: Goldman Sachs policy generally prohibits its analysts, persons reporting to analysts or members of their households from\\nserving as an officer, director or advisor of any company in thelanalyst\\'s area of coverage. Non-U.s.Analysts: Non-U.S. analysts may not be\\nassociated persons of Goldman Sachs & Co. LLC and therefore may not be subject to FINRA Rule 2241 or FINRA Rule 2242 restrictions on\\ncommunications with subject company, public appearances and trading securities held by the analysts.\\nThefollowingdisclosuresarethoserequiredbythejurisdiction indicated,excepttotheextent alreadymade abovepursuanttoUnitedStateslawsand\\nregulations.Australia: Goldman Sachs Australia PtyLtd and its affiliates are not authorised deposit-taking institutions (as that term is defined in the\\nBanking Act 1959 (Cth) in Australia and do not provide banking services, nor carry on a banking business, in Australia. This research, and any access to\\nit, is intended only for\"wholesale clients\"within the meaning of the Australian Corporations Act, unless otherwise agreed by Goldman Sachs. In\\nproducing research reports, members of Global Investment Research of GoldmanSachs Australia may attend site visits and other meetings hosted by\\nthe companies and other entities which are the subject of its research reports. In some instances the costs of such site visits or meetings may be met\\nin part or in whole by the issuers concerned if Goldman Sachs Australia considers it is appropriate and reasonable in the specific circumstances relating\\nto the site visit or meeting. To the extent that the contents of this document contains any financial product advice, it is general advice only and has\\nbeen prepared by Goldman Sachs without taking into account a client\\'s objectives, financial situation or needs. A client should, before acting on any\\nsuch advice, consider the appropriateness of the advice having regard to the client\\'s own objectives,financial situation and needs. A copy of certain\\nGoldman Sachs Australia and New Zealand disclosure of interests and a copy of Goldman Sachs\\' Australian Sel-Side Research Independence Policy\\nStatement are available at: https://www.goldmansachs.com/disclosures/australia-new-zealand/index.html. Brazil: Disclosure information in relation to\\n CVM Resolution n. 20 is available at https://www.gs.com/worldwide/brazil/area/gir/index.html. Where applicable, the Brazil-registered analyst primarily\\nresponsibleforthecontent of this researchreport, asdefined inArticle20of CVMResolutionn.20, is thefirst author named atthebeginning of this\\nreport, unless indicated otherwise at the end of the text. Canada: This information is being provided to you for information purposes only and is not,\\nand under no circumstances should be construed as, an advertisement, offering or solicitation by Goldman Sachs & Co. LLC for purchasers of\\nsecurities in Canada to trade in any Canadian security.GoldmanSachs& Co.LLC is not registered as a dealer in anyjurisdiction in Canada under\\napplicableCanadiansecuritieslawsandgenerallyisnotpermittedtotradeinCanadiansecuritiesandmaybeprohibitedfromsellingcertainsecurities\\nandproductsincertainjurisdictionsinCanada.IfyouwishtotradeinanyCanadiansecuritiesorotherproductsinCanadapleasecontactGoldman\\nSachsCanadaInc.,anaffiliateof TheGoldmanSachsGroupInc.,OranotherregisteredCanadiandealer.HongKong:Furtherinformation onthe\\nsecurities of covered companiesreferred toin thisresearch maybe obtained onrequest from GoldmanSachs(Asia)L.L.C.India:Furtherinformation\\non the subject company or companies referred to in this research may be obtained from Goldman Sachs (India) Securities Private Limited, Research\\nAnalyst-SEBI RegistrationNumberINH000001493,951-A,Rational House,AppasahebMaratheMarg,Prabhadevi,Mumbai400025,India,Corporate\\nIdentity Number U74140MH2006FTC160634, Phone+912266169000,Fax+9122 6616 9001. Goldman Sachs may beneficially own1\\\\%Ormoreof\\nthe securities (as such term is defined in clause 2 (h) the Indian Securities Contracts (Regulation) Act,Jj1956) of the subject company or companies\\nreferred toin thisresearchreport. Investment insecuritiesmarket aresubjecttomarketrisks.Read\\'all therelated documents carefullybefore\\ninvesting. Registration granted by SEBl and certification from NiSM in no way guaranteeperformance of the intermediary or provide any assurance of\\nreturns to investors. Goldman Sachs (India) Securities Private Limited Investor Grievance E-mail: india-client-support@gs.com. Compliance Officer: Anil\\nRajputITel:+\\\\;9\\\\uparrow22 6616 9000|Email: anil.m.rajput@gs.com.Japan: See below.Korea:This research,and any access to it, is intended only for\\n\\'professional investors\"within the meaning of the Financial Services and Capital Markets Act, unless otherwise agreed by Goldman Sachs. Further\\ninformation on the subject company or companies referred to\\'in this research may be obtained from Goldman Sachs (Asia) L.L.C., Seoul Branch. New\\nZealand:GoldmanSachs NewZealand Limited and its affiliates are neither\"registered banks\"nor\"deposit takers\"(as defined in the ReserveBank of\\nNewZealand Act 1989) inNewZealand.This research,and any accesstoit, is intended for\"wholesaleclients\"(as defined in theFinancialAdvisers Act\\n2008) unless otherwise agreed by Goldman Sachs. A copy of certain Goldman Sachs Australia and New Zealand disclosure of interests is available at:\\nhttps://www.goldmansachs.com/disclosures/australia-new-zealand/index.html. Russia: Research reports distributed in the Russian Federation are not\\nadvertising asdefinedintheRussianlegislation,butareinformationand analysisnot havingproductpromotionas theirmainpurpose anddonot\\nprovide appraisallwithin the meaning of the Russianlegislation on appraisal activity.Research reports do not constitute a personalized investment\\nrecommendation as defined in Russian laws and regulations, are not addressed to a specific client, and are prepared without analyzing the financial\\ncircumstances,investmentprofilesorriskprofilesofclients.GoldmanSachsassumesnoresponsibilityforanyinvestmentdecisionsthatmaybetaken\\nby a client or any other person based on this research report. Singapore: Goldman Sachs (Singapore) Pte. (Company Number: 198602165W), which is\\nregulated by the Monetary Authority of Singapore, accepts legal responsibility for this research, and should be contacted with respect to any matters\\narisingfrom,orinconnectionwith,thisresearch.Taiwan:Thismaterialisforreferenceonlyandmustnotbereprintedwithoutpermission.Investors\\nshould carefully consider their own investment risk. Investment results are the responsibility of the individual investor. United Kingdom: Persons who\\nwould be categorized as retail clients in the United Kingdom, as such term is defined in the rules of the Financial Conduct Authority, should read this\\nresearch in conjunction with prior Goldman Sachs research on the covered companies referred to herein and should refer to the risk warnings that have\\nbeensenttothembyGoldmanSachsInternational.Acopyoftheseriskswarnings,andaglossaryofcertainfinancialtermsusedinthisreport,are\\navailable from Goldman Sachs International on request.\\nEuropeanUnion and United Kingdom:Disclosureinformation inrelationtoArticle6(2)of theEuropeanCommissionDelegated Regulation(EU)\\n(2016/958) supplementing Regulation(EU) No596/2014 of the EuropeanParliament and of the Council (including as that Delegated Regulation is\\nimplemented into United Kingdom domestic law and regulation following the United Kingdom\\'s departure from the European Union and the European\\nEconomicArea)withregardtoregulatorytechnicalstandardsforthetechnical arrangementsforobjectivepresentationofinvestment\\nrecommendations or other information recommending or suggesting an investment strategy and for disclosure of particular interests or indications of\\nconflicts of interest is available at https://www.gs.com/disclosures/europeanpolicy.html which states the European Policy for Managing Conflicts of\\nInterestinConnectionwithInvestment Research.\\nJapan: Goldman Sachs Japan Co., Ltd. is a Financial Instrument Dealer registered with the Kanto Financial Bureau under registration number Kinsho\\n69, and a member of Japan Securities Dealers Association, Financial Futures Association of Japan Type Il Financial Instruments Firms Association, The\\nInvestment Trusts Association, Japan, and Japan Investment Advisers Association. Sales and purchase of equities are subject to commission\\npre-determined with clients plus consumption tax. See company-specific disclosures as to any applicable disclosures required by Japanese stock\\nexchanges, the Japanese Securities Dealers Association or the Japanese Securities Finance Company.\\nGoldman Sachs Global Investment Research produces and distributes research products for clients of Goldman Sachs on a global basis. Analysts based\\ninGoldmanSachsofficesaroundtheworldproduceresearchon industries and companies,andresearchonmacroeconomics,currencies,commodities\\nand portfolio strategy. This research is disseminated in Australia by Goldman Sachs Australia Pty Ltd (ABN 21 006 797 897); in Brazi\\'by Goldman Sachs\\ndoBrasil CorretoradeTituloseValoresMobiliariosS.A.;PublicCommunicationChannel GoldmanSachsBrazil:08007275764 and/ or\\ncontatogoldmanbrasil@gs.com.AvailableWeekdays (except holidays),from9am to 6pm.Canal de Comunicacao com Publico GoldmanSachsBrasil:\\n0800 7275764 e/ou contatogoldmanbrasil@gs.com.Horario de funcionamento: segunda-feira a sexta-feira (excetoferiados), das 9h as 18h; in Canada\\nby Goldman Sachs & Co. LLC; in Hong Kong by Goldman Sachs (Asia) L.L.C.; in India by Goldman Sachs (India) Securities Private Ltd.; in Japan by\\nGoldman Sachs Japan Co., Ltd.; in the Republic of Korea by Goldman Sachs (Asia) L.L.C., Seoul Branch; in New Zealand by Goldman Sachs New\\nZealand Limited; in Russia by O0O Goldman Sachs; in Singapore by Goldman Sachs (Singapore) Pte. (Company Number: 198602165W); and in the\\nUnited States of America by Goldman Sachs & Co. LLC. Goldman Sachs International has approved this research in connection with its distribution in\\ntheUnitedKingdom.\\nGoldman Sachs International (\"GSl\"), authorised by the Prudential Regulation Authority (\"PRA\") and regulated by the Financial Conduct Authority\\n(\"FCA\") and the PRA, has approved this research,in connection with its distribution in the United Kingdom.\\nEuropean Economic Area: GSl, authorisedby the PRA and regulated by the FCA and the PRA, disseminates research in the following jurisdictions\\nwithin the European Economic Area: the Grand Duchy of Luxembourg, Italy, the Kingdom of Belgium, the Kingdom of Denmark, the Kingdom of\\nNorway, the Republic of Finland and the Republic of Ireland; GSl -Succursale de Paris (Paris branch) which is authorised by the French Autorité de\\ncontrole prudentielet de resolution (\"ACPR\") and regulated by the Autorité de controle prudentiel et de resolution and the Autorité des marches\\nfinanciers (\"AME\") disseminates research in France; GSl - Sucursal en Espana (Madrid branch) authorized in Spain by the Comision Nacional del\\nMercadodeValores disseminatesresearch in theKingdom of Spain;GSl-SwedenBankfilial(Stockholmbranch)is authorized by theSFSA as a\"third\\ncountry branch\" in accordance with Chapter 4, Section 4 of the Swedish Securities and Market Act (Sw. lag (2007:528) om vardepappersmarknaden)\\ndisseminates research in the Kingdom of Sweden; Goldman Sachs Bank Europe SE (\"GSBE\") is a credit institution incorporated in Germany and, within\\nthe Single Supervisory Mechanism, subject to direct prudential supervision by the European Central Bank and in other respects supervised by German\\nFederal Financial Supervisory Authority(Bundesanstalt fur Finanzdienstleistungsaufsicht, BaFin) and Deutsche Bundesbank and disseminates research\\nintheFederal RepublicofGermanyand thosejurisdictionswithintheEuropeanEconomicAreawhereGSlisnotauthorised todisseminateresearch\\nand additionally, GSBE, Copenhagen Branch filial af GSBE, Tyskland, supervised by the Danish Financial Authority disseminates research in the Kingdom\\nof Denmark; GSBE - Sucursal en Espana (Madrid branch) subject (to a limited extent) to local supervision by the Bank of Spain disseminates research in\\nthe Kingdom of Spain; GSBE - Succursale Italia (Milan branch) to the relevant applicable extent, subject to local supervision by the Bank of Italy (Banca\\nd\\'ltalia) and the Italian Companies and Exchange Commission(Commissione Nazionale per le Societae laBorsa\"Consob\")disseminatesresearch in\\nItaly; GSBE - Succursale de Paris (Paris branch), supervised by the AMF and by the ACPR disseminates research in France; and GSBE - Sweden\\nBankfilial (Stockholm branch), to a limited extent, subject to local supervision by the Swedish Financial Supervisory Authority (Finansinpektionen)\\ndisseminatesresearchintheKingdomofSweden.\\nconsider reliable, but we do not represent it is accurate or complete, and it should not be relied on as such. The information, opinions,estimates and\\nforecasts contained herein are as of the date hereof and are subject to change without prior notification. We seek to update our research as\\nappropriate, but various regulations may prevent us from doing so. Other than certain industry reports published on a periodic basis, the large majority\\nofreportsarepublishedatirregularintervalsasappropriateintheanalyst\\'sjudgment.inuy\\nGoldman Sachs conducts a global full-service, integrated investment banking, investment management, and brokerage business. We have investment\\nbankingandotherbusinessrelationshipswithasubstantialpercentageofthecompaniescoveredbyGlobalInvestmentResearch.GoldmanSachs&\\nOur salespeople, traders, and other professionals may provide oral or written market commentary or trading strategies to our clients and principal\\ntrading desks that reflect opinions that are contrary to the opinions expressed in this research. Our asset management area, principal trading desks and\\ninvesting businesses may make investment decisions that are jnconsistent with the recommendations or views expressed in this research.\\nWe and our affiliates, officers, directors, and employees will from time to time have long or short positions in, act as principal in, and buy or sell, the\\nsecurities or derivatives, if any, referred to in this research, unless otherwise prohibited by regulation or Goldman Sachs policy.\\nTheviews attributed to third partypresenters at GoldmanSachs arranged conferences,including individuals from other partsof GoldmanSachs, do not\\nnecessarilyreflectthoseofiGlobal InvestmentResearchandarenotanofficialviewofGoldmanSachs.\\nAny third party referenced herein, including any salespeople, traders and other professionals or members of their household, may have positions in the\\nproducts mentioned that are inconsistent with the views expressed by analysts named in this report.\\nThis research is focused on investment themes across markets, industries and sectors. It does not attempt to distinguish between the prospects or\\nperformance of, or provide analysis of, individual companies within any industry or sector we describe.\\nAnytradingrecommendationin thisresearchrelatingtoanequityorcreditsecurityorsecuritieswithinanindustryorsectorisreflectiveofthe\\ninvestmentthemebeingdiscussedandisnotarecommendationofanysuchsecurityinisolation.\\nThis research is not an offer to sell or the solicitation of an offer to buy any security in any jurisdiction where such an offer or solicitation would be\\nillegal. It does not constitute a personal recommendation or take into account the particular investment objectives, financial situations, or needs of\\nindividual clients.Clients should consider whether any advice orrecommendation inthis research is suitablefor their particular circumstances and, if\\nappropriate,seekprofessionaladvice,includingtaxadvice.Thepriceandvalueofinvestmentsreferredtointhisresearchandtheincomefromthem\\nmay fluctuate. Past performance is not a guide to future performance, future returns are not guaranteed, and a loss of original capital may occur.\\nFluctuationsinexchangeratescouldhaveadverseeffectsonthevalueorpriceof,orincomederivedfrom,certaininvestments.\\nCertain transactions, including those involving futures, options, and other derivatives, give rise to substantial risk and are not suitable for all investors\\nInvestors should review current options and futures disclosure documents which are available from Goldman Sachs sales representatives or at\\nhttps://www.theocc.com/about/publications/character-risks.jsp and\\nhttps://www.fiadocumentation.org/fia/regulatory-disclosures_1/fia-uniform-futures-and-options-on-futures-risk-disclosures-booklet-pdf-version-2018\\nTransaction costs may be significant in option strategies calling for multiple purchase and sales of options such as spreads. Supporting documentation\\nwillbesupplieduponrequest.\\nDiffering Levelsof Serviceprovided by Global Investment Research:Thelevel and types ofservicesprovided toyou by GoldmanSachs Global\\nInvestmentResearchmayvaryascomparedto thatprovidedtointernal and otherexternal clients ofGS,depending onvariousfactors includingyour\\nindividual preferences as to the frequency and manner of receiving communication, your risk profile and investment focus and perspective (e.g.,\\nmarketwide, sector specific, long term, short term),the size and scope of your overall client relationship with GS, and legal and regulatory constraints.\\nAs an example, certain clients may request to receive notifications when research on specific securities is published, and certain clients may request\\nthat specific data underlying analysts\\'fundamental analysis available on our internal client websites be delivered to them electronically through data\\nfeeds or otherwise. No change to an analyst\\'s fundamental research views (e.g., ratings, price targets, or material changes to earnings estimatesjfor\\nequity securities), will be communicated to any client prior to inclusion of such information in a research report broadly disseminated throuigh electronic\\n publication to our internal client websites or through other means, as necessary, to all clients who are entitled to receive such reports.K\\nAll research reports are disseminated and available to all clients simultaneously through electronic publication to ourinterhal client websites. Not all\\nresearch content is redistributed to our clients or available to third-party aggregators, nor is Goldman Sachs responsible for the redistribution of our\\nresearch by third party aggregators. For research, models or other data related to one or more securities/7markets or asset classes (including related\\nservices) that may be available to you, please contact your GS representative or go to https://research.gs.com.\\nDisclosure information is also available at https:/www.gs.com/research/hedge.html or from Research Compliance, 200 West Street, New York, NY\\n10282.\\nYou are permitted to store, display, analyze, modify, reformat, and print the information made available to you via this service only for your own use.\\nYou may not resell or reverse engineer this informatioh to calculate or develop any index for disclosure and/or marketing or create any other derivative\\nworks or commercial product(s), data or offering(s) without the express written consent of Goldman Sachs. You are not permitted to publish, transmit,\\nor otherwise reproduce this information, in whole or in part, in any format to any third party without the express written consent of Goldman Sachs.\\nThis foregoing restriction incluides, without limitation, using, extracting, downloading or retrieving this information, in whole or in part, to train or\\nfinetune a third-party machine learning or artificial intelligence system, or to provide or reproduce this information, in whole or in part, as a prompt or\\ninputtoanysuchsystem.\\n')"
      ]
     },
     "execution_count": 5,
     "metadata": {},
     "output_type": "execute_result"
    }
   ],
   "source": [
    "lc_document = undatasio_obj.get_result_to_langchain_document(\n",
    "    type_info=['text'],\n",
    "    file_name='1d8c9bc374114b6e901da.pdf',\n",
    "    version='v26'\n",
    ")\n",
    "lc_document"
   ]
  },
  {
   "cell_type": "markdown",
   "id": "7a204c31-f78c-49b3-8798-fe890a557135",
   "metadata": {},
   "source": [
    "#### Install the required third-party libraries."
   ]
  },
  {
   "cell_type": "code",
   "execution_count": 6,
   "id": "a02027fe-23f3-468e-8773-10f0e169f528",
   "metadata": {},
   "outputs": [],
   "source": [
    "!pip install -U -q langchain_chroma langchain_huggingface chromadb "
   ]
  },
  {
   "cell_type": "markdown",
   "id": "de07899b-bd12-4a68-8f00-4029e0d45249",
   "metadata": {},
   "source": [
    "Create a model object for **BAAI/bge-m3** from Hugging Face."
   ]
  },
  {
   "cell_type": "code",
   "execution_count": 7,
   "id": "2d99d366-2e5b-4936-93a4-c4d0e16519f6",
   "metadata": {},
   "outputs": [],
   "source": [
    "from langchain_huggingface import HuggingFaceEmbeddings\n",
    "\n",
    "model_name = \"BAAI/bge-m3\"\n",
    "model_kwargs = {'device': 'cpu'}\n",
    "encode_kwargs = {'normalize_embeddings': False}\n",
    "embedding = HuggingFaceEmbeddings(\n",
    "    model_name=model_name,\n",
    "    model_kwargs=model_kwargs,\n",
    "    encode_kwargs=encode_kwargs\n",
    ")"
   ]
  },
  {
   "cell_type": "markdown",
   "id": "fb47c70c-36b7-4acf-b25c-5558cfba5101",
   "metadata": {},
   "source": [
    "Initialize a **Chroma** object from **langchain_chroma**."
   ]
  },
  {
   "cell_type": "code",
   "execution_count": 8,
   "id": "65d5cd70-db63-480a-9c3b-fad8dfe2928b",
   "metadata": {},
   "outputs": [],
   "source": [
    "from langchain_chroma import Chroma\n",
    "\n",
    "vector_store = Chroma(\n",
    "    collection_name=\"foo\",\n",
    "    embedding_function=embedding,\n",
    "    # other params...\n",
    ")"
   ]
  },
  {
   "cell_type": "markdown",
   "id": "b100b109-d8a2-4507-a450-16bbbad9a936",
   "metadata": {},
   "source": [
    "Splitting a **LangChain Document** object using the **RecursiveCharacterTextSplitter** class."
   ]
  },
  {
   "cell_type": "code",
   "execution_count": 9,
   "id": "dde99ba1-883a-4187-a5f0-d2bfe3e59354",
   "metadata": {},
   "outputs": [],
   "source": [
    "from langchain.text_splitter import RecursiveCharacterTextSplitter\n",
    "\n",
    "text_splitter = RecursiveCharacterTextSplitter(chunk_size=200, chunk_overlap=20)\n",
    "docs = text_splitter.split_documents([lc_document])"
   ]
  },
  {
   "cell_type": "markdown",
   "id": "d7dcae1b-fd23-40ec-a642-700acc5ff623",
   "metadata": {},
   "source": [
    "Add the split text chunks to the vector store."
   ]
  },
  {
   "cell_type": "code",
   "execution_count": 10,
   "id": "5589536d-213b-4467-b075-9f4d1e2f4c01",
   "metadata": {
    "scrolled": true
   },
   "outputs": [
    {
     "data": {
      "text/plain": [
       "[\"page_content='2. Profit-takingxpullback has developed into a minor correction. While the10\\\\%\\ncorrection Since mid-May is broadly in-line with the historical norms of most technical' metadata={'source': '_v26_1d8c9bc374114b6e901da.pdf_[text]'}\",\n",
       " \"page_content='bull runs, the six-week market weakness has prompted increasing investor questions\\nabout the strengthof thepolicy put, and concerns regarding a redux of the powerful but' metadata={'source': '_v26_1d8c9bc374114b6e901da.pdf_[text]'}\",\n",
       " \"page_content='short-livedRe0peningrallyinlate2022/early2023.Empirically,inthe23episodesinthe\\npast 20 years where MSCl China rallied more than20\\\\%, the market almost in all cases' metadata={'source': '_v26_1d8c9bc374114b6e901da.pdf_[text]'}\",\n",
       " \"page_content='(22 out of 23) experienced at least a5\\\\% pullback after entering a technical bull phase.\\nThese corrections averaged12\\\\%by magnitude, and 32 days in duration, although their' metadata={'source': '_v26_1d8c9bc374114b6e901da.pdf_[text]'}\",\n",
       " \"page_content='subsequent return trajectory varied significantly post the initial retreat, with earnings\\naccrual/upgrades typically taking over from valuation to drive further gains when these' metadata={'source': '_v26_1d8c9bc374114b6e901da.pdf_[text]'}\",\n",
       " \"page_content='upswings transitioned into a fundamental-led cycle. See point 6 for detail.\\nSource:FactSet,MSCl,GoldmanSachsGlobalInvestmentResearch' metadata={'source': '_v26_1d8c9bc374114b6e901da.pdf_[text]'}\",\n",
       " \"page_content='3.All eyes are on the July policy meetings. July will be a hectic month for China\\npolicy watchers: The Third Plenum of the Chinese Communist Party is scheduled for July' metadata={'source': '_v26_1d8c9bc374114b6e901da.pdf_[text]'}\",\n",
       " \"page_content='15 to 18, followed by the economically-focused Politburo meeting in July, usually\\nconvened end of the month. As detailed in their Third Plenum preview note, our' metadata={'source': '_v26_1d8c9bc374114b6e901da.pdf_[text]'}\",\n",
       " 'page_content=\\'economists expect the reform focus to be on both containing left-tail risks and growing\\nright-tail potential for China in the \"post-property\" era, with fiscal/tax and land reforms\\' metadata={\\'source\\': \\'_v26_1d8c9bc374114b6e901da.pdf_[text]\\'}',\n",
       " 'page_content=\\'possibly taking the center stage. However, \"big bazooka\" policy surprises that some\\ninvestors have hoped for since the onset of the housing market downturn remain\\' metadata={\\'source\\': \\'_v26_1d8c9bc374114b6e901da.pdf_[text]\\'}',\n",
       " \"page_content='unlikely. Indeed, both onshore and offshore investors we have met in the past month\\nare somewhat disappointed with the policy intensity, efficacy, and momentum since the' metadata={'source': '_v26_1d8c9bc374114b6e901da.pdf_[text]'}\",\n",
       " \"page_content='April Politburo meeting, and their expectations on additional stimulus and major\\nreform breakthroughs from the July policy meetings are conservative across the' metadata={'source': '_v26_1d8c9bc374114b6e901da.pdf_[text]'}\",\n",
       " \"page_content='broad. A few clients even expressed concerns about downside policy risks relatingjtol :$\\nconsumption tax hikes and other contractionary fiscal policy (e.g. tax investigation for\\ncorporates).' metadata={'source': '_v26_1d8c9bc374114b6e901da.pdf_[text]'}\",\n",
       " 'page_content=\\'corporates).\\n5. A tepid recovery in sentiment and flows. \"What could turn things around?\" was\\nheavilyfeaturedinmanyofourclientconversations,reflectingcontinuedreluctance\\' metadata={\\'source\\': \\'_v26_1d8c9bc374114b6e901da.pdf_[text]\\'}',\n",
       " \"page_content='from fundamental investors to underwrite Chinese growth beyond the short term, in our\\nview.However,the+30\\\\%rally(\\\\mathsf{U S S1.5t n}increaseinmarketcap)inthesecondlargest' metadata={'source': '_v26_1d8c9bc374114b6e901da.pdf_[text]'}\",\n",
       " \"page_content='equitymarketgloballyhasmarginallyhelpedreviveinvestorinterestinChinese\\nequity,evidencedbytherisingturnoverinandthestrongSouthboundflowsintothe' metadata={'source': '_v26_1d8c9bc374114b6e901da.pdf_[text]'}\",\n",
       " \"page_content='Hong Kong market, and the reopening of the capital market for Chinese corporates in\\n2Q, led by CB issuances. But, fund positioning and portfolio flows haven't fully' metadata={'source': '_v26_1d8c9bc374114b6e901da.pdf_[text]'}\",\n",
       " \"page_content='caughtupwiththeimprovedsentiment:mutualfund andhedgefundexposuresto\\nChina equity are still at the low-end of the historical ranges, onshore mutual funds' cash' metadata={'source': '_v26_1d8c9bc374114b6e901da.pdf_[text]'}\",\n",
       " \"page_content='ratios are atrecent-year highs, and local retail flows(proxied by mutual fund subscription\\nand margin financing balance in A shares) have been stagnated for several months.' metadata={'source': '_v26_1d8c9bc374114b6e901da.pdf_[text]'}\",\n",
       " \"page_content='Besides Southbound buying, which has amounted to US$48bn ytd compared to\\nonshore ETF trading and inflows in the past week, suggesting to us that the' metadata={'source': '_v26_1d8c9bc374114b6e901da.pdf_[text]'}\",\n",
       " \"page_content='commitment and readiness for government intervention is still strong when SHCOMP is\\nnear or below the 3,0o0 psychological threshold.' metadata={'source': '_v26_1d8c9bc374114b6e901da.pdf_[text]'}\",\n",
       " \"page_content='6.Earningshavebeendelivered,veryselectively.MSCIChinareceiveditsfirst\\nmonthly consensus earnings upgrade in May in the past 12 months, offering investors a' metadata={'source': '_v26_1d8c9bc374114b6e901da.pdf_[text]'}\",\n",
       " \"page_content='glimmer of hope that the protracted earnings downcycle is near the tail end. We hold a\\nneutral view on earnings and reiterate our\\\\scriptstyle{\\\\mathfrak{s}}\\\\%EPS growth assumption for MScl' metadata={'source': '_v26_1d8c9bc374114b6e901da.pdf_[text]'}\",\n",
       " \"page_content='Chinain2024,considering: 1)sell-side consensus forecast of12\\\\%and14\\\\%EPS\\ngrowth for 2024 and 2025 still looks overly optimistic, even taking technical factors' metadata={'source': '_v26_1d8c9bc374114b6e901da.pdf_[text]'}\",\n",
       " \"page_content='(dilution,indexrebalancing)andsectorrepresentationissuesintoaccount; 2)the\\nupgrades have only manifested in the TMT and service-oriented sectors but the top-line' metadata={'source': '_v26_1d8c9bc374114b6e901da.pdf_[text]'}\",\n",
       " \"page_content='and profitability headwinds are still in place for the property and manufacturingcohorts;\\n3) high-frequency profit indicators for 2Q suggest that the earnings momentum for the' metadata={'source': '_v26_1d8c9bc374114b6e901da.pdf_[text]'}\",\n",
       " \"page_content='broader market may have stabilized, but seems prematurejtocall for an inflection point.\\nEncouragingly, from our extensive discussions with China-focused analysts and PMs,' metadata={'source': '_v26_1d8c9bc374114b6e901da.pdf_[text]'}\",\n",
       " \"page_content='buy-side earnings growth expectations seem to be around mid-single-digit territory,\\nimplying that the potential earnings misses to sell-side expectations may not be as' metadata={'source': '_v26_1d8c9bc374114b6e901da.pdf_[text]'}\",\n",
       " \"page_content='influential to equityprices as the headline numbers would suggest.\\nSource: FactSet, MSCl, CSI, IBES, Goldman Sachs Global Investment Research' metadata={'source': '_v26_1d8c9bc374114b6e901da.pdf_[text]'}\",\n",
       " \"page_content='7. Left tail risks have been curtailed in equity valuations. The latest correction has\\nlowered MSCl China fP/E from10.6\\\\timesat recent peaks to9.2\\\\timesat present, and from12.2\\\\times' metadata={'source': '_v26_1d8c9bc374114b6e901da.pdf_[text]'}\",\n",
       " \"page_content='to11.4\\\\timesfor A shares, but still meaningfully above the lows of7.9\\\\timesand9.6\\\\timesin late\\nJanuary respectively. The policy put—spanning conventional macro policy, the housing' metadata={'source': '_v26_1d8c9bc374114b6e901da.pdf_[text]'}\",\n",
       " \"page_content='market,andthecapitalmarkets—hashelpedcontainedsystemicrisksstemmingfrom\\nLGFVs and property-related assets, thereby catalyzing the tail-risk-compression rally in' metadata={'source': '_v26_1d8c9bc374114b6e901da.pdf_[text]'}\",\n",
       " \"page_content='equities from April to May, and providing a floor to valuation. Our macro-derived\\n10.5\\\\times\\nmacro outlooks per GS forecasts, suggesting moderate potential re-rating:gains from' metadata={'source': '_v26_1d8c9bc374114b6e901da.pdf_[text]'}\",\n",
       " \"page_content='here. On our central premise that the strike price of the policy putisunlikely to be raised\\nand further policy delivery on housing will be made, we see the risk to valuation\\n更多' metadata={'source': '_v26_1d8c9bc374114b6e901da.pdf_[text]'}\",\n",
       " \"page_content='更多\\nfavorablyskewedtotheupside\\n70\\nSource:GoldmanSachs Global Investment Research\\n8. Tariff risks may keep some investors at bay before the US election. The' metadata={'source': '_v26_1d8c9bc374114b6e901da.pdf_[text]'}\",\n",
       " 'page_content=\\'forthcoming US presidential election and its implications on China are top-of-mind. The\\n10. The \"Returns\" of \"Shareholders\" in China. Despite its outperformance in past few\\' metadata={\\'source\\': \\'_v26_1d8c9bc374114b6e901da.pdf_[text]\\'}',\n",
       " \"page_content='years, we believe the theme of shareholder returns will continue to produce strong and\\nstable returns for equity investors for five reasons: a) strong policy push and delivery to' metadata={'source': '_v26_1d8c9bc374114b6e901da.pdf_[text]'}\",\n",
       " \"page_content='improve shareholder returns; b) Additional fiscal revenue for financially-strained\\ngovernments: every 1pp rise in payout ratios could raise fiscal revenue by Rmb23bn; c)' metadata={'source': '_v26_1d8c9bc374114b6e901da.pdf_[text]'}\",\n",
       " \"page_content='China's ability to return cash to shareholders looks promising——low payout ratios (30\\\\%+)\\nbut with record-high cash balances (Rmb18tn) and free cashflows (FY23: Rmb2.6tn); d)' metadata={'source': '_v26_1d8c9bc374114b6e901da.pdf_[text]'}\",\n",
       " \"page_content='stable dividend incomes are attractively priced in China where rates are falling; and, e)\\nlikelystructural demand forstableincomesfrom domesticinstitutionalinvestors.We' metadata={'source': '_v26_1d8c9bc374114b6e901da.pdf_[text]'}\",\n",
       " \"page_content='construct a China Shareholder Returns Portfolio, which consists of 3 broad equity\\ncohorts-StableCashCows,Dividend/buybacksurprisecandidates,andSelect' metadata={'source': '_v26_1d8c9bc374114b6e901da.pdf_[text]'}\",\n",
       " \"page_content='expected togenerate3\\\\%shareholder return yields and5\\\\%FCF yields in 2024 on16\\\\%\\ncash/marketcapratioatmedianstock.' metadata={'source': '_v26_1d8c9bc374114b6e901da.pdf_[text]'}\",\n",
       " \"page_content='We, Kinger Lau, CFA, Timothy Moe, CFA, Si Fu, Ph.D. and Kevin Wang, CFA, hereby certify that all of the views expressed in this report accurately' metadata={'source': '_v26_1d8c9bc374114b6e901da.pdf_[text]'}\",\n",
       " \"page_content='reflect our personal views, which have not been influenced by considerations of the firm's business or client relationships.' metadata={'source': '_v26_1d8c9bc374114b6e901da.pdf_[text]'}\",\n",
       " \"page_content='Unless otherwise stated, the individuals listed on the cover page of this report are analysts in Goldman Sachs' Global Investment Research division.' metadata={'source': '_v26_1d8c9bc374114b6e901da.pdf_[text]'}\",\n",
       " \"page_content='See company-specific regulatory disclosures above for any of the following disclosures required as to companies referred to in this report: manager or' metadata={'source': '_v26_1d8c9bc374114b6e901da.pdf_[text]'}\",\n",
       " \"page_content='co-manager inapendingtransaction;\\\\uparrow\\\\%or other ownership; compensation for certain services; types of client relationships; managed/co-managed' metadata={'source': '_v26_1d8c9bc374114b6e901da.pdf_[text]'}\",\n",
       " \"page_content='public offeringsinpriorperiods; directorships;for equitysecurities, market making and/orspecialistrole.GoldmanSachs trades or maytrade as a' metadata={'source': '_v26_1d8c9bc374114b6e901da.pdf_[text]'}\",\n",
       " \"page_content='principal indebtsecurities(or inrelatedderivatives)ofissuersdiscussed in thisreport.' metadata={'source': '_v26_1d8c9bc374114b6e901da.pdf_[text]'}\",\n",
       " \"page_content='The following are additional required disclosures: Ownership and material conflicts of interest: Goldman Sachs policy prohibits its analysts,' metadata={'source': '_v26_1d8c9bc374114b6e901da.pdf_[text]'}\",\n",
       " \"page_content='professionals reporting to analysts and members of their households from owning securities of any company in the analyst's area of coverage.' metadata={'source': '_v26_1d8c9bc374114b6e901da.pdf_[text]'}\",\n",
       " \"page_content='Analyst compensation: Analysts are paid in part based on the profitability of Goldman Sachs, which includes investment banking revenues. Analyst' metadata={'source': '_v26_1d8c9bc374114b6e901da.pdf_[text]'}\",\n",
       " \"page_content='as officer or director: Goldman Sachs policy generally prohibits its analysts, persons reporting to analysts or members of their households from' metadata={'source': '_v26_1d8c9bc374114b6e901da.pdf_[text]'}\",\n",
       " \"page_content='serving as an officer, director or advisor of any company in thelanalyst's area of coverage. Non-U.s.Analysts: Non-U.S. analysts may not be' metadata={'source': '_v26_1d8c9bc374114b6e901da.pdf_[text]'}\",\n",
       " \"page_content='associated persons of Goldman Sachs & Co. LLC and therefore may not be subject to FINRA Rule 2241 or FINRA Rule 2242 restrictions on' metadata={'source': '_v26_1d8c9bc374114b6e901da.pdf_[text]'}\",\n",
       " \"page_content='communications with subject company, public appearances and trading securities held by the analysts.' metadata={'source': '_v26_1d8c9bc374114b6e901da.pdf_[text]'}\",\n",
       " \"page_content='Thefollowingdisclosuresarethoserequiredbythejurisdiction indicated,excepttotheextent alreadymade abovepursuanttoUnitedStateslawsand' metadata={'source': '_v26_1d8c9bc374114b6e901da.pdf_[text]'}\",\n",
       " \"page_content='regulations.Australia: Goldman Sachs Australia PtyLtd and its affiliates are not authorised deposit-taking institutions (as that term is defined in the' metadata={'source': '_v26_1d8c9bc374114b6e901da.pdf_[text]'}\",\n",
       " \"page_content='Banking Act 1959 (Cth) in Australia and do not provide banking services, nor carry on a banking business, in Australia. This research, and any access to' metadata={'source': '_v26_1d8c9bc374114b6e901da.pdf_[text]'}\",\n",
       " 'page_content=\\'it, is intended only for\"wholesale clients\"within the meaning of the Australian Corporations Act, unless otherwise agreed by Goldman Sachs. In\\' metadata={\\'source\\': \\'_v26_1d8c9bc374114b6e901da.pdf_[text]\\'}',\n",
       " \"page_content='producing research reports, members of Global Investment Research of GoldmanSachs Australia may attend site visits and other meetings hosted by' metadata={'source': '_v26_1d8c9bc374114b6e901da.pdf_[text]'}\",\n",
       " \"page_content='the companies and other entities which are the subject of its research reports. In some instances the costs of such site visits or meetings may be met' metadata={'source': '_v26_1d8c9bc374114b6e901da.pdf_[text]'}\",\n",
       " \"page_content='in part or in whole by the issuers concerned if Goldman Sachs Australia considers it is appropriate and reasonable in the specific circumstances relating' metadata={'source': '_v26_1d8c9bc374114b6e901da.pdf_[text]'}\",\n",
       " \"page_content='to the site visit or meeting. To the extent that the contents of this document contains any financial product advice, it is general advice only and has' metadata={'source': '_v26_1d8c9bc374114b6e901da.pdf_[text]'}\",\n",
       " \"page_content='been prepared by Goldman Sachs without taking into account a client's objectives, financial situation or needs. A client should, before acting on any' metadata={'source': '_v26_1d8c9bc374114b6e901da.pdf_[text]'}\",\n",
       " \"page_content='such advice, consider the appropriateness of the advice having regard to the client's own objectives,financial situation and needs. A copy of certain' metadata={'source': '_v26_1d8c9bc374114b6e901da.pdf_[text]'}\",\n",
       " \"page_content='Goldman Sachs Australia and New Zealand disclosure of interests and a copy of Goldman Sachs' Australian Sel-Side Research Independence Policy' metadata={'source': '_v26_1d8c9bc374114b6e901da.pdf_[text]'}\",\n",
       " \"page_content='Statement are available at: https://www.goldmansachs.com/disclosures/australia-new-zealand/index.html. Brazil: Disclosure information in relation to' metadata={'source': '_v26_1d8c9bc374114b6e901da.pdf_[text]'}\",\n",
       " \"page_content='CVM Resolution n. 20 is available at https://www.gs.com/worldwide/brazil/area/gir/index.html. Where applicable, the Brazil-registered analyst primarily' metadata={'source': '_v26_1d8c9bc374114b6e901da.pdf_[text]'}\",\n",
       " \"page_content='responsibleforthecontent of this researchreport, asdefined inArticle20of CVMResolutionn.20, is thefirst author named atthebeginning of this' metadata={'source': '_v26_1d8c9bc374114b6e901da.pdf_[text]'}\",\n",
       " \"page_content='report, unless indicated otherwise at the end of the text. Canada: This information is being provided to you for information purposes only and is not,' metadata={'source': '_v26_1d8c9bc374114b6e901da.pdf_[text]'}\",\n",
       " \"page_content='and under no circumstances should be construed as, an advertisement, offering or solicitation by Goldman Sachs & Co. LLC for purchasers of' metadata={'source': '_v26_1d8c9bc374114b6e901da.pdf_[text]'}\",\n",
       " \"page_content='securities in Canada to trade in any Canadian security.GoldmanSachs& Co.LLC is not registered as a dealer in anyjurisdiction in Canada under' metadata={'source': '_v26_1d8c9bc374114b6e901da.pdf_[text]'}\",\n",
       " \"page_content='applicableCanadiansecuritieslawsandgenerallyisnotpermittedtotradeinCanadiansecuritiesandmaybeprohibitedfromsellingcertainsecurities' metadata={'source': '_v26_1d8c9bc374114b6e901da.pdf_[text]'}\",\n",
       " \"page_content='andproductsincertainjurisdictionsinCanada.IfyouwishtotradeinanyCanadiansecuritiesorotherproductsinCanadapleasecontactGoldman' metadata={'source': '_v26_1d8c9bc374114b6e901da.pdf_[text]'}\",\n",
       " \"page_content='SachsCanadaInc.,anaffiliateof TheGoldmanSachsGroupInc.,OranotherregisteredCanadiandealer.HongKong:Furtherinformation onthe' metadata={'source': '_v26_1d8c9bc374114b6e901da.pdf_[text]'}\",\n",
       " \"page_content='securities of covered companiesreferred toin thisresearch maybe obtained onrequest from GoldmanSachs(Asia)L.L.C.India:Furtherinformation' metadata={'source': '_v26_1d8c9bc374114b6e901da.pdf_[text]'}\",\n",
       " \"page_content='on the subject company or companies referred to in this research may be obtained from Goldman Sachs (India) Securities Private Limited, Research' metadata={'source': '_v26_1d8c9bc374114b6e901da.pdf_[text]'}\",\n",
       " \"page_content='Analyst-SEBI RegistrationNumberINH000001493,951-A,Rational House,AppasahebMaratheMarg,Prabhadevi,Mumbai400025,India,Corporate' metadata={'source': '_v26_1d8c9bc374114b6e901da.pdf_[text]'}\",\n",
       " \"page_content='Identity Number U74140MH2006FTC160634, Phone+912266169000,Fax+9122 6616 9001. Goldman Sachs may beneficially own1\\\\%Ormoreof' metadata={'source': '_v26_1d8c9bc374114b6e901da.pdf_[text]'}\",\n",
       " \"page_content='the securities (as such term is defined in clause 2 (h) the Indian Securities Contracts (Regulation) Act,Jj1956) of the subject company or companies' metadata={'source': '_v26_1d8c9bc374114b6e901da.pdf_[text]'}\",\n",
       " \"page_content='referred toin thisresearchreport. Investment insecuritiesmarket aresubjecttomarketrisks.Read'all therelated documents carefullybefore' metadata={'source': '_v26_1d8c9bc374114b6e901da.pdf_[text]'}\",\n",
       " \"page_content='investing. Registration granted by SEBl and certification from NiSM in no way guaranteeperformance of the intermediary or provide any assurance of' metadata={'source': '_v26_1d8c9bc374114b6e901da.pdf_[text]'}\",\n",
       " \"page_content='returns to investors. Goldman Sachs (India) Securities Private Limited Investor Grievance E-mail: india-client-support@gs.com. Compliance Officer: Anil' metadata={'source': '_v26_1d8c9bc374114b6e901da.pdf_[text]'}\",\n",
       " \"page_content='RajputITel:+\\\\;9\\\\uparrow22 6616 9000|Email: anil.m.rajput@gs.com.Japan: See below.Korea:This research,and any access to it, is intended only for' metadata={'source': '_v26_1d8c9bc374114b6e901da.pdf_[text]'}\",\n",
       " 'page_content=\\'\\'professional investors\"within the meaning of the Financial Services and Capital Markets Act, unless otherwise agreed by Goldman Sachs. Further\\' metadata={\\'source\\': \\'_v26_1d8c9bc374114b6e901da.pdf_[text]\\'}',\n",
       " \"page_content='information on the subject company or companies referred to'in this research may be obtained from Goldman Sachs (Asia) L.L.C., Seoul Branch. New' metadata={'source': '_v26_1d8c9bc374114b6e901da.pdf_[text]'}\",\n",
       " 'page_content=\\'Zealand:GoldmanSachs NewZealand Limited and its affiliates are neither\"registered banks\"nor\"deposit takers\"(as defined in the ReserveBank of\\' metadata={\\'source\\': \\'_v26_1d8c9bc374114b6e901da.pdf_[text]\\'}',\n",
       " 'page_content=\\'NewZealand Act 1989) inNewZealand.This research,and any accesstoit, is intended for\"wholesaleclients\"(as defined in theFinancialAdvisers Act\\' metadata={\\'source\\': \\'_v26_1d8c9bc374114b6e901da.pdf_[text]\\'}',\n",
       " \"page_content='2008) unless otherwise agreed by Goldman Sachs. A copy of certain Goldman Sachs Australia and New Zealand disclosure of interests is available at:' metadata={'source': '_v26_1d8c9bc374114b6e901da.pdf_[text]'}\",\n",
       " \"page_content='https://www.goldmansachs.com/disclosures/australia-new-zealand/index.html. Russia: Research reports distributed in the Russian Federation are not' metadata={'source': '_v26_1d8c9bc374114b6e901da.pdf_[text]'}\",\n",
       " \"page_content='advertising asdefinedintheRussianlegislation,butareinformationand analysisnot havingproductpromotionas theirmainpurpose anddonot' metadata={'source': '_v26_1d8c9bc374114b6e901da.pdf_[text]'}\",\n",
       " \"page_content='provide appraisallwithin the meaning of the Russianlegislation on appraisal activity.Research reports do not constitute a personalized investment' metadata={'source': '_v26_1d8c9bc374114b6e901da.pdf_[text]'}\",\n",
       " \"page_content='recommendation as defined in Russian laws and regulations, are not addressed to a specific client, and are prepared without analyzing the financial' metadata={'source': '_v26_1d8c9bc374114b6e901da.pdf_[text]'}\",\n",
       " \"page_content='circumstances,investmentprofilesorriskprofilesofclients.GoldmanSachsassumesnoresponsibilityforanyinvestmentdecisionsthatmaybetaken' metadata={'source': '_v26_1d8c9bc374114b6e901da.pdf_[text]'}\",\n",
       " \"page_content='by a client or any other person based on this research report. Singapore: Goldman Sachs (Singapore) Pte. (Company Number: 198602165W), which is' metadata={'source': '_v26_1d8c9bc374114b6e901da.pdf_[text]'}\",\n",
       " \"page_content='regulated by the Monetary Authority of Singapore, accepts legal responsibility for this research, and should be contacted with respect to any matters' metadata={'source': '_v26_1d8c9bc374114b6e901da.pdf_[text]'}\",\n",
       " \"page_content='arisingfrom,orinconnectionwith,thisresearch.Taiwan:Thismaterialisforreferenceonlyandmustnotbereprintedwithoutpermission.Investors' metadata={'source': '_v26_1d8c9bc374114b6e901da.pdf_[text]'}\",\n",
       " \"page_content='should carefully consider their own investment risk. Investment results are the responsibility of the individual investor. United Kingdom: Persons who' metadata={'source': '_v26_1d8c9bc374114b6e901da.pdf_[text]'}\",\n",
       " \"page_content='would be categorized as retail clients in the United Kingdom, as such term is defined in the rules of the Financial Conduct Authority, should read this' metadata={'source': '_v26_1d8c9bc374114b6e901da.pdf_[text]'}\",\n",
       " \"page_content='research in conjunction with prior Goldman Sachs research on the covered companies referred to herein and should refer to the risk warnings that have' metadata={'source': '_v26_1d8c9bc374114b6e901da.pdf_[text]'}\",\n",
       " \"page_content='beensenttothembyGoldmanSachsInternational.Acopyoftheseriskswarnings,andaglossaryofcertainfinancialtermsusedinthisreport,are\\navailable from Goldman Sachs International on request.' metadata={'source': '_v26_1d8c9bc374114b6e901da.pdf_[text]'}\",\n",
       " \"page_content='EuropeanUnion and United Kingdom:Disclosureinformation inrelationtoArticle6(2)of theEuropeanCommissionDelegated Regulation(EU)' metadata={'source': '_v26_1d8c9bc374114b6e901da.pdf_[text]'}\",\n",
       " \"page_content='(2016/958) supplementing Regulation(EU) No596/2014 of the EuropeanParliament and of the Council (including as that Delegated Regulation is' metadata={'source': '_v26_1d8c9bc374114b6e901da.pdf_[text]'}\",\n",
       " \"page_content='implemented into United Kingdom domestic law and regulation following the United Kingdom's departure from the European Union and the European' metadata={'source': '_v26_1d8c9bc374114b6e901da.pdf_[text]'}\",\n",
       " \"page_content='EconomicArea)withregardtoregulatorytechnicalstandardsforthetechnical arrangementsforobjectivepresentationofinvestment' metadata={'source': '_v26_1d8c9bc374114b6e901da.pdf_[text]'}\",\n",
       " \"page_content='recommendations or other information recommending or suggesting an investment strategy and for disclosure of particular interests or indications of' metadata={'source': '_v26_1d8c9bc374114b6e901da.pdf_[text]'}\",\n",
       " \"page_content='conflicts of interest is available at https://www.gs.com/disclosures/europeanpolicy.html which states the European Policy for Managing Conflicts of\\nInterestinConnectionwithInvestment Research.' metadata={'source': '_v26_1d8c9bc374114b6e901da.pdf_[text]'}\",\n",
       " \"page_content='Japan: Goldman Sachs Japan Co., Ltd. is a Financial Instrument Dealer registered with the Kanto Financial Bureau under registration number Kinsho' metadata={'source': '_v26_1d8c9bc374114b6e901da.pdf_[text]'}\",\n",
       " \"page_content='69, and a member of Japan Securities Dealers Association, Financial Futures Association of Japan Type Il Financial Instruments Firms Association, The' metadata={'source': '_v26_1d8c9bc374114b6e901da.pdf_[text]'}\",\n",
       " \"page_content='Investment Trusts Association, Japan, and Japan Investment Advisers Association. Sales and purchase of equities are subject to commission' metadata={'source': '_v26_1d8c9bc374114b6e901da.pdf_[text]'}\",\n",
       " \"page_content='pre-determined with clients plus consumption tax. See company-specific disclosures as to any applicable disclosures required by Japanese stock' metadata={'source': '_v26_1d8c9bc374114b6e901da.pdf_[text]'}\",\n",
       " \"page_content='exchanges, the Japanese Securities Dealers Association or the Japanese Securities Finance Company.' metadata={'source': '_v26_1d8c9bc374114b6e901da.pdf_[text]'}\",\n",
       " \"page_content='Goldman Sachs Global Investment Research produces and distributes research products for clients of Goldman Sachs on a global basis. Analysts based' metadata={'source': '_v26_1d8c9bc374114b6e901da.pdf_[text]'}\",\n",
       " \"page_content='inGoldmanSachsofficesaroundtheworldproduceresearchon industries and companies,andresearchonmacroeconomics,currencies,commodities' metadata={'source': '_v26_1d8c9bc374114b6e901da.pdf_[text]'}\",\n",
       " \"page_content='and portfolio strategy. This research is disseminated in Australia by Goldman Sachs Australia Pty Ltd (ABN 21 006 797 897); in Brazi'by Goldman Sachs' metadata={'source': '_v26_1d8c9bc374114b6e901da.pdf_[text]'}\",\n",
       " \"page_content='doBrasil CorretoradeTituloseValoresMobiliariosS.A.;PublicCommunicationChannel GoldmanSachsBrazil:08007275764 and/ or' metadata={'source': '_v26_1d8c9bc374114b6e901da.pdf_[text]'}\",\n",
       " \"page_content='contatogoldmanbrasil@gs.com.AvailableWeekdays (except holidays),from9am to 6pm.Canal de Comunicacao com Publico GoldmanSachsBrasil:' metadata={'source': '_v26_1d8c9bc374114b6e901da.pdf_[text]'}\",\n",
       " \"page_content='0800 7275764 e/ou contatogoldmanbrasil@gs.com.Horario de funcionamento: segunda-feira a sexta-feira (excetoferiados), das 9h as 18h; in Canada' metadata={'source': '_v26_1d8c9bc374114b6e901da.pdf_[text]'}\",\n",
       " \"page_content='by Goldman Sachs & Co. LLC; in Hong Kong by Goldman Sachs (Asia) L.L.C.; in India by Goldman Sachs (India) Securities Private Ltd.; in Japan by' metadata={'source': '_v26_1d8c9bc374114b6e901da.pdf_[text]'}\",\n",
       " \"page_content='Goldman Sachs Japan Co., Ltd.; in the Republic of Korea by Goldman Sachs (Asia) L.L.C., Seoul Branch; in New Zealand by Goldman Sachs New' metadata={'source': '_v26_1d8c9bc374114b6e901da.pdf_[text]'}\",\n",
       " \"page_content='Zealand Limited; in Russia by O0O Goldman Sachs; in Singapore by Goldman Sachs (Singapore) Pte. (Company Number: 198602165W); and in the' metadata={'source': '_v26_1d8c9bc374114b6e901da.pdf_[text]'}\",\n",
       " \"page_content='United States of America by Goldman Sachs & Co. LLC. Goldman Sachs International has approved this research in connection with its distribution in\\ntheUnitedKingdom.' metadata={'source': '_v26_1d8c9bc374114b6e901da.pdf_[text]'}\",\n",
       " 'page_content=\\'theUnitedKingdom.\\nGoldman Sachs International (\"GSl\"), authorised by the Prudential Regulation Authority (\"PRA\") and regulated by the Financial Conduct Authority\\' metadata={\\'source\\': \\'_v26_1d8c9bc374114b6e901da.pdf_[text]\\'}',\n",
       " 'page_content=\\'(\"FCA\") and the PRA, has approved this research,in connection with its distribution in the United Kingdom.\\' metadata={\\'source\\': \\'_v26_1d8c9bc374114b6e901da.pdf_[text]\\'}',\n",
       " \"page_content='European Economic Area: GSl, authorisedby the PRA and regulated by the FCA and the PRA, disseminates research in the following jurisdictions' metadata={'source': '_v26_1d8c9bc374114b6e901da.pdf_[text]'}\",\n",
       " \"page_content='within the European Economic Area: the Grand Duchy of Luxembourg, Italy, the Kingdom of Belgium, the Kingdom of Denmark, the Kingdom of' metadata={'source': '_v26_1d8c9bc374114b6e901da.pdf_[text]'}\",\n",
       " \"page_content='Norway, the Republic of Finland and the Republic of Ireland; GSl -Succursale de Paris (Paris branch) which is authorised by the French Autorité de' metadata={'source': '_v26_1d8c9bc374114b6e901da.pdf_[text]'}\",\n",
       " 'page_content=\\'controle prudentielet de resolution (\"ACPR\") and regulated by the Autorité de controle prudentiel et de resolution and the Autorité des marches\\' metadata={\\'source\\': \\'_v26_1d8c9bc374114b6e901da.pdf_[text]\\'}',\n",
       " 'page_content=\\'financiers (\"AME\") disseminates research in France; GSl - Sucursal en Espana (Madrid branch) authorized in Spain by the Comision Nacional del\\' metadata={\\'source\\': \\'_v26_1d8c9bc374114b6e901da.pdf_[text]\\'}',\n",
       " 'page_content=\\'MercadodeValores disseminatesresearch in theKingdom of Spain;GSl-SwedenBankfilial(Stockholmbranch)is authorized by theSFSA as a\"third\\' metadata={\\'source\\': \\'_v26_1d8c9bc374114b6e901da.pdf_[text]\\'}',\n",
       " 'page_content=\\'country branch\" in accordance with Chapter 4, Section 4 of the Swedish Securities and Market Act (Sw. lag (2007:528) om vardepappersmarknaden)\\' metadata={\\'source\\': \\'_v26_1d8c9bc374114b6e901da.pdf_[text]\\'}',\n",
       " 'page_content=\\'disseminates research in the Kingdom of Sweden; Goldman Sachs Bank Europe SE (\"GSBE\") is a credit institution incorporated in Germany and, within\\' metadata={\\'source\\': \\'_v26_1d8c9bc374114b6e901da.pdf_[text]\\'}',\n",
       " \"page_content='the Single Supervisory Mechanism, subject to direct prudential supervision by the European Central Bank and in other respects supervised by German' metadata={'source': '_v26_1d8c9bc374114b6e901da.pdf_[text]'}\",\n",
       " \"page_content='Federal Financial Supervisory Authority(Bundesanstalt fur Finanzdienstleistungsaufsicht, BaFin) and Deutsche Bundesbank and disseminates research' metadata={'source': '_v26_1d8c9bc374114b6e901da.pdf_[text]'}\",\n",
       " \"page_content='intheFederal RepublicofGermanyand thosejurisdictionswithintheEuropeanEconomicAreawhereGSlisnotauthorised todisseminateresearch' metadata={'source': '_v26_1d8c9bc374114b6e901da.pdf_[text]'}\",\n",
       " \"page_content='and additionally, GSBE, Copenhagen Branch filial af GSBE, Tyskland, supervised by the Danish Financial Authority disseminates research in the Kingdom' metadata={'source': '_v26_1d8c9bc374114b6e901da.pdf_[text]'}\",\n",
       " \"page_content='of Denmark; GSBE - Sucursal en Espana (Madrid branch) subject (to a limited extent) to local supervision by the Bank of Spain disseminates research in' metadata={'source': '_v26_1d8c9bc374114b6e901da.pdf_[text]'}\",\n",
       " \"page_content='the Kingdom of Spain; GSBE - Succursale Italia (Milan branch) to the relevant applicable extent, subject to local supervision by the Bank of Italy (Banca' metadata={'source': '_v26_1d8c9bc374114b6e901da.pdf_[text]'}\",\n",
       " 'page_content=\\'d\\'ltalia) and the Italian Companies and Exchange Commission(Commissione Nazionale per le Societae laBorsa\"Consob\")disseminatesresearch in\\' metadata={\\'source\\': \\'_v26_1d8c9bc374114b6e901da.pdf_[text]\\'}',\n",
       " \"page_content='Italy; GSBE - Succursale de Paris (Paris branch), supervised by the AMF and by the ACPR disseminates research in France; and GSBE - Sweden' metadata={'source': '_v26_1d8c9bc374114b6e901da.pdf_[text]'}\",\n",
       " \"page_content='Bankfilial (Stockholm branch), to a limited extent, subject to local supervision by the Swedish Financial Supervisory Authority (Finansinpektionen)\\ndisseminatesresearchintheKingdomofSweden.' metadata={'source': '_v26_1d8c9bc374114b6e901da.pdf_[text]'}\",\n",
       " \"page_content='consider reliable, but we do not represent it is accurate or complete, and it should not be relied on as such. The information, opinions,estimates and' metadata={'source': '_v26_1d8c9bc374114b6e901da.pdf_[text]'}\",\n",
       " \"page_content='forecasts contained herein are as of the date hereof and are subject to change without prior notification. We seek to update our research as' metadata={'source': '_v26_1d8c9bc374114b6e901da.pdf_[text]'}\",\n",
       " \"page_content='appropriate, but various regulations may prevent us from doing so. Other than certain industry reports published on a periodic basis, the large majority' metadata={'source': '_v26_1d8c9bc374114b6e901da.pdf_[text]'}\",\n",
       " \"page_content='ofreportsarepublishedatirregularintervalsasappropriateintheanalyst'sjudgment.inuy' metadata={'source': '_v26_1d8c9bc374114b6e901da.pdf_[text]'}\",\n",
       " \"page_content='Goldman Sachs conducts a global full-service, integrated investment banking, investment management, and brokerage business. We have investment' metadata={'source': '_v26_1d8c9bc374114b6e901da.pdf_[text]'}\",\n",
       " \"page_content='bankingandotherbusinessrelationshipswithasubstantialpercentageofthecompaniescoveredbyGlobalInvestmentResearch.GoldmanSachs&' metadata={'source': '_v26_1d8c9bc374114b6e901da.pdf_[text]'}\",\n",
       " \"page_content='Our salespeople, traders, and other professionals may provide oral or written market commentary or trading strategies to our clients and principal' metadata={'source': '_v26_1d8c9bc374114b6e901da.pdf_[text]'}\",\n",
       " \"page_content='trading desks that reflect opinions that are contrary to the opinions expressed in this research. Our asset management area, principal trading desks and' metadata={'source': '_v26_1d8c9bc374114b6e901da.pdf_[text]'}\",\n",
       " \"page_content='investing businesses may make investment decisions that are jnconsistent with the recommendations or views expressed in this research.' metadata={'source': '_v26_1d8c9bc374114b6e901da.pdf_[text]'}\",\n",
       " \"page_content='We and our affiliates, officers, directors, and employees will from time to time have long or short positions in, act as principal in, and buy or sell, the' metadata={'source': '_v26_1d8c9bc374114b6e901da.pdf_[text]'}\",\n",
       " \"page_content='securities or derivatives, if any, referred to in this research, unless otherwise prohibited by regulation or Goldman Sachs policy.' metadata={'source': '_v26_1d8c9bc374114b6e901da.pdf_[text]'}\",\n",
       " \"page_content='Theviews attributed to third partypresenters at GoldmanSachs arranged conferences,including individuals from other partsof GoldmanSachs, do not' metadata={'source': '_v26_1d8c9bc374114b6e901da.pdf_[text]'}\",\n",
       " \"page_content='necessarilyreflectthoseofiGlobal InvestmentResearchandarenotanofficialviewofGoldmanSachs.' metadata={'source': '_v26_1d8c9bc374114b6e901da.pdf_[text]'}\",\n",
       " \"page_content='Any third party referenced herein, including any salespeople, traders and other professionals or members of their household, may have positions in the' metadata={'source': '_v26_1d8c9bc374114b6e901da.pdf_[text]'}\",\n",
       " \"page_content='products mentioned that are inconsistent with the views expressed by analysts named in this report.' metadata={'source': '_v26_1d8c9bc374114b6e901da.pdf_[text]'}\",\n",
       " \"page_content='This research is focused on investment themes across markets, industries and sectors. It does not attempt to distinguish between the prospects or' metadata={'source': '_v26_1d8c9bc374114b6e901da.pdf_[text]'}\",\n",
       " \"page_content='performance of, or provide analysis of, individual companies within any industry or sector we describe.' metadata={'source': '_v26_1d8c9bc374114b6e901da.pdf_[text]'}\",\n",
       " \"page_content='Anytradingrecommendationin thisresearchrelatingtoanequityorcreditsecurityorsecuritieswithinanindustryorsectorisreflectiveofthe' metadata={'source': '_v26_1d8c9bc374114b6e901da.pdf_[text]'}\",\n",
       " \"page_content='investmentthemebeingdiscussedandisnotarecommendationofanysuchsecurityinisolation.' metadata={'source': '_v26_1d8c9bc374114b6e901da.pdf_[text]'}\",\n",
       " \"page_content='This research is not an offer to sell or the solicitation of an offer to buy any security in any jurisdiction where such an offer or solicitation would be' metadata={'source': '_v26_1d8c9bc374114b6e901da.pdf_[text]'}\",\n",
       " \"page_content='illegal. It does not constitute a personal recommendation or take into account the particular investment objectives, financial situations, or needs of' metadata={'source': '_v26_1d8c9bc374114b6e901da.pdf_[text]'}\",\n",
       " \"page_content='individual clients.Clients should consider whether any advice orrecommendation inthis research is suitablefor their particular circumstances and, if' metadata={'source': '_v26_1d8c9bc374114b6e901da.pdf_[text]'}\",\n",
       " \"page_content='appropriate,seekprofessionaladvice,includingtaxadvice.Thepriceandvalueofinvestmentsreferredtointhisresearchandtheincomefromthem' metadata={'source': '_v26_1d8c9bc374114b6e901da.pdf_[text]'}\",\n",
       " \"page_content='may fluctuate. Past performance is not a guide to future performance, future returns are not guaranteed, and a loss of original capital may occur.' metadata={'source': '_v26_1d8c9bc374114b6e901da.pdf_[text]'}\",\n",
       " \"page_content='Fluctuationsinexchangeratescouldhaveadverseeffectsonthevalueorpriceof,orincomederivedfrom,certaininvestments.' metadata={'source': '_v26_1d8c9bc374114b6e901da.pdf_[text]'}\",\n",
       " \"page_content='Certain transactions, including those involving futures, options, and other derivatives, give rise to substantial risk and are not suitable for all investors' metadata={'source': '_v26_1d8c9bc374114b6e901da.pdf_[text]'}\",\n",
       " \"page_content='Investors should review current options and futures disclosure documents which are available from Goldman Sachs sales representatives or at' metadata={'source': '_v26_1d8c9bc374114b6e901da.pdf_[text]'}\",\n",
       " \"page_content='https://www.theocc.com/about/publications/character-risks.jsp and' metadata={'source': '_v26_1d8c9bc374114b6e901da.pdf_[text]'}\",\n",
       " \"page_content='https://www.fiadocumentation.org/fia/regulatory-disclosures_1/fia-uniform-futures-and-options-on-futures-risk-disclosures-booklet-pdf-version-2018' metadata={'source': '_v26_1d8c9bc374114b6e901da.pdf_[text]'}\",\n",
       " \"page_content='Transaction costs may be significant in option strategies calling for multiple purchase and sales of options such as spreads. Supporting documentation\\nwillbesupplieduponrequest.' metadata={'source': '_v26_1d8c9bc374114b6e901da.pdf_[text]'}\",\n",
       " \"page_content='Differing Levelsof Serviceprovided by Global Investment Research:Thelevel and types ofservicesprovided toyou by GoldmanSachs Global' metadata={'source': '_v26_1d8c9bc374114b6e901da.pdf_[text]'}\",\n",
       " \"page_content='InvestmentResearchmayvaryascomparedto thatprovidedtointernal and otherexternal clients ofGS,depending onvariousfactors includingyour' metadata={'source': '_v26_1d8c9bc374114b6e901da.pdf_[text]'}\",\n",
       " \"page_content='individual preferences as to the frequency and manner of receiving communication, your risk profile and investment focus and perspective (e.g.,' metadata={'source': '_v26_1d8c9bc374114b6e901da.pdf_[text]'}\",\n",
       " \"page_content='marketwide, sector specific, long term, short term),the size and scope of your overall client relationship with GS, and legal and regulatory constraints.' metadata={'source': '_v26_1d8c9bc374114b6e901da.pdf_[text]'}\",\n",
       " \"page_content='As an example, certain clients may request to receive notifications when research on specific securities is published, and certain clients may request' metadata={'source': '_v26_1d8c9bc374114b6e901da.pdf_[text]'}\",\n",
       " \"page_content='that specific data underlying analysts'fundamental analysis available on our internal client websites be delivered to them electronically through data' metadata={'source': '_v26_1d8c9bc374114b6e901da.pdf_[text]'}\",\n",
       " \"page_content='feeds or otherwise. No change to an analyst's fundamental research views (e.g., ratings, price targets, or material changes to earnings estimatesjfor' metadata={'source': '_v26_1d8c9bc374114b6e901da.pdf_[text]'}\",\n",
       " \"page_content='equity securities), will be communicated to any client prior to inclusion of such information in a research report broadly disseminated throuigh electronic' metadata={'source': '_v26_1d8c9bc374114b6e901da.pdf_[text]'}\",\n",
       " \"page_content='publication to our internal client websites or through other means, as necessary, to all clients who are entitled to receive such reports.K' metadata={'source': '_v26_1d8c9bc374114b6e901da.pdf_[text]'}\",\n",
       " \"page_content='All research reports are disseminated and available to all clients simultaneously through electronic publication to ourinterhal client websites. Not all' metadata={'source': '_v26_1d8c9bc374114b6e901da.pdf_[text]'}\",\n",
       " \"page_content='research content is redistributed to our clients or available to third-party aggregators, nor is Goldman Sachs responsible for the redistribution of our' metadata={'source': '_v26_1d8c9bc374114b6e901da.pdf_[text]'}\",\n",
       " \"page_content='research by third party aggregators. For research, models or other data related to one or more securities/7markets or asset classes (including related' metadata={'source': '_v26_1d8c9bc374114b6e901da.pdf_[text]'}\",\n",
       " \"page_content='services) that may be available to you, please contact your GS representative or go to https://research.gs.com.' metadata={'source': '_v26_1d8c9bc374114b6e901da.pdf_[text]'}\",\n",
       " \"page_content='Disclosure information is also available at https:/www.gs.com/research/hedge.html or from Research Compliance, 200 West Street, New York, NY\\n10282.' metadata={'source': '_v26_1d8c9bc374114b6e901da.pdf_[text]'}\",\n",
       " \"page_content='10282.\\nYou are permitted to store, display, analyze, modify, reformat, and print the information made available to you via this service only for your own use.' metadata={'source': '_v26_1d8c9bc374114b6e901da.pdf_[text]'}\",\n",
       " \"page_content='You may not resell or reverse engineer this informatioh to calculate or develop any index for disclosure and/or marketing or create any other derivative' metadata={'source': '_v26_1d8c9bc374114b6e901da.pdf_[text]'}\",\n",
       " \"page_content='works or commercial product(s), data or offering(s) without the express written consent of Goldman Sachs. You are not permitted to publish, transmit,' metadata={'source': '_v26_1d8c9bc374114b6e901da.pdf_[text]'}\",\n",
       " \"page_content='or otherwise reproduce this information, in whole or in part, in any format to any third party without the express written consent of Goldman Sachs.' metadata={'source': '_v26_1d8c9bc374114b6e901da.pdf_[text]'}\",\n",
       " \"page_content='This foregoing restriction incluides, without limitation, using, extracting, downloading or retrieving this information, in whole or in part, to train or' metadata={'source': '_v26_1d8c9bc374114b6e901da.pdf_[text]'}\",\n",
       " \"page_content='finetune a third-party machine learning or artificial intelligence system, or to provide or reproduce this information, in whole or in part, as a prompt or\\ninputtoanysuchsystem.' metadata={'source': '_v26_1d8c9bc374114b6e901da.pdf_[text]'}\"]"
      ]
     },
     "execution_count": 10,
     "metadata": {},
     "output_type": "execute_result"
    }
   ],
   "source": [
    "ids = [f\"{i}\" for i in docs]\n",
    "vector_store.add_documents(documents=docs, ids=ids)"
   ]
  },
  {
   "cell_type": "markdown",
   "id": "f7cf4271-2dd4-420f-a6bb-67e67b98cf52",
   "metadata": {},
   "source": [
    "Query the vector store."
   ]
  },
  {
   "cell_type": "code",
   "execution_count": 12,
   "id": "918612b8-c649-43d9-a00e-0ba4b1af0bcf",
   "metadata": {},
   "outputs": [],
   "source": [
    "query=\"All eyes are on the July policy meetings.\""
   ]
  },
  {
   "cell_type": "code",
   "execution_count": 13,
   "id": "78e41f8b-d019-42b3-8523-955b78f12f4f",
   "metadata": {},
   "outputs": [
    {
     "name": "stdout",
     "output_type": "stream",
     "text": [
      "* 3.All eyes are on the July policy meetings. July will be a hectic month for China\n",
      "policy watchers: The Third Plenum of the Chinese Communist Party is scheduled for July [{'source': '_v26_1d8c9bc374114b6e901da.pdf_[text]'}]\n"
     ]
    }
   ],
   "source": [
    "results = vector_store.similarity_search(query=query, k=1)\n",
    "for doc in results:\n",
    "    print(f\"* {doc.page_content} [{doc.metadata}]\")"
   ]
  }
 ],
 "metadata": {
  "kernelspec": {
   "display_name": "Python 3 (ipykernel)",
   "language": "python",
   "name": "python3"
  },
  "language_info": {
   "codemirror_mode": {
    "name": "ipython",
    "version": 3
   },
   "file_extension": ".py",
   "mimetype": "text/x-python",
   "name": "python",
   "nbconvert_exporter": "python",
   "pygments_lexer": "ipython3",
   "version": "3.10.15"
  }
 },
 "nbformat": 4,
 "nbformat_minor": 5
}
