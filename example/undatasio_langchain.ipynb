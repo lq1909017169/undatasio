{
 "cells": [
  {
   "cell_type": "markdown",
   "id": "53970e4f-a05d-401c-abd6-0228f42f1473",
   "metadata": {},
   "source": [
    "![](example_content/undatasio_example.png)"
   ]
  },
  {
   "cell_type": "markdown",
   "id": "b8be956a-9240-4981-8e2a-3e5f404eedd8",
   "metadata": {
    "tags": []
   },
   "source": [
    "## Generating LangChain Document objects using the Undatasio platform's Python client."
   ]
  },
  {
   "cell_type": "markdown",
   "id": "e3da13a3-eda5-43c5-85ea-6982a41355b5",
   "metadata": {},
   "source": [
    "The Undatasio platform processes unstructured data and can parse various file types, including PDF, Word, Excel, video, and audio. The generated output can be in various readily processable text formats like JSON, Markdown, and TXT."
   ]
  },
  {
   "cell_type": "markdown",
   "id": "04a652c0-f2d3-4d59-aab0-e96c44a6e1c6",
   "metadata": {},
   "source": [
    "- - -"
   ]
  },
  {
   "cell_type": "markdown",
   "id": "541553a2-91df-4102-9c07-180c56118b0c",
   "metadata": {},
   "source": [
    "## Below is the complete process of using Undatasio to create LangChain Document objects."
   ]
  },
  {
   "cell_type": "markdown",
   "id": "aa3e136b-6844-4d9b-a6a3-ba2bf676a89b",
   "metadata": {
    "tags": []
   },
   "source": [
    "# Installing the **Undatasio** Python API library"
   ]
  },
  {
   "cell_type": "code",
   "execution_count": 1,
   "id": "ff0732f7-b293-45bd-a7a1-0e0cb945246a",
   "metadata": {
    "scrolled": true,
    "tags": []
   },
   "outputs": [
    {
     "name": "stdout",
     "output_type": "stream",
     "text": [
      "Requirement already satisfied: undatasio in /Users/stay/anaconda3/envs/undatasio/lib/python3.10/site-packages (0.1.7.1)\n",
      "Requirement already satisfied: requests~=2.32.3 in /Users/stay/anaconda3/envs/undatasio/lib/python3.10/site-packages (from undatasio) (2.32.3)\n",
      "Requirement already satisfied: requests-toolbelt==1.0.0 in /Users/stay/anaconda3/envs/undatasio/lib/python3.10/site-packages (from undatasio) (1.0.0)\n",
      "Requirement already satisfied: llama-index in /Users/stay/anaconda3/envs/undatasio/lib/python3.10/site-packages (from undatasio) (0.11.17)\n",
      "Requirement already satisfied: langchain-core in /Users/stay/anaconda3/envs/undatasio/lib/python3.10/site-packages (from undatasio) (0.3.10)\n",
      "Requirement already satisfied: charset-normalizer<4,>=2 in /Users/stay/anaconda3/envs/undatasio/lib/python3.10/site-packages (from requests~=2.32.3->undatasio) (3.3.2)\n",
      "Requirement already satisfied: idna<4,>=2.5 in /Users/stay/anaconda3/envs/undatasio/lib/python3.10/site-packages (from requests~=2.32.3->undatasio) (3.10)\n",
      "Requirement already satisfied: urllib3<3,>=1.21.1 in /Users/stay/anaconda3/envs/undatasio/lib/python3.10/site-packages (from requests~=2.32.3->undatasio) (2.2.3)\n",
      "Requirement already satisfied: certifi>=2017.4.17 in /Users/stay/anaconda3/envs/undatasio/lib/python3.10/site-packages (from requests~=2.32.3->undatasio) (2024.8.30)\n",
      "Requirement already satisfied: PyYAML>=5.3 in /Users/stay/anaconda3/envs/undatasio/lib/python3.10/site-packages (from langchain-core->undatasio) (6.0.2)\n",
      "Requirement already satisfied: jsonpatch<2.0,>=1.33 in /Users/stay/anaconda3/envs/undatasio/lib/python3.10/site-packages (from langchain-core->undatasio) (1.33)\n",
      "Requirement already satisfied: langsmith<0.2.0,>=0.1.125 in /Users/stay/anaconda3/envs/undatasio/lib/python3.10/site-packages (from langchain-core->undatasio) (0.1.133)\n",
      "Requirement already satisfied: packaging<25,>=23.2 in /Users/stay/anaconda3/envs/undatasio/lib/python3.10/site-packages (from langchain-core->undatasio) (24.1)\n",
      "Requirement already satisfied: pydantic<3.0.0,>=2.5.2 in /Users/stay/anaconda3/envs/undatasio/lib/python3.10/site-packages (from langchain-core->undatasio) (2.9.2)\n",
      "Requirement already satisfied: tenacity!=8.4.0,<9.0.0,>=8.1.0 in /Users/stay/anaconda3/envs/undatasio/lib/python3.10/site-packages (from langchain-core->undatasio) (8.5.0)\n",
      "Requirement already satisfied: typing-extensions>=4.7 in /Users/stay/anaconda3/envs/undatasio/lib/python3.10/site-packages (from langchain-core->undatasio) (4.12.2)\n",
      "Requirement already satisfied: llama-index-agent-openai<0.4.0,>=0.3.4 in /Users/stay/anaconda3/envs/undatasio/lib/python3.10/site-packages (from llama-index->undatasio) (0.3.4)\n",
      "Requirement already satisfied: llama-index-cli<0.4.0,>=0.3.1 in /Users/stay/anaconda3/envs/undatasio/lib/python3.10/site-packages (from llama-index->undatasio) (0.3.1)\n",
      "Requirement already satisfied: llama-index-core<0.12.0,>=0.11.17 in /Users/stay/anaconda3/envs/undatasio/lib/python3.10/site-packages (from llama-index->undatasio) (0.11.17)\n",
      "Requirement already satisfied: llama-index-embeddings-openai<0.3.0,>=0.2.4 in /Users/stay/anaconda3/envs/undatasio/lib/python3.10/site-packages (from llama-index->undatasio) (0.2.5)\n",
      "Requirement already satisfied: llama-index-indices-managed-llama-cloud>=0.3.0 in /Users/stay/anaconda3/envs/undatasio/lib/python3.10/site-packages (from llama-index->undatasio) (0.4.0)\n",
      "Requirement already satisfied: llama-index-legacy<0.10.0,>=0.9.48 in /Users/stay/anaconda3/envs/undatasio/lib/python3.10/site-packages (from llama-index->undatasio) (0.9.48.post3)\n",
      "Requirement already satisfied: llama-index-llms-openai<0.3.0,>=0.2.10 in /Users/stay/anaconda3/envs/undatasio/lib/python3.10/site-packages (from llama-index->undatasio) (0.2.13)\n",
      "Requirement already satisfied: llama-index-multi-modal-llms-openai<0.3.0,>=0.2.0 in /Users/stay/anaconda3/envs/undatasio/lib/python3.10/site-packages (from llama-index->undatasio) (0.2.2)\n",
      "Requirement already satisfied: llama-index-program-openai<0.3.0,>=0.2.0 in /Users/stay/anaconda3/envs/undatasio/lib/python3.10/site-packages (from llama-index->undatasio) (0.2.0)\n",
      "Requirement already satisfied: llama-index-question-gen-openai<0.3.0,>=0.2.0 in /Users/stay/anaconda3/envs/undatasio/lib/python3.10/site-packages (from llama-index->undatasio) (0.2.0)\n",
      "Requirement already satisfied: llama-index-readers-file<0.3.0,>=0.2.0 in /Users/stay/anaconda3/envs/undatasio/lib/python3.10/site-packages (from llama-index->undatasio) (0.2.2)\n",
      "Requirement already satisfied: llama-index-readers-llama-parse>=0.3.0 in /Users/stay/anaconda3/envs/undatasio/lib/python3.10/site-packages (from llama-index->undatasio) (0.3.0)\n",
      "Requirement already satisfied: nltk>3.8.1 in /Users/stay/anaconda3/envs/undatasio/lib/python3.10/site-packages (from llama-index->undatasio) (3.9.1)\n",
      "Requirement already satisfied: jsonpointer>=1.9 in /Users/stay/anaconda3/envs/undatasio/lib/python3.10/site-packages (from jsonpatch<2.0,>=1.33->langchain-core->undatasio) (3.0.0)\n",
      "Requirement already satisfied: httpx<1,>=0.23.0 in /Users/stay/anaconda3/envs/undatasio/lib/python3.10/site-packages (from langsmith<0.2.0,>=0.1.125->langchain-core->undatasio) (0.27.2)\n",
      "Requirement already satisfied: orjson<4.0.0,>=3.9.14 in /Users/stay/anaconda3/envs/undatasio/lib/python3.10/site-packages (from langsmith<0.2.0,>=0.1.125->langchain-core->undatasio) (3.10.7)\n",
      "Requirement already satisfied: openai>=1.14.0 in /Users/stay/anaconda3/envs/undatasio/lib/python3.10/site-packages (from llama-index-agent-openai<0.4.0,>=0.3.4->llama-index->undatasio) (1.51.2)\n",
      "Requirement already satisfied: SQLAlchemy>=1.4.49 in /Users/stay/anaconda3/envs/undatasio/lib/python3.10/site-packages (from SQLAlchemy[asyncio]>=1.4.49->llama-index-core<0.12.0,>=0.11.17->llama-index->undatasio) (2.0.35)\n",
      "Requirement already satisfied: aiohttp<4.0.0,>=3.8.6 in /Users/stay/anaconda3/envs/undatasio/lib/python3.10/site-packages (from llama-index-core<0.12.0,>=0.11.17->llama-index->undatasio) (3.10.9)\n",
      "Requirement already satisfied: dataclasses-json in /Users/stay/anaconda3/envs/undatasio/lib/python3.10/site-packages (from llama-index-core<0.12.0,>=0.11.17->llama-index->undatasio) (0.6.7)\n",
      "Requirement already satisfied: deprecated>=1.2.9.3 in /Users/stay/anaconda3/envs/undatasio/lib/python3.10/site-packages (from llama-index-core<0.12.0,>=0.11.17->llama-index->undatasio) (1.2.14)\n",
      "Requirement already satisfied: dirtyjson<2.0.0,>=1.0.8 in /Users/stay/anaconda3/envs/undatasio/lib/python3.10/site-packages (from llama-index-core<0.12.0,>=0.11.17->llama-index->undatasio) (1.0.8)\n",
      "Requirement already satisfied: fsspec>=2023.5.0 in /Users/stay/anaconda3/envs/undatasio/lib/python3.10/site-packages (from llama-index-core<0.12.0,>=0.11.17->llama-index->undatasio) (2024.9.0)\n",
      "Requirement already satisfied: nest-asyncio<2.0.0,>=1.5.8 in /Users/stay/anaconda3/envs/undatasio/lib/python3.10/site-packages (from llama-index-core<0.12.0,>=0.11.17->llama-index->undatasio) (1.6.0)\n",
      "Requirement already satisfied: networkx>=3.0 in /Users/stay/anaconda3/envs/undatasio/lib/python3.10/site-packages (from llama-index-core<0.12.0,>=0.11.17->llama-index->undatasio) (3.3)\n",
      "Requirement already satisfied: numpy<2.0.0 in /Users/stay/anaconda3/envs/undatasio/lib/python3.10/site-packages (from llama-index-core<0.12.0,>=0.11.17->llama-index->undatasio) (1.26.4)\n",
      "Requirement already satisfied: pillow>=9.0.0 in /Users/stay/anaconda3/envs/undatasio/lib/python3.10/site-packages (from llama-index-core<0.12.0,>=0.11.17->llama-index->undatasio) (10.4.0)\n",
      "Requirement already satisfied: tiktoken>=0.3.3 in /Users/stay/anaconda3/envs/undatasio/lib/python3.10/site-packages (from llama-index-core<0.12.0,>=0.11.17->llama-index->undatasio) (0.8.0)\n",
      "Requirement already satisfied: tqdm<5.0.0,>=4.66.1 in /Users/stay/anaconda3/envs/undatasio/lib/python3.10/site-packages (from llama-index-core<0.12.0,>=0.11.17->llama-index->undatasio) (4.66.5)\n",
      "Requirement already satisfied: typing-inspect>=0.8.0 in /Users/stay/anaconda3/envs/undatasio/lib/python3.10/site-packages (from llama-index-core<0.12.0,>=0.11.17->llama-index->undatasio) (0.9.0)\n",
      "Requirement already satisfied: wrapt in /Users/stay/anaconda3/envs/undatasio/lib/python3.10/site-packages (from llama-index-core<0.12.0,>=0.11.17->llama-index->undatasio) (1.16.0)\n",
      "Requirement already satisfied: llama-cloud>=0.0.11 in /Users/stay/anaconda3/envs/undatasio/lib/python3.10/site-packages (from llama-index-indices-managed-llama-cloud>=0.3.0->llama-index->undatasio) (0.1.2)\n",
      "Requirement already satisfied: pandas in /Users/stay/anaconda3/envs/undatasio/lib/python3.10/site-packages (from llama-index-legacy<0.10.0,>=0.9.48->llama-index->undatasio) (2.2.3)\n",
      "Requirement already satisfied: beautifulsoup4<5.0.0,>=4.12.3 in /Users/stay/anaconda3/envs/undatasio/lib/python3.10/site-packages (from llama-index-readers-file<0.3.0,>=0.2.0->llama-index->undatasio) (4.12.3)\n",
      "Requirement already satisfied: pypdf<5.0.0,>=4.0.1 in /Users/stay/anaconda3/envs/undatasio/lib/python3.10/site-packages (from llama-index-readers-file<0.3.0,>=0.2.0->llama-index->undatasio) (4.3.1)\n",
      "Requirement already satisfied: striprtf<0.0.27,>=0.0.26 in /Users/stay/anaconda3/envs/undatasio/lib/python3.10/site-packages (from llama-index-readers-file<0.3.0,>=0.2.0->llama-index->undatasio) (0.0.26)\n",
      "Requirement already satisfied: llama-parse>=0.5.0 in /Users/stay/anaconda3/envs/undatasio/lib/python3.10/site-packages (from llama-index-readers-llama-parse>=0.3.0->llama-index->undatasio) (0.5.7)\n",
      "Requirement already satisfied: click in /Users/stay/anaconda3/envs/undatasio/lib/python3.10/site-packages (from nltk>3.8.1->llama-index->undatasio) (8.1.7)\n",
      "Requirement already satisfied: joblib in /Users/stay/anaconda3/envs/undatasio/lib/python3.10/site-packages (from nltk>3.8.1->llama-index->undatasio) (1.4.2)\n",
      "Requirement already satisfied: regex>=2021.8.3 in /Users/stay/anaconda3/envs/undatasio/lib/python3.10/site-packages (from nltk>3.8.1->llama-index->undatasio) (2024.9.11)\n",
      "Requirement already satisfied: annotated-types>=0.6.0 in /Users/stay/anaconda3/envs/undatasio/lib/python3.10/site-packages (from pydantic<3.0.0,>=2.5.2->langchain-core->undatasio) (0.7.0)\n",
      "Requirement already satisfied: pydantic-core==2.23.4 in /Users/stay/anaconda3/envs/undatasio/lib/python3.10/site-packages (from pydantic<3.0.0,>=2.5.2->langchain-core->undatasio) (2.23.4)\n",
      "Requirement already satisfied: aiohappyeyeballs>=2.3.0 in /Users/stay/anaconda3/envs/undatasio/lib/python3.10/site-packages (from aiohttp<4.0.0,>=3.8.6->llama-index-core<0.12.0,>=0.11.17->llama-index->undatasio) (2.4.3)\n",
      "Requirement already satisfied: aiosignal>=1.1.2 in /Users/stay/anaconda3/envs/undatasio/lib/python3.10/site-packages (from aiohttp<4.0.0,>=3.8.6->llama-index-core<0.12.0,>=0.11.17->llama-index->undatasio) (1.3.1)\n",
      "Requirement already satisfied: attrs>=17.3.0 in /Users/stay/anaconda3/envs/undatasio/lib/python3.10/site-packages (from aiohttp<4.0.0,>=3.8.6->llama-index-core<0.12.0,>=0.11.17->llama-index->undatasio) (24.2.0)\n",
      "Requirement already satisfied: frozenlist>=1.1.1 in /Users/stay/anaconda3/envs/undatasio/lib/python3.10/site-packages (from aiohttp<4.0.0,>=3.8.6->llama-index-core<0.12.0,>=0.11.17->llama-index->undatasio) (1.4.1)\n",
      "Requirement already satisfied: multidict<7.0,>=4.5 in /Users/stay/anaconda3/envs/undatasio/lib/python3.10/site-packages (from aiohttp<4.0.0,>=3.8.6->llama-index-core<0.12.0,>=0.11.17->llama-index->undatasio) (6.1.0)\n",
      "Requirement already satisfied: yarl<2.0,>=1.12.0 in /Users/stay/anaconda3/envs/undatasio/lib/python3.10/site-packages (from aiohttp<4.0.0,>=3.8.6->llama-index-core<0.12.0,>=0.11.17->llama-index->undatasio) (1.14.0)\n",
      "Requirement already satisfied: async-timeout<5.0,>=4.0 in /Users/stay/anaconda3/envs/undatasio/lib/python3.10/site-packages (from aiohttp<4.0.0,>=3.8.6->llama-index-core<0.12.0,>=0.11.17->llama-index->undatasio) (4.0.3)\n",
      "Requirement already satisfied: soupsieve>1.2 in /Users/stay/anaconda3/envs/undatasio/lib/python3.10/site-packages (from beautifulsoup4<5.0.0,>=4.12.3->llama-index-readers-file<0.3.0,>=0.2.0->llama-index->undatasio) (2.6)\n",
      "Requirement already satisfied: anyio in /Users/stay/anaconda3/envs/undatasio/lib/python3.10/site-packages (from httpx<1,>=0.23.0->langsmith<0.2.0,>=0.1.125->langchain-core->undatasio) (4.6.0)\n",
      "Requirement already satisfied: httpcore==1.* in /Users/stay/anaconda3/envs/undatasio/lib/python3.10/site-packages (from httpx<1,>=0.23.0->langsmith<0.2.0,>=0.1.125->langchain-core->undatasio) (1.0.6)\n",
      "Requirement already satisfied: sniffio in /Users/stay/anaconda3/envs/undatasio/lib/python3.10/site-packages (from httpx<1,>=0.23.0->langsmith<0.2.0,>=0.1.125->langchain-core->undatasio) (1.3.1)\n",
      "Requirement already satisfied: h11<0.15,>=0.13 in /Users/stay/anaconda3/envs/undatasio/lib/python3.10/site-packages (from httpcore==1.*->httpx<1,>=0.23.0->langsmith<0.2.0,>=0.1.125->langchain-core->undatasio) (0.14.0)\n",
      "Requirement already satisfied: distro<2,>=1.7.0 in /Users/stay/anaconda3/envs/undatasio/lib/python3.10/site-packages (from openai>=1.14.0->llama-index-agent-openai<0.4.0,>=0.3.4->llama-index->undatasio) (1.9.0)\n",
      "Requirement already satisfied: jiter<1,>=0.4.0 in /Users/stay/anaconda3/envs/undatasio/lib/python3.10/site-packages (from openai>=1.14.0->llama-index-agent-openai<0.4.0,>=0.3.4->llama-index->undatasio) (0.6.1)\n",
      "Requirement already satisfied: greenlet!=0.4.17 in /Users/stay/anaconda3/envs/undatasio/lib/python3.10/site-packages (from SQLAlchemy[asyncio]>=1.4.49->llama-index-core<0.12.0,>=0.11.17->llama-index->undatasio) (3.1.1)\n",
      "Requirement already satisfied: mypy-extensions>=0.3.0 in /Users/stay/anaconda3/envs/undatasio/lib/python3.10/site-packages (from typing-inspect>=0.8.0->llama-index-core<0.12.0,>=0.11.17->llama-index->undatasio) (1.0.0)\n",
      "Requirement already satisfied: marshmallow<4.0.0,>=3.18.0 in /Users/stay/anaconda3/envs/undatasio/lib/python3.10/site-packages (from dataclasses-json->llama-index-core<0.12.0,>=0.11.17->llama-index->undatasio) (3.22.0)\n",
      "Requirement already satisfied: python-dateutil>=2.8.2 in /Users/stay/anaconda3/envs/undatasio/lib/python3.10/site-packages (from pandas->llama-index-legacy<0.10.0,>=0.9.48->llama-index->undatasio) (2.9.0.post0)\n",
      "Requirement already satisfied: pytz>=2020.1 in /Users/stay/anaconda3/envs/undatasio/lib/python3.10/site-packages (from pandas->llama-index-legacy<0.10.0,>=0.9.48->llama-index->undatasio) (2024.2)\n",
      "Requirement already satisfied: tzdata>=2022.7 in /Users/stay/anaconda3/envs/undatasio/lib/python3.10/site-packages (from pandas->llama-index-legacy<0.10.0,>=0.9.48->llama-index->undatasio) (2024.2)\n",
      "Requirement already satisfied: exceptiongroup>=1.0.2 in /Users/stay/anaconda3/envs/undatasio/lib/python3.10/site-packages (from anyio->httpx<1,>=0.23.0->langsmith<0.2.0,>=0.1.125->langchain-core->undatasio) (1.2.2)\n",
      "Requirement already satisfied: six>=1.5 in /Users/stay/anaconda3/envs/undatasio/lib/python3.10/site-packages (from python-dateutil>=2.8.2->pandas->llama-index-legacy<0.10.0,>=0.9.48->llama-index->undatasio) (1.16.0)\n",
      "Requirement already satisfied: propcache>=0.2.0 in /Users/stay/anaconda3/envs/undatasio/lib/python3.10/site-packages (from yarl<2.0,>=1.12.0->aiohttp<4.0.0,>=3.8.6->llama-index-core<0.12.0,>=0.11.17->llama-index->undatasio) (0.2.0)\n"
     ]
    }
   ],
   "source": [
    "# install undatasio\n",
    "!pip install -U undatasio"
   ]
  },
  {
   "cell_type": "markdown",
   "id": "b217f174-2bc7-4ddf-b3bb-1dc19b10141a",
   "metadata": {
    "tags": []
   },
   "source": [
    "## To import an **UnDataIO** object, you need a token and an optional task name from the Undatasio platform."
   ]
  },
  {
   "cell_type": "code",
   "execution_count": 1,
   "id": "57ee0e0b-b16c-42a8-97a6-4816f673b9a6",
   "metadata": {},
   "outputs": [],
   "source": [
    "from undatasio.undatasio import UnDatasIO\n",
    "\n",
    "undatasio_obj = UnDatasIO('025ae1da7598456daa802fef7873e31b')"
   ]
  },
  {
   "cell_type": "markdown",
   "id": "50c8b67f-73c6-4338-9df4-0a3b2481a1fd",
   "metadata": {},
   "source": [
    "## The **show_version** function of the generated Undatasio object can display all version information and file lists for the current token's task name."
   ]
  },
  {
   "cell_type": "code",
   "execution_count": 2,
   "id": "b2d91f03-8f4d-48c1-a6fa-cf38d316c23a",
   "metadata": {
    "scrolled": true
   },
   "outputs": [
    {
     "data": {
      "text/plain": [
       "Response(code=200, msg='success', data=      title version  count                                          file_name\n",
       "0   1 files     v26      1                        [1d8c9bc374114b6e901da.pdf]\n",
       "1   1 files     v25      1                     [页面提取自－VAR：风险价值—金融风险管理新标准.pdf]\n",
       "2   1 files     v24      1                                          [100.pdf]\n",
       "3   1 files     v23      1                                          [100.pdf]\n",
       "4   2 files     v22      2   [棉花标准仓单销售合同.pdf, 调整组合结构应对短期波折基金每日资讯20150608.pdf]\n",
       "5   3 files     v21      3  [高杠杆分级基金估值风险上升基金周报20110225.pdf, 风险化解紧迫信托保障基金成立...\n",
       "6   1 files     v20      1                                    [借款合同-借款合同.pdf]\n",
       "7   1 files     v19      1                                    [借款合同-借款合同.pdf]\n",
       "8   1 files     v18      1                                    [借款合同-借款合同.pdf]\n",
       "9    专业合同解析     v17      2   [调整组合结构应对短期波折基金每日资讯20150608.pdf, 棉花标准仓单销售合同.pdf]\n",
       "10  1 files     v16      1                                   [漩涡中的信用衍生产品.pdf]\n",
       "11  1 files     v15      1                                   [漩涡中的信用衍生产品.pdf]\n",
       "12  1 files     v14      1                                   [漩涡中的信用衍生产品.pdf]\n",
       "13  1 files     v13      1                                   [漩涡中的信用衍生产品.pdf]\n",
       "14  1 files     v12      1                                   [漩涡中的信用衍生产品.pdf]\n",
       "15  1 files     v11      1                                   [漩涡中的信用衍生产品.pdf]\n",
       "16  1 files     v10      1                                   [漩涡中的信用衍生产品.pdf]\n",
       "17  1 files      v9      1                                   [漩涡中的信用衍生产品.pdf]\n",
       "18  1 files      v8      1                                   [漩涡中的信用衍生产品.pdf]\n",
       "19  1 files      v7      1                                   [漩涡中的信用衍生产品.pdf]\n",
       "20  1 files      v6      1                                   [漩涡中的信用衍生产品.pdf]\n",
       "21  1 files      v5      1                   [调整组合结构应对短期波折基金每日资讯20150608.pdf]\n",
       "22  1 files      v4      1                   [调整组合结构应对短期波折基金每日资讯20150608.pdf]\n",
       "23  1 files      v2      1                   [调整组合结构应对短期波折基金每日资讯20150608.pdf]\n",
       "24  4 files      v1      4  [EditablePureText.pdf, PlainText.pdf, PureTabl...)"
      ]
     },
     "execution_count": 2,
     "metadata": {},
     "output_type": "execute_result"
    }
   ],
   "source": [
    "version_data = undatasio_obj.show_version()\n",
    "version_data"
   ]
  },
  {
   "cell_type": "markdown",
   "id": "c43f8940-fa62-45e1-ac7d-0c996c977dd7",
   "metadata": {},
   "source": [
    "## The **get_result_to_langchain_document** function of the Undatasio object returns a Langchain Document object. Parameters for this function can be gleaned from the data returned by the **show_version** function."
   ]
  },
  {
   "cell_type": "code",
   "execution_count": 3,
   "id": "9dc9912e-056c-4193-98b5-cb17999e7bc3",
   "metadata": {
    "scrolled": true
   },
   "outputs": [
    {
     "ename": "ValidationError",
     "evalue": "1 validation error for Document\npage_content\n  Input should be a valid string [type=string_type, input_value=None, input_type=NoneType]\n    For further information visit https://errors.pydantic.dev/2.9/v/string_type",
     "output_type": "error",
     "traceback": [
      "\u001b[0;31m---------------------------------------------------------------------------\u001b[0m",
      "\u001b[0;31mValidationError\u001b[0m                           Traceback (most recent call last)",
      "Cell \u001b[0;32mIn[3], line 1\u001b[0m\n\u001b[0;32m----> 1\u001b[0m lc_document \u001b[38;5;241m=\u001b[39m \u001b[43mundatasio_obj\u001b[49m\u001b[38;5;241;43m.\u001b[39;49m\u001b[43mget_result_to_langchain_document\u001b[49m\u001b[43m(\u001b[49m\n\u001b[1;32m      2\u001b[0m \u001b[43m    \u001b[49m\u001b[43mtype_info\u001b[49m\u001b[38;5;241;43m=\u001b[39;49m\u001b[43m[\u001b[49m\u001b[38;5;124;43m'\u001b[39;49m\u001b[38;5;124;43mtext\u001b[39;49m\u001b[38;5;124;43m'\u001b[39;49m\u001b[43m]\u001b[49m\u001b[43m,\u001b[49m\n\u001b[1;32m      3\u001b[0m \u001b[43m    \u001b[49m\u001b[43mfile_name\u001b[49m\u001b[38;5;241;43m=\u001b[39;49m\u001b[38;5;124;43m'\u001b[39;49m\u001b[38;5;124;43m1d8c9bc374114b6e901da.pdf\u001b[39;49m\u001b[38;5;124;43m'\u001b[39;49m\u001b[43m,\u001b[49m\n\u001b[1;32m      4\u001b[0m \u001b[43m    \u001b[49m\u001b[43mversion\u001b[49m\u001b[38;5;241;43m=\u001b[39;49m\u001b[38;5;124;43m'\u001b[39;49m\u001b[38;5;124;43mv26\u001b[39;49m\u001b[38;5;124;43m'\u001b[39;49m\n\u001b[1;32m      5\u001b[0m \u001b[43m)\u001b[49m\n\u001b[1;32m      6\u001b[0m lc_document\n",
      "File \u001b[0;32m~/anaconda3/envs/undatasio/lib/python3.10/site-packages/undatasio/undatasio.py:191\u001b[0m, in \u001b[0;36mUnDatasIO.get_result_to_langchain_document\u001b[0;34m(self, type_info, file_name, version)\u001b[0m\n\u001b[1;32m    184\u001b[0m \u001b[38;5;250m\u001b[39m\u001b[38;5;124;03m\"\"\"\u001b[39;00m\n\u001b[1;32m    185\u001b[0m \u001b[38;5;124;03m:param type_info: Please select from title, table, text, image, interline_equation\u001b[39;00m\n\u001b[1;32m    186\u001b[0m \u001b[38;5;124;03m:param file_name: file name\u001b[39;00m\n\u001b[1;32m    187\u001b[0m \u001b[38;5;124;03m:param version: version\u001b[39;00m\n\u001b[1;32m    188\u001b[0m \u001b[38;5;124;03m:return: langchain_core.Document\u001b[39;00m\n\u001b[1;32m    189\u001b[0m \u001b[38;5;124;03m\"\"\"\u001b[39;00m\n\u001b[1;32m    190\u001b[0m result \u001b[38;5;241m=\u001b[39m \u001b[38;5;28mself\u001b[39m\u001b[38;5;241m.\u001b[39mget_result_type(type_info, file_name, version)\u001b[38;5;241m.\u001b[39mdata\n\u001b[0;32m--> 191\u001b[0m \u001b[38;5;28;01mreturn\u001b[39;00m \u001b[43mlcDocument\u001b[49m\u001b[43m(\u001b[49m\n\u001b[1;32m    192\u001b[0m \u001b[43m    \u001b[49m\u001b[43mpage_content\u001b[49m\u001b[38;5;241;43m=\u001b[39;49m\u001b[43mresult\u001b[49m\u001b[43m,\u001b[49m\n\u001b[1;32m    193\u001b[0m \u001b[43m    \u001b[49m\u001b[43mmetadata\u001b[49m\u001b[38;5;241;43m=\u001b[39;49m\u001b[43m{\u001b[49m\n\u001b[1;32m    194\u001b[0m \u001b[43m        \u001b[49m\u001b[38;5;124;43m\"\u001b[39;49m\u001b[38;5;124;43msource\u001b[39;49m\u001b[38;5;124;43m\"\u001b[39;49m\u001b[43m:\u001b[49m\u001b[43m \u001b[49m\u001b[38;5;124;43mf\u001b[39;49m\u001b[38;5;124;43m\"\u001b[39;49m\u001b[38;5;132;43;01m{\u001b[39;49;00m\u001b[38;5;28;43mself\u001b[39;49m\u001b[38;5;241;43m.\u001b[39;49m\u001b[43mtask_name\u001b[49m\u001b[38;5;132;43;01m}\u001b[39;49;00m\u001b[38;5;124;43m_\u001b[39;49m\u001b[38;5;132;43;01m{\u001b[39;49;00m\u001b[43mversion\u001b[49m\u001b[38;5;132;43;01m}\u001b[39;49;00m\u001b[38;5;124;43m_\u001b[39;49m\u001b[38;5;132;43;01m{\u001b[39;49;00m\u001b[43mfile_name\u001b[49m\u001b[38;5;132;43;01m}\u001b[39;49;00m\u001b[38;5;124;43m_[\u001b[39;49m\u001b[38;5;132;43;01m{\u001b[39;49;00m\u001b[38;5;124;43m'\u001b[39;49m\u001b[38;5;124;43m,\u001b[39;49m\u001b[38;5;124;43m'\u001b[39;49m\u001b[38;5;241;43m.\u001b[39;49m\u001b[43mjoin\u001b[49m\u001b[43m(\u001b[49m\u001b[43mtype_info\u001b[49m\u001b[43m)\u001b[49m\u001b[38;5;132;43;01m}\u001b[39;49;00m\u001b[38;5;124;43m]\u001b[39;49m\u001b[38;5;124;43m\"\u001b[39;49m\n\u001b[1;32m    195\u001b[0m \u001b[43m    \u001b[49m\u001b[43m}\u001b[49m\u001b[43m,\u001b[49m\n\u001b[1;32m    196\u001b[0m \u001b[43m\u001b[49m\u001b[43m)\u001b[49m\n",
      "File \u001b[0;32m~/anaconda3/envs/undatasio/lib/python3.10/site-packages/langchain_core/documents/base.py:285\u001b[0m, in \u001b[0;36mDocument.__init__\u001b[0;34m(self, page_content, **kwargs)\u001b[0m\n\u001b[1;32m    282\u001b[0m \u001b[38;5;250m\u001b[39m\u001b[38;5;124;03m\"\"\"Pass page_content in as positional or named arg.\"\"\"\u001b[39;00m\n\u001b[1;32m    283\u001b[0m \u001b[38;5;66;03m# my-py is complaining that page_content is not defined on the base class.\u001b[39;00m\n\u001b[1;32m    284\u001b[0m \u001b[38;5;66;03m# Here, we're relying on pydantic base class to handle the validation.\u001b[39;00m\n\u001b[0;32m--> 285\u001b[0m \u001b[38;5;28;43msuper\u001b[39;49m\u001b[43m(\u001b[49m\u001b[43m)\u001b[49m\u001b[38;5;241;43m.\u001b[39;49m\u001b[38;5;21;43m__init__\u001b[39;49m\u001b[43m(\u001b[49m\u001b[43mpage_content\u001b[49m\u001b[38;5;241;43m=\u001b[39;49m\u001b[43mpage_content\u001b[49m\u001b[43m,\u001b[49m\u001b[43m \u001b[49m\u001b[38;5;241;43m*\u001b[39;49m\u001b[38;5;241;43m*\u001b[39;49m\u001b[43mkwargs\u001b[49m\u001b[43m)\u001b[49m\n",
      "File \u001b[0;32m~/anaconda3/envs/undatasio/lib/python3.10/site-packages/langchain_core/load/serializable.py:111\u001b[0m, in \u001b[0;36mSerializable.__init__\u001b[0;34m(self, *args, **kwargs)\u001b[0m\n\u001b[1;32m    109\u001b[0m \u001b[38;5;28;01mdef\u001b[39;00m \u001b[38;5;21m__init__\u001b[39m(\u001b[38;5;28mself\u001b[39m, \u001b[38;5;241m*\u001b[39margs: Any, \u001b[38;5;241m*\u001b[39m\u001b[38;5;241m*\u001b[39mkwargs: Any) \u001b[38;5;241m-\u001b[39m\u001b[38;5;241m>\u001b[39m \u001b[38;5;28;01mNone\u001b[39;00m:\n\u001b[1;32m    110\u001b[0m \u001b[38;5;250m    \u001b[39m\u001b[38;5;124;03m\"\"\"\"\"\"\u001b[39;00m\n\u001b[0;32m--> 111\u001b[0m     \u001b[38;5;28;43msuper\u001b[39;49m\u001b[43m(\u001b[49m\u001b[43m)\u001b[49m\u001b[38;5;241;43m.\u001b[39;49m\u001b[38;5;21;43m__init__\u001b[39;49m\u001b[43m(\u001b[49m\u001b[38;5;241;43m*\u001b[39;49m\u001b[43margs\u001b[49m\u001b[43m,\u001b[49m\u001b[43m \u001b[49m\u001b[38;5;241;43m*\u001b[39;49m\u001b[38;5;241;43m*\u001b[39;49m\u001b[43mkwargs\u001b[49m\u001b[43m)\u001b[49m\n",
      "File \u001b[0;32m~/anaconda3/envs/undatasio/lib/python3.10/site-packages/pydantic/main.py:212\u001b[0m, in \u001b[0;36mBaseModel.__init__\u001b[0;34m(self, **data)\u001b[0m\n\u001b[1;32m    210\u001b[0m \u001b[38;5;66;03m# `__tracebackhide__` tells pytest and some other tools to omit this function from tracebacks\u001b[39;00m\n\u001b[1;32m    211\u001b[0m __tracebackhide__ \u001b[38;5;241m=\u001b[39m \u001b[38;5;28;01mTrue\u001b[39;00m\n\u001b[0;32m--> 212\u001b[0m validated_self \u001b[38;5;241m=\u001b[39m \u001b[38;5;28;43mself\u001b[39;49m\u001b[38;5;241;43m.\u001b[39;49m\u001b[43m__pydantic_validator__\u001b[49m\u001b[38;5;241;43m.\u001b[39;49m\u001b[43mvalidate_python\u001b[49m\u001b[43m(\u001b[49m\u001b[43mdata\u001b[49m\u001b[43m,\u001b[49m\u001b[43m \u001b[49m\u001b[43mself_instance\u001b[49m\u001b[38;5;241;43m=\u001b[39;49m\u001b[38;5;28;43mself\u001b[39;49m\u001b[43m)\u001b[49m\n\u001b[1;32m    213\u001b[0m \u001b[38;5;28;01mif\u001b[39;00m \u001b[38;5;28mself\u001b[39m \u001b[38;5;129;01mis\u001b[39;00m \u001b[38;5;129;01mnot\u001b[39;00m validated_self:\n\u001b[1;32m    214\u001b[0m     warnings\u001b[38;5;241m.\u001b[39mwarn(\n\u001b[1;32m    215\u001b[0m         \u001b[38;5;124m'\u001b[39m\u001b[38;5;124mA custom validator is returning a value other than `self`.\u001b[39m\u001b[38;5;130;01m\\n\u001b[39;00m\u001b[38;5;124m'\u001b[39m\n\u001b[1;32m    216\u001b[0m         \u001b[38;5;124m\"\u001b[39m\u001b[38;5;124mReturning anything other than `self` from a top level model validator isn\u001b[39m\u001b[38;5;124m'\u001b[39m\u001b[38;5;124mt supported when validating via `__init__`.\u001b[39m\u001b[38;5;130;01m\\n\u001b[39;00m\u001b[38;5;124m\"\u001b[39m\n\u001b[1;32m    217\u001b[0m         \u001b[38;5;124m'\u001b[39m\u001b[38;5;124mSee the `model_validator` docs (https://docs.pydantic.dev/latest/concepts/validators/#model-validators) for more details.\u001b[39m\u001b[38;5;124m'\u001b[39m,\n\u001b[1;32m    218\u001b[0m         category\u001b[38;5;241m=\u001b[39m\u001b[38;5;28;01mNone\u001b[39;00m,\n\u001b[1;32m    219\u001b[0m     )\n",
      "\u001b[0;31mValidationError\u001b[0m: 1 validation error for Document\npage_content\n  Input should be a valid string [type=string_type, input_value=None, input_type=NoneType]\n    For further information visit https://errors.pydantic.dev/2.9/v/string_type"
     ]
    }
   ],
   "source": [
    "lc_document = undatasio_obj.get_result_to_langchain_document(\n",
    "    type_info=['text'],\n",
    "    file_name='1d8c9bc374114b6e901da.pdf',\n",
    "    version='v26'\n",
    ")\n",
    "lc_document"
   ]
  },
  {
   "cell_type": "markdown",
   "id": "269b8efe-289a-42c9-8a86-cd3d6b4ae440",
   "metadata": {},
   "source": [
    "## Use **RecursiveCharacterTextSplitter** from **langchain_text_splitters** to split the text returned by the **get_result_to_langchain_document** function."
   ]
  },
  {
   "cell_type": "code",
   "execution_count": null,
   "id": "1a84fc43-31c3-4493-95ab-85984e06d5f1",
   "metadata": {
    "scrolled": true
   },
   "outputs": [],
   "source": [
    "from langchain_text_splitters import RecursiveCharacterTextSplitter\n",
    "\n",
    "text_splitter = RecursiveCharacterTextSplitter(\n",
    "    chunk_size=100,\n",
    "    chunk_overlap=20,\n",
    "    length_function=len,\n",
    "    is_separator_regex=False,\n",
    ")\n",
    "texts = text_splitter.split_documents([lc_document.data])\n",
    "texts"
   ]
  },
  {
   "cell_type": "code",
   "execution_count": null,
   "id": "5a0f4cee-6e96-4d40-8ffd-c91739f73374",
   "metadata": {},
   "outputs": [],
   "source": []
  }
 ],
 "metadata": {
  "kernelspec": {
   "display_name": "Python 3 (ipykernel)",
   "language": "python",
   "name": "python3"
  },
  "language_info": {
   "codemirror_mode": {
    "name": "ipython",
    "version": 3
   },
   "file_extension": ".py",
   "mimetype": "text/x-python",
   "name": "python",
   "nbconvert_exporter": "python",
   "pygments_lexer": "ipython3",
   "version": "3.10.9"
  }
 },
 "nbformat": 4,
 "nbformat_minor": 5
}
