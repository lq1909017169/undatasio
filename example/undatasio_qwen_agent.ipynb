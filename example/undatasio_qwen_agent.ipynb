{
 "cells": [
  {
   "cell_type": "markdown",
   "id": "f6437da9-85f5-4940-9a08-35236860363f",
   "metadata": {},
   "source": [
    "# qwen_agent retrieves structured data from undatasio PDF."
   ]
  },
  {
   "cell_type": "markdown",
   "id": "a8c52581-40e8-4324-97b7-63c20c995238",
   "metadata": {},
   "source": [
    "![](example_content/undatasio_example.png)"
   ]
  },
  {
   "cell_type": "markdown",
   "id": "11321ea3-1bf8-44a3-bb36-d290e0d1a459",
   "metadata": {},
   "source": [
    "_By stay, Tech Enthusiast @Undatasio_\n",
    "- - -\n",
    "\n",
    "#### 🚀 Let's begin this example. \n",
    "    😃 😎 😝\n",
    "\n",
    "📣 This is a notebook example demonstrating the retrieval of formatted data from a markdown file converted from a PDF parsed by the undatasio platform using the qwen_agent framework.\n",
    "\n",
    "#### 📚 Below are the steps I took for this example:\n",
    "- 📄 Upload the PDF file to be parsed to the undatasio platform.\n",
    "  - _Download the undatasio Python library._\n",
    "  - _Import environment variables._\n",
    "  - _Use the undatasio library to obtain the URL of the markdown file parsed from the corresponding PDF file._\n",
    "- 📝 Use the qwen-agent RAG module to call the qwen2.5-72b-instruct model for formatted data extraction.\n",
    "  - _First, you need to install the corresponding qwen-agent library using pip._\n",
    "  - _Next, configure the parameters for the qwen2.5-72b-instruct model._\n",
    "  - _Finally, describe the function for this capability._\n",
    "  - _Call the function, and you will get the data you want._\n",
    "\n",
    "\n",
    "🎃 This is the entire process for this example. I hope you can gain some experience from it."
   ]
  },
  {
   "cell_type": "markdown",
   "id": "249b39e0-4562-4859-9cf2-66c4fc11b414",
   "metadata": {},
   "source": [
    "#### 📤 Upload PDF, undatasio parsing.\n",
    "\n",
    "_Install undatasio using pip._"
   ]
  },
  {
   "cell_type": "code",
   "execution_count": 1,
   "id": "68a22b08-5355-4667-af0d-fe61a1b0d50c",
   "metadata": {},
   "outputs": [],
   "source": [
    "# install undatasio\n",
    "!pip install -U -q undatasio"
   ]
  },
  {
   "cell_type": "code",
   "execution_count": 2,
   "id": "77843375-8eb3-4f57-be9f-1e4d1cba83be",
   "metadata": {
    "scrolled": true
   },
   "outputs": [
    {
     "name": "stdout",
     "output_type": "stream",
     "text": [
      "Collecting package metadata (current_repodata.json): ...working... done\n",
      "Solving environment: ...working... done\n",
      "\n",
      "# All requested packages already installed.\n",
      "\n"
     ]
    }
   ],
   "source": [
    "!conda install -c conda-forge python-dotenv -y -q"
   ]
  },
  {
   "cell_type": "markdown",
   "id": "d667cae7-e748-4aec-926e-4b324eebae11",
   "metadata": {},
   "source": [
    "_Use the load_dotenv function to load local environment variables._"
   ]
  },
  {
   "cell_type": "code",
   "execution_count": 3,
   "id": "c3b6e079-53e3-4e68-98d7-2fd48ed948ed",
   "metadata": {
    "scrolled": true
   },
   "outputs": [
    {
     "data": {
      "text/plain": [
       "True"
      ]
     },
     "execution_count": 3,
     "metadata": {},
     "output_type": "execute_result"
    }
   ],
   "source": [
    "import os\n",
    "from dotenv import load_dotenv\n",
    "\n",
    "load_dotenv('.env')"
   ]
  },
  {
   "cell_type": "code",
   "execution_count": 4,
   "id": "d64a3507-acb9-48c0-bbfe-d13d6afd9657",
   "metadata": {},
   "outputs": [],
   "source": [
    "UNDATASIO_API_KEY=os.getenv(\"UNDATASIO_API_KEY\")"
   ]
  },
  {
   "cell_type": "markdown",
   "id": "2eee9b1a-9c5e-4dc1-8e13-0b1be67110d0",
   "metadata": {},
   "source": [
    "_Create an instance of the UnDatasIO class._"
   ]
  },
  {
   "cell_type": "code",
   "execution_count": 5,
   "id": "399a162c-9c60-4853-9075-82724554559d",
   "metadata": {},
   "outputs": [],
   "source": [
    "from undatasio.undatasio import UnDatasIO\n",
    "\n",
    "undatasio_obj = UnDatasIO(UNDATASIO_API_KEY, task_name='demo')"
   ]
  },
  {
   "cell_type": "markdown",
   "id": "9e09e03d-9902-4b01-8d9e-8d0bde1c1528",
   "metadata": {},
   "source": [
    "_Get the URL of the markdown file for the uploaded file._"
   ]
  },
  {
   "cell_type": "code",
   "execution_count": 6,
   "id": "50a6c593-1881-46f3-9414-d4d50b160062",
   "metadata": {
    "scrolled": true
   },
   "outputs": [
    {
     "data": {
      "text/plain": [
       "'https://backend.undatas.io/static/pdfParser/a4292de6adc9424f85cd057f282dbf99/v1/e04d3c05b4de47a5b93c0237ed3fafd6/pdf.md'"
      ]
     },
     "execution_count": 6,
     "metadata": {},
     "output_type": "execute_result"
    }
   ],
   "source": [
    "document = undatasio_obj.get_result_to_files(\n",
    "    file_name_list='NVIDIAAn.pdf',\n",
    "    version='v1'\n",
    ")\n",
    "document.data[0]"
   ]
  },
  {
   "cell_type": "markdown",
   "id": "d9c3837a-3fd6-446f-89af-8b31603dd78e",
   "metadata": {},
   "source": [
    "#### 🚩 qwen-agent to retrieve structured data.\n",
    "\n",
    "_Install qwen-agent using pip._"
   ]
  },
  {
   "cell_type": "code",
   "execution_count": 7,
   "id": "1376abe3-c4d6-44fb-bb73-20aa54b54f82",
   "metadata": {},
   "outputs": [
    {
     "name": "stdout",
     "output_type": "stream",
     "text": [
      "zsh:1: no matches found: qwen-agent[rag]\n"
     ]
    }
   ],
   "source": [
    "!pip install -q -U qwen-agent['rag']"
   ]
  },
  {
   "cell_type": "markdown",
   "id": "a4d7ef13-7876-4077-afe7-a7c565ec246b",
   "metadata": {},
   "source": [
    "_Configure the parameters of the LLM._"
   ]
  },
  {
   "cell_type": "code",
   "execution_count": 8,
   "id": "8e29a16d-d2f5-4492-af26-348fe47c0b8e",
   "metadata": {},
   "outputs": [],
   "source": [
    "LLM_CONFIG = {\n",
    "    \"model\": 'qwen2.5-72b-instruct',\n",
    "    \"model_server\": os.getenv('DASHSCOPE_URL'),\n",
    "    \"api_key\": os.getenv('DASHSCOPE_API_KEY')\n",
    "}"
   ]
  },
  {
   "cell_type": "markdown",
   "id": "1c83436e-32e7-4f1a-8eb0-3c82b9f06caf",
   "metadata": {},
   "source": [
    "_Describe the function for retrieving formatted data._"
   ]
  },
  {
   "cell_type": "code",
   "execution_count": 9,
   "id": "500b1c63-c832-4dbf-9fa0-eb506e3f8046",
   "metadata": {},
   "outputs": [],
   "source": [
    "from qwen_agent.agents import Assistant\n",
    "from typing import List, Dict\n",
    "import json\n",
    "\n",
    "\n",
    "def get_values(keys: List, file: str) -> Dict | None:\n",
    "    key_str = \"{{\"\n",
    "    for key in keys:\n",
    "        key_str += f'\"{key}\": \"Extract the value of the key({key}) from the article. Return an empty string if the key is not found.\"'\n",
    "    key_str += \"}}\"\n",
    "\n",
    "    print(key_str)\n",
    "    prompt = f\"\"\"Given a text passage, please extract specific information and return it in JSON format:\n",
    "\n",
    "{key_str}\n",
    "\n",
    "Requirements:\n",
    "1. Return results in valid JSON format\n",
    "2. Use empty string (\"\") if information is not found\n",
    "3. Only extract relevant information - do not include unrelated context\n",
    "4. Keep original phrasing when possible\n",
    "5. Remove redundant text that doesn't add meaning\n",
    "6. Return only the result data in JSON format.\n",
    "\n",
    "Example input:\n",
    "\"NVIDIA reported strong growth in Q3, with revenue reaching $18.1 billion. Jensen Huang, who founded NVIDIA in 1993 and serves as CEO, commented that AI demand remains robust. The company expects Q4 revenue to hit $20 billion.\"\n",
    "\n",
    "Example output:\n",
    "{{\n",
    "\"third_quarter\": \"revenue reaching $18.1 billion\",\n",
    "  \"founder_ceo\": \"Jensen Huang\",\n",
    "  \"revenue_forecast\": \"expects Q4 revenue to hit $20 billion\"\n",
    "}}\n",
    "\n",
    "Please provide the text passage to analyze.\"\"\"\n",
    "    bot = Assistant(llm=LLM_CONFIG)\n",
    "    messages = [{'role': 'user', 'content': [{'text': prompt}, {'file': f'{file}'}]}]\n",
    "    rsp = bot.run_nonstream(messages)[0]['content']\n",
    "    json_data = json.loads(rsp)\n",
    "    return json_data"
   ]
  },
  {
   "cell_type": "markdown",
   "id": "f65ffe28-3e39-449a-bc81-fe688ecea980",
   "metadata": {},
   "source": [
    "prompt\n",
    "\n",
    "```\n",
    "Given a text passage, please extract specific information and return it in JSON format:\n",
    "\n",
    "{{\n",
    "\"the third quarter\": \"Extract the value of the key(the third quarter) from the article. Return an empty string if the key is not found.\",\"CEO of NVIDIA\": \"Extract the value of the key(CEO of NVIDIA) from the article. Return an empty string if the key is not found.\",\n",
    "}}\n",
    "\n",
    "Requirements:\n",
    "\n",
    "1. Return results in valid JSON format\n",
    "2. Use empty string (\"\") if information is not found\n",
    "3. Only extract relevant information - do not include unrelated context\n",
    "4. Keep original phrasing when possible\n",
    "5. Remove redundant text that doesn't add meaning\n",
    "\n",
    "Example input:\n",
    "\"NVIDIA reported strong growth in Q3, with revenue reaching $18.1 billion. Jensen Huang, who founded NVIDIA in 1993 and serves as CEO, commented that AI demand remains robust. The company expects Q4 revenue to hit $20 billion.\"\n",
    "\n",
    "Example output:\n",
    "{\n",
    "\"third_quarter\": \"revenue reaching $18.1 billion\",\n",
    "  \"founder_ceo\": \"Jensen Huang\",\n",
    "  \"revenue_forecast\": \"expects Q4 revenue to hit $20 billion\"\n",
    "}\n",
    "\n",
    "Please provide the text passage to analyze.\n",
    "```"
   ]
  },
  {
   "cell_type": "markdown",
   "id": "13a8b81a-daab-40ea-b3d6-a498231f4241",
   "metadata": {},
   "source": [
    "_Call the function._"
   ]
  },
  {
   "cell_type": "code",
   "execution_count": null,
   "id": "0f021b6e-272f-4f88-874e-3df02ba44187",
   "metadata": {},
   "outputs": [],
   "source": [
    "values = get_values(['the third quarter', 'CEO of NVIDIA'], document.data[0])"
   ]
  },
  {
   "cell_type": "code",
   "execution_count": 11,
   "id": "3d39555c-7ffe-434c-9885-67f88d43b010",
   "metadata": {},
   "outputs": [
    {
     "data": {
      "text/plain": [
       "{'the third quarter': 'revenue of $5.93 billion, down 17% from a year ago and down 12% from the previous quarter',\n",
       " 'CEO of NVIDIA': 'Jensen Huang'}"
      ]
     },
     "execution_count": 11,
     "metadata": {},
     "output_type": "execute_result"
    }
   ],
   "source": [
    "values"
   ]
  }
 ],
 "metadata": {
  "kernelspec": {
   "display_name": "Python 3 (ipykernel)",
   "language": "python",
   "name": "python3"
  },
  "language_info": {
   "codemirror_mode": {
    "name": "ipython",
    "version": 3
   },
   "file_extension": ".py",
   "mimetype": "text/x-python",
   "name": "python",
   "nbconvert_exporter": "python",
   "pygments_lexer": "ipython3",
   "version": "3.10.15"
  }
 },
 "nbformat": 4,
 "nbformat_minor": 5
}
