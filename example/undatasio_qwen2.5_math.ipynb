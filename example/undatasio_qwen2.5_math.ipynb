{
 "cells": [
  {
   "cell_type": "markdown",
   "id": "a02294c0-31d2-42ad-a0b4-e48c3ee3ed86",
   "metadata": {
    "id": "a02294c0-31d2-42ad-a0b4-e48c3ee3ed86"
   },
   "source": [
    "# Turbocharging Math Problem-Solving with Undatas.io and a  Qwen-max Model"
   ]
  },
  {
   "cell_type": "markdown",
   "id": "jH_ZodA-aToQ",
   "metadata": {
    "id": "jH_ZodA-aToQ"
   },
   "source": [
    "![](example_content/undatasio_example.png)"
   ]
  },
  {
   "cell_type": "markdown",
   "id": "yjsJoHAIY8nk",
   "metadata": {
    "id": "yjsJoHAIY8nk"
   },
   "source": [
    "## A recipe 🧑‍💻 📄 🔢\n",
    "\n",
    "[![Open in Colab](https://colab.research.google.com/assets/colab-badge.svg)](https://colab.research.google.com/drive/1U6l_jjUbC9ZIT5orXKD7M4Rvy92VWE_W?usp=sharing)\n",
    "\n",
    "By xll, Tech Enthusiast @ Undatasio\n",
    "\n",
    "This is a code recipe meticulously crafted to turbocharge the process of solving math problems extracted from PDF test papers by synergistically integrating the powerful [Undatas.io](https://undatas.io/) platform with a cutting-edge large language model.\n",
    "\n",
    "In the preceding notebook, we provided a preliminary demonstration problem-solving efficacy using elementary school math test paper questions. This time, the example will employ a junior high school **math test paper from the American \"Math League\" Mind Exploration** to further showcase the capabilities and potential of this approach.\n",
    "\n",
    "In this notebook, we'll take these essential steps:\n",
    "\n",
    "### 1. Bootstrapping with Undatas.io Setup\n",
    "- Install the Undatasio Python API library\n",
    "- UncoverUndatas.io's capabilities\n",
    "- Harness the get_result_type method\n",
    "\n",
    "### 2. Extracting Data from Math Test paper\n",
    "- Leverage the show_version function of the Undatasio object\n",
    "- Pinpoint key data: the math problems\n",
    "\n",
    "### 3. Bridging to Qwen Model via OpenAI\n",
    "- Install the OpenAI Python SDK\n",
    "- Initialize the OpenAI object\n",
    "\n",
    "### 4. Solving Math Problems with Qwen-max\n",
    "- Configure the Bailian Qwen-max model\n",
    "- Query the qwen2.5-math-72b-instruct model\n",
    "\n",
    "To run this notebook without a hitch, you'll need:\n",
    "- An [Undatas.io API key](https://platform.undatas.io/) sourced directly from the officialUndatas.io platform. This key unlocksUndatas.io's data extraction and manipulation arsenal, vital for our task.\n",
    "- An [Alibaba Cloud API key](https://www.alibabacloud.com/help/en/api-gateway/latest/api-gateway-api-key-management) obtained by following Alibaba Cloud's official protocol. This key is your entry pass to the Qwen model via OpenAI's infrastructure.\n",
    "\n"
   ]
  },
  {
   "cell_type": "markdown",
   "id": "6e3b12ab-f2f3-4e3a-a551-cb2ffd9eba1a",
   "metadata": {
    "id": "6e3b12ab-f2f3-4e3a-a551-cb2ffd9eba1a",
    "jp-MarkdownHeadingCollapsed": true
   },
   "source": [
    "This file demonstrates using the Undatasio platform and a large language model to answer math questions from a PDF test paper."
   ]
  },
  {
   "cell_type": "markdown",
   "id": "0cb60c99-7bfa-48e4-b527-a39fcf315323",
   "metadata": {
    "id": "0cb60c99-7bfa-48e4-b527-a39fcf315323",
    "tags": []
   },
   "source": [
    "## 1. Bootstrapping with Undatas.io Setup\n",
    " Installing the **Undatasio** Python API library"
   ]
  },
  {
   "cell_type": "code",
   "execution_count": null,
   "id": "f3a06c86-4ea3-4e07-a1bb-0b1584d48bb5",
   "metadata": {
    "colab": {
     "base_uri": "https://localhost:8080/"
    },
    "id": "f3a06c86-4ea3-4e07-a1bb-0b1584d48bb5",
    "outputId": "7425bab0-0432-4c75-d99c-b99f46d66c49"
   },
   "outputs": [
    {
     "name": "stdout",
     "output_type": "stream",
     "text": [
      "\u001b[2K   \u001b[90m━━━━━━━━━━━━━━━━━━━━━━━━━━━━━━━━━━━━━━━━\u001b[0m \u001b[32m389.9/389.9 kB\u001b[0m \u001b[31m7.4 MB/s\u001b[0m eta \u001b[36m0:00:00\u001b[0m\n",
      "\u001b[2K   \u001b[90m━━━━━━━━━━━━━━━━━━━━━━━━━━━━━━━━━━━━━━━━\u001b[0m \u001b[32m1.6/1.6 MB\u001b[0m \u001b[31m26.3 MB/s\u001b[0m eta \u001b[36m0:00:00\u001b[0m\n",
      "\u001b[2K   \u001b[90m━━━━━━━━━━━━━━━━━━━━━━━━━━━━━━━━━━━━━━━━\u001b[0m \u001b[32m1.2/1.2 MB\u001b[0m \u001b[31m13.6 MB/s\u001b[0m eta \u001b[36m0:00:00\u001b[0m\n",
      "\u001b[2K   \u001b[90m━━━━━━━━━━━━━━━━━━━━━━━━━━━━━━━━━━━━━━━━\u001b[0m \u001b[32m195.8/195.8 kB\u001b[0m \u001b[31m10.9 MB/s\u001b[0m eta \u001b[36m0:00:00\u001b[0m\n",
      "\u001b[2K   \u001b[90m━━━━━━━━━━━━━━━━━━━━━━━━━━━━━━━━━━━━━━━━\u001b[0m \u001b[32m298.0/298.0 kB\u001b[0m \u001b[31m4.6 MB/s\u001b[0m eta \u001b[36m0:00:00\u001b[0m\n",
      "\u001b[2K   \u001b[90m━━━━━━━━━━━━━━━━━━━━━━━━━━━━━━━━━━━━━━━━\u001b[0m \u001b[32m1.2/1.2 MB\u001b[0m \u001b[31m13.7 MB/s\u001b[0m eta \u001b[36m0:00:00\u001b[0m\n",
      "\u001b[2K   \u001b[90m━━━━━━━━━━━━━━━━━━━━━━━━━━━━━━━━━━━━━━━━\u001b[0m \u001b[32m49.5/49.5 kB\u001b[0m \u001b[31m2.7 MB/s\u001b[0m eta \u001b[36m0:00:00\u001b[0m\n",
      "\u001b[?25h"
     ]
    }
   ],
   "source": [
    "# install undatasio\n",
    "!pip install -U -q openai undatasio"
   ]
  },
  {
   "cell_type": "code",
   "execution_count": null,
   "id": "15080530-70f0-42d9-bee9-010055d449dd",
   "metadata": {
    "colab": {
     "base_uri": "https://localhost:8080/"
    },
    "id": "15080530-70f0-42d9-bee9-010055d449dd",
    "outputId": "149e7357-ce32-48ca-e790-3ec4d2476aa8",
    "scrolled": true
   },
   "outputs": [
    {
     "name": "stdout",
     "output_type": "stream",
     "text": [
      "/bin/bash: line 1: conda: command not found\n"
     ]
    }
   ],
   "source": [
    "# !conda install -c conda-forge python-dotenv -y -q"
   ]
  },
  {
   "cell_type": "code",
   "execution_count": null,
   "id": "9b661049-ccee-4bd5-b164-1e7b42523013",
   "metadata": {
    "id": "9b661049-ccee-4bd5-b164-1e7b42523013"
   },
   "outputs": [],
   "source": [
    "# import os\n",
    "# from dotenv import load_dotenv\n",
    "\n",
    "# load_dotenv('.env')"
   ]
  },
  {
   "cell_type": "markdown",
   "id": "b43202ea-3959-439f-bf46-65ae26f81f40",
   "metadata": {
    "id": "b43202ea-3959-439f-bf46-65ae26f81f40"
   },
   "source": [
    "### To import an **UnDataIO** object, you need a token and an optional task name from the Undatasio platform."
   ]
  },
  {
   "cell_type": "code",
   "execution_count": null,
   "id": "1f17ef7e-12fa-40b4-b5fb-fb3a6b3a00e1",
   "metadata": {
    "id": "1f17ef7e-12fa-40b4-b5fb-fb3a6b3a00e1"
   },
   "outputs": [],
   "source": [
    "from undatasio.undatasio import UnDatasIO\n",
    "\n",
    "undatasio_obj = UnDatasIO(UNDATASIO_API_KEY, task_name='PdfParserDemo')"
   ]
  },
  {
   "cell_type": "markdown",
   "id": "a99d3305-7077-4048-b23f-34cc16648a6f",
   "metadata": {
    "id": "a99d3305-7077-4048-b23f-34cc16648a6f"
   },
   "source": [
    "### The **show_version** function of the generated Undatasio object can display all version information and file lists for the current token's task name."
   ]
  },
  {
   "cell_type": "code",
   "execution_count": null,
   "id": "0fc7d675-1947-4624-a385-a2cc86237741",
   "metadata": {
    "colab": {
     "base_uri": "https://localhost:8080/",
     "height": 237
    },
    "id": "0fc7d675-1947-4624-a385-a2cc86237741",
    "outputId": "cda49c91-b8a0-475c-82a5-d0db08f10789",
    "scrolled": true
   },
   "outputs": [
    {
     "data": {
      "application/vnd.google.colaboratory.intrinsic+json": {
       "summary": "{\n  \"name\": \"version_data\",\n  \"rows\": 6,\n  \"fields\": [\n    {\n      \"column\": \"title\",\n      \"properties\": {\n        \"dtype\": \"string\",\n        \"num_unique_values\": 3,\n        \"samples\": [\n          \"1 files\",\n          \"3 files\",\n          \"4 files\"\n        ],\n        \"semantic_type\": \"\",\n        \"description\": \"\"\n      }\n    },\n    {\n      \"column\": \"version\",\n      \"properties\": {\n        \"dtype\": \"string\",\n        \"num_unique_values\": 6,\n        \"samples\": [\n          \"v6\",\n          \"v5\",\n          \"v1\"\n        ],\n        \"semantic_type\": \"\",\n        \"description\": \"\"\n      }\n    },\n    {\n      \"column\": \"count\",\n      \"properties\": {\n        \"dtype\": \"number\",\n        \"std\": 1,\n        \"min\": 1,\n        \"max\": 4,\n        \"num_unique_values\": 3,\n        \"samples\": [\n          1,\n          3,\n          4\n        ],\n        \"semantic_type\": \"\",\n        \"description\": \"\"\n      }\n    },\n    {\n      \"column\": \"file_name\",\n      \"properties\": {\n        \"dtype\": \"object\",\n        \"semantic_type\": \"\",\n        \"description\": \"\"\n      }\n    }\n  ]\n}",
       "type": "dataframe"
      },
      "text/html": [
       "\n",
       "  <div id=\"df-19468b6a-3c82-414c-a11a-63e43bffd879\" class=\"colab-df-container\">\n",
       "    <div>\n",
       "<style scoped>\n",
       "    .dataframe tbody tr th:only-of-type {\n",
       "        vertical-align: middle;\n",
       "    }\n",
       "\n",
       "    .dataframe tbody tr th {\n",
       "        vertical-align: top;\n",
       "    }\n",
       "\n",
       "    .dataframe thead th {\n",
       "        text-align: right;\n",
       "    }\n",
       "</style>\n",
       "<table border=\"1\" class=\"dataframe\">\n",
       "  <thead>\n",
       "    <tr style=\"text-align: right;\">\n",
       "      <th></th>\n",
       "      <th>title</th>\n",
       "      <th>version</th>\n",
       "      <th>count</th>\n",
       "      <th>file_name</th>\n",
       "    </tr>\n",
       "  </thead>\n",
       "  <tbody>\n",
       "    <tr>\n",
       "      <th>0</th>\n",
       "      <td>1 files</td>\n",
       "      <td>v6</td>\n",
       "      <td>1</td>\n",
       "      <td>[Math League First Round Grade 7 (Questions &amp; ...</td>\n",
       "    </tr>\n",
       "    <tr>\n",
       "      <th>1</th>\n",
       "      <td>3 files</td>\n",
       "      <td>v5</td>\n",
       "      <td>3</td>\n",
       "      <td>[grade_8_2018-19_contest.pdf, 2017-2018 Math L...</td>\n",
       "    </tr>\n",
       "    <tr>\n",
       "      <th>2</th>\n",
       "      <td>1 files</td>\n",
       "      <td>v4</td>\n",
       "      <td>1</td>\n",
       "      <td>[tsla-20241023-gen_test02.pdf]</td>\n",
       "    </tr>\n",
       "    <tr>\n",
       "      <th>3</th>\n",
       "      <td>1 files</td>\n",
       "      <td>v3</td>\n",
       "      <td>1</td>\n",
       "      <td>[tsla-20241023-gen_test2.pdf]</td>\n",
       "    </tr>\n",
       "    <tr>\n",
       "      <th>4</th>\n",
       "      <td>1 files</td>\n",
       "      <td>v2</td>\n",
       "      <td>1</td>\n",
       "      <td>[tsla-20241023-gen_test.pdf]</td>\n",
       "    </tr>\n",
       "    <tr>\n",
       "      <th>5</th>\n",
       "      <td>4 files</td>\n",
       "      <td>v1</td>\n",
       "      <td>4</td>\n",
       "      <td>[PureTable.pdf, PureFormula.pdf, EditablePureT...</td>\n",
       "    </tr>\n",
       "  </tbody>\n",
       "</table>\n",
       "</div>\n",
       "    <div class=\"colab-df-buttons\">\n",
       "\n",
       "  <div class=\"colab-df-container\">\n",
       "    <button class=\"colab-df-convert\" onclick=\"convertToInteractive('df-19468b6a-3c82-414c-a11a-63e43bffd879')\"\n",
       "            title=\"Convert this dataframe to an interactive table.\"\n",
       "            style=\"display:none;\">\n",
       "\n",
       "  <svg xmlns=\"http://www.w3.org/2000/svg\" height=\"24px\" viewBox=\"0 -960 960 960\">\n",
       "    <path d=\"M120-120v-720h720v720H120Zm60-500h600v-160H180v160Zm220 220h160v-160H400v160Zm0 220h160v-160H400v160ZM180-400h160v-160H180v160Zm440 0h160v-160H620v160ZM180-180h160v-160H180v160Zm440 0h160v-160H620v160Z\"/>\n",
       "  </svg>\n",
       "    </button>\n",
       "\n",
       "  <style>\n",
       "    .colab-df-container {\n",
       "      display:flex;\n",
       "      gap: 12px;\n",
       "    }\n",
       "\n",
       "    .colab-df-convert {\n",
       "      background-color: #E8F0FE;\n",
       "      border: none;\n",
       "      border-radius: 50%;\n",
       "      cursor: pointer;\n",
       "      display: none;\n",
       "      fill: #1967D2;\n",
       "      height: 32px;\n",
       "      padding: 0 0 0 0;\n",
       "      width: 32px;\n",
       "    }\n",
       "\n",
       "    .colab-df-convert:hover {\n",
       "      background-color: #E2EBFA;\n",
       "      box-shadow: 0px 1px 2px rgba(60, 64, 67, 0.3), 0px 1px 3px 1px rgba(60, 64, 67, 0.15);\n",
       "      fill: #174EA6;\n",
       "    }\n",
       "\n",
       "    .colab-df-buttons div {\n",
       "      margin-bottom: 4px;\n",
       "    }\n",
       "\n",
       "    [theme=dark] .colab-df-convert {\n",
       "      background-color: #3B4455;\n",
       "      fill: #D2E3FC;\n",
       "    }\n",
       "\n",
       "    [theme=dark] .colab-df-convert:hover {\n",
       "      background-color: #434B5C;\n",
       "      box-shadow: 0px 1px 3px 1px rgba(0, 0, 0, 0.15);\n",
       "      filter: drop-shadow(0px 1px 2px rgba(0, 0, 0, 0.3));\n",
       "      fill: #FFFFFF;\n",
       "    }\n",
       "  </style>\n",
       "\n",
       "    <script>\n",
       "      const buttonEl =\n",
       "        document.querySelector('#df-19468b6a-3c82-414c-a11a-63e43bffd879 button.colab-df-convert');\n",
       "      buttonEl.style.display =\n",
       "        google.colab.kernel.accessAllowed ? 'block' : 'none';\n",
       "\n",
       "      async function convertToInteractive(key) {\n",
       "        const element = document.querySelector('#df-19468b6a-3c82-414c-a11a-63e43bffd879');\n",
       "        const dataTable =\n",
       "          await google.colab.kernel.invokeFunction('convertToInteractive',\n",
       "                                                    [key], {});\n",
       "        if (!dataTable) return;\n",
       "\n",
       "        const docLinkHtml = 'Like what you see? Visit the ' +\n",
       "          '<a target=\"_blank\" href=https://colab.research.google.com/notebooks/data_table.ipynb>data table notebook</a>'\n",
       "          + ' to learn more about interactive tables.';\n",
       "        element.innerHTML = '';\n",
       "        dataTable['output_type'] = 'display_data';\n",
       "        await google.colab.output.renderOutput(dataTable, element);\n",
       "        const docLink = document.createElement('div');\n",
       "        docLink.innerHTML = docLinkHtml;\n",
       "        element.appendChild(docLink);\n",
       "      }\n",
       "    </script>\n",
       "  </div>\n",
       "\n",
       "\n",
       "<div id=\"df-9d7c18ce-c3bc-4ab6-bdcc-438c0a8f22a8\">\n",
       "  <button class=\"colab-df-quickchart\" onclick=\"quickchart('df-9d7c18ce-c3bc-4ab6-bdcc-438c0a8f22a8')\"\n",
       "            title=\"Suggest charts\"\n",
       "            style=\"display:none;\">\n",
       "\n",
       "<svg xmlns=\"http://www.w3.org/2000/svg\" height=\"24px\"viewBox=\"0 0 24 24\"\n",
       "     width=\"24px\">\n",
       "    <g>\n",
       "        <path d=\"M19 3H5c-1.1 0-2 .9-2 2v14c0 1.1.9 2 2 2h14c1.1 0 2-.9 2-2V5c0-1.1-.9-2-2-2zM9 17H7v-7h2v7zm4 0h-2V7h2v10zm4 0h-2v-4h2v4z\"/>\n",
       "    </g>\n",
       "</svg>\n",
       "  </button>\n",
       "\n",
       "<style>\n",
       "  .colab-df-quickchart {\n",
       "      --bg-color: #E8F0FE;\n",
       "      --fill-color: #1967D2;\n",
       "      --hover-bg-color: #E2EBFA;\n",
       "      --hover-fill-color: #174EA6;\n",
       "      --disabled-fill-color: #AAA;\n",
       "      --disabled-bg-color: #DDD;\n",
       "  }\n",
       "\n",
       "  [theme=dark] .colab-df-quickchart {\n",
       "      --bg-color: #3B4455;\n",
       "      --fill-color: #D2E3FC;\n",
       "      --hover-bg-color: #434B5C;\n",
       "      --hover-fill-color: #FFFFFF;\n",
       "      --disabled-bg-color: #3B4455;\n",
       "      --disabled-fill-color: #666;\n",
       "  }\n",
       "\n",
       "  .colab-df-quickchart {\n",
       "    background-color: var(--bg-color);\n",
       "    border: none;\n",
       "    border-radius: 50%;\n",
       "    cursor: pointer;\n",
       "    display: none;\n",
       "    fill: var(--fill-color);\n",
       "    height: 32px;\n",
       "    padding: 0;\n",
       "    width: 32px;\n",
       "  }\n",
       "\n",
       "  .colab-df-quickchart:hover {\n",
       "    background-color: var(--hover-bg-color);\n",
       "    box-shadow: 0 1px 2px rgba(60, 64, 67, 0.3), 0 1px 3px 1px rgba(60, 64, 67, 0.15);\n",
       "    fill: var(--button-hover-fill-color);\n",
       "  }\n",
       "\n",
       "  .colab-df-quickchart-complete:disabled,\n",
       "  .colab-df-quickchart-complete:disabled:hover {\n",
       "    background-color: var(--disabled-bg-color);\n",
       "    fill: var(--disabled-fill-color);\n",
       "    box-shadow: none;\n",
       "  }\n",
       "\n",
       "  .colab-df-spinner {\n",
       "    border: 2px solid var(--fill-color);\n",
       "    border-color: transparent;\n",
       "    border-bottom-color: var(--fill-color);\n",
       "    animation:\n",
       "      spin 1s steps(1) infinite;\n",
       "  }\n",
       "\n",
       "  @keyframes spin {\n",
       "    0% {\n",
       "      border-color: transparent;\n",
       "      border-bottom-color: var(--fill-color);\n",
       "      border-left-color: var(--fill-color);\n",
       "    }\n",
       "    20% {\n",
       "      border-color: transparent;\n",
       "      border-left-color: var(--fill-color);\n",
       "      border-top-color: var(--fill-color);\n",
       "    }\n",
       "    30% {\n",
       "      border-color: transparent;\n",
       "      border-left-color: var(--fill-color);\n",
       "      border-top-color: var(--fill-color);\n",
       "      border-right-color: var(--fill-color);\n",
       "    }\n",
       "    40% {\n",
       "      border-color: transparent;\n",
       "      border-right-color: var(--fill-color);\n",
       "      border-top-color: var(--fill-color);\n",
       "    }\n",
       "    60% {\n",
       "      border-color: transparent;\n",
       "      border-right-color: var(--fill-color);\n",
       "    }\n",
       "    80% {\n",
       "      border-color: transparent;\n",
       "      border-right-color: var(--fill-color);\n",
       "      border-bottom-color: var(--fill-color);\n",
       "    }\n",
       "    90% {\n",
       "      border-color: transparent;\n",
       "      border-bottom-color: var(--fill-color);\n",
       "    }\n",
       "  }\n",
       "</style>\n",
       "\n",
       "  <script>\n",
       "    async function quickchart(key) {\n",
       "      const quickchartButtonEl =\n",
       "        document.querySelector('#' + key + ' button');\n",
       "      quickchartButtonEl.disabled = true;  // To prevent multiple clicks.\n",
       "      quickchartButtonEl.classList.add('colab-df-spinner');\n",
       "      try {\n",
       "        const charts = await google.colab.kernel.invokeFunction(\n",
       "            'suggestCharts', [key], {});\n",
       "      } catch (error) {\n",
       "        console.error('Error during call to suggestCharts:', error);\n",
       "      }\n",
       "      quickchartButtonEl.classList.remove('colab-df-spinner');\n",
       "      quickchartButtonEl.classList.add('colab-df-quickchart-complete');\n",
       "    }\n",
       "    (() => {\n",
       "      let quickchartButtonEl =\n",
       "        document.querySelector('#df-9d7c18ce-c3bc-4ab6-bdcc-438c0a8f22a8 button');\n",
       "      quickchartButtonEl.style.display =\n",
       "        google.colab.kernel.accessAllowed ? 'block' : 'none';\n",
       "    })();\n",
       "  </script>\n",
       "</div>\n",
       "\n",
       "    </div>\n",
       "  </div>\n"
      ],
      "text/plain": [
       "     title version  count                                          file_name\n",
       "0  1 files      v6      1  [Math League First Round Grade 7 (Questions & ...\n",
       "1  3 files      v5      3  [grade_8_2018-19_contest.pdf, 2017-2018 Math L...\n",
       "2  1 files      v4      1                     [tsla-20241023-gen_test02.pdf]\n",
       "3  1 files      v3      1                      [tsla-20241023-gen_test2.pdf]\n",
       "4  1 files      v2      1                       [tsla-20241023-gen_test.pdf]\n",
       "5  4 files      v1      4  [PureTable.pdf, PureFormula.pdf, EditablePureT..."
      ]
     },
     "execution_count": 18,
     "metadata": {},
     "output_type": "execute_result"
    }
   ],
   "source": [
    "version_data = undatasio_obj.show_version()\n",
    "version_data.data"
   ]
  },
  {
   "cell_type": "markdown",
   "id": "0bd441a9-bb3f-4aca-82cd-8cd780b07e42",
   "metadata": {
    "id": "0bd441a9-bb3f-4aca-82cd-8cd780b07e42"
   },
   "source": [
    "### You can use the get_result_type method of the **Undatasio** object to retrieve text information, images, tables, titles, or interline equation information from a PDF file."
   ]
  },
  {
   "cell_type": "code",
   "execution_count": null,
   "id": "f39a63ed-6d93-4c38-af2d-0c9a9985fafb",
   "metadata": {
    "colab": {
     "base_uri": "https://localhost:8080/"
    },
    "id": "f39a63ed-6d93-4c38-af2d-0c9a9985fafb",
    "outputId": "d867c840-ed5e-425c-d27e-6e2a55e8274a",
    "scrolled": true
   },
   "outputs": [
    {
     "name": "stdout",
     "output_type": "stream",
     "text": [
      "1. Drawing the diagonals of a rectangle creates exactly\\it-triangles\n",
      "A) 2B)4C)6D)&\n",
      "\n",
      "\n",
      "2.The least possible average of 2017 different positive integers is\n",
      "A)1008B)1009C)2017D)2018\n",
      "\n",
      "\n",
      "3.Thereweresevenfriendswho decidethat theywould alldinetogethereveryeveningif theycouldsit in\n",
      "a different arrangementeach time.Theywoulduse thesametable,alwayswithseven chairsin thesame\n",
      "spots.(Two arrangements are considered identical if and only ifeveryone of the seven friends sits on the\n",
      "samechair.)Howmanydinnerscouldthesevenofthemeatbeforeexhaustingallpossible\n",
      "arrangements?\n",
      "A)2520B)5040C)720D)1440\n",
      "\n",
      "\n",
      "4. Increasing a number by20\\%is the same as multiplying it by\n",
      "A)20\\%B)80\\%C)120\\%D)200\\%\n",
      "\n",
      "\n",
      "5.$100 in nickels is\\underbrace{\\phantom{R D_{\\theta}^{(1)}}2}_{\\phantom{(1)}}morecoins than\\S100in dimes\n",
      "A)100B)200C)1000D)2000\n",
      "\n",
      "\n",
      "6. What is the range of any 2018 consecutive integers?\n",
      "A)1009B)2017C)2018D) 2019\n",
      "\n",
      "\n",
      "7.Written asa decimal,\\frac{123456789}{100}hasexactly\\risingdotseqnon-zero digits to the right of the decimal point.\n",
      "https://backend.undatas.io/static/pdfParser/af9151196a7d4daf8f919653a068b97f/v6/ed4c7e1d9de94756b4bebffa18ae6f53/images/f642189a8685f75c0704c9d13c2fed6f13a87a2990724bba5672a719d39bc856.jpg\n",
      "\n",
      "A) 2B)3C)6D) 7\n",
      "\n",
      "\n",
      "8.Each choir member sang 1 song alone and 2 songs with the entire choir. If 24 songs were\n",
      "sunginall,thechoirmusthave\\_\\underline{{?}}members.\n",
      "A)8B)1IC) 12D) 22\n",
      "\n",
      "\n",
      "9.A multiple of2017is divided by a multipleof 2018.What is theleast remainderpossible?\n",
      "https://backend.undatas.io/static/pdfParser/af9151196a7d4daf8f919653a068b97f/v6/ed4c7e1d9de94756b4bebffa18ae6f53/images/7b7f07ad25760633be1db0e6a7a28ea02985977a70ea2f3fb4cafbbbd8927216.jpg\n",
      "\n",
      "A)0B) 1C)2017D)2018\n",
      "\n",
      "\n",
      "10.My armful of identicalgumballsweighs4\\%less since I dropped onc gumball. How many\n",
      "gumballsareinmyarmsnow?\n",
      "A) 23B) 24C)25D)26\n",
      "11.Thedigitsoftheleast 2-digit integer that is aperfectsquare and aperfectcubehave thesum\n",
      "A)7B) 8C)9D) 10\n",
      "\n",
      "\n",
      "12. The year in which my grandfather was born, a perfect square, when subtracted from the year in which\n",
      "mydaughterwasborn,anotherperfectsquare,givesmygrandfather'sagewhenhedied.Ifmy\n",
      "grandfatherhadlived,Iwouldhavebeenexactlyhalfhisagein1943.HowoldwasIin1943?\n",
      "A)42B) 44C)46D)Noneoftheabove\n",
      "\n",
      "\n",
      "13.Amanhadtwohorses.Hesold oneof them onTuesdayfor\\mathbb{S}198andmadeaprofitoftenpercent.On\n",
      "Wednesday,he sold the other one for $198 and took a loss of tenpercent.Tallyinguphis two deals,did\n",
      "heshowanetprofitoraloss?\n",
      "A)EvenB)Anetprofitof\\S6\n",
      "C)A netprofit of $4D)Anetlossof$4\n",
      "\n",
      "\n",
      "14.Thesumofthelengthsof all theedgesofa cube is144\\;\\mathrm{cm}Whatistheareaofonefaceofthecube?\n",
      "A)144~\\mathrm{cm}^{2}B) 196 cm²C)256cm²D)324 cm²\n",
      "\n",
      "\n",
      "15.Thetime815minutesafter8:15P.M.is\n",
      "A)3:15A.M.B) 9:50 A.M.C)3:15P.M.D) 9:50 P.M.\n",
      "\n",
      "\n",
      "16.Thenumber180has\\underline{{?}}moredivisorsthan thenumber120has\n",
      "A)0B) 2C)30D)60\n",
      "\n",
      "\n",
      "17. The8 houses on my street have consecutive integer addresses that add up to 1500.The address with the\n",
      "greatestnumericalvalueis\n",
      "A)184B)187C)188D)191\n",
      "\n",
      "\n",
      "18. Which of these fractions is the sum of an integer and its reciprocal?\n",
      "A)\\frac{7}{3}B)\\frac{8}{3}C)\\frac93D)\\frac{10}{3}\n",
      "\n",
      "\n",
      "19.Themixednumber2{\\frac{1}{4}}is equivalent to many improper fractions that have integer numerators and\n",
      "A) 24B) 27C)36D)45\n",
      "20.At my store,\\S1of every\\S5in sales is profit. If I split10\\%of all profits equally among\n",
      "10 people,each gets\\perp\\!\\%of thetotalsales.\n",
      "A) 0.2B)2C) 5D)20\n",
      "https://backend.undatas.io/static/pdfParser/af9151196a7d4daf8f919653a068b97f/v6/ed4c7e1d9de94756b4bebffa18ae6f53/images/7751d69af2760c5d95fdfd07c08a1bd6a51ee0c60b7e4ef5a04495ddd01882d1.jpg\n",
      "\n",
      "21.If Mary is twice as old as Annwas whenMary was as old as Ann is now, and Mary is 32,how old is\n",
      "Ann?\n",
      "A)20B)24C)32D) None of the above\n",
      "\n",
      "\n",
      "22.Ofthefollowing,whichexpressionhastheleastvalue?\n",
      "\\frac{3^{100}}{4}100\\frac34\\mathrm{D)}\\ \\frac{3}{4^{100}}\n",
      "C\n",
      "B)\n",
      "\n",
      "\n",
      "23. I randomly select a positive integer less than 100. The probability that it is the product of exactly 3\n",
      "differentprimesis\n",
      "A)\\frac{1}{99}\\mathrm{~B~}\\mathrm{~\\frac~{~4~}~{~99~}~}\\qquad\\qquad\\mathrm{~C~}\\mathrm{~\\frac~{~5~}~{~99~}~}\\qquad\\qquad\\mathrm{~D~}\\mathrm{~\\frac~{~8~}~{~99~}~}\n",
      "24.Iftheaverageof3consecutiveticketnumbersisodd,thenthesumoftheleastand\n",
      "greatestticketnumberscouldbe\n",
      "A)18B)20C)24D)28\n",
      "https://backend.undatas.io/static/pdfParser/af9151196a7d4daf8f919653a068b97f/v6/ed4c7e1d9de94756b4bebffa18ae6f53/images/015cf4ac3a2033e4cde49cab670729fae45a694b5b6e4a38b0e5579fa82eced2.jpg\n",
      "\n",
      "25.Evecountedto4^{60}by consecutive powers of2, starting with2^{1},22,23,....How many powers of2 did\n",
      "Evecount?\n",
      "A)30B)120C)240D)3600\n",
      "\n",
      "\n",
      "26.Howmanyevenintegersbetween1 and 1 000 000have digits that are all primes?\n",
      "A)1365B) 3906C)5400D)19530\n",
      "27.If6identicalmachinescanfill80bottlesofsodain12seconds,howmanysecondswouldit\n",
      "take36ofthesamemachinestofill240bottlesofsoda？\n",
      "A) 6B)12C)18D)24\n",
      "\n",
      "\n",
      "28.Ofmy100favoritereleasedsongs,42\\%werereleasedaftertheyear2015and76\\%were\n",
      "releasedbefore theyear2017.What percent of myfavorite songswerereleasedin2016?\n",
      "A)18\\%\\mathrm{B)~24\\%~\\qquad~\\qquad~C)~34\\%~\\qquad~\\qquad~D)~58\\%}\n",
      "https://backend.undatas.io/static/pdfParser/af9151196a7d4daf8f919653a068b97f/v6/ed4c7e1d9de94756b4bebffa18ae6f53/images/7ef819c441e3c891cf5114e5cb5eeaee21b1807a30ca1959a5c2694133602ecf.jpg\n",
      "\n",
      "29.(The number of positive even integersless than10°that areperfect squares):(thenumberofpositive\n",
      "odd integerslessthan10^{6}that areperfectsquares)=\n",
      "A) 1:1B)2:1C) 499:500D) 999:1000\n",
      "\n",
      "\n",
      "30.Ofthefollowing,whichis a multiple of4?\n",
      "\n",
      "\n",
      "2017^{2018}+1\\mathrm{~\\quad~B~})\\,2017^{2018}+3\\mathrm{~\\quad~C~})\\,2017^{2018}+5\\mathrm{~\\quad~D~})\\,2018^{2017}+1\n",
      "31.If the sum of the measures of two angles ofa parallelogram is 108degrees,the sum of themeasures of\n",
      "threeofitsanglescouldbe\n",
      "A)72degreesB)162 degreesC)234 degreesD)252 degrees\n",
      "\n",
      "\n",
      "32.Mr.Einsteinhatesrepetition.Heeatsatarestaurantnearhishouseonceeveryday.Onthemenu ofthis\n",
      "restaurant,thereare11appetizers,26entrees,and12kindsofdesserts.Inaddition,thereare12wine\n",
      "selectionsoffered.Mr.Einsteininsiststhateverydayheeatsadifferentmealcombinationthathasnever\n",
      "beenservedtohimbefore.Eachmealcombinationconsistsofoneitemfromeachofthefourcategories\n",
      "ForhowmanyyearscanMr.Einsteineatatthisrestaurant?\n",
      "A)5B)20C)25D) Over 100\n",
      "\n",
      "\n",
      "33.Inthecompleteexpansionof(x+1)^{4}whatisthesumofthecoefficientsoftheoddpowersofx?\n",
      "A) 4B) 6C)8D)10\n",
      "\n",
      "\n",
      "34.Amanstartswith\\mathbb{S}10000andincreases hiswealthby50percent every three years.Howmuchwill he\n",
      "havein12years?\n",
      "A)\\mathbb{S}30000B)$50625C)\\mathbb{S}70000D)Noneoftheabove\n",
      "\n",
      "\n",
      "35.What is the sum of all positive two-digit integers which are divisible by both the sum and product of\n",
      "theirdigits?\n",
      "A)36B)54C)72D) None of the above\n",
      "\n",
      "\n",
      "36.Ifnis the smallest positive integer such that99nis the cube of an integer, anddis the sum of the digits\n",
      "ofn,thendis\n",
      "A)27B) 18C) 12D) 9\n",
      "\n",
      "\n",
      "37.The area of my rectangle is 480.If my rectangle's length is14 greater than itswidth,then its perimeter is\n",
      "A)88B)92C)116D)172\n",
      "\n",
      "\n",
      "38.If{\\frac{4}{x}}\\!<\\!12,which of the followingmust alwaysbe true?\n",
      "A)x>3\\mathrm{~B~)~}\\ x>\\frac{1}{3}\\qquad\\qquad\\mathrm{~C~)~}\\ \\frac{1}{x}<3\\qquad\\qquad\\mathrm{~D~)~}\\ \\frac{1}{x}<\\frac{1}{3}\n",
      "39.Ifx+y=aandx y=b,thenwhat is thevalue ofx^{3}+y^{3}in termsofaandb\n",
      "\\begin{array}{l}{\\operatorname{A})\\,a^{3}+3a b}\\\\ {\\operatorname{C})\\,a^{3}+b^{3}}\\end{array}\\begin{array}{l}{{\\mathrm{B})\\;a^{3}-3a b}}\\\\ {{\\mathrm{D})\\;a^{3}-b^{3}}}\\end{array}\n",
      "\n",
      "\n",
      "40.IfIsubtractthesquareofoneintegerfromthesquareofanotherinteger,thenthedifferencecouldbe\n",
      "A)386B)558C)768D)970\n",
      "<table style=\"border-collapse: collapse;\"><tr style=\"border: 1px solid black;\"><td style=\"border: 1px solid black; padding: 5px;\">1\n",
      "</td><td style=\"border: 1px solid black; padding: 5px;\"></td><td style=\"border: 1px solid black; padding: 5px;\"></td><td style=\"border: 1px solid black; padding: 5px;\">4\n",
      "</td><td style=\"border: 1px solid black; padding: 5px;\">S\n",
      "</td><td style=\"border: 1px solid black; padding: 5px;\">6\n",
      "</td><td style=\"border: 1px solid black; padding: 5px;\">7\n",
      "</td><td style=\"border: 1px solid black; padding: 5px;\">8\n",
      "</td><td style=\"border: 1px solid black; padding: 5px;\">6\n",
      "</td><td style=\"border: 1px solid black; padding: 5px;\">10\n",
      "</td></tr><tr style=\"border: 1px solid black;\"><td style=\"border: 1px solid black; padding: 5px;\">D\n",
      "</td><td style=\"border: 1px solid black; padding: 5px;\">B\n",
      "</td><td style=\"border: 1px solid black; padding: 5px;\">B\n",
      "</td><td style=\"border: 1px solid black; padding: 5px;\">C\n",
      "</td><td style=\"border: 1px solid black; padding: 5px;\">C\n",
      "</td><td style=\"border: 1px solid black; padding: 5px;\">B\n",
      "</td><td style=\"border: 1px solid black; padding: 5px;\">A\n",
      "</td><td style=\"border: 1px solid black; padding: 5px;\">D\n",
      "</td><td style=\"border: 1px solid black; padding: 5px;\">A\n",
      "</td><td style=\"border: 1px solid black; padding: 5px;\">B\n",
      "</td></tr><tr style=\"border: 1px solid black;\"><td style=\"border: 1px solid black; padding: 5px;\">11\n",
      "</td><td style=\"border: 1px solid black; padding: 5px;\">12\n",
      "</td><td style=\"border: 1px solid black; padding: 5px;\">13\n",
      "</td><td style=\"border: 1px solid black; padding: 5px;\">14\n",
      "</td><td style=\"border: 1px solid black; padding: 5px;\">15\n",
      "</td><td style=\"border: 1px solid black; padding: 5px;\">16\n",
      "</td><td style=\"border: 1px solid black; padding: 5px;\">17\n",
      "</td><td style=\"border: 1px solid black; padding: 5px;\">18\n",
      "</td><td style=\"border: 1px solid black; padding: 5px;\">19\n",
      "</td><td style=\"border: 1px solid black; padding: 5px;\">20\n",
      "</td></tr><tr style=\"border: 1px solid black;\"><td style=\"border: 1px solid black; padding: 5px;\">D\n",
      "</td><td style=\"border: 1px solid black; padding: 5px;\">D\n",
      "</td><td style=\"border: 1px solid black; padding: 5px;\">D\n",
      "</td><td style=\"border: 1px solid black; padding: 5px;\">A\n",
      "</td><td style=\"border: 1px solid black; padding: 5px;\">B\n",
      "</td><td style=\"border: 1px solid black; padding: 5px;\">B\n",
      "</td><td style=\"border: 1px solid black; padding: 5px;\">D\n",
      "</td><td style=\"border: 1px solid black; padding: 5px;\">D\n",
      "</td><td style=\"border: 1px solid black; padding: 5px;\">A\n",
      "</td><td style=\"border: 1px solid black; padding: 5px;\">A\n",
      "</td></tr><tr style=\"border: 1px solid black;\"><td style=\"border: 1px solid black; padding: 5px;\">21\n",
      "</td><td style=\"border: 1px solid black; padding: 5px;\">22\n",
      "</td><td style=\"border: 1px solid black; padding: 5px;\">23\n",
      "</td><td style=\"border: 1px solid black; padding: 5px;\">24\n",
      "</td><td style=\"border: 1px solid black; padding: 5px;\">25\n",
      "</td><td style=\"border: 1px solid black; padding: 5px;\">26\n",
      "</td><td style=\"border: 1px solid black; padding: 5px;\">27\n",
      "</td><td style=\"border: 1px solid black; padding: 5px;\">28\n",
      "</td><td style=\"border: 1px solid black; padding: 5px;\">29\n",
      "</td><td style=\"border: 1px solid black; padding: 5px;\">30\n",
      "</td></tr><tr style=\"border: 1px solid black;\"><td style=\"border: 1px solid black; padding: 5px;\">B\n",
      "</td><td style=\"border: 1px solid black; padding: 5px;\">D\n",
      "</td><td style=\"border: 1px solid black; padding: 5px;\">C\n",
      "</td><td style=\"border: 1px solid black; padding: 5px;\">A\n",
      "</td><td style=\"border: 1px solid black; padding: 5px;\">B\n",
      "</td><td style=\"border: 1px solid black; padding: 5px;\">A\n",
      "</td><td style=\"border: 1px solid black; padding: 5px;\">A\n",
      "</td><td style=\"border: 1px solid black; padding: 5px;\">A\n",
      "</td><td style=\"border: 1px solid black; padding: 5px;\">C\n",
      "</td><td style=\"border: 1px solid black; padding: 5px;\">B\n",
      "</td></tr><tr style=\"border: 1px solid black;\"><td style=\"border: 1px solid black; padding: 5px;\">31\n",
      "</td><td style=\"border: 1px solid black; padding: 5px;\">32\n",
      "</td><td style=\"border: 1px solid black; padding: 5px;\">33\n",
      "</td><td style=\"border: 1px solid black; padding: 5px;\"></td><td style=\"border: 1px solid black; padding: 5px;\">35\n",
      "</td><td style=\"border: 1px solid black; padding: 5px;\">36\n",
      "</td><td style=\"border: 1px solid black; padding: 5px;\">37\n",
      "</td><td style=\"border: 1px solid black; padding: 5px;\">38\n",
      "</td><td style=\"border: 1px solid black; padding: 5px;\">39\n",
      "</td><td style=\"border: 1px solid black; padding: 5px;\">40\n",
      "</td></tr><tr style=\"border: 1px solid black;\"><td style=\"border: 1px solid black; padding: 5px;\">C\n",
      "</td><td style=\"border: 1px solid black; padding: 5px;\">D\n",
      "</td><td style=\"border: 1px solid black; padding: 5px;\">C\n",
      "</td><td style=\"border: 1px solid black; padding: 5px;\">B\n",
      "</td><td style=\"border: 1px solid black; padding: 5px;\">C\n",
      "</td><td style=\"border: 1px solid black; padding: 5px;\">C\n",
      "</td><td style=\"border: 1px solid black; padding: 5px;\">B\n",
      "</td><td style=\"border: 1px solid black; padding: 5px;\">C\n",
      "</td><td style=\"border: 1px solid black; padding: 5px;\">B\n",
      "</td><td style=\"border: 1px solid black; padding: 5px;\">C\n",
      "</td></tr></table>\n",
      "\n",
      "\n"
     ]
    }
   ],
   "source": [
    "result = undatasio_obj.get_result_type(\n",
    "    type_info=['title', 'table', 'text', 'image', 'interline_equation'],\n",
    "    file_name='Math League First Round Grade 7 (Questions & Answers).pdf',\n",
    "    version='v6'\n",
    ")\n",
    "print(result.data)"
   ]
  },
  {
   "cell_type": "markdown",
   "id": "73619d47-38e5-44d2-9ae8-2efebf347653",
   "metadata": {
    "id": "73619d47-38e5-44d2-9ae8-2efebf347653"
   },
   "source": [
    "## 2. Bridging to Qwen Model via OpenAI\n",
    "### Install the OpenAI Python SDK, which will be used later to call the Qwen model."
   ]
  },
  {
   "cell_type": "markdown",
   "id": "690feeb6-9bd1-4dcd-8d8d-8f3b26988679",
   "metadata": {
    "id": "690feeb6-9bd1-4dcd-8d8d-8f3b26988679"
   },
   "source": [
    "### Initialize the OpenAI object. You need to apply for an Alibaba Cloud API key yourself."
   ]
  },
  {
   "cell_type": "code",
   "execution_count": null,
   "id": "a691ab95-0534-451f-97f4-21512085007c",
   "metadata": {
    "id": "a691ab95-0534-451f-97f4-21512085007c"
   },
   "outputs": [],
   "source": [
    "from openai import OpenAI\n",
    "\n",
    "client = OpenAI(\n",
    "    api_key=os.getenv(\"DASHSCOPE_API_KEY\"),\n",
    "    base_url=\"https://dashscope.aliyuncs.com/compatible-mode/v1\"\n",
    ")"
   ]
  },
  {
   "cell_type": "markdown",
   "id": "c505ba34-461f-497d-be15-6c32c57c216d",
   "metadata": {
    "id": "c505ba34-461f-497d-be15-6c32c57c216d"
   },
   "source": [
    "### Use the Bailian Qwen-max model and set the system and user prompts."
   ]
  },
  {
   "cell_type": "code",
   "execution_count": null,
   "id": "c032846f-33c3-463c-94e4-1f90a316b85f",
   "metadata": {
    "id": "c032846f-33c3-463c-94e4-1f90a316b85f"
   },
   "outputs": [],
   "source": [
    "completion = client.chat.completions.create(\n",
    "    model=\"qwen-max\",\n",
    "    messages=[\n",
    "        {'role': 'system', 'content': 'You are a text analyst. I will give you a test paper, and you need to return the text information of the specific question according to the question selected by the user. Please note that only the text information of the question asked by the user should be returned, and nothing else should be returned. Test paper: %s' % (result.data, )},\n",
    "        {'role': 'user', 'content': 'Please help me find the question 6.'}],\n",
    "    )\n",
    "\n",
    "max_result = completion.model_dump_json()"
   ]
  },
  {
   "cell_type": "markdown",
   "id": "27597f31-e693-40fb-ab04-d8e7383378d4",
   "metadata": {
    "id": "27597f31-e693-40fb-ab04-d8e7383378d4"
   },
   "source": [
    "### Use the **json** module to serialize the object returned by the Qwen-max model and extract the math problem mentioned in the user prompt."
   ]
  },
  {
   "cell_type": "code",
   "execution_count": null,
   "id": "64a68913-dd9d-4492-adb1-78f45c171463",
   "metadata": {
    "colab": {
     "base_uri": "https://localhost:8080/",
     "height": 35
    },
    "id": "64a68913-dd9d-4492-adb1-78f45c171463",
    "outputId": "f0e3f826-37dc-4b87-e99a-ddbb606e1748"
   },
   "outputs": [
    {
     "data": {
      "application/vnd.google.colaboratory.intrinsic+json": {
       "type": "string"
      },
      "text/plain": [
       "'What is the range of any 2018 consecutive integers?\\nA)1009\\nB)2017\\nC)2018\\nD)2019'"
      ]
     },
     "execution_count": 8,
     "metadata": {},
     "output_type": "execute_result"
    }
   ],
   "source": [
    "import json\n",
    "\n",
    "title_text = json.loads(max_result)['choices'][0]['message']['content']a\n",
    "title_text"
   ]
  },
  {
   "cell_type": "markdown",
   "id": "_U_ee8_8bMaX",
   "metadata": {
    "id": "_U_ee8_8bMaX"
   },
   "source": [
    "## 3. Solving Math Problems with Qwen-max"
   ]
  },
  {
   "cell_type": "markdown",
   "id": "eace5a1f-2cce-41d2-a5ca-28d91e7d878f",
   "metadata": {
    "id": "eace5a1f-2cce-41d2-a5ca-28d91e7d878f"
   },
   "source": [
    "### Use the OpenAI object to query the **qwen2.5-math-72b-instruct** model with the extracted math problem and serialize the response using json to get the final answer."
   ]
  },
  {
   "cell_type": "code",
   "execution_count": null,
   "id": "a0f46fc1-e108-45da-b50e-a24f3aaa4a42",
   "metadata": {
    "colab": {
     "base_uri": "https://localhost:8080/"
    },
    "id": "a0f46fc1-e108-45da-b50e-a24f3aaa4a42",
    "outputId": "db51cacf-5679-4b2a-83a3-ca35ec1249ba"
   },
   "outputs": [
    {
     "name": "stdout",
     "output_type": "stream",
     "text": [
      "To determine the range of any 2018 consecutive integers, let's start by defining what we mean by \"consecutive integers.\" Consecutive integers are integers that follow each other in order without any gaps. For example, the integers 1, 2, 3, and 4 are consecutive integers.\n",
      "\n",
      "Let's denote the smallest of the 2018 consecutive integers by \\( x \\). Then the next 2017 integers will be \\( x+1, x+2, x+3, \\ldots, x+2017 \\). Therefore, the 2018 consecutive integers can be written as:\n",
      "\\[ x, x+1, x+2, x+3, \\ldots, x+2017 \\]\n",
      "\n",
      "The range of a set of numbers is the difference between the largest number and the smallest number in the set. In this case, the largest number is \\( x+2017 \\) and the smallest number is \\( x \\). So, the range is:\n",
      "\\[ (x+2017) - x = 2017 \\]\n",
      "\n",
      "Therefore, the range of any 2018 consecutive integers is \\(\\boxed{2017}\\).\n",
      "\n",
      "The correct choice is \\(\\boxed{B}\\).\n"
     ]
    }
   ],
   "source": [
    "completion = client.chat.completions.create(\n",
    "    model=\"qwen2.5-math-72b-instruct\",\n",
    "    messages=[\n",
    "            {'role': 'system', 'content': 'You are a math teacher. Please conduct step-by-step reasoning and use {} to represent the final answer. Return the text in Markdown format.'},\n",
    "        {'role': 'user', 'content': 'Please solve the question：%s' % (title_text, )}],\n",
    "    )\n",
    "\n",
    "math_result = completion.model_dump_json()\n",
    "result = json.loads(math_result)['choices'][0]['message']['content']\n",
    "print(result)"
   ]
  },
  {
   "cell_type": "markdown",
   "id": "01O2b-GH0f-b",
   "metadata": {
    "id": "01O2b-GH0f-b"
   },
   "source": [
    "Let's also try asking a question over another piece of the MATHEMATICS CONTEST"
   ]
  },
  {
   "cell_type": "code",
   "execution_count": null,
   "id": "vb---YfSxYz6",
   "metadata": {
    "colab": {
     "base_uri": "https://localhost:8080/",
     "height": 52
    },
    "id": "vb---YfSxYz6",
    "outputId": "a669c3be-b247-4e3a-eae1-c2dccc234ec8"
   },
   "outputs": [
    {
     "data": {
      "application/vnd.google.colaboratory.intrinsic+json": {
       "type": "string"
      },
      "text/plain": [
       "'Written as a decimal, \\\\(\\\\frac{123456789}{100}\\\\) has exactly \\\\(\\\\underline{{?}}\\\\) non-zero digits to the right of the decimal point.\\n\\nA) 2  \\nB) 3  \\nC) 6  \\nD) 7'"
      ]
     },
     "execution_count": 16,
     "metadata": {},
     "output_type": "execute_result"
    }
   ],
   "source": [
    "completion = client.chat.completions.create(\n",
    "    model=\"qwen-max\",\n",
    "    messages=[\n",
    "        {'role': 'system', 'content': 'You are a text analyst. I will give you a test paper, and you need to return the text information of the specific question according to the question selected by the user. Please note that only the text information of the question asked by the user should be returned, and nothing else should be returned. Test paper: %s' % (result.data, )},\n",
    "        {'role': 'user', 'content': 'Please help me find the question 7.'}],\n",
    "    )\n",
    "\n",
    "max_result = completion.model_dump_json()\n",
    "title_text = json.loads(max_result)['choices'][0]['message']['content']\n",
    "title_text\n"
   ]
  },
  {
   "cell_type": "markdown",
   "id": "V6B7bZ6j1QaE",
   "metadata": {
    "id": "V6B7bZ6j1QaE"
   },
   "source": [
    "### Use the OpenAI object to query the **qwen2.5-math-72b-instruct** model with the extracted math problem and serialize the response using json to get the final answer."
   ]
  },
  {
   "cell_type": "code",
   "execution_count": null,
   "id": "ph4UUCNryHCR",
   "metadata": {
    "colab": {
     "base_uri": "https://localhost:8080/"
    },
    "id": "ph4UUCNryHCR",
    "outputId": "171fb9ec-f996-4c7c-a42e-90365e9d694c"
   },
   "outputs": [
    {
     "name": "stdout",
     "output_type": "stream",
     "text": [
      "To determine how many non-zero digits are to the right of the decimal point in the decimal representation of \\(\\frac{123456789}{100}\\), we can follow these steps:\n",
      "\n",
      "1. **Perform the division**: Divide 123456789 by 100.\n",
      "   \\[\n",
      "   \\frac{123456789}{100} = 1234567.89\n",
      "   \\]\n",
      "\n",
      "2. **Identify the digits to the right of the decimal point**: In the decimal representation 1234567.89, the digits to the right of the decimal point are 8 and 9.\n",
      "\n",
      "3. **Count the non-zero digits**: The digits 8 and 9 are both non-zero. Therefore, there are 2 non-zero digits to the right of the decimal point.\n",
      "\n",
      "Thus, the correct answer is \\(\\boxed{A}\\).\n"
     ]
    }
   ],
   "source": [
    "completion = client.chat.completions.create(\n",
    "    model=\"qwen2.5-math-72b-instruct\",\n",
    "    messages=[\n",
    "            {'role': 'system', 'content': 'You are a math teacher. Please conduct step-by-step reasoning and use {} to represent the final answer. Return the text in Markdown format.'},\n",
    "        {'role': 'user', 'content': 'Please solve the question：%s' % (title_text, )}],\n",
    "    )\n",
    "\n",
    "math_result = completion.model_dump_json()\n",
    "result = json.loads(math_result)['choices'][0]['message']['content']\n",
    "print(result)"
   ]
  }
 ],
 "metadata": {
  "colab": {
   "provenance": [],
   "toc_visible": true
  },
  "kernelspec": {
   "display_name": "Python 3 (ipykernel)",
   "language": "python",
   "name": "python3"
  },
  "language_info": {
   "codemirror_mode": {
    "name": "ipython",
    "version": 3
   },
   "file_extension": ".py",
   "mimetype": "text/x-python",
   "name": "python",
   "nbconvert_exporter": "python",
   "pygments_lexer": "ipython3",
   "version": "3.10.15"
  },
  "toc-showcode": false
 },
 "nbformat": 4,
 "nbformat_minor": 5
}
