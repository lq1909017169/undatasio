{
 "cells": [
  {
   "cell_type": "markdown",
   "id": "297dbc73-95ab-48f3-a199-fdd4c336f3fb",
   "metadata": {},
   "source": [
    "# Example of combining undatasio PDF parsing with Langchain and Redis."
   ]
  },
  {
   "cell_type": "markdown",
   "id": "8920b885-be65-4dc2-99fa-edd970fd4e26",
   "metadata": {},
   "source": [
    "![](example_content/undatasio_example.png)"
   ]
  },
  {
   "cell_type": "markdown",
   "id": "b73fa20d-a545-4bdc-8ea8-397a2a0b9297",
   "metadata": {
    "jp-MarkdownHeadingCollapsed": true
   },
   "source": [
    "_By stay, Tech Enthusiast @Undatasio_\n",
    "- - -\n",
    "🚀 Let's begin this example.\n",
    "\n",
    "   😃 😎 😝\n",
    "\n",
    "📣 This is a notebook example demonstrating the retrieval of formatted data from a markdown file converted from a PDF parsed by the undatasio platform using the qwen_agent framework.\n",
    "\n",
    "##### 📚 Below are the steps I took for this example:\n",
    "- 📄 Upload the PDF file to be parsed to the undatasio platform.\n",
    "  - _Download the undatasio Python library._\n",
    "  - _Import environment variables._\n",
    "  - _Use the undatasio Python library to convert the output to a langchain document object._\n",
    "- 📝 Split langchain document files, store them in Qdrant, and perform QA queries..\n",
    "  - _First, Install all relevant Python libraries for langchain and redis._\n",
    "  - _Next, Use langchain's RecursiveCharacterTextSplitter to split the original document._\n",
    "  - _Use langchain's RecursiveCharacterTextSplitter to split the original document._\n",
    "  - _Finally, use the vector_store object to ask QA questions._\n",
    "\n",
    "🎃 This is the entire process for this example. I hope you can gain some experience from it."
   ]
  },
  {
   "cell_type": "markdown",
   "id": "97de1cd3-9833-4d1d-b366-71fcef1d71cd",
   "metadata": {},
   "source": [
    "#### Installing the **Undatasio** Python API library"
   ]
  },
  {
   "cell_type": "code",
   "execution_count": 1,
   "id": "6d65a24b-025c-4578-beca-c437ac247f2d",
   "metadata": {
    "jp-MarkdownHeadingCollapsed": true
   },
   "outputs": [],
   "source": [
    "# install undatasio\n",
    "!pip install -U -q undatasio"
   ]
  },
  {
   "cell_type": "markdown",
   "id": "e51afe25-769b-4ece-a99e-fedf8a3dd4db",
   "metadata": {},
   "source": [
    "**Install the **python-dotenv** module and load environment variables using the **load_dotenv()** function.**\n",
    "\n",
    "> If you are unsure which environment variables are required, you can check the file named dev.env for explanations of the environment variables."
   ]
  },
  {
   "cell_type": "code",
   "execution_count": 2,
   "id": "4f01d75d-eadc-4884-b40c-9290d26cc76b",
   "metadata": {},
   "outputs": [
    {
     "name": "stdout",
     "output_type": "stream",
     "text": [
      "Collecting package metadata (current_repodata.json): ...working... done\n",
      "Solving environment: ...working... done\n",
      "\n",
      "# All requested packages already installed.\n",
      "\n"
     ]
    }
   ],
   "source": [
    "!conda install -c conda-forge python-dotenv -y -q"
   ]
  },
  {
   "cell_type": "code",
   "execution_count": 3,
   "id": "527c62cf-767d-438e-8083-cfdcb46c6152",
   "metadata": {},
   "outputs": [
    {
     "data": {
      "text/plain": [
       "True"
      ]
     },
     "execution_count": 3,
     "metadata": {},
     "output_type": "execute_result"
    }
   ],
   "source": [
    "import os\n",
    "from dotenv import load_dotenv\n",
    "\n",
    "load_dotenv('.env')"
   ]
  },
  {
   "cell_type": "markdown",
   "id": "78b27f4d-1f2b-4100-996d-024359ee108b",
   "metadata": {},
   "source": [
    "#### Use the Undatasio python SDK\n",
    "_To import an **UnDataIO** object, you need a token and an optional task name from the Undatasio platform._"
   ]
  },
  {
   "cell_type": "code",
   "execution_count": 4,
   "id": "a458abea-670a-4c0a-a4b1-3df7847af65b",
   "metadata": {},
   "outputs": [],
   "source": [
    "from undatasio.undatasio import UnDatasIO\n",
    "\n",
    "undatasio_obj = UnDatasIO(os.getenv(\"UNDATASIO_API_KEY\"))"
   ]
  },
  {
   "cell_type": "markdown",
   "id": "91ed5552-364a-4a34-a0ba-f454c5b0616d",
   "metadata": {},
   "source": [
    "_The **get_result_to_langchain_document** function of the Undatasio object returns a Langchain Document object. Parameters for this function can be gleaned from the data returned by the **show_version** function._"
   ]
  },
  {
   "cell_type": "code",
   "execution_count": 5,
   "id": "2094902d-1228-4c49-a8f6-06ad32aca6a4",
   "metadata": {
    "scrolled": true
   },
   "outputs": [
    {
     "data": {
      "text/plain": [
       "Document(metadata={'source': '_v26_1d8c9bc374114b6e901da.pdf_[text]'}, page_content='2. Profit-takingxpullback has developed into a minor correction. While the10\\\\%\\ncorrection Since mid-May is broadly in-line with the historical norms of most technical\\n bull runs, the six-week market weakness has prompted increasing investor questions\\nabout the strengthof thepolicy put, and concerns regarding a redux of the powerful but\\nshort-livedRe0peningrallyinlate2022/early2023.Empirically,inthe23episodesinthe\\npast 20 years where MSCl China rallied more than20\\\\%, the market almost in all cases\\n(22 out of 23) experienced at least a5\\\\% pullback after entering a technical bull phase.\\nThese corrections averaged12\\\\%by magnitude, and 32 days in duration, although their\\nsubsequent return trajectory varied significantly post the initial retreat, with earnings\\naccrual/upgrades typically taking over from valuation to drive further gains when these\\nupswings transitioned into a fundamental-led cycle. See point 6 for detail.\\nSource:FactSet,MSCl,GoldmanSachsGlobalInvestmentResearch\\n3.All eyes are on the July policy meetings. July will be a hectic month for China\\npolicy watchers: The Third Plenum of the Chinese Communist Party is scheduled for July\\n15 to 18, followed by the economically-focused Politburo meeting in July, usually\\nconvened end of the month. As detailed in their Third Plenum preview note, our\\neconomists expect the reform focus to be on both containing left-tail risks and growing\\nright-tail potential for China in the \"post-property\" era, with fiscal/tax and land reforms\\npossibly taking the center stage. However, \"big bazooka\" policy surprises that some\\ninvestors have hoped for since the onset of the housing market downturn remain\\nunlikely. Indeed, both onshore and offshore investors we have met in the past month\\nare somewhat disappointed with the policy intensity, efficacy, and momentum since the\\nApril Politburo meeting, and their expectations on additional stimulus and major\\nreform breakthroughs from the July policy meetings are conservative across the\\nbroad. A few clients even expressed concerns about downside policy risks relatingjtol :$\\nconsumption tax hikes and other contractionary fiscal policy (e.g. tax investigation for\\ncorporates).\\n5. A tepid recovery in sentiment and flows. \"What could turn things around?\" was\\nheavilyfeaturedinmanyofourclientconversations,reflectingcontinuedreluctance\\nfrom fundamental investors to underwrite Chinese growth beyond the short term, in our\\nview.However,the+30\\\\%rally(\\\\mathsf{U S S1.5t n}increaseinmarketcap)inthesecondlargest\\nequitymarketgloballyhasmarginallyhelpedreviveinvestorinterestinChinese\\nequity,evidencedbytherisingturnoverinandthestrongSouthboundflowsintothe\\nHong Kong market, and the reopening of the capital market for Chinese corporates in\\n2Q, led by CB issuances. But, fund positioning and portfolio flows haven\\'t fully\\ncaughtupwiththeimprovedsentiment:mutualfund andhedgefundexposuresto\\nChina equity are still at the low-end of the historical ranges, onshore mutual funds\\' cash\\nratios are atrecent-year highs, and local retail flows(proxied by mutual fund subscription\\nand margin financing balance in A shares) have been stagnated for several months.\\nBesides Southbound buying, which has amounted to US$48bn ytd compared to\\nonshore ETF trading and inflows in the past week, suggesting to us that the\\ncommitment and readiness for government intervention is still strong when SHCOMP is\\nnear or below the 3,0o0 psychological threshold.\\n6.Earningshavebeendelivered,veryselectively.MSCIChinareceiveditsfirst\\nmonthly consensus earnings upgrade in May in the past 12 months, offering investors a\\nglimmer of hope that the protracted earnings downcycle is near the tail end. We hold a\\nneutral view on earnings and reiterate our\\\\scriptstyle{\\\\mathfrak{s}}\\\\%EPS growth assumption for MScl\\nChinain2024,considering: 1)sell-side consensus forecast of12\\\\%and14\\\\%EPS\\ngrowth for 2024 and 2025 still looks overly optimistic, even taking technical factors\\n(dilution,indexrebalancing)andsectorrepresentationissuesintoaccount; 2)the\\nupgrades have only manifested in the TMT and service-oriented sectors but the top-line \\nand profitability headwinds are still in place for the property and manufacturingcohorts;\\n3) high-frequency profit indicators for 2Q suggest that the earnings momentum for the\\nbroader market may have stabilized, but seems prematurejtocall for an inflection point.\\nEncouragingly, from our extensive discussions with China-focused analysts and PMs,\\nbuy-side earnings growth expectations seem to be around mid-single-digit territory,\\nimplying that the potential earnings misses to sell-side expectations may not be as\\ninfluential to equityprices as the headline numbers would suggest.\\nSource: FactSet, MSCl, CSI, IBES, Goldman Sachs Global Investment Research\\n7. Left tail risks have been curtailed in equity valuations. The latest correction has\\nlowered MSCl China fP/E from10.6\\\\timesat recent peaks to9.2\\\\timesat present, and from12.2\\\\times\\nto11.4\\\\timesfor A shares, but still meaningfully above the lows of7.9\\\\timesand9.6\\\\timesin late\\nJanuary respectively. The policy put—spanning conventional macro policy, the housing\\nmarket,andthecapitalmarkets—hashelpedcontainedsystemicrisksstemmingfrom\\nLGFVs and property-related assets, thereby catalyzing the tail-risk-compression rally in\\nequities from April to May, and providing a floor to valuation. Our macro-derived\\n10.5\\\\times\\nmacro outlooks per GS forecasts, suggesting moderate potential re-rating:gains from\\nhere. On our central premise that the strike price of the policy putisunlikely to be raised\\nand further policy delivery on housing will be made, we see the risk to valuation\\n更多\\nfavorablyskewedtotheupside\\n70\\nSource:GoldmanSachs Global Investment Research\\n8. Tariff risks may keep some investors at bay before the US election. The\\nforthcoming US presidential election and its implications on China are top-of-mind. The\\n10. The \"Returns\" of \"Shareholders\" in China. Despite its outperformance in past few\\nyears, we believe the theme of shareholder returns will continue to produce strong and\\nstable returns for equity investors for five reasons: a) strong policy push and delivery to\\nimprove shareholder returns; b) Additional fiscal revenue for financially-strained\\ngovernments: every 1pp rise in payout ratios could raise fiscal revenue by Rmb23bn; c)\\nChina\\'s ability to return cash to shareholders looks promising——low payout ratios (30\\\\%+)\\nbut with record-high cash balances (Rmb18tn) and free cashflows (FY23: Rmb2.6tn); d)\\nstable dividend incomes are attractively priced in China where rates are falling; and, e)\\nlikelystructural demand forstableincomesfrom domesticinstitutionalinvestors.We\\nconstruct a China Shareholder Returns Portfolio, which consists of 3 broad equity\\ncohorts-StableCashCows,Dividend/buybacksurprisecandidates,andSelect\\nexpected togenerate3\\\\%shareholder return yields and5\\\\%FCF yields in 2024 on16\\\\%\\ncash/marketcapratioatmedianstock.\\nWe, Kinger Lau, CFA, Timothy Moe, CFA, Si Fu, Ph.D. and Kevin Wang, CFA, hereby certify that all of the views expressed in this report accurately\\nreflect our personal views, which have not been influenced by considerations of the firm\\'s business or client relationships.\\nUnless otherwise stated, the individuals listed on the cover page of this report are analysts in Goldman Sachs\\' Global Investment Research division.\\nSee company-specific regulatory disclosures above for any of the following disclosures required as to companies referred to in this report: manager or\\nco-manager inapendingtransaction;\\\\uparrow\\\\%or other ownership; compensation for certain services; types of client relationships; managed/co-managed\\npublic offeringsinpriorperiods; directorships;for equitysecurities, market making and/orspecialistrole.GoldmanSachs trades or maytrade as a\\nprincipal indebtsecurities(or inrelatedderivatives)ofissuersdiscussed in thisreport.\\nThe following are additional required disclosures: Ownership and material conflicts of interest: Goldman Sachs policy prohibits its analysts,\\nprofessionals reporting to analysts and members of their households from owning securities of any company in the analyst\\'s area of coverage.\\nAnalyst compensation: Analysts are paid in part based on the profitability of Goldman Sachs, which includes investment banking revenues. Analyst\\nas officer or director: Goldman Sachs policy generally prohibits its analysts, persons reporting to analysts or members of their households from\\nserving as an officer, director or advisor of any company in thelanalyst\\'s area of coverage. Non-U.s.Analysts: Non-U.S. analysts may not be\\nassociated persons of Goldman Sachs & Co. LLC and therefore may not be subject to FINRA Rule 2241 or FINRA Rule 2242 restrictions on\\ncommunications with subject company, public appearances and trading securities held by the analysts.\\nThefollowingdisclosuresarethoserequiredbythejurisdiction indicated,excepttotheextent alreadymade abovepursuanttoUnitedStateslawsand\\nregulations.Australia: Goldman Sachs Australia PtyLtd and its affiliates are not authorised deposit-taking institutions (as that term is defined in the\\nBanking Act 1959 (Cth) in Australia and do not provide banking services, nor carry on a banking business, in Australia. This research, and any access to\\nit, is intended only for\"wholesale clients\"within the meaning of the Australian Corporations Act, unless otherwise agreed by Goldman Sachs. In\\nproducing research reports, members of Global Investment Research of GoldmanSachs Australia may attend site visits and other meetings hosted by\\nthe companies and other entities which are the subject of its research reports. In some instances the costs of such site visits or meetings may be met\\nin part or in whole by the issuers concerned if Goldman Sachs Australia considers it is appropriate and reasonable in the specific circumstances relating\\nto the site visit or meeting. To the extent that the contents of this document contains any financial product advice, it is general advice only and has\\nbeen prepared by Goldman Sachs without taking into account a client\\'s objectives, financial situation or needs. A client should, before acting on any\\nsuch advice, consider the appropriateness of the advice having regard to the client\\'s own objectives,financial situation and needs. A copy of certain\\nGoldman Sachs Australia and New Zealand disclosure of interests and a copy of Goldman Sachs\\' Australian Sel-Side Research Independence Policy\\nStatement are available at: https://www.goldmansachs.com/disclosures/australia-new-zealand/index.html. Brazil: Disclosure information in relation to\\n CVM Resolution n. 20 is available at https://www.gs.com/worldwide/brazil/area/gir/index.html. Where applicable, the Brazil-registered analyst primarily\\nresponsibleforthecontent of this researchreport, asdefined inArticle20of CVMResolutionn.20, is thefirst author named atthebeginning of this\\nreport, unless indicated otherwise at the end of the text. Canada: This information is being provided to you for information purposes only and is not,\\nand under no circumstances should be construed as, an advertisement, offering or solicitation by Goldman Sachs & Co. LLC for purchasers of\\nsecurities in Canada to trade in any Canadian security.GoldmanSachs& Co.LLC is not registered as a dealer in anyjurisdiction in Canada under\\napplicableCanadiansecuritieslawsandgenerallyisnotpermittedtotradeinCanadiansecuritiesandmaybeprohibitedfromsellingcertainsecurities\\nandproductsincertainjurisdictionsinCanada.IfyouwishtotradeinanyCanadiansecuritiesorotherproductsinCanadapleasecontactGoldman\\nSachsCanadaInc.,anaffiliateof TheGoldmanSachsGroupInc.,OranotherregisteredCanadiandealer.HongKong:Furtherinformation onthe\\nsecurities of covered companiesreferred toin thisresearch maybe obtained onrequest from GoldmanSachs(Asia)L.L.C.India:Furtherinformation\\non the subject company or companies referred to in this research may be obtained from Goldman Sachs (India) Securities Private Limited, Research\\nAnalyst-SEBI RegistrationNumberINH000001493,951-A,Rational House,AppasahebMaratheMarg,Prabhadevi,Mumbai400025,India,Corporate\\nIdentity Number U74140MH2006FTC160634, Phone+912266169000,Fax+9122 6616 9001. Goldman Sachs may beneficially own1\\\\%Ormoreof\\nthe securities (as such term is defined in clause 2 (h) the Indian Securities Contracts (Regulation) Act,Jj1956) of the subject company or companies\\nreferred toin thisresearchreport. Investment insecuritiesmarket aresubjecttomarketrisks.Read\\'all therelated documents carefullybefore\\ninvesting. Registration granted by SEBl and certification from NiSM in no way guaranteeperformance of the intermediary or provide any assurance of\\nreturns to investors. Goldman Sachs (India) Securities Private Limited Investor Grievance E-mail: india-client-support@gs.com. Compliance Officer: Anil\\nRajputITel:+\\\\;9\\\\uparrow22 6616 9000|Email: anil.m.rajput@gs.com.Japan: See below.Korea:This research,and any access to it, is intended only for\\n\\'professional investors\"within the meaning of the Financial Services and Capital Markets Act, unless otherwise agreed by Goldman Sachs. Further\\ninformation on the subject company or companies referred to\\'in this research may be obtained from Goldman Sachs (Asia) L.L.C., Seoul Branch. New\\nZealand:GoldmanSachs NewZealand Limited and its affiliates are neither\"registered banks\"nor\"deposit takers\"(as defined in the ReserveBank of\\nNewZealand Act 1989) inNewZealand.This research,and any accesstoit, is intended for\"wholesaleclients\"(as defined in theFinancialAdvisers Act\\n2008) unless otherwise agreed by Goldman Sachs. A copy of certain Goldman Sachs Australia and New Zealand disclosure of interests is available at:\\nhttps://www.goldmansachs.com/disclosures/australia-new-zealand/index.html. Russia: Research reports distributed in the Russian Federation are not\\nadvertising asdefinedintheRussianlegislation,butareinformationand analysisnot havingproductpromotionas theirmainpurpose anddonot\\nprovide appraisallwithin the meaning of the Russianlegislation on appraisal activity.Research reports do not constitute a personalized investment\\nrecommendation as defined in Russian laws and regulations, are not addressed to a specific client, and are prepared without analyzing the financial\\ncircumstances,investmentprofilesorriskprofilesofclients.GoldmanSachsassumesnoresponsibilityforanyinvestmentdecisionsthatmaybetaken\\nby a client or any other person based on this research report. Singapore: Goldman Sachs (Singapore) Pte. (Company Number: 198602165W), which is\\nregulated by the Monetary Authority of Singapore, accepts legal responsibility for this research, and should be contacted with respect to any matters\\narisingfrom,orinconnectionwith,thisresearch.Taiwan:Thismaterialisforreferenceonlyandmustnotbereprintedwithoutpermission.Investors\\nshould carefully consider their own investment risk. Investment results are the responsibility of the individual investor. United Kingdom: Persons who\\nwould be categorized as retail clients in the United Kingdom, as such term is defined in the rules of the Financial Conduct Authority, should read this\\nresearch in conjunction with prior Goldman Sachs research on the covered companies referred to herein and should refer to the risk warnings that have\\nbeensenttothembyGoldmanSachsInternational.Acopyoftheseriskswarnings,andaglossaryofcertainfinancialtermsusedinthisreport,are\\navailable from Goldman Sachs International on request.\\nEuropeanUnion and United Kingdom:Disclosureinformation inrelationtoArticle6(2)of theEuropeanCommissionDelegated Regulation(EU)\\n(2016/958) supplementing Regulation(EU) No596/2014 of the EuropeanParliament and of the Council (including as that Delegated Regulation is\\nimplemented into United Kingdom domestic law and regulation following the United Kingdom\\'s departure from the European Union and the European\\nEconomicArea)withregardtoregulatorytechnicalstandardsforthetechnical arrangementsforobjectivepresentationofinvestment\\nrecommendations or other information recommending or suggesting an investment strategy and for disclosure of particular interests or indications of\\nconflicts of interest is available at https://www.gs.com/disclosures/europeanpolicy.html which states the European Policy for Managing Conflicts of\\nInterestinConnectionwithInvestment Research.\\nJapan: Goldman Sachs Japan Co., Ltd. is a Financial Instrument Dealer registered with the Kanto Financial Bureau under registration number Kinsho\\n69, and a member of Japan Securities Dealers Association, Financial Futures Association of Japan Type Il Financial Instruments Firms Association, The\\nInvestment Trusts Association, Japan, and Japan Investment Advisers Association. Sales and purchase of equities are subject to commission\\npre-determined with clients plus consumption tax. See company-specific disclosures as to any applicable disclosures required by Japanese stock\\nexchanges, the Japanese Securities Dealers Association or the Japanese Securities Finance Company.\\nGoldman Sachs Global Investment Research produces and distributes research products for clients of Goldman Sachs on a global basis. Analysts based\\ninGoldmanSachsofficesaroundtheworldproduceresearchon industries and companies,andresearchonmacroeconomics,currencies,commodities\\nand portfolio strategy. This research is disseminated in Australia by Goldman Sachs Australia Pty Ltd (ABN 21 006 797 897); in Brazi\\'by Goldman Sachs\\ndoBrasil CorretoradeTituloseValoresMobiliariosS.A.;PublicCommunicationChannel GoldmanSachsBrazil:08007275764 and/ or\\ncontatogoldmanbrasil@gs.com.AvailableWeekdays (except holidays),from9am to 6pm.Canal de Comunicacao com Publico GoldmanSachsBrasil:\\n0800 7275764 e/ou contatogoldmanbrasil@gs.com.Horario de funcionamento: segunda-feira a sexta-feira (excetoferiados), das 9h as 18h; in Canada\\nby Goldman Sachs & Co. LLC; in Hong Kong by Goldman Sachs (Asia) L.L.C.; in India by Goldman Sachs (India) Securities Private Ltd.; in Japan by\\nGoldman Sachs Japan Co., Ltd.; in the Republic of Korea by Goldman Sachs (Asia) L.L.C., Seoul Branch; in New Zealand by Goldman Sachs New\\nZealand Limited; in Russia by O0O Goldman Sachs; in Singapore by Goldman Sachs (Singapore) Pte. (Company Number: 198602165W); and in the\\nUnited States of America by Goldman Sachs & Co. LLC. Goldman Sachs International has approved this research in connection with its distribution in\\ntheUnitedKingdom.\\nGoldman Sachs International (\"GSl\"), authorised by the Prudential Regulation Authority (\"PRA\") and regulated by the Financial Conduct Authority\\n(\"FCA\") and the PRA, has approved this research,in connection with its distribution in the United Kingdom.\\nEuropean Economic Area: GSl, authorisedby the PRA and regulated by the FCA and the PRA, disseminates research in the following jurisdictions\\nwithin the European Economic Area: the Grand Duchy of Luxembourg, Italy, the Kingdom of Belgium, the Kingdom of Denmark, the Kingdom of\\nNorway, the Republic of Finland and the Republic of Ireland; GSl -Succursale de Paris (Paris branch) which is authorised by the French Autorité de\\ncontrole prudentielet de resolution (\"ACPR\") and regulated by the Autorité de controle prudentiel et de resolution and the Autorité des marches\\nfinanciers (\"AME\") disseminates research in France; GSl - Sucursal en Espana (Madrid branch) authorized in Spain by the Comision Nacional del\\nMercadodeValores disseminatesresearch in theKingdom of Spain;GSl-SwedenBankfilial(Stockholmbranch)is authorized by theSFSA as a\"third\\ncountry branch\" in accordance with Chapter 4, Section 4 of the Swedish Securities and Market Act (Sw. lag (2007:528) om vardepappersmarknaden)\\ndisseminates research in the Kingdom of Sweden; Goldman Sachs Bank Europe SE (\"GSBE\") is a credit institution incorporated in Germany and, within\\nthe Single Supervisory Mechanism, subject to direct prudential supervision by the European Central Bank and in other respects supervised by German\\nFederal Financial Supervisory Authority(Bundesanstalt fur Finanzdienstleistungsaufsicht, BaFin) and Deutsche Bundesbank and disseminates research\\nintheFederal RepublicofGermanyand thosejurisdictionswithintheEuropeanEconomicAreawhereGSlisnotauthorised todisseminateresearch\\nand additionally, GSBE, Copenhagen Branch filial af GSBE, Tyskland, supervised by the Danish Financial Authority disseminates research in the Kingdom\\nof Denmark; GSBE - Sucursal en Espana (Madrid branch) subject (to a limited extent) to local supervision by the Bank of Spain disseminates research in\\nthe Kingdom of Spain; GSBE - Succursale Italia (Milan branch) to the relevant applicable extent, subject to local supervision by the Bank of Italy (Banca\\nd\\'ltalia) and the Italian Companies and Exchange Commission(Commissione Nazionale per le Societae laBorsa\"Consob\")disseminatesresearch in\\nItaly; GSBE - Succursale de Paris (Paris branch), supervised by the AMF and by the ACPR disseminates research in France; and GSBE - Sweden\\nBankfilial (Stockholm branch), to a limited extent, subject to local supervision by the Swedish Financial Supervisory Authority (Finansinpektionen)\\ndisseminatesresearchintheKingdomofSweden.\\nconsider reliable, but we do not represent it is accurate or complete, and it should not be relied on as such. The information, opinions,estimates and\\nforecasts contained herein are as of the date hereof and are subject to change without prior notification. We seek to update our research as\\nappropriate, but various regulations may prevent us from doing so. Other than certain industry reports published on a periodic basis, the large majority\\nofreportsarepublishedatirregularintervalsasappropriateintheanalyst\\'sjudgment.inuy\\nGoldman Sachs conducts a global full-service, integrated investment banking, investment management, and brokerage business. We have investment\\nbankingandotherbusinessrelationshipswithasubstantialpercentageofthecompaniescoveredbyGlobalInvestmentResearch.GoldmanSachs&\\nOur salespeople, traders, and other professionals may provide oral or written market commentary or trading strategies to our clients and principal\\ntrading desks that reflect opinions that are contrary to the opinions expressed in this research. Our asset management area, principal trading desks and\\ninvesting businesses may make investment decisions that are jnconsistent with the recommendations or views expressed in this research.\\nWe and our affiliates, officers, directors, and employees will from time to time have long or short positions in, act as principal in, and buy or sell, the\\nsecurities or derivatives, if any, referred to in this research, unless otherwise prohibited by regulation or Goldman Sachs policy.\\nTheviews attributed to third partypresenters at GoldmanSachs arranged conferences,including individuals from other partsof GoldmanSachs, do not\\nnecessarilyreflectthoseofiGlobal InvestmentResearchandarenotanofficialviewofGoldmanSachs.\\nAny third party referenced herein, including any salespeople, traders and other professionals or members of their household, may have positions in the\\nproducts mentioned that are inconsistent with the views expressed by analysts named in this report.\\nThis research is focused on investment themes across markets, industries and sectors. It does not attempt to distinguish between the prospects or\\nperformance of, or provide analysis of, individual companies within any industry or sector we describe.\\nAnytradingrecommendationin thisresearchrelatingtoanequityorcreditsecurityorsecuritieswithinanindustryorsectorisreflectiveofthe\\ninvestmentthemebeingdiscussedandisnotarecommendationofanysuchsecurityinisolation.\\nThis research is not an offer to sell or the solicitation of an offer to buy any security in any jurisdiction where such an offer or solicitation would be\\nillegal. It does not constitute a personal recommendation or take into account the particular investment objectives, financial situations, or needs of\\nindividual clients.Clients should consider whether any advice orrecommendation inthis research is suitablefor their particular circumstances and, if\\nappropriate,seekprofessionaladvice,includingtaxadvice.Thepriceandvalueofinvestmentsreferredtointhisresearchandtheincomefromthem\\nmay fluctuate. Past performance is not a guide to future performance, future returns are not guaranteed, and a loss of original capital may occur.\\nFluctuationsinexchangeratescouldhaveadverseeffectsonthevalueorpriceof,orincomederivedfrom,certaininvestments.\\nCertain transactions, including those involving futures, options, and other derivatives, give rise to substantial risk and are not suitable for all investors\\nInvestors should review current options and futures disclosure documents which are available from Goldman Sachs sales representatives or at\\nhttps://www.theocc.com/about/publications/character-risks.jsp and\\nhttps://www.fiadocumentation.org/fia/regulatory-disclosures_1/fia-uniform-futures-and-options-on-futures-risk-disclosures-booklet-pdf-version-2018\\nTransaction costs may be significant in option strategies calling for multiple purchase and sales of options such as spreads. Supporting documentation\\nwillbesupplieduponrequest.\\nDiffering Levelsof Serviceprovided by Global Investment Research:Thelevel and types ofservicesprovided toyou by GoldmanSachs Global\\nInvestmentResearchmayvaryascomparedto thatprovidedtointernal and otherexternal clients ofGS,depending onvariousfactors includingyour\\nindividual preferences as to the frequency and manner of receiving communication, your risk profile and investment focus and perspective (e.g.,\\nmarketwide, sector specific, long term, short term),the size and scope of your overall client relationship with GS, and legal and regulatory constraints.\\nAs an example, certain clients may request to receive notifications when research on specific securities is published, and certain clients may request\\nthat specific data underlying analysts\\'fundamental analysis available on our internal client websites be delivered to them electronically through data\\nfeeds or otherwise. No change to an analyst\\'s fundamental research views (e.g., ratings, price targets, or material changes to earnings estimatesjfor\\nequity securities), will be communicated to any client prior to inclusion of such information in a research report broadly disseminated throuigh electronic\\n publication to our internal client websites or through other means, as necessary, to all clients who are entitled to receive such reports.K\\nAll research reports are disseminated and available to all clients simultaneously through electronic publication to ourinterhal client websites. Not all\\nresearch content is redistributed to our clients or available to third-party aggregators, nor is Goldman Sachs responsible for the redistribution of our\\nresearch by third party aggregators. For research, models or other data related to one or more securities/7markets or asset classes (including related\\nservices) that may be available to you, please contact your GS representative or go to https://research.gs.com.\\nDisclosure information is also available at https:/www.gs.com/research/hedge.html or from Research Compliance, 200 West Street, New York, NY\\n10282.\\nYou are permitted to store, display, analyze, modify, reformat, and print the information made available to you via this service only for your own use.\\nYou may not resell or reverse engineer this informatioh to calculate or develop any index for disclosure and/or marketing or create any other derivative\\nworks or commercial product(s), data or offering(s) without the express written consent of Goldman Sachs. You are not permitted to publish, transmit,\\nor otherwise reproduce this information, in whole or in part, in any format to any third party without the express written consent of Goldman Sachs.\\nThis foregoing restriction incluides, without limitation, using, extracting, downloading or retrieving this information, in whole or in part, to train or\\nfinetune a third-party machine learning or artificial intelligence system, or to provide or reproduce this information, in whole or in part, as a prompt or\\ninputtoanysuchsystem.\\n')"
      ]
     },
     "execution_count": 5,
     "metadata": {},
     "output_type": "execute_result"
    }
   ],
   "source": [
    "lc_document = undatasio_obj.get_result_to_langchain_document(\n",
    "    type_info=['text'],\n",
    "    file_name='1d8c9bc374114b6e901da.pdf',\n",
    "    version='v26'\n",
    ")\n",
    "lc_document"
   ]
  },
  {
   "cell_type": "markdown",
   "id": "9046e80e-fd58-4475-900c-8fb37bd50c45",
   "metadata": {},
   "source": [
    "#### Install the required third-party libraries."
   ]
  },
  {
   "cell_type": "code",
   "execution_count": 6,
   "id": "f8e46790-fa7c-400a-ae68-2b5ae95c67a7",
   "metadata": {},
   "outputs": [],
   "source": [
    "!pip install -U -q langchain-redis"
   ]
  },
  {
   "cell_type": "markdown",
   "id": "a71b0664-f999-4939-b4c0-7822ba6a0cf4",
   "metadata": {},
   "source": [
    "Import the necessary classes and functions for the example."
   ]
  },
  {
   "cell_type": "code",
   "execution_count": 7,
   "id": "718572a9-c36d-4157-985a-4ed5e6c70cf5",
   "metadata": {},
   "outputs": [],
   "source": [
    "from langchain_huggingface import HuggingFaceEmbeddings\n",
    "from langchain_redis import RedisVectorStore"
   ]
  },
  {
   "cell_type": "markdown",
   "id": "b0972c44-defb-4fcb-bb10-5d7635942c90",
   "metadata": {},
   "source": [
    "Create a model object for **BAAI/bge-m3** from Hugging Face."
   ]
  },
  {
   "cell_type": "code",
   "execution_count": 8,
   "id": "e1ef8c8a-0781-4af0-96a2-a55cc8db96e7",
   "metadata": {},
   "outputs": [],
   "source": [
    "model_name = \"BAAI/bge-m3\"\n",
    "model_kwargs = {'device': 'cpu'}\n",
    "encode_kwargs = {'normalize_embeddings': False}\n",
    "embedding = HuggingFaceEmbeddings(\n",
    "    model_name=model_name,\n",
    "    model_kwargs=model_kwargs,\n",
    "    encode_kwargs=encode_kwargs\n",
    ")"
   ]
  },
  {
   "cell_type": "markdown",
   "id": "1d8ff7e7-3818-4431-a3d3-9146633bb624",
   "metadata": {},
   "source": [
    "Create a **RedisVectorStore** object using embeddings and the **redis_url**.\n",
    "_You can run a Redis instance in Docker to execute the current notebook example._\n",
    "> docker pull redis/redis-stack-server:latest\n",
    ">\n",
    "> docker run -dit --name redis -p 6379:6379 redis/redis-stack-server:latest"
   ]
  },
  {
   "cell_type": "code",
   "execution_count": 9,
   "id": "f231a9b5-fce0-44fb-be39-aeb9d39f6290",
   "metadata": {},
   "outputs": [],
   "source": [
    "vector_store = RedisVectorStore(\n",
    "    index_name=\"undatasio_demo\",\n",
    "    embeddings=embedding,\n",
    "    redis_url=os.getenv(\"REDIS_URI\"),\n",
    ")"
   ]
  },
  {
   "cell_type": "markdown",
   "id": "f731523d-5a4a-4ee0-9852-aa955d416740",
   "metadata": {},
   "source": [
    "Splitting a **LangChain Document** object using the **RecursiveCharacterTextSplitter** class."
   ]
  },
  {
   "cell_type": "code",
   "execution_count": 10,
   "id": "7130903c-2d6a-4ef5-8b9c-54b3617ae723",
   "metadata": {},
   "outputs": [],
   "source": [
    "from langchain.text_splitter import RecursiveCharacterTextSplitter\n",
    "\n",
    "text_splitter = RecursiveCharacterTextSplitter(chunk_size=200, chunk_overlap=20)\n",
    "docs = text_splitter.split_documents([lc_document])"
   ]
  },
  {
   "cell_type": "markdown",
   "id": "d975678f-b42f-4b67-978c-76799d242e30",
   "metadata": {},
   "source": [
    "Add the split text chunks to the vector store."
   ]
  },
  {
   "cell_type": "code",
   "execution_count": 11,
   "id": "bf3b2e1c-c717-48c9-94c7-ebe8da59e20f",
   "metadata": {
    "scrolled": true
   },
   "outputs": [
    {
     "data": {
      "text/plain": [
       "['undatasio_demo:c41d4198e601457abb98c8ae89526f35',\n",
       " 'undatasio_demo:0e23b42320734b0cb4a8b3ac39263a97',\n",
       " 'undatasio_demo:bc265a68c45646a0a3e889daaded8789',\n",
       " 'undatasio_demo:d529bfc3d23d4db38818302a5bee95b0',\n",
       " 'undatasio_demo:9b50a1fb035c44a5a6ae1acdc15a9ef0',\n",
       " 'undatasio_demo:77bbe1b77a1f4f2388f3d401bd5f6143',\n",
       " 'undatasio_demo:ae260df8f38141a69751e629ef4f7d0a',\n",
       " 'undatasio_demo:c33464bcad8e429196cfab296dafc8aa',\n",
       " 'undatasio_demo:26f1e4c5543b4c54a1fedeaf80902c92',\n",
       " 'undatasio_demo:62a791ac712d43d69694a97ed3214cba',\n",
       " 'undatasio_demo:55fc0e103eac4f38bebdb9e1420d9c06',\n",
       " 'undatasio_demo:e3e3a6a6cd4e4448923f238930d6a514',\n",
       " 'undatasio_demo:ef8b29b11c5742799f07a2d6c88dd3fa',\n",
       " 'undatasio_demo:e7cdc106a29140569c06d133343eb051',\n",
       " 'undatasio_demo:cdbc8adc769643069fcf49107ef2e015',\n",
       " 'undatasio_demo:0fc3feaf1daf416695cef57181cd1c55',\n",
       " 'undatasio_demo:557d6d33a0834bc4b6516ccaa8766b1a',\n",
       " 'undatasio_demo:b961fd733c1d4e6998ad612e7853b139',\n",
       " 'undatasio_demo:b6536d3acbe44617a598c42a557152f7',\n",
       " 'undatasio_demo:64cdaaaaa7564a25ad80a44fc692d55e',\n",
       " 'undatasio_demo:7757d125866e463c823f993d162c6424',\n",
       " 'undatasio_demo:e7aec484a7ca4dcfb55604f27d2ea343',\n",
       " 'undatasio_demo:7377b92192e54cf7a30878b6343b6e4b',\n",
       " 'undatasio_demo:53f4a2291803492bb26b4400e7f13576',\n",
       " 'undatasio_demo:e57bc9bb8ad849898c59569fb33117e3',\n",
       " 'undatasio_demo:4c92a560d3784b0aad8328c9b263e15d',\n",
       " 'undatasio_demo:0fff0c523ccc4563910f5f1f03c3b518',\n",
       " 'undatasio_demo:6b4b608459074e0387e4a4784f3e3109',\n",
       " 'undatasio_demo:f6f06e0b64d3403c8b7005d66ee030b1',\n",
       " 'undatasio_demo:b20d88a7ff3f4e86974af0f34075b192',\n",
       " 'undatasio_demo:38575a5321bf4c128d1eb8648f0741db',\n",
       " 'undatasio_demo:d4f22ed72bd24560a3cdf1778eccb974',\n",
       " 'undatasio_demo:d5657ea77f494134ad9c8f89787be91d',\n",
       " 'undatasio_demo:2e942793dd2c496cb1389375ee1a558a',\n",
       " 'undatasio_demo:fafa1ca1bb264705a66f62327033e698',\n",
       " 'undatasio_demo:3c922a75513443ccb066aa3d87efcaeb',\n",
       " 'undatasio_demo:9450fb2dae244edc8a72dfb18696bda1',\n",
       " 'undatasio_demo:1350b9c45135410fb04f304fb861c925',\n",
       " 'undatasio_demo:9e48e0529fc2434eac7cdf867c66f962',\n",
       " 'undatasio_demo:6b87e9d3633d4e5f85351ddf41528b89',\n",
       " 'undatasio_demo:1c1940f5510541d3a147db0b9664c5d1',\n",
       " 'undatasio_demo:2d7dd2bea1ed459ab8a24ea9434284cc',\n",
       " 'undatasio_demo:11e0974a8f13429283649648f1f401fd',\n",
       " 'undatasio_demo:2d8723aba563418d81e6ea514fa60864',\n",
       " 'undatasio_demo:b4c8cb7a210747d0861d8a22ee570935',\n",
       " 'undatasio_demo:2368522cd08b4d279700895f637d2eca',\n",
       " 'undatasio_demo:e8343c9a49c84d1d856b78a0cd7ee2e5',\n",
       " 'undatasio_demo:d474976405904cdf83ad33432f72f651',\n",
       " 'undatasio_demo:8afab4060d6848d0acc4d16d133f38e8',\n",
       " 'undatasio_demo:d5afd57db71349eeb5e09d3db226afc4',\n",
       " 'undatasio_demo:2943718f6fd943d4bbd0ba3435e55deb',\n",
       " 'undatasio_demo:9bb8e52204354063a0e14349ca09c0b0',\n",
       " 'undatasio_demo:a33c09062cca4152b0ee61b9f333c594',\n",
       " 'undatasio_demo:7b182fe13d11439a95f70f719353c303',\n",
       " 'undatasio_demo:ecfb02ee9aa444e9a1c66e87ad81a801',\n",
       " 'undatasio_demo:8ce99356350a4f4fa8e3ba3c71431df3',\n",
       " 'undatasio_demo:809433f73ec9483fac141f09d3394282',\n",
       " 'undatasio_demo:13bedc2a6031467bb4d2b7f919fb17e2',\n",
       " 'undatasio_demo:db00ab84f6a64810b34ad637bd765c71',\n",
       " 'undatasio_demo:11ceef6e8edb444093a4b57aaa92d520',\n",
       " 'undatasio_demo:453c7e3db29e42df8dd8b0c59601b2cc',\n",
       " 'undatasio_demo:7a0f80429c6e42e592b69ec68bf5cbd9',\n",
       " 'undatasio_demo:5c687d4371934856a70dc15c4d73944c',\n",
       " 'undatasio_demo:26c7c507432b40eeba7846ba55eb28d4',\n",
       " 'undatasio_demo:b12c976bd5734ab8bae3b30a94038eac',\n",
       " 'undatasio_demo:89e128dbfb0b4da4b8fdfff4ea6ed3fe',\n",
       " 'undatasio_demo:f7511fa206ca4b00a45f7d062023ecde',\n",
       " 'undatasio_demo:2dec9b996e5442d0bfcff0bb8fe934cc',\n",
       " 'undatasio_demo:bd4679ba9dbd4cbe92b97f8a4bede5c3',\n",
       " 'undatasio_demo:b3f48128aae343dea41ad1e95f6f4cfa',\n",
       " 'undatasio_demo:d4f94c084bcb431ea9535ae9ad8eace9',\n",
       " 'undatasio_demo:f64b77d9d278447a86f3fb0132bc643a',\n",
       " 'undatasio_demo:840df6f1dcee45aab1cf7e7c9b05ca32',\n",
       " 'undatasio_demo:56faab8f881f45109e8805b9d677f34f',\n",
       " 'undatasio_demo:5e82d61d8b5643f69d728f3e9b6a0798',\n",
       " 'undatasio_demo:a0da2cd5c4fe4fc78a731f69077d73cd',\n",
       " 'undatasio_demo:325496f15806408a85903c1b99661f01',\n",
       " 'undatasio_demo:8f2e877c964d4ca59ef95e4a41b08d09',\n",
       " 'undatasio_demo:797605e70fee41bb9b19add19d690dab',\n",
       " 'undatasio_demo:869e4826b3334766ae43320bf87bfe9e',\n",
       " 'undatasio_demo:4c479ad2de8142439cae91fc65ed7508',\n",
       " 'undatasio_demo:e44c012ba78140c79d255967c5e1c5d0',\n",
       " 'undatasio_demo:73e4d5aa463b4510bee05adad8c56238',\n",
       " 'undatasio_demo:bf95c20a5406473c9bb65ddc8a9fcbad',\n",
       " 'undatasio_demo:ff530dabe73644b4a9af57e57f053700',\n",
       " 'undatasio_demo:a752b4bcf4364eb4ab348634685a3a5c',\n",
       " 'undatasio_demo:5ceb0bbfafd54a8493edb86fb9316a2d',\n",
       " 'undatasio_demo:af102de548d64304ba8dc25913254e11',\n",
       " 'undatasio_demo:343fda18881240989cd5474cf789f29b',\n",
       " 'undatasio_demo:40cc1c6bc085454db24099350a175ad8',\n",
       " 'undatasio_demo:4485d53de96a4449afabf925f99c7bdb',\n",
       " 'undatasio_demo:45eb59d02a6547f9888bc0784d65d9bf',\n",
       " 'undatasio_demo:8183796bf0a3462f9cf76e4826a9d176',\n",
       " 'undatasio_demo:cbb53e77b798462692ff0a63ef81e1f4',\n",
       " 'undatasio_demo:507937c740a94719982eb5afca4f6378',\n",
       " 'undatasio_demo:5dfa45476085411cafa2e35592b1e729',\n",
       " 'undatasio_demo:6cde97ca9af54186925a7eb062260c90',\n",
       " 'undatasio_demo:eb6e6395e5014b41a47be95c5019d877',\n",
       " 'undatasio_demo:f3cf3a5ed6a14908ad546a6f86afd78e',\n",
       " 'undatasio_demo:c07c4401505c41d8a1129d05642cd8c6',\n",
       " 'undatasio_demo:880f8ce0b7fe4050875f40c0bcbe6cba',\n",
       " 'undatasio_demo:db283636a74d4dd6be51e54a65d16629',\n",
       " 'undatasio_demo:5ce335a33d984436b561bee5407d4047',\n",
       " 'undatasio_demo:2c3eefa1f1b24b17ab6161f7b94336ba',\n",
       " 'undatasio_demo:9db2a3175add4062bd32cdec454efe6e',\n",
       " 'undatasio_demo:9c3b84400d7345ba844a739cac3911d4',\n",
       " 'undatasio_demo:3a12c2ab284e402fbbea75f90dc8f1de',\n",
       " 'undatasio_demo:2255da818c7f4201b76313e438bca052',\n",
       " 'undatasio_demo:8e63a219342748c98046d77a81bbef38',\n",
       " 'undatasio_demo:bc80eb8d04ba411abd04a4fed2907397',\n",
       " 'undatasio_demo:ed7fff4425e4447488f36b331805677a',\n",
       " 'undatasio_demo:f32afd0cf1164fb0a6bbd6ddef72b689',\n",
       " 'undatasio_demo:026d9aabbb1940ee8d1f5c4bb2b1bf53',\n",
       " 'undatasio_demo:f80dcea376ce4850ab0fe99e5396c18e',\n",
       " 'undatasio_demo:96a3be9351b54089aeed0609ea8dc057',\n",
       " 'undatasio_demo:7c18abf1334f43cb92fd7794b46ea709',\n",
       " 'undatasio_demo:7d45a0e43f3148db8dd6cfee0a2215ec',\n",
       " 'undatasio_demo:789b19e0b826481a9f18e9db1173796d',\n",
       " 'undatasio_demo:ce9103ec88d54dcfbcab7a5e108b1345',\n",
       " 'undatasio_demo:0e7c6d602bd74bb383c63d3e5dab192f',\n",
       " 'undatasio_demo:7e25db1888bb4d10889949636bb59872',\n",
       " 'undatasio_demo:97034c65dc024435b8658cb2e9dab603',\n",
       " 'undatasio_demo:d206bdd728504533939275bb49fd0fe9',\n",
       " 'undatasio_demo:437f1bd1c30c47708942eac67e334413',\n",
       " 'undatasio_demo:4954d3cfe25849f18056129adb649e85',\n",
       " 'undatasio_demo:27d58e06ee8c435d8f1c5ac0f3e4d1bf',\n",
       " 'undatasio_demo:cb9d46a5a7bf489cbab50058857e8236',\n",
       " 'undatasio_demo:9d148f77359742f0a3761f7c13de323b',\n",
       " 'undatasio_demo:9516def4802946a3ad2c955d57771776',\n",
       " 'undatasio_demo:005a06aca9d44e66ad42fe2efc7a7b9b',\n",
       " 'undatasio_demo:fd03ee398d3d4a5bae6ac901af9dad66',\n",
       " 'undatasio_demo:7cf6c1d0f9324aa2a8ab6af8ed22b4ee',\n",
       " 'undatasio_demo:da235f69b18d4e3899f862f512f6d3db',\n",
       " 'undatasio_demo:846b0712f2b54882ada1b74057123cd0',\n",
       " 'undatasio_demo:02843f24f2ae428d89815afbc7a41bb5',\n",
       " 'undatasio_demo:cf93edaf9754478ab15e902e70cc9252',\n",
       " 'undatasio_demo:d79b4856101c48e1873555a5c87518bd',\n",
       " 'undatasio_demo:055c5ab8e84b4c58b62b5ae7efaaa539',\n",
       " 'undatasio_demo:b21fd5436579443e8a80024c5d0251d5',\n",
       " 'undatasio_demo:5d34f072ff844fe6a2d403e51d03e2e6',\n",
       " 'undatasio_demo:fe2f4af610b344d18be5de285e05123b',\n",
       " 'undatasio_demo:52233625082a48b1aa9eafacbc405dd8',\n",
       " 'undatasio_demo:d50a32f182d14360905ac85b18b2d7e9',\n",
       " 'undatasio_demo:566ae7746b054d908b4ecb1bc7b214ae',\n",
       " 'undatasio_demo:5caf8b2f51ca484ab6ab7a683a232353',\n",
       " 'undatasio_demo:2be586aa75004da3812be5d0d7581bf5',\n",
       " 'undatasio_demo:137cafa5a42949d99cb21a802ee776d6',\n",
       " 'undatasio_demo:dfacaaf44a8b49a8b97def49b105e4ee',\n",
       " 'undatasio_demo:6bc9c1f3d51c41df87f50f4cc5702fe0',\n",
       " 'undatasio_demo:270078f5ac124c18a1a9718f8b98f04e',\n",
       " 'undatasio_demo:465b2cbc6cd446dc90a1f718de7f43b5',\n",
       " 'undatasio_demo:4a6b09dfada246b792e44ec937bdd54b',\n",
       " 'undatasio_demo:a732e0c582744a36b6eb4102c95364e5',\n",
       " 'undatasio_demo:aa1d8c7f87794c168131a32756d000f9',\n",
       " 'undatasio_demo:4980833f70e844899471cd4ae61a8b0c',\n",
       " 'undatasio_demo:fcd4f22f74be49a184a9aea41937f136',\n",
       " 'undatasio_demo:a185dd89a37f4a78b48fa9819f934e22',\n",
       " 'undatasio_demo:8391b4cffe864b508b18f39956440380',\n",
       " 'undatasio_demo:3fe5a0da1f9f4c49a69d8929e865118e',\n",
       " 'undatasio_demo:1ef262a48e83497fa6675cadd1d8f1c2',\n",
       " 'undatasio_demo:20dbdc0b676340c2b6969060eb0e8bd6',\n",
       " 'undatasio_demo:e22e155bd50d4f28a6c65322fb77f432',\n",
       " 'undatasio_demo:78ef06c6d2e147fab64b9aa775b439c0',\n",
       " 'undatasio_demo:477985cb82e643488c816a8375d0d3e5',\n",
       " 'undatasio_demo:7ff2540fda6b4d79910e38863e01114e',\n",
       " 'undatasio_demo:8a0edc188ead445693b5a8dbd6c65680',\n",
       " 'undatasio_demo:afe3c8fad4a0497087aabdfbbd794585',\n",
       " 'undatasio_demo:64ea492ac65243ddb3b0914a46168b97',\n",
       " 'undatasio_demo:04bc4822f0c1443382c9f047b38018ed',\n",
       " 'undatasio_demo:abecb2c46738495d83c7207e8a61a274',\n",
       " 'undatasio_demo:5318c39dded642e0b53fbb5f35ad4895',\n",
       " 'undatasio_demo:803c94cfe2784d99a129054d1ba659f9',\n",
       " 'undatasio_demo:a7dfca36bb3c4f72974b650234385c0d',\n",
       " 'undatasio_demo:ed8ae98008804f29ab452afca9ac54b0',\n",
       " 'undatasio_demo:ab6dc1e7278242869abf0a696d53a57f',\n",
       " 'undatasio_demo:8ae3f2f0a9084f89a8bf7dd7eeb78422',\n",
       " 'undatasio_demo:ffce9fe8546444cbb16795c4c5cd25bb',\n",
       " 'undatasio_demo:e60e26eacbfc4fabb364669e19d669aa',\n",
       " 'undatasio_demo:43c5ee17925c4882ab340a247eecbc5c',\n",
       " 'undatasio_demo:c70d97442eca4f8c9e68ec8bcfc5dcf7',\n",
       " 'undatasio_demo:1d82cc5119284450bd5ef35419a5fbcb',\n",
       " 'undatasio_demo:45581c7b0d974d6d990760884c63753d',\n",
       " 'undatasio_demo:0ef76847a2434b9995c409bfbdddc8d0',\n",
       " 'undatasio_demo:bb8946de3fa148e1badb83281d7828f2',\n",
       " 'undatasio_demo:1d6f819d148c4bc9aee5fd2c5624716b',\n",
       " 'undatasio_demo:a7568a199eed4ceb8d288cdd99763f0a',\n",
       " 'undatasio_demo:fb63993b35664fb6878a976afd28eb24',\n",
       " 'undatasio_demo:a82038821740475989ee5cc9978a9081',\n",
       " 'undatasio_demo:c0c467face584051a0914d614569678a',\n",
       " 'undatasio_demo:f32a6ed7228145daa8ad89a562770537',\n",
       " 'undatasio_demo:f6511596e93f45ff9846d0ee6972461e',\n",
       " 'undatasio_demo:81c8e32ac1f74304aa90a22e5f621566']"
      ]
     },
     "execution_count": 11,
     "metadata": {},
     "output_type": "execute_result"
    }
   ],
   "source": [
    "from uuid import uuid4\n",
    "\n",
    "ids = [f\"{i + 1}\" for i in range(0, len(docs))]\n",
    "vector_store.add_documents(documents=docs, ids=ids)"
   ]
  },
  {
   "cell_type": "markdown",
   "id": "fa903195-5688-4e53-8b2e-b61ea398a946",
   "metadata": {},
   "source": [
    "Query the vector store."
   ]
  },
  {
   "cell_type": "code",
   "execution_count": 12,
   "id": "48059d22-d6e0-49d0-b64e-99a707a949b8",
   "metadata": {},
   "outputs": [],
   "source": [
    "query=\"All eyes are on the July policy meetings.\""
   ]
  },
  {
   "cell_type": "code",
   "execution_count": 13,
   "id": "841c6a45-e70f-415e-afb7-b7d73a4883eb",
   "metadata": {},
   "outputs": [
    {
     "name": "stdout",
     "output_type": "stream",
     "text": [
      "* 3.All eyes are on the July policy meetings. July will be a hectic month for China\n",
      "policy watchers: The Third Plenum of the Chinese Communist Party is scheduled for July [{}]\n"
     ]
    }
   ],
   "source": [
    "results = vector_store.similarity_search(query=query, k=1)\n",
    "for doc in results:\n",
    "    print(f\"* {doc.page_content} [{doc.metadata}]\")"
   ]
  }
 ],
 "metadata": {
  "kernelspec": {
   "display_name": "Python 3 (ipykernel)",
   "language": "python",
   "name": "python3"
  },
  "language_info": {
   "codemirror_mode": {
    "name": "ipython",
    "version": 3
   },
   "file_extension": ".py",
   "mimetype": "text/x-python",
   "name": "python",
   "nbconvert_exporter": "python",
   "pygments_lexer": "ipython3",
   "version": "3.10.15"
  }
 },
 "nbformat": 4,
 "nbformat_minor": 5
}
